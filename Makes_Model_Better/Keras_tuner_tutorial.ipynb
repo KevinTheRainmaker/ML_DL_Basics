{
  "cells": [
    {
      "cell_type": "markdown",
      "metadata": {
        "colab_type": "text",
        "id": "view-in-github"
      },
      "source": [
        "<a href=\"https://colab.research.google.com/github/KevinTheRainmaker/ML_DL_Basics/blob/master/HPO/Keras_tuner_tutorial.ipynb\" target=\"_parent\"><img src=\"https://colab.research.google.com/assets/colab-badge.svg\" alt=\"Open In Colab\"/></a>"
      ]
    },
    {
      "cell_type": "markdown",
      "metadata": {
        "id": "3WcPVv-_2bOL"
      },
      "source": [
        "## Keras Tuner\n",
        "\n",
        "Keras Tuner는 TensorFlow 기반 모델에서의 HPO를 도와주는 라이브러리로, 모델 하이퍼파라미터와 알고리즘 파라미터 모두를 아우른다.\n",
        "\n",
        "해당 튜토리얼에서는 Keras Tuner를 이용하여 이미지 분류 애플리케이션에서 HPO를 수행한다."
      ]
    },
    {
      "cell_type": "markdown",
      "metadata": {
        "id": "QedM-f4t25Gv"
      },
      "source": [
        "### Configuration"
      ]
    },
    {
      "cell_type": "code",
      "execution_count": 1,
      "metadata": {
        "id": "9rSjHn_h2a8f"
      },
      "outputs": [],
      "source": [
        "import tensorflow as tf\n",
        "from tensorflow import keras\n",
        "\n",
        "import IPython # to delete train result before next train"
      ]
    },
    {
      "cell_type": "code",
      "execution_count": 2,
      "metadata": {
        "colab": {
          "base_uri": "https://localhost:8080/"
        },
        "id": "eMvarP5Z2XmC",
        "outputId": "e248e2f8-0dae-43d9-b4b3-0dbce86675a1"
      },
      "outputs": [
        {
          "name": "stdout",
          "output_type": "stream",
          "text": [
            "\u001b[?25l\r\u001b[K     |██▌                             | 10 kB 20.9 MB/s eta 0:00:01\r\u001b[K     |█████                           | 20 kB 19.7 MB/s eta 0:00:01\r\u001b[K     |███████▍                        | 30 kB 18.8 MB/s eta 0:00:01\r\u001b[K     |█████████▉                      | 40 kB 13.4 MB/s eta 0:00:01\r\u001b[K     |████████████▎                   | 51 kB 10.9 MB/s eta 0:00:01\r\u001b[K     |██████████████▊                 | 61 kB 12.5 MB/s eta 0:00:01\r\u001b[K     |█████████████████▏              | 71 kB 12.8 MB/s eta 0:00:01\r\u001b[K     |███████████████████▋            | 81 kB 10.8 MB/s eta 0:00:01\r\u001b[K     |██████████████████████          | 92 kB 11.6 MB/s eta 0:00:01\r\u001b[K     |████████████████████████▌       | 102 kB 12.6 MB/s eta 0:00:01\r\u001b[K     |███████████████████████████     | 112 kB 12.6 MB/s eta 0:00:01\r\u001b[K     |█████████████████████████████▍  | 122 kB 12.6 MB/s eta 0:00:01\r\u001b[K     |███████████████████████████████▉| 133 kB 12.6 MB/s eta 0:00:01\r\u001b[K     |████████████████████████████████| 133 kB 12.6 MB/s \n",
            "\u001b[?25h"
          ]
        }
      ],
      "source": [
        "!pip install -q -U keras-tuner"
      ]
    },
    {
      "cell_type": "code",
      "execution_count": 4,
      "metadata": {
        "id": "k5ps-xqU3W5n"
      },
      "outputs": [],
      "source": [
        "import keras_tuner as kt"
      ]
    },
    {
      "cell_type": "code",
      "execution_count": 9,
      "metadata": {
        "colab": {
          "base_uri": "https://localhost:8080/"
        },
        "id": "ZEXu1tf06WZ2",
        "outputId": "a4cde9e6-2037-4c69-af26-09b7d0eab79a"
      },
      "outputs": [
        {
          "name": "stdout",
          "output_type": "stream",
          "text": [
            "Mounted at /content/drive\n"
          ]
        }
      ],
      "source": [
        "# mount gdrive\n",
        "from google.colab import drive\n",
        "drive.mount('/content/drive', force_remount=True)\n",
        "\n",
        "path = '/content/drive/MyDrive/'"
      ]
    },
    {
      "cell_type": "markdown",
      "metadata": {
        "id": "AM_T1b2P3dw8"
      },
      "source": [
        "### Download Datasets"
      ]
    },
    {
      "cell_type": "code",
      "execution_count": 5,
      "metadata": {
        "colab": {
          "base_uri": "https://localhost:8080/"
        },
        "id": "4CYSNZI23aLI",
        "outputId": "5b96b3da-891b-4a70-e8ec-53c43e9b84e1"
      },
      "outputs": [
        {
          "name": "stdout",
          "output_type": "stream",
          "text": [
            "Downloading data from https://storage.googleapis.com/tensorflow/tf-keras-datasets/train-labels-idx1-ubyte.gz\n",
            "32768/29515 [=================================] - 0s 0us/step\n",
            "40960/29515 [=========================================] - 0s 0us/step\n",
            "Downloading data from https://storage.googleapis.com/tensorflow/tf-keras-datasets/train-images-idx3-ubyte.gz\n",
            "26427392/26421880 [==============================] - 0s 0us/step\n",
            "26435584/26421880 [==============================] - 0s 0us/step\n",
            "Downloading data from https://storage.googleapis.com/tensorflow/tf-keras-datasets/t10k-labels-idx1-ubyte.gz\n",
            "16384/5148 [===============================================================================================] - 0s 0us/step\n",
            "Downloading data from https://storage.googleapis.com/tensorflow/tf-keras-datasets/t10k-images-idx3-ubyte.gz\n",
            "4423680/4422102 [==============================] - 0s 0us/step\n",
            "4431872/4422102 [==============================] - 0s 0us/step\n"
          ]
        }
      ],
      "source": [
        "(img_train, label_train), (img_test, label_test) = keras.datasets.fashion_mnist.load_data()"
      ]
    },
    {
      "cell_type": "code",
      "execution_count": 6,
      "metadata": {
        "id": "wmTgW3F03ij_"
      },
      "outputs": [],
      "source": [
        "# Normalize pixel values between 0 and 1\n",
        "img_train = img_train.astype('float32') / 255.0\n",
        "img_test = img_test.astype('float32') / 255.0"
      ]
    },
    {
      "cell_type": "markdown",
      "metadata": {
        "id": "CjVPsCfj3mnG"
      },
      "source": [
        "### Define Model"
      ]
    },
    {
      "cell_type": "markdown",
      "metadata": {
        "id": "x-SSOq9m3pk9"
      },
      "source": [
        "HPO를 위해서는 모델 아키텍처뿐만 아니라 하이퍼파라미터를 조정할 수 있도록 설정해야한다. 이렇게 설정된 모델을 hyper model이라고 한다.\n",
        "\n",
        "하이퍼 모델을 만드는 방법은 크게 두 가지로, 모델 빌더 함수를 사용하는 방법과 Keras Tuner API의 HyperModel 클래스를 사용하는 것이다.\n",
        "\n",
        "여기서는 모델 아키텍처를 직접 정의해주기 위해 전자의 방식을 사용하도록 하겠다."
      ]
    },
    {
      "cell_type": "code",
      "execution_count": 7,
      "metadata": {
        "id": "AXUdNKFS3lbT"
      },
      "outputs": [],
      "source": [
        "def model_builder(hp):\n",
        "  model = keras.Sequential()\n",
        "  model.add(keras.layers.Flatten(input_shape=(28, 28)))\n",
        "\n",
        "  # Tune the number of units in the first Dense layer\n",
        "  # between 32-512\n",
        "  hp_units = hp.Int('units', min_value = 32, max_value = 512, step = 32)\n",
        "  model.add(keras.layers.Dense(units = hp_units, activation = 'relu'))\n",
        "  model.add(keras.layers.Dense(10))\n",
        "\n",
        "  # Tune the learning rate for the optimizer \n",
        "  # from 0.01, 0.001, or 0.0001\n",
        "  hp_learning_rate = hp.Choice('learning_rate', values = [1e-2, 1e-3, 1e-4]) \n",
        "\n",
        "  model.compile(optimizer = keras.optimizers.Adam(learning_rate = hp_learning_rate),\n",
        "                loss = keras.losses.SparseCategoricalCrossentropy(from_logits = True), \n",
        "                metrics = ['accuracy'])\n",
        "\n",
        "  return model"
      ]
    },
    {
      "cell_type": "markdown",
      "metadata": {
        "id": "mEiM0oFW4dpI"
      },
      "source": [
        "### Instantiate the tuner and perform hypertuning"
      ]
    },
    {
      "cell_type": "markdown",
      "metadata": {
        "id": "zIlljjMU4ocC"
      },
      "source": [
        "Keras Tuner는 하이퍼튜닝을 위한 튜너로 RandomSearch, HyperBand, Bayesian Optimization, Sklearn 총 4가지 튜너를 제공한다. 여기서는 HyperBand를 사용하도록 하겠다."
      ]
    },
    {
      "cell_type": "code",
      "execution_count": 10,
      "metadata": {
        "id": "nZPZCJsS4ciU"
      },
      "outputs": [],
      "source": [
        "tuner = kt.Hyperband(model_builder,\n",
        "                     objective='val_accuracy',\n",
        "                     max_epochs=10,\n",
        "                     factor=3,\n",
        "                     directory= path,\n",
        "                     project_name='intro_to_kt')"
      ]
    },
    {
      "cell_type": "code",
      "execution_count": 11,
      "metadata": {
        "id": "4AmlxOl86lMN"
      },
      "outputs": [],
      "source": [
        "class ClearTrainingOutput(tf.keras.callbacks.Callback):\n",
        "  def on_train_end(*args, **kwargs):\n",
        "    IPython.display.clear_output(wait = True)"
      ]
    },
    {
      "cell_type": "code",
      "execution_count": 12,
      "metadata": {
        "colab": {
          "base_uri": "https://localhost:8080/"
        },
        "id": "U0Sa3OxD7ROP",
        "outputId": "29c184d1-fb33-4962-acbc-30700e225fef"
      },
      "outputs": [
        {
          "name": "stdout",
          "output_type": "stream",
          "text": [
            "Trial 30 Complete [00h 01m 13s]\n",
            "val_accuracy: 0.8773000240325928\n",
            "\n",
            "Best val_accuracy So Far: 0.8878999948501587\n",
            "Total elapsed time: 00h 14m 04s\n",
            "INFO:tensorflow:Oracle triggered exit\n",
            "\n",
            "The hyperparameter search is complete. The optimal number of units in the first densely-connected\n",
            "layer is 288 and the optimal learning rate for the optimizer\n",
            "is 0.001.\n",
            "\n"
          ]
        }
      ],
      "source": [
        "# 하이퍼파라미터 탐색 실행\n",
        "tuner.search(img_train, label_train, epochs = 10, validation_data = (img_test, label_test), callbacks = [ClearTrainingOutput()])\n",
        "\n",
        "# Get the optimal hyperparameters\n",
        "best_hps = tuner.get_best_hyperparameters(num_trials = 1)[0]\n",
        "\n",
        "print(f\"\"\"\n",
        "The hyperparameter search is complete. The optimal number of units in the first densely-connected\n",
        "layer is {best_hps.get('units')} and the optimal learning rate for the optimizer\n",
        "is {best_hps.get('learning_rate')}.\n",
        "\"\"\")"
      ]
    },
    {
      "cell_type": "markdown",
      "metadata": {
        "id": "MRvz_6oi7n2r"
      },
      "source": [
        "위 과정에 의해 얻어진 최적 하이퍼파라미터 best_hps로 모델 재훈련"
      ]
    },
    {
      "cell_type": "code",
      "execution_count": 13,
      "metadata": {
        "colab": {
          "base_uri": "https://localhost:8080/"
        },
        "id": "q5w3g3Y_7V75",
        "outputId": "dd72577a-d5c3-42f9-c394-32b07e336f3e"
      },
      "outputs": [
        {
          "name": "stdout",
          "output_type": "stream",
          "text": [
            "Epoch 1/10\n",
            "1875/1875 [==============================] - 6s 3ms/step - loss: 0.4776 - accuracy: 0.8292 - val_loss: 0.4136 - val_accuracy: 0.8514\n",
            "Epoch 2/10\n",
            "1875/1875 [==============================] - 5s 3ms/step - loss: 0.3608 - accuracy: 0.8684 - val_loss: 0.3998 - val_accuracy: 0.8554\n",
            "Epoch 3/10\n",
            "1875/1875 [==============================] - 5s 3ms/step - loss: 0.3259 - accuracy: 0.8800 - val_loss: 0.3525 - val_accuracy: 0.8714\n",
            "Epoch 4/10\n",
            "1875/1875 [==============================] - 5s 3ms/step - loss: 0.2998 - accuracy: 0.8893 - val_loss: 0.3533 - val_accuracy: 0.8698\n",
            "Epoch 5/10\n",
            "1875/1875 [==============================] - 5s 3ms/step - loss: 0.2828 - accuracy: 0.8957 - val_loss: 0.3377 - val_accuracy: 0.8781\n",
            "Epoch 6/10\n",
            "1875/1875 [==============================] - 5s 3ms/step - loss: 0.2682 - accuracy: 0.9010 - val_loss: 0.3371 - val_accuracy: 0.8792\n",
            "Epoch 7/10\n",
            "1875/1875 [==============================] - 5s 3ms/step - loss: 0.2547 - accuracy: 0.9049 - val_loss: 0.3330 - val_accuracy: 0.8833\n",
            "Epoch 8/10\n",
            "1875/1875 [==============================] - 5s 3ms/step - loss: 0.2453 - accuracy: 0.9080 - val_loss: 0.3427 - val_accuracy: 0.8795\n",
            "Epoch 9/10\n",
            "1875/1875 [==============================] - 5s 3ms/step - loss: 0.2368 - accuracy: 0.9115 - val_loss: 0.3321 - val_accuracy: 0.8865\n",
            "Epoch 10/10\n",
            "1875/1875 [==============================] - 5s 3ms/step - loss: 0.2262 - accuracy: 0.9158 - val_loss: 0.3346 - val_accuracy: 0.8849\n"
          ]
        },
        {
          "data": {
            "text/plain": [
              "<keras.callbacks.History at 0x7f00066c4e50>"
            ]
          },
          "execution_count": 13,
          "metadata": {},
          "output_type": "execute_result"
        }
      ],
      "source": [
        "model = tuner.hypermodel.build(best_hps)\n",
        "model.fit(img_train, label_train, epochs = 10, validation_data = (img_test, label_test))"
      ]
    },
    {
      "cell_type": "markdown",
      "metadata": {
        "id": "wboiVwAg-zPd"
      },
      "source": [
        "Best val_accuracy: 0.8879\n",
        "\n",
        "Test_accuracy: 0.8849"
      ]
    },
    {
      "cell_type": "markdown",
      "metadata": {
        "id": "hAE4Mf-J70lQ"
      },
      "source": [
        "tuner에 의해 만들어진 intro_to_kt에는 HPO 중 수행되는 모든 모델 탐색의 상세 로그 및 체크포인트가 저장되어 있다.\n",
        "\n",
        "하이퍼파라미터 탐색을 재실행할 경우 해당 폴더 내 로그를 확인하고 검색을 재개하며, 만약 이전의 로그를 무시하고 다시 시작하고 싶다면 튜너 instantiate 단계에서 overwrite = True 인수를 추가하면 된다."
      ]
    },
    {
      "cell_type": "markdown",
      "metadata": {
        "id": "hOnSsCYs8t0D"
      },
      "source": [
        "참고자료:\n",
        "\n",
        "https://www.tensorflow.org/tutorials/keras/keras_tuner"
      ]
    },
    {
      "cell_type": "code",
      "execution_count": null,
      "metadata": {
        "id": "uud4tRrY8sd7"
      },
      "outputs": [],
      "source": []
    }
  ],
  "metadata": {
    "colab": {
      "authorship_tag": "ABX9TyNhg9NshqiodWgX1Irxjj+R",
      "collapsed_sections": [],
      "include_colab_link": true,
      "name": "Keras_tuner_tutorial.ipynb",
      "provenance": []
    },
    "kernelspec": {
      "display_name": "Python 3",
      "name": "python3"
    },
    "language_info": {
      "name": "python"
    }
  },
  "nbformat": 4,
  "nbformat_minor": 0
}
