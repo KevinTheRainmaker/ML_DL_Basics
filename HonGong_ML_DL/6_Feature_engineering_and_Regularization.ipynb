{
  "nbformat": 4,
  "nbformat_minor": 0,
  "metadata": {
    "colab": {
      "name": "6_Feature_engineering_and_Regularization.ipynb",
      "provenance": [],
      "collapsed_sections": [
        "QV0n6OWVxLdQ",
        "x2wpww4ZyuEZ",
        "kF1OicyuzVJF",
        "57tUtM0G42pz",
        "BSZA477RBJg-"
      ],
      "authorship_tag": "ABX9TyMAMCKf4YeySQUjMEYEyf+H",
      "include_colab_link": true
    },
    "kernelspec": {
      "name": "python3",
      "display_name": "Python 3"
    },
    "language_info": {
      "name": "python"
    }
  },
  "cells": [
    {
      "cell_type": "markdown",
      "metadata": {
        "id": "view-in-github",
        "colab_type": "text"
      },
      "source": [
        "<a href=\"https://colab.research.google.com/github/KevinTheRainmaker/ML_DL_Basics/blob/master/HonGong_ML_DL/6_Feature_engineering_and_Regularization.ipynb\" target=\"_parent\"><img src=\"https://colab.research.google.com/assets/colab-badge.svg\" alt=\"Open In Colab\"/></a>"
      ]
    },
    {
      "cell_type": "markdown",
      "metadata": {
        "id": "E3BZRqUuwfk1"
      },
      "source": [
        "# 특성 공학과 규제\n",
        "\n",
        "### **키워드:** 다중 회귀, 특성 공학, 릿지, 라쏘, 하이퍼파라미터\n",
        "\n",
        "여러 특성을 사용한 다중 회귀에 대해 배우고 사이킷런의 여러 도구를 사용해 보자.\n",
        "\n",
        "복잡한 모델의 과대적합(Over-fitting)을 막기 위한 Lasso와 Ridge 회귀를 알아보자."
      ]
    },
    {
      "cell_type": "code",
      "metadata": {
        "id": "M3Y6_TY395US"
      },
      "source": [
        "# Packages\n",
        "import pandas as pd\n",
        "import numpy as np\n",
        "from sklearn.model_selection import train_test_split\n",
        "from sklearn.preprocessing import PolynomialFeatures\n",
        "from sklearn.linear_model import LinearRegression\n",
        "from sklearn.preprocessing import StandardScaler\n",
        "from sklearn.linear_model import Ridge\n",
        "from sklearn.linear_model import Lasso\n",
        "\n",
        "import matplotlib.pyplot as plt"
      ],
      "execution_count": 76,
      "outputs": []
    },
    {
      "cell_type": "markdown",
      "metadata": {
        "id": "QV0n6OWVxLdQ"
      },
      "source": [
        "## 다중 회귀(Multiple Regression)\n",
        "\n"
      ]
    },
    {
      "cell_type": "markdown",
      "metadata": {
        "id": "WAUIM6YD9EHe"
      },
      "source": [
        "#### 여러 개의 특성을 사용한 선형 회귀\n",
        "\n",
        "- n개의 특성을 활용하면 n차원의 결정 경계를 만들게 된다. \n",
        " <br>(ex-2개 특성 사용 시 2차원의 평면 결정 경계 형성)\n",
        "\n",
        "<br>\n",
        "\n",
        "$Target = a \\times feature_1 + b \\times feature_2 + bias$"
      ]
    },
    {
      "cell_type": "markdown",
      "metadata": {
        "id": "x2wpww4ZyuEZ"
      },
      "source": [
        "## 특성 공학(Feature Engineering)\n",
        "\n"
      ]
    },
    {
      "cell_type": "markdown",
      "metadata": {
        "id": "TB0VKEX89HGG"
      },
      "source": [
        "#### 기존의 특성을 사용하여 새로운 특성을 만들어내는 과정\n",
        "\\* 여러 특성 중 일부 특성을 골라내는 단순 추출의 경우 특성 선택(feature selection)이라고 부른다."
      ]
    },
    {
      "cell_type": "markdown",
      "metadata": {
        "id": "kF1OicyuzVJF"
      },
      "source": [
        "## 데이터 준비"
      ]
    },
    {
      "cell_type": "code",
      "metadata": {
        "id": "Rbf4mMeSvrQH"
      },
      "source": [
        "# features: length, height, width\n",
        "df = pd.read_csv('https://bit.ly/perch_csv')\n",
        "perch_full = df.to_numpy() # csv to numpy array"
      ],
      "execution_count": 50,
      "outputs": []
    },
    {
      "cell_type": "code",
      "metadata": {
        "id": "RPIjokZEzuDh"
      },
      "source": [
        "# target data\n",
        "perch_weight = np.array([5.9, 32.0, 40.0, 51.5, 70.0, 100.0, 78.0, 80.0, 85.0, 85.0, 110.0,\n",
        "       115.0, 125.0, 130.0, 120.0, 120.0, 130.0, 135.0, 110.0, 130.0,\n",
        "       150.0, 145.0, 150.0, 170.0, 225.0, 145.0, 188.0, 180.0, 197.0,\n",
        "       218.0, 300.0, 260.0, 265.0, 250.0, 250.0, 300.0, 320.0, 514.0,\n",
        "       556.0, 840.0, 685.0, 700.0, 700.0, 690.0, 900.0, 650.0, 820.0,\n",
        "       850.0, 900.0, 1015.0, 820.0, 1100.0, 1000.0, 1100.0, 1000.0,\n",
        "       1000.0])"
      ],
      "execution_count": 51,
      "outputs": []
    },
    {
      "cell_type": "code",
      "metadata": {
        "id": "6zAxswB40M1E"
      },
      "source": [
        "# train test split\n",
        "x_train, x_test, y_train, y_test = train_test_split(perch_full, perch_weight, random_state=42) # test size=None >> 0.25"
      ],
      "execution_count": 52,
      "outputs": []
    },
    {
      "cell_type": "code",
      "metadata": {
        "colab": {
          "base_uri": "https://localhost:8080/"
        },
        "id": "Qxy8iN5w1Iha",
        "outputId": "95b9623d-8da4-48fc-d221-a9ce94e4b16c"
      },
      "source": [
        "# Scikit-learn's transformer class\n",
        "poly_sample = PolynomialFeatures()\n",
        "poly_sample.fit([[2,3]]) # sample\n",
        "print(poly_sample.transform([[2,3]]))"
      ],
      "execution_count": 53,
      "outputs": [
        {
          "output_type": "stream",
          "name": "stdout",
          "text": [
            "[[1. 2. 3. 4. 6. 9.]]\n"
          ]
        }
      ]
    },
    {
      "cell_type": "markdown",
      "metadata": {
        "id": "ZkMHT3V517cl"
      },
      "source": [
        "- fit(): 새롭게 만들 특성 조합 찾기\n",
        "- transform(): 데이터 변환\n",
        "- 두 메서드를 이어붙인 fit_transform() 메서드 사용가능"
      ]
    },
    {
      "cell_type": "markdown",
      "metadata": {
        "id": "AvfI1EV02gTD"
      },
      "source": [
        "#### [[2, 3]] >> [[1. 2. 3. 4. 6. 9.]] 이유\n",
        "1. PolynomialFeatures 클래스는 기본적으로 각 특성을 곱한 항과 제곱항을 기존 특성 셋에 추가한다.\n",
        "> $2 \\times 3 = 6$\n",
        ">\n",
        "> $2^2 = 4$\n",
        ">\n",
        ">$3^2=9$\n",
        "\n",
        "2. 기본적으로 bias는 $1\\times ?$ 형태인데, 따로 추가해주지 않을 경우 자동으로 1이 추가된다.\n",
        "> `include_bias=False` 옵션으로 제외 가능\n",
        "\n",
        "  \\* 명시적으로 제외옵션을 지정하지 않아도 사이킷런 모델은 자동 추가된 절편항을 무시한다.  "
      ]
    },
    {
      "cell_type": "code",
      "metadata": {
        "colab": {
          "base_uri": "https://localhost:8080/"
        },
        "id": "EB3hHmlP16kS",
        "outputId": "e7ef1859-72ea-4ad2-e9db-10eab6307ec0"
      },
      "source": [
        "poly = PolynomialFeatures(include_bias=False)\n",
        "poly.fit(x_train)\n",
        "train_poly = poly.transform(x_train)\n",
        "print(train_poly.shape)"
      ],
      "execution_count": 54,
      "outputs": [
        {
          "output_type": "stream",
          "name": "stdout",
          "text": [
            "(42, 9)\n"
          ]
        }
      ]
    },
    {
      "cell_type": "code",
      "metadata": {
        "colab": {
          "base_uri": "https://localhost:8080/"
        },
        "id": "XXqbPI6c4L7J",
        "outputId": "1a885b34-f8bf-4457-a08d-483cd26ac09d"
      },
      "source": [
        "# 9개 특성 조합 확인\n",
        "poly.get_feature_names_out()"
      ],
      "execution_count": 55,
      "outputs": [
        {
          "output_type": "execute_result",
          "data": {
            "text/plain": [
              "array(['x0', 'x1', 'x2', 'x0^2', 'x0 x1', 'x0 x2', 'x1^2', 'x1 x2',\n",
              "       'x2^2'], dtype=object)"
            ]
          },
          "metadata": {},
          "execution_count": 55
        }
      ]
    },
    {
      "cell_type": "code",
      "metadata": {
        "id": "PlgnFsvx4VTW"
      },
      "source": [
        "# test set 변환\n",
        "test_poly = poly.transform(x_test)"
      ],
      "execution_count": 56,
      "outputs": []
    },
    {
      "cell_type": "markdown",
      "metadata": {
        "id": "57tUtM0G42pz"
      },
      "source": [
        "## 다중 회귀 모델 훈련"
      ]
    },
    {
      "cell_type": "markdown",
      "metadata": {
        "id": "DOFyF9sZ9KXc"
      },
      "source": [
        "#### LinearRegression과 비교\n"
      ]
    },
    {
      "cell_type": "code",
      "metadata": {
        "colab": {
          "base_uri": "https://localhost:8080/"
        },
        "id": "TBizWS5x42Hq",
        "outputId": "313721d2-abe5-4e3b-b3ee-9f8cc776e596"
      },
      "source": [
        "lr = LinearRegression()\n",
        "lr.fit(train_poly, y_train)"
      ],
      "execution_count": 57,
      "outputs": [
        {
          "output_type": "execute_result",
          "data": {
            "text/plain": [
              "LinearRegression()"
            ]
          },
          "metadata": {},
          "execution_count": 57
        }
      ]
    },
    {
      "cell_type": "code",
      "metadata": {
        "colab": {
          "base_uri": "https://localhost:8080/"
        },
        "id": "tacIDQ8U5Vts",
        "outputId": "ec5d43d6-7918-42e5-a15e-efc57cc58c83"
      },
      "source": [
        "# train set 점수\n",
        "print(lr.score(train_poly, y_train))"
      ],
      "execution_count": 58,
      "outputs": [
        {
          "output_type": "stream",
          "name": "stdout",
          "text": [
            "0.9903183436982124\n"
          ]
        }
      ]
    },
    {
      "cell_type": "code",
      "metadata": {
        "colab": {
          "base_uri": "https://localhost:8080/"
        },
        "id": "fSrkLuCg5hit",
        "outputId": "e18f4197-7f32-48a2-a656-735f0aa90999"
      },
      "source": [
        "# test set 점수\n",
        "print(lr.score(test_poly, y_test))"
      ],
      "execution_count": 59,
      "outputs": [
        {
          "output_type": "stream",
          "name": "stdout",
          "text": [
            "0.9714559911594132\n"
          ]
        }
      ]
    },
    {
      "cell_type": "markdown",
      "metadata": {
        "id": "qqSWBytl5vnw"
      },
      "source": [
        "앞서 농어의 길이만을 사용했을 때와 달리 과소적합이 일어나지 않았음을 확인할 수 있다.\n",
        "\n",
        "특성을 더 추가해서 사용해보도록 하자. `PolynomialFeatures` 클래스의 `degree` 파라미터를 사용하여 필요한 고차항의 최대 차수를 지정할 수 있다."
      ]
    },
    {
      "cell_type": "code",
      "metadata": {
        "id": "NOuA1d355nVE"
      },
      "source": [
        "poly = PolynomialFeatures(degree=5, include_bias=False) # 최고차항 5차\n",
        "poly.fit(x_train)\n",
        "train_poly = poly.transform(x_train)\n",
        "test_poly = poly.transform(x_test)"
      ],
      "execution_count": 60,
      "outputs": []
    },
    {
      "cell_type": "code",
      "metadata": {
        "colab": {
          "base_uri": "https://localhost:8080/"
        },
        "id": "L6-0xsie7Hxc",
        "outputId": "fca6ed1a-684a-4554-fa65-1a66a1be5f88"
      },
      "source": [
        "print(train_poly.shape)\n",
        "poly.get_feature_names_out()"
      ],
      "execution_count": 61,
      "outputs": [
        {
          "output_type": "stream",
          "name": "stdout",
          "text": [
            "(42, 55)\n"
          ]
        },
        {
          "output_type": "execute_result",
          "data": {
            "text/plain": [
              "array(['x0', 'x1', 'x2', 'x0^2', 'x0 x1', 'x0 x2', 'x1^2', 'x1 x2',\n",
              "       'x2^2', 'x0^3', 'x0^2 x1', 'x0^2 x2', 'x0 x1^2', 'x0 x1 x2',\n",
              "       'x0 x2^2', 'x1^3', 'x1^2 x2', 'x1 x2^2', 'x2^3', 'x0^4', 'x0^3 x1',\n",
              "       'x0^3 x2', 'x0^2 x1^2', 'x0^2 x1 x2', 'x0^2 x2^2', 'x0 x1^3',\n",
              "       'x0 x1^2 x2', 'x0 x1 x2^2', 'x0 x2^3', 'x1^4', 'x1^3 x2',\n",
              "       'x1^2 x2^2', 'x1 x2^3', 'x2^4', 'x0^5', 'x0^4 x1', 'x0^4 x2',\n",
              "       'x0^3 x1^2', 'x0^3 x1 x2', 'x0^3 x2^2', 'x0^2 x1^3',\n",
              "       'x0^2 x1^2 x2', 'x0^2 x1 x2^2', 'x0^2 x2^3', 'x0 x1^4',\n",
              "       'x0 x1^3 x2', 'x0 x1^2 x2^2', 'x0 x1 x2^3', 'x0 x2^4', 'x1^5',\n",
              "       'x1^4 x2', 'x1^3 x2^2', 'x1^2 x2^3', 'x1 x2^4', 'x2^5'],\n",
              "      dtype=object)"
            ]
          },
          "metadata": {},
          "execution_count": 61
        }
      ]
    },
    {
      "cell_type": "code",
      "metadata": {
        "colab": {
          "base_uri": "https://localhost:8080/"
        },
        "id": "gF-PsauO7QCr",
        "outputId": "65d5d03f-6dfd-4cd2-f390-50719af88ad7"
      },
      "source": [
        "lr.fit(train_poly, y_train)\n",
        "print(lr.score(train_poly, y_train))"
      ],
      "execution_count": 62,
      "outputs": [
        {
          "output_type": "stream",
          "name": "stdout",
          "text": [
            "0.9999999999991096\n"
          ]
        }
      ]
    },
    {
      "cell_type": "code",
      "metadata": {
        "colab": {
          "base_uri": "https://localhost:8080/"
        },
        "id": "V0cyDEng7lnH",
        "outputId": "aac8c236-5e17-4ec6-d19f-4f5c3e1b3858"
      },
      "source": [
        "print(lr.score(test_poly, y_test))"
      ],
      "execution_count": 63,
      "outputs": [
        {
          "output_type": "stream",
          "name": "stdout",
          "text": [
            "-144.40579242335605\n"
          ]
        }
      ]
    },
    {
      "cell_type": "markdown",
      "metadata": {
        "id": "lBtYBw0t7qqg"
      },
      "source": [
        "train set에 대한 정확도는 좋게 나오고 있으나, test set에 대한 정확도는 굉장히 큰 음수가 나오는 것을 확인할 수 있다.\n",
        "\n",
        "이처럼 데이터 대비 특성의 개수가 너무 많아지면 선형 모델이 너무 강력해져 과대 적합을 이루게 되고, test set에서 형편 없는 점수를 내게 된다.\n",
        "\n",
        "특성을 줄여서 과대 적합을 줄이는 방법도 있지만, 간혹 특성을 줄이면 전반적인 성능이 좋지 않게 나오게 되는 경우가 있다. 이러한 상황에서는 특성의 개수는 유지하되 과대 적합을 방지하기 위해 규제를 사용한다."
      ]
    },
    {
      "cell_type": "markdown",
      "metadata": {
        "id": "UgTVVKyi8WnG"
      },
      "source": [
        "## 규제 (Regularization)\n"
      ]
    },
    {
      "cell_type": "markdown",
      "metadata": {
        "id": "SL7w7hxK9Ph8"
      },
      "source": [
        "규제는 머신러닝 모델이 훈련 세트를 너무 과도하게 학습하지 못하도록 하는 것으로, 선형 회귀 모델의 경우 특성에 곱해지는 계수를 작게 하는 역할을 한다.\n"
      ]
    },
    {
      "cell_type": "markdown",
      "metadata": {
        "id": "57z70XuM9TTX"
      },
      "source": [
        "일반적으로 선형 회귀 모델에 규제를 적용할 때 계수 값의 크기가 서로 많이 다르다면 공정하게 제어되지 않는다. 따라서 규제를 적용하기 전 정규화를 시키는 것이 일반적이다.\n",
        "\n",
        "사이킷런에서 제공하는 변환기 중 하나인 `StandardScaler`클래스를 활용해보자 "
      ]
    },
    {
      "cell_type": "code",
      "metadata": {
        "id": "bBy9m6YY7py9"
      },
      "source": [
        "ss = StandardScaler()\n",
        "ss.fit(train_poly)\n",
        "train_scaled = ss.transform(train_poly)\n",
        "test_scaled = ss.transform(test_poly)"
      ],
      "execution_count": 64,
      "outputs": []
    },
    {
      "cell_type": "code",
      "metadata": {
        "id": "cnS7tTZV-Nuk"
      },
      "source": [
        "# train set에서 학습된 평균과 표준편차\n",
        "# print(ss.mean_)\n",
        "# print(ss.scale_)"
      ],
      "execution_count": 67,
      "outputs": []
    },
    {
      "cell_type": "markdown",
      "metadata": {
        "id": "PPduTUsk-wJx"
      },
      "source": [
        "선형 회귀 모델에 규제를 추가한 모델은 **릿지**와 **라쏘**라고 부른다.\n",
        "\n",
        "두 모델은 규제를 가하는 방법이 각각 다른데, 릿지는 계수를 제곱한 값을 기준으로 규제를 가하고, 라쏘는 계수의 절댓값을 기준으로 규제를 적용한다.\n",
        "\n",
        "두 알고리즘 모두 계수의 크기를 줄이지만 라쏘의 경우 아예 0으로 만들 수도 있다.\n",
        "\n",
        "모든 특성을 살리려는 경우가 많기에 일반적으로는 릿지가 더 선호된다."
      ]
    },
    {
      "cell_type": "markdown",
      "metadata": {
        "id": "9mg55SD6-h6C"
      },
      "source": [
        "### 릿지 회귀(Ridge Regression)\n",
        "\n"
      ]
    },
    {
      "cell_type": "markdown",
      "metadata": {
        "id": "Q_aiYdZsAAlP"
      },
      "source": [
        "앞서 준비한 `train_scaled` 데이터로 릿지 모델을 훈련시켜보자"
      ]
    },
    {
      "cell_type": "code",
      "metadata": {
        "colab": {
          "base_uri": "https://localhost:8080/"
        },
        "id": "KYqHXCCG-Y2H",
        "outputId": "d6217b0a-8f99-4169-b2e9-22f222482afd"
      },
      "source": [
        "ridge = Ridge()\n",
        "ridge.fit(train_scaled, y_train)"
      ],
      "execution_count": 72,
      "outputs": [
        {
          "output_type": "execute_result",
          "data": {
            "text/plain": [
              "Ridge()"
            ]
          },
          "metadata": {},
          "execution_count": 72
        }
      ]
    },
    {
      "cell_type": "code",
      "metadata": {
        "colab": {
          "base_uri": "https://localhost:8080/"
        },
        "id": "ereqdg6uAcuw",
        "outputId": "adbf1960-7bc0-415e-fe63-03bbd11ae291"
      },
      "source": [
        "print(ridge.score(train_scaled, y_train))\n",
        "print(ridge.score(test_scaled, y_test))"
      ],
      "execution_count": 73,
      "outputs": [
        {
          "output_type": "stream",
          "name": "stdout",
          "text": [
            "0.9896101671037343\n",
            "0.9790693977615397\n"
          ]
        }
      ]
    },
    {
      "cell_type": "markdown",
      "metadata": {
        "id": "RocG0sctAzR0"
      },
      "source": [
        "많은 특성을 사용했음에도 불구하고 train set에 과대 적합 되지 않고 test set에서도 좋은 성능을 보이고 있다."
      ]
    },
    {
      "cell_type": "markdown",
      "metadata": {
        "id": "BSZA477RBJg-"
      },
      "source": [
        "### 라쏘 회귀(Lasso Regression)"
      ]
    },
    {
      "cell_type": "code",
      "metadata": {
        "colab": {
          "base_uri": "https://localhost:8080/"
        },
        "id": "QdQZf2PGAxuh",
        "outputId": "f10e8269-9b93-46ad-9c4e-61d80d28ebca"
      },
      "source": [
        "lasso = Lasso()\n",
        "lasso.fit(train_scaled, y_train)"
      ],
      "execution_count": 74,
      "outputs": [
        {
          "output_type": "execute_result",
          "data": {
            "text/plain": [
              "Lasso()"
            ]
          },
          "metadata": {},
          "execution_count": 74
        }
      ]
    },
    {
      "cell_type": "code",
      "metadata": {
        "colab": {
          "base_uri": "https://localhost:8080/"
        },
        "id": "JyjbNWgdBWzS",
        "outputId": "80d7495a-5eff-4906-aadb-fcaed0fc5277"
      },
      "source": [
        "print(lasso.score(train_scaled, y_train))\n",
        "print(lasso.score(test_scaled, y_test))"
      ],
      "execution_count": 75,
      "outputs": [
        {
          "output_type": "stream",
          "name": "stdout",
          "text": [
            "0.989789897208096\n",
            "0.9800593698421883\n"
          ]
        }
      ]
    },
    {
      "cell_type": "code",
      "metadata": {
        "id": "5S9L71d9BZs_"
      },
      "source": [
        ""
      ],
      "execution_count": null,
      "outputs": []
    },
    {
      "cell_type": "markdown",
      "metadata": {
        "id": "d661UBMhBjXM"
      },
      "source": [
        "### 규제 강도 alpha"
      ]
    },
    {
      "cell_type": "markdown",
      "metadata": {
        "id": "rDrQ-VmNBqkp"
      },
      "source": [
        "릿지와 라쏘 모델을 사용할 때 규제의 양을 임의로 조절할 수 있다. 이때 사용되는 하이퍼파라미터는 alpha로, 모델 객체 생성 시 설정할 수 있다.\n",
        "\n",
        "alpha 값이 크면 규제의 강도가 세져 계수의 값을 더 큰 폭으로 줄이게 되고, 반대로 alpha 값이 작으면 규제의 강도를 낮춰 기본 선형 회귀 모델과 유사하게 된다.\n"
      ]
    },
    {
      "cell_type": "markdown",
      "metadata": {
        "id": "l3DrUwv-CGfp"
      },
      "source": [
        "최적의 alpha 값을 찾기 위해서는 alpha 값에 대한 $R^2$ 값의 그래프를 그려봐야 하는데, 이때 train set와 test set의 점수가 가장 가까운 지점을 최적의 alpha 값이라고 한다."
      ]
    },
    {
      "cell_type": "code",
      "metadata": {
        "id": "ROEFdNmlBpAj"
      },
      "source": [
        "# Ridge\n",
        "train_score = []\n",
        "test_score = []\n",
        "\n",
        "alpha_list = [0.01, 0.1, 1, 10, 100]\n",
        "for alpha in alpha_list:\n",
        "  ridge = Ridge(alpha=alpha)\n",
        "  ridge.fit(train_scaled, y_train)\n",
        "  train_score.append(ridge.score(train_scaled, y_train))\n",
        "  test_score.append(ridge.score(test_scaled, y_test))"
      ],
      "execution_count": 82,
      "outputs": []
    },
    {
      "cell_type": "code",
      "metadata": {
        "colab": {
          "base_uri": "https://localhost:8080/",
          "height": 265
        },
        "id": "UOJCx9QLC7Kj",
        "outputId": "0ba895c8-1a39-4e6d-f396-c016d7a98cd5"
      },
      "source": [
        "plt.plot(np.log10(alpha_list), train_score) # 간격 일정하게\n",
        "plt.plot(np.log10(alpha_list), test_score)\n",
        "plt.show()"
      ],
      "execution_count": 83,
      "outputs": [
        {
          "output_type": "display_data",
          "data": {
            "image/png": "[encoded data removed]",
            "text/plain": [
              "<Figure size 432x288 with 1 Axes>"
            ]
          },
          "metadata": {
            "needs_background": "light"
          }
        }
      ]
    },
    {
      "cell_type": "markdown",
      "metadata": {
        "id": "vsFhcRHWDRzs"
      },
      "source": [
        "적절한 alpha의 값은 -1.0, 즉 $10^{-1} = 0.1$이다. "
      ]
    },
    {
      "cell_type": "code",
      "metadata": {
        "colab": {
          "base_uri": "https://localhost:8080/"
        },
        "id": "ATX6_HnhDLP1",
        "outputId": "fa72afda-63b5-48ec-d45c-31362abc0884"
      },
      "source": [
        "ridge = Ridge(alpha=0.1)\n",
        "ridge.fit(train_scaled, y_train)"
      ],
      "execution_count": 84,
      "outputs": [
        {
          "output_type": "execute_result",
          "data": {
            "text/plain": [
              "Ridge(alpha=0.1)"
            ]
          },
          "metadata": {},
          "execution_count": 84
        }
      ]
    },
    {
      "cell_type": "code",
      "metadata": {
        "colab": {
          "base_uri": "https://localhost:8080/"
        },
        "id": "z3lCpyA1Dge0",
        "outputId": "4f81ef66-31e8-460d-cc7b-5e1e17f5e2de"
      },
      "source": [
        "print(ridge.score(train_scaled, y_train))\n",
        "print(ridge.score(test_scaled, y_test))"
      ],
      "execution_count": 85,
      "outputs": [
        {
          "output_type": "stream",
          "name": "stdout",
          "text": [
            "0.9903815817570366\n",
            "0.9827976465386927\n"
          ]
        }
      ]
    },
    {
      "cell_type": "code",
      "metadata": {
        "id": "QQ8vjUSEDixp"
      },
      "source": [
        "# Lasso\n",
        "train_score = []\n",
        "test_score = []\n",
        "\n",
        "alpha_list = [0.01, 0.1, 1, 10, 100]\n",
        "for alpha in alpha_list:\n",
        "  lasso = Lasso(alpha=alpha, max_iter=1_000_000)\n",
        "  lasso.fit(train_scaled, y_train)\n",
        "  train_score.append(lasso.score(train_scaled, y_train))\n",
        "  test_score.append(lasso.score(test_scaled, y_test))"
      ],
      "execution_count": 92,
      "outputs": []
    },
    {
      "cell_type": "markdown",
      "metadata": {
        "id": "OHpj6pKwD8sU"
      },
      "source": [
        "\\* 라쏘 모델 훈련 시 `ConvergenceWarning`이 발생할 수 있다. 이는 사이킷런의 라쏘 모델의 동작 방식과 연관 있는데, 최적의 계수를 찾기 위해 반복적인 계산을 수행하는 모델 특성상 지정한 반복 횟수가 부족한 경우 발생한다. 이 경우 `max_iter`를 늘림으로써 해결할 수 있다."
      ]
    },
    {
      "cell_type": "code",
      "metadata": {
        "colab": {
          "base_uri": "https://localhost:8080/",
          "height": 265
        },
        "id": "1gjvH9zRDv6M",
        "outputId": "02490b5e-0179-493d-f4ab-5a8dcf3022bc"
      },
      "source": [
        "plt.plot(np.log10(alpha_list), train_score)\n",
        "plt.plot(np.log10(alpha_list), test_score)\n",
        "plt.show()"
      ],
      "execution_count": 93,
      "outputs": [
        {
          "output_type": "display_data",
          "data": {
            "image/png": "[encoded data removed]",
            "text/plain": [
              "<Figure size 432x288 with 1 Axes>"
            ]
          },
          "metadata": {
            "needs_background": "light"
          }
        }
      ]
    },
    {
      "cell_type": "markdown",
      "metadata": {
        "id": "con0y20hExAQ"
      },
      "source": [
        "적절한 alpha의 값은 1.0, 즉 $10^{1} = 10$이다. "
      ]
    },
    {
      "cell_type": "code",
      "metadata": {
        "colab": {
          "base_uri": "https://localhost:8080/"
        },
        "id": "ER6bnNIQDyi2",
        "outputId": "09c5a4ca-e61f-4730-b3aa-e8780d30281a"
      },
      "source": [
        "lasso = Lasso(alpha=10)\n",
        "lasso.fit(train_scaled, y_train)"
      ],
      "execution_count": 94,
      "outputs": [
        {
          "output_type": "execute_result",
          "data": {
            "text/plain": [
              "Lasso(alpha=10)"
            ]
          },
          "metadata": {},
          "execution_count": 94
        }
      ]
    },
    {
      "cell_type": "code",
      "metadata": {
        "colab": {
          "base_uri": "https://localhost:8080/"
        },
        "id": "0sMFB0ixE60g",
        "outputId": "2dd84031-b4ad-4471-af9f-4ecc7e0baf93"
      },
      "source": [
        "print(lasso.score(train_scaled, y_train))\n",
        "print(lasso.score(test_scaled, y_test))"
      ],
      "execution_count": 95,
      "outputs": [
        {
          "output_type": "stream",
          "name": "stdout",
          "text": [
            "0.9888067471131867\n",
            "0.9824470598706695\n"
          ]
        }
      ]
    },
    {
      "cell_type": "markdown",
      "metadata": {
        "id": "K6XVkRheFA-s"
      },
      "source": [
        "앞서, 라쏘 모델은 계수 값을 아예 0으로 만들어버리는 경우도 있다고 언급하였다.\n",
        "\n",
        "`coef_` 속성을 통해 모델의 계수를 확인해보도록 하자."
      ]
    },
    {
      "cell_type": "code",
      "metadata": {
        "colab": {
          "base_uri": "https://localhost:8080/"
        },
        "id": "2fnIok3CE-Au",
        "outputId": "29376bb7-bc7d-4864-902e-2e0811c2bdbf"
      },
      "source": [
        "print(lasso.coef_)\n",
        "print(np.sum(lasso.coef_ == 0))"
      ],
      "execution_count": 98,
      "outputs": [
        {
          "output_type": "stream",
          "name": "stdout",
          "text": [
            "[ 0.          0.          0.         12.14852453 55.44856399 42.23100799\n",
            "  0.          0.         13.70596191  0.         43.2185952   5.7033775\n",
            " 47.46254536  7.42309425 11.85823365  0.          0.         13.53038193\n",
            " 21.22111356  0.          0.          0.          0.          0.\n",
            "  0.         18.66993032  0.          0.          0.         15.81041778\n",
            "  0.          0.          0.          0.          0.          0.\n",
            "  0.          0.          0.          0.          0.          0.\n",
            "  0.          0.         18.14672268  0.          0.          0.\n",
            "  0.         15.51272953  0.          0.          0.          0.\n",
            "  0.        ]\n",
            "40\n"
          ]
        }
      ]
    },
    {
      "cell_type": "markdown",
      "metadata": {
        "id": "pqzRsGZKFbTW"
      },
      "source": [
        "55개 특성 중 40개의 특성의 계수가 0임을 확인할 수 있다.\n",
        "\n",
        "이러한 특징 덕에 라쏘는 feature selection에서도 유용하게 쓰인다. \n",
        "\n",
        "(물론, 릿지도 feature selection에서 사용될 수 있다.)"
      ]
    }
  ]
}