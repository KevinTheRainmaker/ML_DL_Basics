{
  "nbformat": 4,
  "nbformat_minor": 0,
  "metadata": {
    "colab": {
      "name": "08_Stochastic_Gradient_Descent.ipynb",
      "provenance": [],
      "collapsed_sections": [
        "t49HMuRj3iDb"
      ],
      "authorship_tag": "ABX9TyO47r+KSJyU9QTwI265mP/Z",
      "include_colab_link": true
    },
    "kernelspec": {
      "name": "python3",
      "display_name": "Python 3"
    },
    "language_info": {
      "name": "python"
    }
  },
  "cells": [
    {
      "cell_type": "markdown",
      "metadata": {
        "id": "view-in-github",
        "colab_type": "text"
      },
      "source": [
        "<a href=\"https://colab.research.google.com/github/KevinTheRainmaker/ML_DL_Basics/blob/master/HonGong_ML_DL/08_Stochastic_Gradient_Descent.ipynb\" target=\"_parent\"><img src=\"https://colab.research.google.com/assets/colab-badge.svg\" alt=\"Open In Colab\"/></a>"
      ]
    },
    {
      "cell_type": "markdown",
      "metadata": {
        "id": "5Imf6DhE2xCg"
      },
      "source": [
        "# 확률적 경사 하강법\n",
        "\n",
        "### **키워드:** 확률적 경사 하강법, 손실 함수, 에포크\n",
        "\n",
        "경사 하강법 알고리즘을 이해하고, 대량의 데이터에서 분류 모델을 훈련하는 방법을 알아보자."
      ]
    },
    {
      "cell_type": "code",
      "metadata": {
        "id": "9H49EDnh2i_2"
      },
      "source": [
        "# Packages\n",
        "import pandas as pd\n",
        "import numpy as np\n",
        "\n",
        "from sklearn.model_selection import train_test_split\n",
        "from sklearn.preprocessing import StandardScaler\n",
        "from sklearn.linear_model import SGDClassifier\n",
        "\n",
        "import matplotlib.pyplot as plt"
      ],
      "execution_count": 1,
      "outputs": []
    },
    {
      "cell_type": "markdown",
      "metadata": {
        "id": "t49HMuRj3iDb"
      },
      "source": [
        "## 점진적 학습"
      ]
    },
    {
      "cell_type": "markdown",
      "metadata": {
        "id": "fp04S-ux3ktx"
      },
      "source": [
        "새로운 데이터가 조금씩 추가되는 상황에서, 전체 데이터를 다시 학습시키거나 기존 모델을 폐기하지 않고 새로운 데이터에 대해서만 조금씩 학습함으로써 모델을 업데이트 시키는 방식을 **점진적 학습(또는 온라인 학습)**이라고 한다.\n",
        "\n",
        "이 방식의 대표적인 알고리즘으로는 **확률적 경사 하강법(Stochastic Gradient Descent)**이 있다."
      ]
    },
    {
      "cell_type": "markdown",
      "metadata": {
        "id": "ie7lvP5f4OJC"
      },
      "source": [
        "### 경사 하강법\n",
        "경사 하강법이란 해당 지점에서 기울기가 최대인 방향으로 조금씩 내려가며 최소지점을 찾아내는 알고리즘이다.\n",
        "\n",
        "이때 적절한 minimum 값에 빠르고 정확하게 도달하기 위해서는 적절한 간격을 설정하는 것이 중요하며, 이 간격을 **학습율(Learning Rate)**라고 한다."
      ]
    },
    {
      "cell_type": "markdown",
      "metadata": {
        "id": "_GShTh2w7vTP"
      },
      "source": [
        "### 확률적 경사 하강법\n",
        "\n",
        "확률적 경사 하강법은 이름에서 알 수 있듯이 경사 하강법의 일종이다. 이름에서 '확률적'은 '무작위하게' 라는 뜻으로 이해할 수 있다. 기본적으로 경사 하강법에서 최적의 방향을 찾기 위해서는 훈련 세트를 사용한다. 그런데 이때 전체 훈련 세트를 사용하지 않고 한 개의 샘플만을 랜덤하게 선택하여 최적 기울기 방향을 찾는 방법이 바로 확률적 경사 하강법인 것이다.\n",
        "\n",
        "확률적 경사 하강법은 훈련 세트에서 랜덤하게 샘플을 선택하여 학습을 진행하며, 훈련 세트 내 전체 샘플을 사용할 때까지 반복적으로 진행한다. 전부 사용했음에도 최적값을 찾지 못했다면, 전체를 다시 훈련 세트로 넣어 최적값에 도달할 때까지 위 과정을 반복한다. 이와 같이 훈련 세트를 한 번 모두 사용하는 과정을 **에포크(Epoch)**라고 하며, 일반적으로 수십, 수백 번의 에포크를 수행한다."
      ]
    },
    {
      "cell_type": "markdown",
      "metadata": {
        "id": "4kZPL-288wIr"
      },
      "source": [
        "### 배치 경사 하강법\n",
        "\n",
        "경사 하강법은 잘못된 방향으로 진행될 확률을 줄이기 위해 보통 학습율을 굉장히 작게 설정한다. 만약 조금 더 안정적으로 방향을 설정하는 방식을 원할 경우, 한 개가 아닌 소규모의 샘플을 선택하여 확률적 경사 하강법을 진행하기도 하는데, 이러한 방식을 **미니배치 경사 하강법(Minibatch Gradient Descent)**이라고 한다.\n",
        "\n",
        "극단적으로 전체 데이터를 사용하는 경우도 있는데, 이를 **배치 경사 하강법(Batch Gradient Descent)**이라고 한다. 전체 데이터를 사용하는만큼 가장 안정적일 수 있으나, 그만큼 리소스 소모가 심하며 대용량의 데이터에서는 제대로 작동하지 않을 수 있다는 단점이 있다."
      ]
    },
    {
      "cell_type": "markdown",
      "metadata": {
        "id": "P39l71Og9bnf"
      },
      "source": [
        "## 손실 함수"
      ]
    },
    {
      "cell_type": "markdown",
      "metadata": {
        "id": "d3Podkx29g8J"
      },
      "source": [
        "위에서 점진적 학습은 현재 위치에서의 기울기를 기반으로 최적값을 찾는 방법이라고 설명하였다. 이 때의 최적값을 찾아야하는 함수가 **손실 함수(Loss Function)**이다.\n",
        "\n",
        "손실 함수는 어떤 문제에서 머신러닝 알고리즘이 도출한 값과 실제 값 사이 오차를 구하는 함수이다. 즉 이 값이 작을수록 해당 모델이 정확하다라고 할 수 있다.\n",
        "\n",
        "머신러닝 알고리즘은 기본적으로 기울기를 기반으로 진행되기 때문에 손실 함수는 미분이 가능해야 한다."
      ]
    },
    {
      "cell_type": "markdown",
      "metadata": {
        "id": "rRGr2-8N-M8S"
      },
      "source": [
        "\\* 손실함수는 비용 함수(Cost Function)이라고도 한다."
      ]
    },
    {
      "cell_type": "markdown",
      "metadata": {
        "id": "gFixKUlL-zVk"
      },
      "source": [
        "### 로지스틱 손실 함수 (크로스엔트로피 손실 함수)\n",
        "\n",
        "각 샘플의 예측값과 타깃 클래스의 레이블을 이용하는 손실함수로, 양성 클래스(1)가 타겟일 경우 예측값과 타깃 레이블을 곱하고, 음성 클래스(0)가 타겟일 경우 음성 클래스에 대한 예측값을 양성 클래스에 대한 예측값으로 바꿔 (1-예측값)과 1을 곱한다.\n",
        "\n",
        "모든 결과값에 음수를 취한 값을 손실로 사용할 수 있다. 예측값에 로그 함수를 취하여 위 과정을 거치면 로지스틱 손실 함수가 된다. 예측값은 0과 1사이 값인데, 여기에 로그를 취할 경우 0에 가까울수록 굉장히 큰 손실을 만들 수 있기 때문에 모델에 미치는 영향을 더욱 크게 만들 수 있다."
      ]
    },
    {
      "cell_type": "markdown",
      "source": [
        "## SGDClassifier"
      ],
      "metadata": {
        "id": "TK-a70F2eMg_"
      }
    },
    {
      "cell_type": "markdown",
      "metadata": {
        "id": "2icgzoCF3GjU"
      },
      "source": [
        "### 데이터 준비"
      ]
    },
    {
      "cell_type": "code",
      "metadata": {
        "id": "KMNZBS0K3F-a",
        "colab": {
          "base_uri": "https://localhost:8080/",
          "height": 206
        },
        "outputId": "d22c6d28-3c01-4413-9c1b-3f5fe80eeaa7"
      },
      "source": [
        "fish = pd.read_csv('https://bit.ly/fish_csv')\n",
        "fish.head()"
      ],
      "execution_count": 2,
      "outputs": [
        {
          "output_type": "execute_result",
          "data": {
            "text/html": [
              "<div>\n",
              "<style scoped>\n",
              "    .dataframe tbody tr th:only-of-type {\n",
              "        vertical-align: middle;\n",
              "    }\n",
              "\n",
              "    .dataframe tbody tr th {\n",
              "        vertical-align: top;\n",
              "    }\n",
              "\n",
              "    .dataframe thead th {\n",
              "        text-align: right;\n",
              "    }\n",
              "</style>\n",
              "<table border=\"1\" class=\"dataframe\">\n",
              "  <thead>\n",
              "    <tr style=\"text-align: right;\">\n",
              "      <th></th>\n",
              "      <th>Species</th>\n",
              "      <th>Weight</th>\n",
              "      <th>Length</th>\n",
              "      <th>Diagonal</th>\n",
              "      <th>Height</th>\n",
              "      <th>Width</th>\n",
              "    </tr>\n",
              "  </thead>\n",
              "  <tbody>\n",
              "    <tr>\n",
              "      <th>0</th>\n",
              "      <td>Bream</td>\n",
              "      <td>242.0</td>\n",
              "      <td>25.4</td>\n",
              "      <td>30.0</td>\n",
              "      <td>11.5200</td>\n",
              "      <td>4.0200</td>\n",
              "    </tr>\n",
              "    <tr>\n",
              "      <th>1</th>\n",
              "      <td>Bream</td>\n",
              "      <td>290.0</td>\n",
              "      <td>26.3</td>\n",
              "      <td>31.2</td>\n",
              "      <td>12.4800</td>\n",
              "      <td>4.3056</td>\n",
              "    </tr>\n",
              "    <tr>\n",
              "      <th>2</th>\n",
              "      <td>Bream</td>\n",
              "      <td>340.0</td>\n",
              "      <td>26.5</td>\n",
              "      <td>31.1</td>\n",
              "      <td>12.3778</td>\n",
              "      <td>4.6961</td>\n",
              "    </tr>\n",
              "    <tr>\n",
              "      <th>3</th>\n",
              "      <td>Bream</td>\n",
              "      <td>363.0</td>\n",
              "      <td>29.0</td>\n",
              "      <td>33.5</td>\n",
              "      <td>12.7300</td>\n",
              "      <td>4.4555</td>\n",
              "    </tr>\n",
              "    <tr>\n",
              "      <th>4</th>\n",
              "      <td>Bream</td>\n",
              "      <td>430.0</td>\n",
              "      <td>29.0</td>\n",
              "      <td>34.0</td>\n",
              "      <td>12.4440</td>\n",
              "      <td>5.1340</td>\n",
              "    </tr>\n",
              "  </tbody>\n",
              "</table>\n",
              "</div>"
            ],
            "text/plain": [
              "  Species  Weight  Length  Diagonal   Height   Width\n",
              "0   Bream   242.0    25.4      30.0  11.5200  4.0200\n",
              "1   Bream   290.0    26.3      31.2  12.4800  4.3056\n",
              "2   Bream   340.0    26.5      31.1  12.3778  4.6961\n",
              "3   Bream   363.0    29.0      33.5  12.7300  4.4555\n",
              "4   Bream   430.0    29.0      34.0  12.4440  5.1340"
            ]
          },
          "metadata": {},
          "execution_count": 2
        }
      ]
    },
    {
      "cell_type": "code",
      "source": [
        "fish_input = fish[['Weight','Length', 'Diagonal', 'Height', 'Width']].to_numpy()\n",
        "fish_target = fish['Species'].to_numpy()"
      ],
      "metadata": {
        "id": "oDSEWwX0eZsf"
      },
      "execution_count": 3,
      "outputs": []
    },
    {
      "cell_type": "code",
      "source": [
        "X_train, X_test, y_train, y_test = train_test_split(fish_input, fish_target, random_state=42)"
      ],
      "metadata": {
        "id": "HDj4kpkueo9R"
      },
      "execution_count": 4,
      "outputs": []
    },
    {
      "cell_type": "code",
      "source": [
        "ss = StandardScaler()\n",
        "ss.fit(X_train)\n",
        "train_scaled = ss.transform(X_train)\n",
        "test_scaled = ss.transform(X_test)"
      ],
      "metadata": {
        "id": "jXw81lsMe6XS"
      },
      "execution_count": 5,
      "outputs": []
    },
    {
      "cell_type": "markdown",
      "source": [
        "### 점진적 학습"
      ],
      "metadata": {
        "id": "LVDG5PtTgk_Y"
      }
    },
    {
      "cell_type": "code",
      "source": [
        "sc = SGDClassifier(loss='log', max_iter=40, random_state=42) # 로지스틱 손실 함수 / 에포크 10회 수행\n",
        "sc.fit(train_scaled, y_train)\n",
        "print(sc.score(train_scaled, y_train))\n",
        "print(sc.score(test_scaled, y_test))"
      ],
      "metadata": {
        "colab": {
          "base_uri": "https://localhost:8080/"
        },
        "id": "gArHGf5ufLrI",
        "outputId": "95ba579b-b8ac-40c5-93f3-91c568f90fa4"
      },
      "execution_count": 8,
      "outputs": [
        {
          "output_type": "stream",
          "name": "stdout",
          "text": [
            "0.8319327731092437\n",
            "0.775\n"
          ]
        }
      ]
    },
    {
      "cell_type": "markdown",
      "source": [
        "`SGDClassifier` 객체를 다시 만들지 않고 점진적 학습을 수행시켜보자.\n",
        "이때 사용되는 메서드는 `partial_fit()`이며, `fit()` 메서드와 사용 방법은 동일하지만 호출 시 마다 1 에포크씩 이어서 학습할 수 있다."
      ],
      "metadata": {
        "id": "OjIHJJ_Cf1a8"
      }
    },
    {
      "cell_type": "code",
      "source": [
        "sc.partial_fit(train_scaled, y_train)\n",
        "print(sc.score(train_scaled, y_train))\n",
        "print(sc.score(test_scaled, y_test))"
      ],
      "metadata": {
        "colab": {
          "base_uri": "https://localhost:8080/"
        },
        "id": "TOtSYqqIfotN",
        "outputId": "ce8525ea-4926-4a28-88ba-eb964654c0e6"
      },
      "execution_count": 9,
      "outputs": [
        {
          "output_type": "stream",
          "name": "stdout",
          "text": [
            "0.907563025210084\n",
            "0.925\n"
          ]
        }
      ]
    },
    {
      "cell_type": "markdown",
      "source": [
        "## 에포크와 과대/과소적합"
      ],
      "metadata": {
        "id": "WFT4UU9bghjo"
      }
    },
    {
      "cell_type": "markdown",
      "source": [
        "에포크가 너무 적으면 최적값을 미처 찾기도 전에 학습이 끝나버릴 수 있다. 이러한 경우를 과소적합(Underfitting)이라고 한다.\n",
        "\n",
        "반대로 에포크가 너무 많으면 훈련 세트에 너무 잘 맞아서 오히려 테스트 세트에 대해서는 잘 맞지 않는 현상이 발생할 수 있다. 이를 과대적합(Overfitting)이라고 한다."
      ],
      "metadata": {
        "id": "c73lAdl6hZio"
      }
    },
    {
      "cell_type": "markdown",
      "source": [
        "### 조기 종료(Early Stopping)\n",
        "\n",
        "에포크가 많아질수록 훈련 세트에 대한 정확도는 꾸준히 증가한다. 테스트 세트에 대한 정확도 또한 에포크의 증가에 따라 증가하는 경향을 보이지만, 어느 순간부터는 정확도가 낮아지는 순간이 온다. 이 시점이 바로 과대적합이 발생하는 시점으로, 이때 학습을 멈추는 것을 조기 종료라고 한다."
      ],
      "metadata": {
        "id": "9QWaZmX0h-6h"
      }
    },
    {
      "cell_type": "code",
      "source": [
        "sc = SGDClassifier(loss='log', random_state=42) # num_iter의 default값 1000\n",
        "train_score = []\n",
        "test_score = []\n",
        "classes = np.unique(y_train)"
      ],
      "metadata": {
        "id": "wm6uNAMRgWn_"
      },
      "execution_count": 10,
      "outputs": []
    },
    {
      "cell_type": "markdown",
      "source": [
        "\\* `SGDClassifier` 자체에서 파라미터로 `early_stopping`을 지원하긴 하나, 전체적인 수행 방식을 잘 이해하기 위해 위와 같은 방식을 채택하겠다."
      ],
      "metadata": {
        "id": "RVupNV-Ii-xL"
      }
    },
    {
      "cell_type": "code",
      "source": [
        "for _ in range(300): # partial_fit을 300번 반복 == 300 에포크\n",
        "  sc.partial_fit(train_scaled, y_train, classes=classes) # fit 없이 partial_fit을 처음부터 사용할때는 classes가 전달되어야 한다\n",
        "  train_score.append(sc.score(train_scaled, y_train))\n",
        "  test_score.append(sc.score(test_scaled, y_test)) # 에포크 1회마다 train score와 test score를 저장"
      ],
      "metadata": {
        "id": "DLYzAOt4i6CY"
      },
      "execution_count": 11,
      "outputs": []
    },
    {
      "cell_type": "code",
      "source": [
        "plt.plot(train_score)\n",
        "plt.plot(test_score)\n",
        "plt.show()"
      ],
      "metadata": {
        "colab": {
          "base_uri": "https://localhost:8080/",
          "height": 265
        },
        "id": "U24fBTiXj3vL",
        "outputId": "5eb47c46-02c3-4640-df5d-818c2407d516"
      },
      "execution_count": 12,
      "outputs": [
        {
          "output_type": "display_data",
          "data": {
            "image/png": "[encoded data removed]",
            "text/plain": [
              "<Figure size 432x288 with 1 Axes>"
            ]
          },
          "metadata": {
            "needs_background": "light"
          }
        }
      ]
    },
    {
      "cell_type": "markdown",
      "source": [
        "데이터셋의 크기 자체가 크지 않아 눈에 띄게 드러나는 것은 아니지만, 대략 100 에포크부터 과대적합이 일어남을 확인할 수 있다. 즉, 최적 에포크가 100임을 알 수 있다."
      ],
      "metadata": {
        "id": "_gySemA6kXbD"
      }
    },
    {
      "cell_type": "code",
      "source": [
        "sc = SGDClassifier(loss='log', max_iter=100, tol=None, random_state=42) # tol: None이 아닐 경우 loss > (best_loss - tol)인 시점에 에포크가 종료된다.\n",
        "sc.fit(train_scaled, y_train)\n",
        "print(sc.score(train_scaled, y_train))\n",
        "print(sc.score(test_scaled, y_test))"
      ],
      "metadata": {
        "colab": {
          "base_uri": "https://localhost:8080/"
        },
        "id": "7JXmCdkdkUPM",
        "outputId": "0ea1c2e5-924a-4f13-f331-3fd26760872c"
      },
      "execution_count": 13,
      "outputs": [
        {
          "output_type": "stream",
          "name": "stdout",
          "text": [
            "0.957983193277311\n",
            "0.925\n"
          ]
        }
      ]
    },
    {
      "cell_type": "markdown",
      "source": [
        "`SGDClassifier`는 일정 에포크동안 성능이 향상되지 않으면 더 훈련하지 않고 자동으로 멈춘다. 이는 `tol` 매개변수에 의해 결정되며, `tol`값 이상의 향상이 이루어지지 않을 경우 에포크 반복을 종료하게 된다. 위에서는 `tol`을 None으로 설정하여 100 에포크가 전부 반복되도록 하였다."
      ],
      "metadata": {
        "id": "FdwVXhl0leVQ"
      }
    },
    {
      "cell_type": "code",
      "source": [
        ""
      ],
      "metadata": {
        "id": "qbglDPhUkuMp"
      },
      "execution_count": 13,
      "outputs": []
    }
  ]
}