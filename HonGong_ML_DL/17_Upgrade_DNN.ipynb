{
  "nbformat": 4,
  "nbformat_minor": 0,
  "metadata": {
    "colab": {
      "name": "17_Upgrade_DNN.ipynb",
      "provenance": [],
      "collapsed_sections": [],
      "authorship_tag": "ABX9TyN6Ptvp5ED9tP+thYguUhdy",
      "include_colab_link": true
    },
    "kernelspec": {
      "name": "python3",
      "display_name": "Python 3"
    },
    "language_info": {
      "name": "python"
    }
  },
  "cells": [
    {
      "cell_type": "markdown",
      "metadata": {
        "id": "view-in-github",
        "colab_type": "text"
      },
      "source": [
        "<a href=\"https://colab.research.google.com/github/KevinTheRainmaker/ML_DL_Basics/blob/master/HonGong_ML_DL/17_Upgrade_DNN.ipynb\" target=\"_parent\"><img src=\"https://colab.research.google.com/assets/colab-badge.svg\" alt=\"Open In Colab\"/></a>"
      ]
    },
    {
      "cell_type": "markdown",
      "source": [
        "# 신경망 모델 훈련\n",
        "\n",
        "### **키워드:** 드롭아웃, 콜백, 조기 종료\n",
        "\n",
        "인공 신경망 모델을 훈련하는 모범 사례와 필요한 도구들에 대해 알아보고, 이를 다뤄봄으로써 텐서플로우와 케라스 API에 익숙해져보자."
      ],
      "metadata": {
        "id": "L7iXkHnA_vFD"
      }
    },
    {
      "cell_type": "code",
      "execution_count": 1,
      "metadata": {
        "id": "6MCT3I8Z_hgQ"
      },
      "outputs": [],
      "source": [
        "# packages\n",
        "import numpy as np\n",
        "\n",
        "import tensorflow as tf\n",
        "from tensorflow import keras\n",
        "\n",
        "from sklearn.model_selection import train_test_split\n",
        "\n",
        "import matplotlib.pyplot as plt"
      ]
    },
    {
      "cell_type": "markdown",
      "source": [
        "## 데이터셋"
      ],
      "metadata": {
        "id": "qbNVsVjQAl7a"
      }
    },
    {
      "cell_type": "code",
      "source": [
        "(X_train, y_train), (X_test, y_test) = keras.datasets.fashion_mnist.load_data()\n",
        "\n",
        "train_scaled = X_train / 255.0\n",
        "train_scaled, val_scaled, y_train, y_val = train_test_split(train_scaled, y_train, test_size=0.2, random_state=42)"
      ],
      "metadata": {
        "colab": {
          "base_uri": "https://localhost:8080/"
        },
        "id": "AXpx-clvAfqv",
        "outputId": "d5714489-e259-4255-8109-c12f3a34bff4"
      },
      "execution_count": 2,
      "outputs": [
        {
          "output_type": "stream",
          "name": "stdout",
          "text": [
            "Downloading data from https://storage.googleapis.com/tensorflow/tf-keras-datasets/train-labels-idx1-ubyte.gz\n",
            "32768/29515 [=================================] - 0s 0us/step\n",
            "40960/29515 [=========================================] - 0s 0us/step\n",
            "Downloading data from https://storage.googleapis.com/tensorflow/tf-keras-datasets/train-images-idx3-ubyte.gz\n",
            "26427392/26421880 [==============================] - 0s 0us/step\n",
            "26435584/26421880 [==============================] - 0s 0us/step\n",
            "Downloading data from https://storage.googleapis.com/tensorflow/tf-keras-datasets/t10k-labels-idx1-ubyte.gz\n",
            "16384/5148 [===============================================================================================] - 0s 0us/step\n",
            "Downloading data from https://storage.googleapis.com/tensorflow/tf-keras-datasets/t10k-images-idx3-ubyte.gz\n",
            "4423680/4422102 [==============================] - 0s 0us/step\n",
            "4431872/4422102 [==============================] - 0s 0us/step\n"
          ]
        }
      ]
    },
    {
      "cell_type": "code",
      "source": [
        "# Define Model\n",
        "def model_fn(a_layer=None):\n",
        "  model = keras.Sequential()\n",
        "  model.add(keras.layers.Flatten(input_shape=(28,28)))\n",
        "  model.add(keras.layers.Dense(100, activation='relu', name='hidden_1'))\n",
        "  if a_layer:\n",
        "    model.add(a_layer)\n",
        "  model.add(keras.layers.Dense(10, activation='softmax', name='output'))\n",
        "\n",
        "  return model"
      ],
      "metadata": {
        "id": "cOT4-1CqCO9-"
      },
      "execution_count": 5,
      "outputs": []
    },
    {
      "cell_type": "markdown",
      "source": [
        "## 손실 곡선"
      ],
      "metadata": {
        "id": "L7--8L9lBizN"
      }
    },
    {
      "cell_type": "markdown",
      "source": [
        "케라스의 `fit()` 메서드는 History 클래스 객체를 반환한다. History 객체에는 훈련 과정에서 계산한 지표인 손실과 정확도 값이 저장되어있어, 이를 이용해 에포크 별 손실값에 대한 그래프를 그릴 수 있다.\n",
        "\n",
        "이렇게 그려지는 그래프를 손실 그래프, 혹은 손실 곡선이라고 한다."
      ],
      "metadata": {
        "id": "GIE7Sn_9BfrN"
      }
    },
    {
      "cell_type": "code",
      "source": [
        "model = model_fn()\n",
        "model.summary()"
      ],
      "metadata": {
        "colab": {
          "base_uri": "https://localhost:8080/"
        },
        "id": "c750Q4ENBbPF",
        "outputId": "dbf91e04-ea4f-4eb3-cbeb-2a2b922e2ad0"
      },
      "execution_count": 10,
      "outputs": [
        {
          "output_type": "stream",
          "name": "stdout",
          "text": [
            "Model: \"sequential_2\"\n",
            "_________________________________________________________________\n",
            " Layer (type)                Output Shape              Param #   \n",
            "=================================================================\n",
            " flatten_2 (Flatten)         (None, 784)               0         \n",
            "                                                                 \n",
            " hidden_1 (Dense)            (None, 100)               78500     \n",
            "                                                                 \n",
            " output (Dense)              (None, 10)                1010      \n",
            "                                                                 \n",
            "=================================================================\n",
            "Total params: 79,510\n",
            "Trainable params: 79,510\n",
            "Non-trainable params: 0\n",
            "_________________________________________________________________\n"
          ]
        }
      ]
    },
    {
      "cell_type": "code",
      "source": [
        "model.compile(loss='sparse_categorical_crossentropy', metrics='accuracy')\n",
        "history = model.fit(train_scaled, y_train, epochs=5, verbose=0) # verbose: 0(조용히) / 1(기본) / 2(진행막대 제외 출력)"
      ],
      "metadata": {
        "id": "HykODcaqCoqL"
      },
      "execution_count": 11,
      "outputs": []
    },
    {
      "cell_type": "markdown",
      "source": [
        "history 객체에는 훈련 측정값이 담겨 있는 history 딕셔너리가 들어있다."
      ],
      "metadata": {
        "id": "V1Kdvc2JDWTR"
      }
    },
    {
      "cell_type": "code",
      "source": [
        "print(history.history.keys())"
      ],
      "metadata": {
        "colab": {
          "base_uri": "https://localhost:8080/"
        },
        "id": "P_NAgHW0DOit",
        "outputId": "bf04a748-031e-46c9-9f2b-7ae72ac7fff9"
      },
      "execution_count": 12,
      "outputs": [
        {
          "output_type": "stream",
          "name": "stdout",
          "text": [
            "dict_keys(['loss', 'accuracy'])\n"
          ]
        }
      ]
    },
    {
      "cell_type": "code",
      "source": [
        "# 손실 곡선\n",
        "plt.plot(history.history['loss'])\n",
        "plt.xlabel('epoch')\n",
        "plt.ylabel('loss')\n",
        "plt.show()"
      ],
      "metadata": {
        "colab": {
          "base_uri": "https://localhost:8080/",
          "height": 279
        },
        "id": "cFGoK2PBDimL",
        "outputId": "e98c08ba-a680-481c-c46a-5fca1f4b126b"
      },
      "execution_count": 15,
      "outputs": [
        {
          "output_type": "display_data",
          "data": {
            "image/png": "[encoded data removed]",
            "text/plain": [
              "<Figure size 432x288 with 1 Axes>"
            ]
          },
          "metadata": {
            "needs_background": "light"
          }
        }
      ]
    },
    {
      "cell_type": "code",
      "source": [
        "# 정확도 곡선\n",
        "plt.plot(history.history['accuracy'])\n",
        "plt.xlabel('epoch')\n",
        "plt.ylabel('accuracy')\n",
        "plt.show()"
      ],
      "metadata": {
        "colab": {
          "base_uri": "https://localhost:8080/",
          "height": 279
        },
        "id": "h201iuc-Dybk",
        "outputId": "71e32b06-b154-4c85-f736-b5c117c23145"
      },
      "execution_count": 16,
      "outputs": [
        {
          "output_type": "display_data",
          "data": {
            "image/png": "[encoded data removed]",
            "text/plain": [
              "<Figure size 432x288 with 1 Axes>"
            ]
          },
          "metadata": {
            "needs_background": "light"
          }
        }
      ]
    },
    {
      "cell_type": "code",
      "source": [
        "# 20 epochs\n",
        "model = model_fn()\n",
        "model.compile(loss='sparse_categorical_crossentropy', metrics='accuracy')\n",
        "history = model.fit(train_scaled, y_train, epochs=20, verbose=0)\n",
        "\n",
        "plt.plot(history.history['loss'])\n",
        "plt.xlabel('epoch')\n",
        "plt.ylabel('loss')\n",
        "plt.show()"
      ],
      "metadata": {
        "colab": {
          "base_uri": "https://localhost:8080/",
          "height": 279
        },
        "id": "7Xrm8X36LWkq",
        "outputId": "0d7c8ae1-cb4d-43e6-dae9-27790b9dd6a7"
      },
      "execution_count": 17,
      "outputs": [
        {
          "output_type": "display_data",
          "data": {
            "image/png": "[encoded data removed]",
            "text/plain": [
              "<Figure size 432x288 with 1 Axes>"
            ]
          },
          "metadata": {
            "needs_background": "light"
          }
        }
      ]
    },
    {
      "cell_type": "markdown",
      "source": [
        "## 검증 손실"
      ],
      "metadata": {
        "id": "EskQrM0pL4vK"
      }
    },
    {
      "cell_type": "code",
      "source": [
        "model = model_fn()\n",
        "model.compile(loss='sparse_categorical_crossentropy', metrics='accuracy')\n",
        "history = model.fit(train_scaled, y_train, epochs=20, verbose=0, validation_data=(val_scaled, y_val))"
      ],
      "metadata": {
        "id": "njsjROEPLjZt"
      },
      "execution_count": 18,
      "outputs": []
    },
    {
      "cell_type": "code",
      "source": [
        "print(history.history.keys())"
      ],
      "metadata": {
        "colab": {
          "base_uri": "https://localhost:8080/"
        },
        "id": "TTfdiIOXMIgD",
        "outputId": "4ffb2d08-28a8-49a8-ba4f-4ca5ccef7679"
      },
      "execution_count": 19,
      "outputs": [
        {
          "output_type": "stream",
          "name": "stdout",
          "text": [
            "dict_keys(['loss', 'accuracy', 'val_loss', 'val_accuracy'])\n"
          ]
        }
      ]
    },
    {
      "cell_type": "code",
      "source": [
        "plt.plot(history.history['loss'])\n",
        "plt.plot(history.history['val_loss'])\n",
        "plt.xlabel('epoch')\n",
        "plt.ylabel('loss')\n",
        "plt.legend(['train','val'])\n",
        "plt.show()"
      ],
      "metadata": {
        "colab": {
          "base_uri": "https://localhost:8080/",
          "height": 279
        },
        "id": "EGrvYo6rMNRT",
        "outputId": "92ce5eb1-5500-44e0-cb70-491dd9ea0d27"
      },
      "execution_count": 20,
      "outputs": [
        {
          "output_type": "display_data",
          "data": {
            "image/png": "[encoded data removed]",
            "text/plain": [
              "<Figure size 432x288 with 1 Axes>"
            ]
          },
          "metadata": {
            "needs_background": "light"
          }
        }
      ]
    },
    {
      "cell_type": "markdown",
      "source": [
        "꾸준히 감소하는 train_loss와 달리 val_loss는 5번째 에포크부터 상승하고있다. 즉, 과대적합이 일어난 것이다."
      ],
      "metadata": {
        "id": "cP7CCRClMlAv"
      }
    },
    {
      "cell_type": "markdown",
      "source": [
        "과대적합을 방지하기 위해서 사용하는 방법은 여러가지가 있다.\n",
        "\n",
        "먼저 옵티마이저를 Adam으로 바꾸는 방법부터 시도해보도록 하자."
      ],
      "metadata": {
        "id": "AW4vnn0uM2EH"
      }
    },
    {
      "cell_type": "code",
      "source": [
        "model = model_fn()\n",
        "model.compile(optimizer='adam', loss='sparse_categorical_crossentropy', metrics='accuracy')\n",
        "history = model.fit(train_scaled, y_train, epochs=20, verbose=0, validation_data=(val_scaled, y_val))\n",
        "\n",
        "plt.plot(history.history['loss'])\n",
        "plt.plot(history.history['val_loss'])\n",
        "plt.xlabel('epoch')\n",
        "plt.ylabel('loss')\n",
        "plt.legend(['train','val'])\n",
        "plt.show()"
      ],
      "metadata": {
        "colab": {
          "base_uri": "https://localhost:8080/",
          "height": 279
        },
        "id": "HD_dS-FZMWhL",
        "outputId": "6dcfdf76-9965-400d-8e1b-45e84d736a3a"
      },
      "execution_count": 21,
      "outputs": [
        {
          "output_type": "display_data",
          "data": {
            "image/png": "[encoded data removed]",
            "text/plain": [
              "<Figure size 432x288 with 1 Axes>"
            ]
          },
          "metadata": {
            "needs_background": "light"
          }
        }
      ]
    },
    {
      "cell_type": "markdown",
      "source": [
        "과대적합이 확실히 줄어들었음을 확인할 수 있다."
      ],
      "metadata": {
        "id": "brtEeC85NcBh"
      }
    },
    {
      "cell_type": "markdown",
      "source": [
        "학습률을 조정하는 방식으로 과대적합을 줄일 수도 있다. 이 방법을 추가로 적용해보자."
      ],
      "metadata": {
        "id": "CP0NIcbkNi4V"
      }
    },
    {
      "cell_type": "code",
      "source": [
        "model = model_fn()\n",
        "adam = keras.optimizers.Adam(learning_rate=0.0001)\n",
        "model.compile(optimizer=adam, loss='sparse_categorical_crossentropy', metrics='accuracy')\n",
        "history = model.fit(train_scaled, y_train, epochs=20, verbose=0, validation_data=(val_scaled, y_val), use_multiprocessing=True)\n",
        "\n",
        "plt.plot(history.history['loss'])\n",
        "plt.plot(history.history['val_loss'])\n",
        "plt.xlabel('epoch')\n",
        "plt.ylabel('loss')\n",
        "plt.legend(['train','val'])\n",
        "plt.show()"
      ],
      "metadata": {
        "colab": {
          "base_uri": "https://localhost:8080/",
          "height": 279
        },
        "id": "RsiV4gv3NE_0",
        "outputId": "da40147c-1e85-4658-ad69-44b8d65ad4dc"
      },
      "execution_count": 27,
      "outputs": [
        {
          "output_type": "display_data",
          "data": {
            "image/png": "[encoded data removed]",
            "text/plain": [
              "<Figure size 432x288 with 1 Axes>"
            ]
          },
          "metadata": {
            "needs_background": "light"
          }
        }
      ]
    },
    {
      "cell_type": "markdown",
      "source": [
        "학습률을 기본값 0.001에서 0.0001로 10배 변경한 결과 과대적합이 상당히 해소되었음을 확인할 수 있다."
      ],
      "metadata": {
        "id": "tnbKdt0MS0O0"
      }
    },
    {
      "cell_type": "markdown",
      "source": [
        "## 드롭아웃"
      ],
      "metadata": {
        "id": "vxn1HyB6Yley"
      }
    },
    {
      "cell_type": "markdown",
      "source": [
        "딥러닝의 아버지 제프리 힌턴(Geoffrey Hinton)이 고안한 방법론인 드롭아웃(Drop-out)은 훈련 과정 층에 있는 일부 뉴런의 출력값을 랜덤하게 0으로 만들어서 과대적합을 막는다.\n",
        "\n",
        "뉴런의 선택은 샘플마다 다르게 이루어지며, 얼마나 많은 뉴런을 선택하여 꺼버릴지는 하이퍼 파라미터 형식으로 조절가능하다.\n",
        "\n",
        "이전 층의 일부 뉴런이 꺼지면 특정 뉴런에 대한 과대한 의존성이 사라지게 되고 이는 과대적합을 막는 동시에 더욱 안정적인 예측을 수행할 수 있게한다."
      ],
      "metadata": {
        "id": "ztSJFPu4Ymie"
      }
    },
    {
      "cell_type": "markdown",
      "source": [
        "케라스에서는 `keras.layers` 아래 `Dropout` 클래스를 제공한다. 앞서 정의한 `model_fn()`에 드롭아웃층을 추가해 30%의 뉴런을 선택하도록 하여 학습을 수행해보자."
      ],
      "metadata": {
        "id": "o16CfFH1aJFC"
      }
    },
    {
      "cell_type": "code",
      "source": [
        "model = model_fn(keras.layers.Dropout(0.3))\n",
        "model.summary()"
      ],
      "metadata": {
        "colab": {
          "base_uri": "https://localhost:8080/"
        },
        "id": "ISNVraMAOviy",
        "outputId": "9462b84d-b919-43f9-e340-1641eaf0f6e2"
      },
      "execution_count": 28,
      "outputs": [
        {
          "output_type": "stream",
          "name": "stdout",
          "text": [
            "Model: \"sequential_12\"\n",
            "_________________________________________________________________\n",
            " Layer (type)                Output Shape              Param #   \n",
            "=================================================================\n",
            " flatten_12 (Flatten)        (None, 784)               0         \n",
            "                                                                 \n",
            " hidden_1 (Dense)            (None, 100)               78500     \n",
            "                                                                 \n",
            " dropout (Dropout)           (None, 100)               0         \n",
            "                                                                 \n",
            " output (Dense)              (None, 10)                1010      \n",
            "                                                                 \n",
            "=================================================================\n",
            "Total params: 79,510\n",
            "Trainable params: 79,510\n",
            "Non-trainable params: 0\n",
            "_________________________________________________________________\n"
          ]
        }
      ]
    },
    {
      "cell_type": "markdown",
      "source": [
        "드롭아웃층은 입력 크기가 이전 레이어와 동일하며, 계산을 수행하는 파라미터의 개수는 0이다. 학습에서는 드롭아웃을 적용하여 과대적합을 방지하지만, 검증과 테스트에서는 드롭아웃을 적용하지 않아야 한다는 점을 기억하자. (물론 케라스는 상당히 똑똑한 API이기 때문에 따로 드롭아웃층을 없애주지 않아도 자동으로 드롭아웃을 적용하지 않고 검증을 수행한다.)"
      ],
      "metadata": {
        "id": "2S-AaSyNaohX"
      }
    },
    {
      "cell_type": "code",
      "source": [
        "model.compile(optimizer='adam', loss='sparse_categorical_crossentropy', metrics='accuracy')\n",
        "history = model.fit(train_scaled, y_train, epochs=20, verbose=0, validation_data=(val_scaled, y_val), use_multiprocessing=True)\n",
        "\n",
        "plt.plot(history.history['loss'])\n",
        "plt.plot(history.history['val_loss'])\n",
        "plt.xlabel('epoch')\n",
        "plt.ylabel('loss')\n",
        "plt.legend(['train','val'])\n",
        "plt.show()"
      ],
      "metadata": {
        "colab": {
          "base_uri": "https://localhost:8080/",
          "height": 279
        },
        "id": "NCLjwBRKajdR",
        "outputId": "80f1d8e6-cfb8-41eb-8be8-b3293fad0397"
      },
      "execution_count": 29,
      "outputs": [
        {
          "output_type": "display_data",
          "data": {
            "image/png": "[encoded data removed]",
            "text/plain": [
              "<Figure size 432x288 with 1 Axes>"
            ]
          },
          "metadata": {
            "needs_background": "light"
          }
        }
      ]
    },
    {
      "cell_type": "markdown",
      "source": [
        "10번째 에포크 정도에서 검증 손실이 더 이상 유의미한 감소를 보이지는 않지만, 딱히 상승하지도 않고 있다.\n",
        "\n",
        "위 모델은 20번의 에포크를 수행했기 때문에 약간 과대적합되었다고 볼 수 있다. 따라서 10번으로 에포크 수를 줄여 과대적합을 해소하자."
      ],
      "metadata": {
        "id": "slrlcLMGbVot"
      }
    },
    {
      "cell_type": "code",
      "source": [
        "model = model_fn(keras.layers.Dropout(0.3))\n",
        "model.compile(optimizer='adam', loss='sparse_categorical_crossentropy', metrics='accuracy')\n",
        "history = model.fit(train_scaled, y_train, epochs=10, verbose=0, validation_data=(val_scaled, y_val), use_multiprocessing=True)\n",
        "\n",
        "plt.plot(history.history['loss'])\n",
        "plt.plot(history.history['val_loss'])\n",
        "plt.xlabel('epoch')\n",
        "plt.ylabel('loss')\n",
        "plt.legend(['train','val'])\n",
        "plt.show()"
      ],
      "metadata": {
        "colab": {
          "base_uri": "https://localhost:8080/",
          "height": 279
        },
        "id": "u4MpPHHLbJ6T",
        "outputId": "341f1f47-e561-4b04-d8d7-acc51c03b4b6"
      },
      "execution_count": 31,
      "outputs": [
        {
          "output_type": "display_data",
          "data": {
            "image/png": "[encoded data removed]",
            "text/plain": [
              "<Figure size 432x288 with 1 Axes>"
            ]
          },
          "metadata": {
            "needs_background": "light"
          }
        }
      ]
    },
    {
      "cell_type": "markdown",
      "source": [
        "## 모델 저장과 복원"
      ],
      "metadata": {
        "id": "lUUAyNoHcpRU"
      }
    },
    {
      "cell_type": "markdown",
      "source": [
        "에포크 횟수를 10으로 하여 모델을 학습하였다. 이것을 나중에 사용하기 위해서는 모델을 저장해야한다."
      ],
      "metadata": {
        "id": "lHRE-fIactUr"
      }
    },
    {
      "cell_type": "markdown",
      "source": [
        "케라스 모델은 훈련한 모델의 파라미터를 저장하는 `save_weights()` 메서드를 제공한다. 이는 기본적으로 텐서플로우 체크포인트 포맷으로 저장하지만, 파일의 확장자가 h5인 경우 HDF5 형식으로 모델 파라미터를 저장한다."
      ],
      "metadata": {
        "id": "r2IAwCzjdeG9"
      }
    },
    {
      "cell_type": "code",
      "source": [
        "model.save_weights('model-weight.h5')"
      ],
      "metadata": {
        "id": "vMSUgCYTbo-3"
      },
      "execution_count": 32,
      "outputs": []
    },
    {
      "cell_type": "markdown",
      "source": [
        "또한 모델 구조와 모델 파라미터를 함께 저장하는 `save()` 메서드도 제공한다. 이는 기본적으로 텐서플로우의 SavedModel 포맷으로 저장하지만, 위와 마찬가지로 확장자가 h5인 경우 HDF5 형식으로 모델을 저장한다."
      ],
      "metadata": {
        "id": "V7V7KPp4d_e-"
      }
    },
    {
      "cell_type": "code",
      "source": [
        "model.save('model-whole.h5')"
      ],
      "metadata": {
        "id": "3-HbEOQ9d9Cf"
      },
      "execution_count": 33,
      "outputs": []
    },
    {
      "cell_type": "markdown",
      "source": [
        "두 가지 방법을 이용해서 모델을 훈련해보자.\n",
        "\n",
        "1. `model-weights.h5`에서 파라미터를 불러와서 새로운 모델을 학습\n",
        "\n",
        "2. `model-whole.h5`에서 훈련된 모델 자체를 불러와서 사용"
      ],
      "metadata": {
        "id": "y2ikwJ45ekvV"
      }
    },
    {
      "cell_type": "code",
      "source": [
        "# 1\n",
        "model = model_fn(keras.layers.Dropout(0.3))\n",
        "model.load_weights('model-weight.h5')"
      ],
      "metadata": {
        "id": "-eH8k-tneY0G"
      },
      "execution_count": 38,
      "outputs": []
    },
    {
      "cell_type": "markdown",
      "source": [
        "훈련하지 않은 새로운 모델을 만들어 기존에 저장했던 모델의 파라미터를 불러와 적재시켰다. 이때 만들어지는 새로운 모델은 기존 모델과 정확히 같은 구조를 가져야한다."
      ],
      "metadata": {
        "id": "pGgbWTjBf0RJ"
      }
    },
    {
      "cell_type": "code",
      "source": [
        "val_labels = np.argmax(model.predict(val_scaled), axis=-1)\n",
        "print(np.mean(val_labels == y_val))"
      ],
      "metadata": {
        "colab": {
          "base_uri": "https://localhost:8080/"
        },
        "id": "eNy09cLkfeWz",
        "outputId": "80ed4c02-9a92-468e-b2fe-6cc0241dc54b"
      },
      "execution_count": 39,
      "outputs": [
        {
          "output_type": "stream",
          "name": "stdout",
          "text": [
            "0.8820833333333333\n"
          ]
        }
      ]
    },
    {
      "cell_type": "markdown",
      "source": [
        "\\*  axis: -1(배열의 마지막 차원을 따라 최댓값 선택) / 1(열을 따라 각 행의 최댓값 인덱스 선택) / 0(행을 따라 각 열의 최댓값 인덱스 선택)"
      ],
      "metadata": {
        "id": "EFzLmnFqg4gA"
      }
    },
    {
      "cell_type": "code",
      "source": [
        "# 2\n",
        "model = keras.models.load_model('model-whole.h5')\n",
        "model.evaluate(val_scaled, y_val)"
      ],
      "metadata": {
        "colab": {
          "base_uri": "https://localhost:8080/"
        },
        "id": "vO7OzhPFgTnb",
        "outputId": "c22a3ade-e1fc-4bcc-e301-97c0752cc28c"
      },
      "execution_count": 40,
      "outputs": [
        {
          "output_type": "stream",
          "name": "stdout",
          "text": [
            "375/375 [==============================] - 1s 2ms/step - loss: 0.3255 - accuracy: 0.8821\n"
          ]
        },
        {
          "output_type": "execute_result",
          "data": {
            "text/plain": [
              "[0.3255208432674408, 0.8820833563804626]"
            ]
          },
          "metadata": {},
          "execution_count": 40
        }
      ]
    },
    {
      "cell_type": "markdown",
      "source": [
        "`load_model()` 함수는 모델 파라미터뿐만 아니라 모델 구조와 옵티마이저 상태까지 모두 복원하기 때문에 `evaluate()` 메서드를 사용할 수 있다.\n",
        "\n",
        "\\* 텐서플로우 2.3에서는 `load_model()` 함수의 버그 때문에 `evaluate()` 사용 전 `compile()`을 수행해줘야 한다."
      ],
      "metadata": {
        "id": "6fUi0F7FhMMZ"
      }
    },
    {
      "cell_type": "markdown",
      "source": [
        "## 콜백"
      ],
      "metadata": {
        "id": "NwA5WQ6thpf5"
      }
    },
    {
      "cell_type": "markdown",
      "source": [
        "앞서 우리는 모델을 20 에포크로 훈련 후 10 에포크에서 검증 손실이 줄어들지 않음을 확인했고, 이에 따라 에포크 수를 10으로 줄여 다시 훈련을 진행했다.\n",
        "\n",
        "하지만 콜백(CallBack) 함수를 사용하면 두 번씩 모델을 훈련하지 않고도 과대적합되지 않는 최적의 에포크 수를 찾아 훈련할 수 있다."
      ],
      "metadata": {
        "id": "UQYsjjC8hqkK"
      }
    },
    {
      "cell_type": "markdown",
      "source": [
        "콜백은 훈련 과정 중간에 어떤 작업을 수행할 수 있게 하는 객체로 `keras.callbacks` 패키지 아래에 있는 클래스들이다. `fit()` 메서드의 callbacks 매개변수에 리스트로 전달하여 사용한다.\n",
        "\n",
        "ModelCheckpint 콜백은 기본적으로 최상의 검증 점수를 만드는 모델을 저장한다."
      ],
      "metadata": {
        "id": "zrWmw0hBisNp"
      }
    },
    {
      "cell_type": "code",
      "source": [
        "model = model_fn(keras.layers.Dropout(0.3))\n",
        "model.compile(optimizer='adam', loss='sparse_categorical_crossentropy', metrics='accuracy')\n",
        "checkpoint_cb = keras.callbacks.ModelCheckpoint('best-model.h5')\n",
        "\n",
        "model.fit(train_scaled, y_train, epochs=20, validation_data=(val_scaled, y_val), callbacks=[checkpoint_cb])"
      ],
      "metadata": {
        "colab": {
          "base_uri": "https://localhost:8080/"
        },
        "id": "S9nR0TlAhIr8",
        "outputId": "fb84ba8a-197a-4dda-92c8-32c34c9aff5d"
      },
      "execution_count": 41,
      "outputs": [
        {
          "output_type": "stream",
          "name": "stdout",
          "text": [
            "Epoch 1/20\n",
            "1500/1500 [==============================] - 5s 3ms/step - loss: 0.5954 - accuracy: 0.7907 - val_loss: 0.4201 - val_accuracy: 0.8461\n",
            "Epoch 2/20\n",
            "1500/1500 [==============================] - 4s 3ms/step - loss: 0.4403 - accuracy: 0.8407 - val_loss: 0.3943 - val_accuracy: 0.8518\n",
            "Epoch 3/20\n",
            "1500/1500 [==============================] - 4s 3ms/step - loss: 0.4040 - accuracy: 0.8524 - val_loss: 0.3636 - val_accuracy: 0.8642\n",
            "Epoch 4/20\n",
            "1500/1500 [==============================] - 4s 3ms/step - loss: 0.3804 - accuracy: 0.8605 - val_loss: 0.3538 - val_accuracy: 0.8689\n",
            "Epoch 5/20\n",
            "1500/1500 [==============================] - 4s 3ms/step - loss: 0.3678 - accuracy: 0.8641 - val_loss: 0.3429 - val_accuracy: 0.8723\n",
            "Epoch 6/20\n",
            "1500/1500 [==============================] - 4s 3ms/step - loss: 0.3530 - accuracy: 0.8697 - val_loss: 0.3501 - val_accuracy: 0.8723\n",
            "Epoch 7/20\n",
            "1500/1500 [==============================] - 4s 3ms/step - loss: 0.3446 - accuracy: 0.8732 - val_loss: 0.3389 - val_accuracy: 0.8752\n",
            "Epoch 8/20\n",
            "1500/1500 [==============================] - 4s 3ms/step - loss: 0.3374 - accuracy: 0.8743 - val_loss: 0.3277 - val_accuracy: 0.8825\n",
            "Epoch 9/20\n",
            "1500/1500 [==============================] - 4s 2ms/step - loss: 0.3292 - accuracy: 0.8783 - val_loss: 0.3387 - val_accuracy: 0.8820\n",
            "Epoch 10/20\n",
            "1500/1500 [==============================] - 4s 3ms/step - loss: 0.3214 - accuracy: 0.8801 - val_loss: 0.3351 - val_accuracy: 0.8814\n",
            "Epoch 11/20\n",
            "1500/1500 [==============================] - 4s 3ms/step - loss: 0.3169 - accuracy: 0.8809 - val_loss: 0.3327 - val_accuracy: 0.8783\n",
            "Epoch 12/20\n",
            "1500/1500 [==============================] - 4s 2ms/step - loss: 0.3105 - accuracy: 0.8840 - val_loss: 0.3235 - val_accuracy: 0.8828\n",
            "Epoch 13/20\n",
            "1500/1500 [==============================] - 4s 3ms/step - loss: 0.3042 - accuracy: 0.8859 - val_loss: 0.3288 - val_accuracy: 0.8830\n",
            "Epoch 14/20\n",
            "1500/1500 [==============================] - 4s 3ms/step - loss: 0.3008 - accuracy: 0.8857 - val_loss: 0.3218 - val_accuracy: 0.8824\n",
            "Epoch 15/20\n",
            "1500/1500 [==============================] - 4s 3ms/step - loss: 0.2951 - accuracy: 0.8897 - val_loss: 0.3296 - val_accuracy: 0.8787\n",
            "Epoch 16/20\n",
            "1500/1500 [==============================] - 4s 3ms/step - loss: 0.2938 - accuracy: 0.8911 - val_loss: 0.3279 - val_accuracy: 0.8846\n",
            "Epoch 17/20\n",
            "1500/1500 [==============================] - 4s 2ms/step - loss: 0.2865 - accuracy: 0.8928 - val_loss: 0.3176 - val_accuracy: 0.8866\n",
            "Epoch 18/20\n",
            "1500/1500 [==============================] - 4s 3ms/step - loss: 0.2825 - accuracy: 0.8931 - val_loss: 0.3174 - val_accuracy: 0.8880\n",
            "Epoch 19/20\n",
            "1500/1500 [==============================] - 5s 3ms/step - loss: 0.2813 - accuracy: 0.8926 - val_loss: 0.3420 - val_accuracy: 0.8813\n",
            "Epoch 20/20\n",
            "1500/1500 [==============================] - 4s 3ms/step - loss: 0.2780 - accuracy: 0.8951 - val_loss: 0.3103 - val_accuracy: 0.8883\n"
          ]
        },
        {
          "output_type": "execute_result",
          "data": {
            "text/plain": [
              "<keras.callbacks.History at 0x7fef9e394890>"
            ]
          },
          "metadata": {},
          "execution_count": 41
        }
      ]
    },
    {
      "cell_type": "markdown",
      "source": [
        "`model_fn()` 함수로 모델을 만들고 `compile()` 메서드를 호출하는 것은 동일하나, ModelCheckpoint 클래스의 객체 `checkpoint_cb`를 만든 후 `fit()` 메서드의 callbacks 매개변수에 리스트로 전달한다.\n",
        "\n",
        "모델은 훈련을 통해 최상의 검증 점수를 가진 모델을 찾게 되고, 그 모델은 best-model.h5에 저장된다."
      ],
      "metadata": {
        "id": "_wsROIzGkAMC"
      }
    },
    {
      "cell_type": "code",
      "source": [
        "model = keras.models.load_model('best-model.h5')\n",
        "model.evaluate(val_scaled, y_val)"
      ],
      "metadata": {
        "colab": {
          "base_uri": "https://localhost:8080/"
        },
        "id": "GKpLKeB2jkp2",
        "outputId": "d24d94cc-ea2d-4bd1-cde4-51f688b51f96"
      },
      "execution_count": 42,
      "outputs": [
        {
          "output_type": "stream",
          "name": "stdout",
          "text": [
            "375/375 [==============================] - 1s 1ms/step - loss: 0.3103 - accuracy: 0.8883\n"
          ]
        },
        {
          "output_type": "execute_result",
          "data": {
            "text/plain": [
              "[0.3103382885456085, 0.8883333206176758]"
            ]
          },
          "metadata": {},
          "execution_count": 42
        }
      ]
    },
    {
      "cell_type": "markdown",
      "source": [
        "기존에 두 번에 걸쳐 진행한 학습이 한 번으로 줄어들어 상당히 편리해졌다. 다만 무의미하게도, 여전히 20번의 에포크를 수행하고 있다. 이때 검증 점수가 더 올라가지 않으면 학습을 중지하면 컴퓨터 리소스와 시간을 아낄 수 있다. 이를 조기 종료(Early-stopping)이라고 하며, 딥러닝 분야에서 널리 사용되는 기법이다. 조기 종료는 훈련 에포크 수를 제한하는 역할이지만 모델이 과대적합을 막아 주는 규제 방법의 일종으로 생각할 수도 있다."
      ],
      "metadata": {
        "id": "mMd7NqVKk5xa"
      }
    },
    {
      "cell_type": "markdown",
      "source": [
        "케라스에는 조기 종료를 위한 EarlyStopping 콜백을 제공한다. 이 콜백의 patience 매개변수로 검증 점수가 향상되지 않더라도 참을(patience) 에포크 수를 지정할 수 있다. \n",
        "\n",
        "또한 restore_best_weights 매개변수를 True로 지정하면 가장 낮은 검증 손실을 낸 모델 파라미터로 되돌린다.\n"
      ],
      "metadata": {
        "id": "jiZW-dJWlc7p"
      }
    },
    {
      "cell_type": "code",
      "source": [
        "model = model_fn(keras.layers.Dropout(0.3))\n",
        "model.compile(optimizer='adam', loss='sparse_categorical_crossentropy', metrics='accuracy')\n",
        "checkpoint_cb = keras.callbacks.ModelCheckpoint('best-model.h5')\n",
        "\n",
        "early_stopping_cb = keras.callbacks.EarlyStopping(patience=2, restore_best_weights=True)\n",
        "\n",
        "history = model.fit(train_scaled, y_train, epochs=20, validation_data=(val_scaled, y_val), callbacks=[checkpoint_cb, early_stopping_cb])"
      ],
      "metadata": {
        "colab": {
          "base_uri": "https://localhost:8080/"
        },
        "id": "vIhpTcenk1hn",
        "outputId": "b1c7ca0c-3ff2-412d-ddb7-8d3b273b2b02"
      },
      "execution_count": 45,
      "outputs": [
        {
          "output_type": "stream",
          "name": "stdout",
          "text": [
            "Epoch 1/20\n",
            "1500/1500 [==============================] - 5s 3ms/step - loss: 0.5921 - accuracy: 0.7939 - val_loss: 0.4342 - val_accuracy: 0.8422\n",
            "Epoch 2/20\n",
            "1500/1500 [==============================] - 4s 2ms/step - loss: 0.4383 - accuracy: 0.8419 - val_loss: 0.3865 - val_accuracy: 0.8609\n",
            "Epoch 3/20\n",
            "1500/1500 [==============================] - 4s 2ms/step - loss: 0.4019 - accuracy: 0.8546 - val_loss: 0.3835 - val_accuracy: 0.8600\n",
            "Epoch 4/20\n",
            "1500/1500 [==============================] - 5s 3ms/step - loss: 0.3798 - accuracy: 0.8608 - val_loss: 0.3631 - val_accuracy: 0.8679\n",
            "Epoch 5/20\n",
            "1500/1500 [==============================] - 4s 3ms/step - loss: 0.3649 - accuracy: 0.8650 - val_loss: 0.3573 - val_accuracy: 0.8695\n",
            "Epoch 6/20\n",
            "1500/1500 [==============================] - 4s 3ms/step - loss: 0.3501 - accuracy: 0.8711 - val_loss: 0.3381 - val_accuracy: 0.8740\n",
            "Epoch 7/20\n",
            "1500/1500 [==============================] - 4s 2ms/step - loss: 0.3404 - accuracy: 0.8734 - val_loss: 0.3266 - val_accuracy: 0.8796\n",
            "Epoch 8/20\n",
            "1500/1500 [==============================] - 4s 3ms/step - loss: 0.3343 - accuracy: 0.8759 - val_loss: 0.3355 - val_accuracy: 0.8780\n",
            "Epoch 9/20\n",
            "1500/1500 [==============================] - 4s 2ms/step - loss: 0.3256 - accuracy: 0.8799 - val_loss: 0.3356 - val_accuracy: 0.8752\n"
          ]
        }
      ]
    },
    {
      "cell_type": "markdown",
      "source": [
        "12번째 에포크에서 학습을 멈추었다."
      ],
      "metadata": {
        "id": "oGVZsB9inEqG"
      }
    },
    {
      "cell_type": "markdown",
      "source": [
        "이는 `early_stopping_cb` 객체의 `stopped_epoch` 속성에서 확인할 수 있다."
      ],
      "metadata": {
        "id": "lTTZ--LTnIa_"
      }
    },
    {
      "cell_type": "code",
      "source": [
        "print(early_stopping_cb.stopped_epoch)"
      ],
      "metadata": {
        "colab": {
          "base_uri": "https://localhost:8080/"
        },
        "id": "lHbI42Iym3iR",
        "outputId": "cf1cee47-9ec3-48a3-d89f-d28b597b9e12"
      },
      "execution_count": 44,
      "outputs": [
        {
          "output_type": "stream",
          "name": "stdout",
          "text": [
            "11\n"
          ]
        }
      ]
    },
    {
      "cell_type": "markdown",
      "source": [
        "11은 12번째 에포크에서 훈련이 중지되었다는 것을 의미한다. patience를 2로 지정했으므로 최상의 모델은 10번째 에포크일 것이다."
      ],
      "metadata": {
        "id": "CU6mpomtn4r_"
      }
    },
    {
      "cell_type": "code",
      "source": [
        "plt.plot(history.history['loss'])\n",
        "plt.plot(history.history['val_loss'])\n",
        "plt.xlabel('epoch')\n",
        "plt.ylabel('loss')\n",
        "plt.legend(['train','val'])\n",
        "plt.show()"
      ],
      "metadata": {
        "colab": {
          "base_uri": "https://localhost:8080/",
          "height": 279
        },
        "id": "eWoE_FSinejT",
        "outputId": "31591d90-a192-4800-804f-ece7bb512d4c"
      },
      "execution_count": 46,
      "outputs": [
        {
          "output_type": "display_data",
          "data": {
            "image/png": "[encoded data removed]",
            "text/plain": [
              "<Figure size 432x288 with 1 Axes>"
            ]
          },
          "metadata": {
            "needs_background": "light"
          }
        }
      ]
    },
    {
      "cell_type": "code",
      "source": [
        "model.evaluate(val_scaled, y_val)"
      ],
      "metadata": {
        "colab": {
          "base_uri": "https://localhost:8080/"
        },
        "id": "954PhQeiorVh",
        "outputId": "e90e9159-e30e-44e8-fbf3-3dd8782d7751"
      },
      "execution_count": 47,
      "outputs": [
        {
          "output_type": "stream",
          "name": "stdout",
          "text": [
            "375/375 [==============================] - 1s 1ms/step - loss: 0.3266 - accuracy: 0.8796\n"
          ]
        },
        {
          "output_type": "execute_result",
          "data": {
            "text/plain": [
              "[0.3266178071498871, 0.8795833587646484]"
            ]
          },
          "metadata": {},
          "execution_count": 47
        }
      ]
    },
    {
      "cell_type": "code",
      "source": [
        ""
      ],
      "metadata": {
        "id": "yYfB9RzkoyHu"
      },
      "execution_count": null,
      "outputs": []
    }
  ]
}