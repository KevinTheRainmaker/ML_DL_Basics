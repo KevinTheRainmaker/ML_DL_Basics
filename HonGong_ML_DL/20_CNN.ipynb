{
  "nbformat": 4,
  "nbformat_minor": 0,
  "metadata": {
    "colab": {
      "name": "20_CNN.ipynb",
      "provenance": [],
      "collapsed_sections": [],
      "authorship_tag": "ABX9TyMXBjswDLPh3B6D7j5gVEQY",
      "include_colab_link": true
    },
    "kernelspec": {
      "name": "python3",
      "display_name": "Python 3"
    },
    "language_info": {
      "name": "python"
    }
  },
  "cells": [
    {
      "cell_type": "markdown",
      "metadata": {
        "id": "view-in-github",
        "colab_type": "text"
      },
      "source": [
        "<a href=\"https://colab.research.google.com/github/KevinTheRainmaker/ML_DL_Basics/blob/master/HonGong_ML_DL/20_CNN.ipynb\" target=\"_parent\"><img src=\"https://colab.research.google.com/assets/colab-badge.svg\" alt=\"Open In Colab\"/></a>"
      ]
    },
    {
      "cell_type": "markdown",
      "source": [
        "# 합성곱 신경망의 구성 요소\n",
        "\n",
        "### **키워드:** 합성곱, 필터, 특성 맵, 패딩, 스트라이드, 풀링\n",
        "\n",
        "합성곱 신경망을 구성하는 기본 개념과 동작 원리를 알아보고, 간단한 합성곱, 풀링 계산 방법을 익혀보자."
      ],
      "metadata": {
        "id": "dYny9WQXqdIn"
      }
    },
    {
      "cell_type": "code",
      "execution_count": 6,
      "metadata": {
        "id": "NoJjRZ4WeCYd"
      },
      "outputs": [],
      "source": [
        "# packages\n",
        "from tensorflow import keras"
      ]
    },
    {
      "cell_type": "markdown",
      "source": [
        "## 합성곱"
      ],
      "metadata": {
        "id": "PjUUmJLBrEfJ"
      }
    },
    {
      "cell_type": "markdown",
      "source": [
        "합성곱(convolution)은 입력 데이터에서 유용한 특성만 드러나게 하는 것으로 설명할 수 있다.\n",
        "\n",
        "기본적인 밀집층에는 뉴런마다 입력 개수만큼의 가중치가 있어 모든 입력에 가중치가 곱해지고, 뉴런 개수만큼의 출력을 만든다.\n",
        "\n",
        "반면 합성곱은 일부 입력만큼의 가중치를 가진다. 즉, 입력 전체 특성에 가중치가 곱해져 출력을 생성하는 것이 아니라, 일부 특성에만 가중치가 곱해져 하나의 출력을 만들게 되는 것이다. 일부 특성에 곱해진 가중치는 앞쪽부터 조금씩 내려오면서 다음 일부 특성에 곱해져 출력을 만들며, 이때 곱해지는 가중치는 이전과 동일하다. 이렇게 합성곱은 한 칸씩 아래로 이동하면서 출력을 만들게 되며, 최종 출력의 개수는 (뉴런 개수) - (가중치 개수 n개) + 1개가 된다. (1차원 기준)"
      ],
      "metadata": {
        "id": "35ZRcq_3rH-1"
      }
    },
    {
      "cell_type": "markdown",
      "source": [
        "## 필터"
      ],
      "metadata": {
        "id": "qMn2dEAZuCeB"
      }
    },
    {
      "cell_type": "markdown",
      "source": [
        "합성곱 층의 뉴런에 있는 가중치의 개수는 하이퍼파라미터로, 사용자가 정할 수 있다.\n",
        "\n",
        "합성곱 신경망(Convolutional Neural Network, CNN)에서는 이러한 n개 크기의 뉴런을 필터(filter) 혹은 커널(kernel)이라고 한다.\n",
        "\n",
        "둘은 종종 같은 의미로 사용되지만, 케라스 API를 기준으로 설명할 때는 입력에 곱하는 가중치를 커널, 뉴런 개수를 필터라고 부르곤 한다.\n",
        "\n",
        "필터를 통해 계산된 합성곱의 출력은 특성 맵(feature map)이라고 부른다. 여기서의 특성 맵은 활성화 함수를 적용한 후의 출력이다."
      ],
      "metadata": {
        "id": "GZ3Gr8XUuQrI"
      }
    },
    {
      "cell_type": "markdown",
      "source": [
        "## 케라스 합성곱 층"
      ],
      "metadata": {
        "id": "0rfvfXmswZJx"
      }
    },
    {
      "cell_type": "markdown",
      "source": [
        "케라스 층은 모두 `keras.layers` 패키지 아래 클래스로 구현되어 있다."
      ],
      "metadata": {
        "id": "psSbrWdVwbJW"
      }
    },
    {
      "cell_type": "code",
      "source": [
        "keras.layers.Conv2D(10, kernel_size=(3,3), activation='relu')"
      ],
      "metadata": {
        "colab": {
          "base_uri": "https://localhost:8080/"
        },
        "id": "INrDF5kyrD-i",
        "outputId": "de078b38-b17f-45e9-cd03-3462038cb053"
      },
      "execution_count": 7,
      "outputs": [
        {
          "output_type": "execute_result",
          "data": {
            "text/plain": [
              "<keras.layers.convolutional.Conv2D at 0x7f97d7af0a90>"
            ]
          },
          "metadata": {},
          "execution_count": 7
        }
      ]
    },
    {
      "cell_type": "markdown",
      "source": [
        "### 패딩"
      ],
      "metadata": {
        "id": "getPpSnYxZHv"
      }
    },
    {
      "cell_type": "markdown",
      "source": [
        "합성곱 계산을 통해 특성 맵이 만들어지면 입력보다 작은 크기를 가지게 된다. 만약 커널 크기는 그대로 두고 출력의 크기(특성 맵의 크기)를 입력과 동일하게 만들고자 할 경우 입력에 여분 크기를 부여해야 한다. 이러한 여분을 패딩이라고 하며 이는 출력값에는 영향을 미치지 않는 비어있는 값(0)이다.\n",
        "\n",
        "이렇게 입력과 특성 맵의 크기를 동일하게 만들기 위해 입력 주변을 0으로 패딩하는 것을 세임 패딩(same padding)이라고 하고, 패딩 없이 순수하게 합성곱을 하여 특성 맵을 만드느 것을 밸리드 패딩(valid padding)이라고 한다. 합성곱에서는 세임 패딩 방식을 주로 사용하는데, 그 이유는 입력의 가장자리 정보가 가운데 정보에 비해 비중이 작아지는 것을 방지하기 위해서이다."
      ],
      "metadata": {
        "id": "ZjNkF0KjxbkR"
      }
    },
    {
      "cell_type": "markdown",
      "source": [
        "패딩 방식은 Conv2D 클래스에서 지정할 수 있으며, 이는 padding 매개변수에 의해 이뤄진다.\n",
        "\n",
        "(세임 패딩: same / 밸리드 패딩(default): valid)"
      ],
      "metadata": {
        "id": "kB-MMjCNP-ds"
      }
    },
    {
      "cell_type": "code",
      "source": [
        "keras.layers.Conv2D(10, kernel_size=(3,3), activation='relu', padding='same')"
      ],
      "metadata": {
        "colab": {
          "base_uri": "https://localhost:8080/"
        },
        "id": "b-wzO3chxFrR",
        "outputId": "61e02e8c-63ab-46dd-9a50-993ba8d34235"
      },
      "execution_count": 8,
      "outputs": [
        {
          "output_type": "execute_result",
          "data": {
            "text/plain": [
              "<keras.layers.convolutional.Conv2D at 0x7f9851e46610>"
            ]
          },
          "metadata": {},
          "execution_count": 8
        }
      ]
    },
    {
      "cell_type": "markdown",
      "source": [
        "### 스트라이드"
      ],
      "metadata": {
        "id": "YLjF_R8_QWdH"
      }
    },
    {
      "cell_type": "markdown",
      "source": [
        "필터는 기본적으로 한 칸씩 이동하는데, 이때 이동의 크기를 지정할 수 있다. 이러한 크기를 스트라이드(stride)라고 하며, Conv2D 클래스의 strides 매개변수로 조절할 수 있다."
      ],
      "metadata": {
        "id": "gXq5ybeEQYDr"
      }
    },
    {
      "cell_type": "code",
      "source": [
        "keras.layers.Conv2D(10, kernel_size=(3,3), activation='relu', padding='same', strides=1) # default: 1"
      ],
      "metadata": {
        "colab": {
          "base_uri": "https://localhost:8080/"
        },
        "id": "uVepXn5SQS3n",
        "outputId": "d3ef30ec-9b1f-48ac-fb85-bee89b47fc42"
      },
      "execution_count": 9,
      "outputs": [
        {
          "output_type": "execute_result",
          "data": {
            "text/plain": [
              "<keras.layers.convolutional.Conv2D at 0x7f97d7ae8c90>"
            ]
          },
          "metadata": {},
          "execution_count": 9
        }
      ]
    },
    {
      "cell_type": "markdown",
      "source": [
        "보통 1보다 큰 스트라이드를 사용하는 경우는 드물다."
      ],
      "metadata": {
        "id": "GYVdw6AxQwXb"
      }
    },
    {
      "cell_type": "markdown",
      "source": [
        "### 풀링"
      ],
      "metadata": {
        "id": "dmr9AoLxXfy-"
      }
    },
    {
      "cell_type": "markdown",
      "source": [
        "풀링(pooling)은 합성곱 층에서 만든 특성 맵의 가로세로 크기를 줄이는 역할을 수행한다. 이는 특성 맵의 개수는 유지하되 너비와 높이만 줄이는 방법이다.\n",
        "\n",
        "풀링에는 가중치가 없어 풀링이 적용되는 영역에서 가장 큰 값을 선택하거나 평균값을 계산하는 방식으로 진행된다. 최대 값을 고르는 방식을 최대 풀링(max pooling), 평균값을 계산하여 고르는 방법을 평균 풀링(average pooling)이라고 한다. 평균 풀링은 특성 맵에 있는 중요 정보를 희석시킬 수 있기 때문에 최대 풀링을 주로 사용한다.\n",
        "\n",
        "이렇게 출력되는 값도 특성 맵이라고 부른다."
      ],
      "metadata": {
        "id": "ClRKAAOTXhkA"
      }
    },
    {
      "cell_type": "markdown",
      "source": [
        "합성곱과 달리 풀링은 겹치지 않고 이동한다. 스트라이드 개념을 빌려 이야기하자면, 풀링 크기의 스트라이드를 가진다고도 할 수 있다."
      ],
      "metadata": {
        "id": "SBbhTm7sZAG2"
      }
    },
    {
      "cell_type": "markdown",
      "source": [
        "케라스에서는 MaxPooling2D 클래스로 풀링을 수행할 수 있다."
      ],
      "metadata": {
        "id": "EAAzX1BrZOk6"
      }
    },
    {
      "cell_type": "code",
      "source": [
        "keras.layers.MaxPooling2D(2) # 풀링의 크기 - 대부분 2를 사용"
      ],
      "metadata": {
        "colab": {
          "base_uri": "https://localhost:8080/"
        },
        "id": "DysCf26QQt6z",
        "outputId": "89256114-093f-4c68-c21d-1ffeb3b6236f"
      },
      "execution_count": 11,
      "outputs": [
        {
          "output_type": "execute_result",
          "data": {
            "text/plain": [
              "<keras.layers.pooling.MaxPooling2D at 0x7f97d7ae8390>"
            ]
          },
          "metadata": {},
          "execution_count": 11
        }
      ]
    },
    {
      "cell_type": "markdown",
      "source": [
        "풀링의 가로세로 길이를 다르게 하려면 튜플 형식으로도 지정할 수 있으나 일반적이지는 않다."
      ],
      "metadata": {
        "id": "4yFVibcFZkZA"
      }
    },
    {
      "cell_type": "markdown",
      "source": [
        "풀링에도 strides와 padding 매개변수가 있지만, 기본값에서 잘 바꾸지 않는다."
      ],
      "metadata": {
        "id": "p242FH7aZuEA"
      }
    },
    {
      "cell_type": "code",
      "source": [
        "keras.layers.MaxPooling2D(2, strides=2, padding='valid')"
      ],
      "metadata": {
        "colab": {
          "base_uri": "https://localhost:8080/"
        },
        "id": "W1S68XwFZc4S",
        "outputId": "a7ff679d-5e35-4c1f-de44-a73bbfce47ad"
      },
      "execution_count": 12,
      "outputs": [
        {
          "output_type": "execute_result",
          "data": {
            "text/plain": [
              "<keras.layers.pooling.MaxPooling2D at 0x7f97d8615bd0>"
            ]
          },
          "metadata": {},
          "execution_count": 12
        }
      ]
    },
    {
      "cell_type": "markdown",
      "source": [
        "평균 풀링은 AveragePooling2D로 수행할 수 있다. 기본 사용법은 MaxPooling2D와 같다."
      ],
      "metadata": {
        "id": "ykWnXyp2aOxy"
      }
    },
    {
      "cell_type": "code",
      "source": [
        "keras.layers.AveragePooling2D(2, strides=2, padding='valid')"
      ],
      "metadata": {
        "colab": {
          "base_uri": "https://localhost:8080/"
        },
        "id": "Qr2OhvxAZ4sK",
        "outputId": "0dbb0acf-a918-4155-d4b7-c769d8fbcf28"
      },
      "execution_count": 13,
      "outputs": [
        {
          "output_type": "execute_result",
          "data": {
            "text/plain": [
              "<keras.layers.pooling.AveragePooling2D at 0x7f97d7b86410>"
            ]
          },
          "metadata": {},
          "execution_count": 13
        }
      ]
    },
    {
      "cell_type": "code",
      "source": [
        ""
      ],
      "metadata": {
        "id": "8pHQbEjsadqD"
      },
      "execution_count": null,
      "outputs": []
    }
  ]
}