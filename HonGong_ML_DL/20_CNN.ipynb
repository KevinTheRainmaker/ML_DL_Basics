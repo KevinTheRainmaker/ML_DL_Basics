{
  "nbformat": 4,
  "nbformat_minor": 0,
  "metadata": {
    "colab": {
      "name": "20_CNN.ipynb",
      "provenance": [],
      "collapsed_sections": [],
      "authorship_tag": "ABX9TyMGmR9ore8YbRO5MJEty6+A",
      "include_colab_link": true
    },
    "kernelspec": {
      "name": "python3",
      "display_name": "Python 3"
    },
    "language_info": {
      "name": "python"
    }
  },
  "cells": [
    {
      "cell_type": "markdown",
      "metadata": {
        "id": "view-in-github",
        "colab_type": "text"
      },
      "source": [
        "<a href=\"https://colab.research.google.com/github/KevinTheRainmaker/ML_DL_Basics/blob/master/HonGong_ML_DL/20_CNN.ipynb\" target=\"_parent\"><img src=\"https://colab.research.google.com/assets/colab-badge.svg\" alt=\"Open In Colab\"/></a>"
      ]
    },
    {
      "cell_type": "markdown",
      "source": [
        "# 합성곱 신경망의 구성 요소\n",
        "\n",
        "### **키워드:** 합성곱, 필터, 특성 맵, 패딩, 스트라이드, 풀링\n",
        "\n",
        "합성곱 신경망을 구성하는 기본 개념과 동작 원리를 알아보고, 간단한 합성곱, 풀링 계산 방법을 익혀보자."
      ],
      "metadata": {
        "id": "dYny9WQXqdIn"
      }
    },
    {
      "cell_type": "code",
      "execution_count": 1,
      "metadata": {
        "id": "NoJjRZ4WeCYd"
      },
      "outputs": [],
      "source": [
        "# packages\n",
        "from tensorflow import keras"
      ]
    },
    {
      "cell_type": "markdown",
      "source": [
        "## 합성곱"
      ],
      "metadata": {
        "id": "PjUUmJLBrEfJ"
      }
    },
    {
      "cell_type": "markdown",
      "source": [
        "합성곱(convolution)은 입력 데이터에서 유용한 특성만 드러나게 하는 것으로 설명할 수 있다.\n",
        "\n",
        "기본적인 밀집층에는 뉴런마다 입력 개수만큼의 가중치가 있어 모든 입력에 가중치가 곱해지고, 뉴런 개수만큼의 출력을 만든다.\n",
        "\n",
        "반면 합성곱은 일부 입력만큼의 가중치를 가진다. 즉, 입력 전체 특성에 가중치가 곱해져 출력을 생성하는 것이 아니라, 일부 특성에만 가중치가 곱해져 하나의 출력을 만들게 되는 것이다. 일부 특성에 곱해진 가중치는 앞쪽부터 조금씩 내려오면서 다음 일부 특성에 곱해져 출력을 만들며, 이때 곱해지는 가중치는 이전과 동일하다. 이렇게 합성곱은 한 칸씩 아래로 이동하면서 출력을 만들게 되며, 최종 출력의 개수는 (뉴런 개수) - (가중치 개수 n개) + 1개가 된다. (1차원 기준)"
      ],
      "metadata": {
        "id": "35ZRcq_3rH-1"
      }
    },
    {
      "cell_type": "markdown",
      "source": [
        "## 필터"
      ],
      "metadata": {
        "id": "qMn2dEAZuCeB"
      }
    },
    {
      "cell_type": "markdown",
      "source": [
        "합성곱 층의 뉴런에 있는 가중치의 개수는 하이퍼파라미터로, 사용자가 정할 수 있다.\n",
        "\n",
        "합성곱 신경망(Convolutional Neural Network, CNN)에서는 이러한 n개 크기의 뉴런을 필터(filter) 혹은 커널(kernel)이라고 한다.\n",
        "\n",
        "둘은 종종 같은 의미로 사용되지만, 케라스 API를 기준으로 설명할 때는 입력에 곱하는 가중치를 커널, 뉴런 개수를 필터라고 부르곤 한다.\n",
        "\n",
        "필터를 통해 계산된 합성곱의 출력은 특성 맵(feature map)이라고 부른다. 여기서의 특성 맵은 활성화 함수를 적용한 후의 출력이다."
      ],
      "metadata": {
        "id": "GZ3Gr8XUuQrI"
      }
    },
    {
      "cell_type": "markdown",
      "source": [
        "## 케라스 합성곱 층"
      ],
      "metadata": {
        "id": "0rfvfXmswZJx"
      }
    },
    {
      "cell_type": "markdown",
      "source": [
        "케라스 층은 모두 `keras.layers` 패키지 아래 클래스로 구현되어 있다."
      ],
      "metadata": {
        "id": "psSbrWdVwbJW"
      }
    },
    {
      "cell_type": "code",
      "source": [
        "keras.layers.Conv2D(10, kernel_size=(3,3), activation='relu')"
      ],
      "metadata": {
        "colab": {
          "base_uri": "https://localhost:8080/"
        },
        "id": "INrDF5kyrD-i",
        "outputId": "aaade096-b5c8-4eee-a07b-e5e00de0a104"
      },
      "execution_count": 2,
      "outputs": [
        {
          "output_type": "execute_result",
          "data": {
            "text/plain": [
              "<keras.layers.convolutional.Conv2D at 0x7f97d8533490>"
            ]
          },
          "metadata": {},
          "execution_count": 2
        }
      ]
    },
    {
      "cell_type": "markdown",
      "source": [
        "### 패딩 & 스트라이드"
      ],
      "metadata": {
        "id": "getPpSnYxZHv"
      }
    },
    {
      "cell_type": "markdown",
      "source": [
        "합성곱 계산을 통해 특성 맵이 만들어지면 입력보다 작은 크기를 가지게 된다. 만약 커널 크기는 그대로 두고 출력의 크기(특성 맵의 크기)를 입력과 동일하게 만들고자 할 경우 입력에 여분 크기를 부여해야 한다. 이러한 여분을 패딩이라고 하며 이는 출력값에는 영향을 미치지 않는 비어있는 값(0)이다."
      ],
      "metadata": {
        "id": "ZjNkF0KjxbkR"
      }
    },
    {
      "cell_type": "code",
      "source": [
        ""
      ],
      "metadata": {
        "id": "b-wzO3chxFrR"
      },
      "execution_count": null,
      "outputs": []
    }
  ]
}