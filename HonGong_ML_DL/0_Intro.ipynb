{
 "cells": [
  {
   "cell_type": "markdown",
   "metadata": {},
   "source": [
    "# 0. 인공지능이란\n",
    "\n",
    "### 인공지능(Artificial Inteligence, AI): 사람과 같은 학습 및 추론 능력을 가진 시스템을 만드는 기술로, 약인공지능과 강인공지능으로 나뉜다. 하위분야로는 머신러닝과 딥러닝이 있다.\n",
    "\n",
    "### 강인공지능(Strong AI): 영화 속에서 자주 접할 수 있는 인공지능(ex - 터미네이터의 '스카이넷' 등)으로, 인간과 구별하기 어려운 지능을 가지는 컴퓨터 시스템. 인공일반지능(Artificial general inteligence)이라고도 불린다.\n",
    "\n",
    "### 약인공지능(Weak AI): 현실에서 우리가 마주하고 있는 인공지능의 현위치. 특정분야에서 사람의 일을 도와주는 보조적인 역할을 수행"
   ]
  },
  {
   "cell_type": "markdown",
   "metadata": {},
   "source": [
    "----"
   ]
  },
  {
   "cell_type": "markdown",
   "metadata": {},
   "source": [
    "# 1. 머신러닝이란\n",
    "\n",
    "### 머신러닝(Machine learning): 규칙을 일일이 프로그래밍하지 않아도 자동으로 데이터에서 규칙을 학습하는 알고리즘을 연구하는 분야로, 인공지능의 하위 분야 중에서 지능을 구현하기 위한 소프트웨어를 담당하는 핵심분야\n",
    "\n",
    "### 많은 머신러닝 알고리즘은 통계학에서 유래되었다. 하지만 최근의 발전 양상은 통계학과 수학 그 자체보다는 경험을 바탕으로 발전하는 모습을 보이고 있다."
   ]
  },
  {
   "cell_type": "markdown",
   "metadata": {},
   "source": [
    "## * 컴퓨터 과학 분야의 대표적 ML 라이브러리, 사이킷런 (Scikit-learn)\n",
    "\n",
    "### 파이썬 API를 사용하는 사이킷런 라이브러리는, 파이썬이 점점 인기를 얻으면서 함께 큰 인기를 끌고있다.\n",
    "### 사이킷런 라이브러리를 포함한 ML 라이브러리에서는 클래스와 함수 등을 제공하는데, 이는 많은 연구자들이 끊임없는 연구와 개발을 통해 섬증되어진 알고리즘들이므로 안정적이고 성능이 검증되어 있다."
   ]
  },
  {
   "cell_type": "markdown",
   "metadata": {},
   "source": [
    "-----------"
   ]
  },
  {
   "cell_type": "markdown",
   "metadata": {},
   "source": [
    "# 2. 딥러닝이란\n",
    "\n",
    "### 딥러닝(Deep learning): 인공신경망(Artificial neural network)을 기반으로 한 ML알고리즘들을 통칭하여 부르는 말\n",
    "\n",
    "## * 혁신적 알고리즘 개발을 돕는 DL 오픈소스 라이브러리, 텐서플로 & 파이토치\n",
    "### 2015년 구글은 딥러닝 라이브러리인 '텐서플로(TensorFlow)'을 오픈소스로 공개했고, 이어, 2018년에는 페이스북이 '파이토치(PyTorch)'를 오픈소스로 공개했다. 이 라이브러리들은 모두 인공 신경망 알고리즘을 전문으로 다루며, 사용하기 쉬운 파이썬 API를 제공한다."
   ]
  }
 ],
 "metadata": {
  "kernelspec": {
   "display_name": "Python 3",
   "language": "python",
   "name": "python3"
  },
  "language_info": {
   "codemirror_mode": {
    "name": "ipython",
    "version": 3
   },
   "file_extension": ".py",
   "mimetype": "text/x-python",
   "name": "python",
   "nbconvert_exporter": "python",
   "pygments_lexer": "ipython3",
   "version": "3.6.8"
  }
 },
 "nbformat": 4,
 "nbformat_minor": 2
}
