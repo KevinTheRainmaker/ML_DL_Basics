{
  "nbformat": 4,
  "nbformat_minor": 0,
  "metadata": {
    "colab": {
      "name": "5_LinearRegression.ipynb",
      "provenance": [],
      "collapsed_sections": [
        "7ZXpUZsNfHHL",
        "OePrsTNdkMhF"
      ],
      "authorship_tag": "ABX9TyNzdR0RyZv0JM0SAqOAlCEa",
      "include_colab_link": true
    },
    "kernelspec": {
      "name": "python3",
      "display_name": "Python 3"
    },
    "language_info": {
      "name": "python"
    }
  },
  "cells": [
    {
      "cell_type": "markdown",
      "metadata": {
        "id": "view-in-github",
        "colab_type": "text"
      },
      "source": [
        "<a href=\"https://colab.research.google.com/github/KevinTheRainmaker/Hanbit-HonGong-ML-DL/blob/master/5_LinearRegression.ipynb\" target=\"_parent\"><img src=\"https://colab.research.google.com/assets/colab-badge.svg\" alt=\"Open In Colab\"/></a>"
      ]
    },
    {
      "cell_type": "markdown",
      "metadata": {
        "id": "LPOKAhB9ei0R"
      },
      "source": [
        "# **<선형 회귀>**\n",
        "### k-최근접 이웃 회귀와 선형 회귀 알고리즘의 차이를 이해하고 사이킷런을 사용하여 여러 가지 선형 회귀 모델을 만들어본다."
      ]
    },
    {
      "cell_type": "markdown",
      "metadata": {
        "id": "7ZXpUZsNfHHL"
      },
      "source": [
        "## k-최근접 이웃의 한계"
      ]
    },
    {
      "cell_type": "code",
      "metadata": {
        "id": "BitDE9oseVsb"
      },
      "source": [
        "import numpy as np\n",
        "\n",
        "perch_length = np.array([8.4, 13.7, 15.0, 16.2, 17.4, 18.0, 18.7, 19.0, 19.6, 20.0, 21.0,\n",
        "       21.0, 21.0, 21.3, 22.0, 22.0, 22.0, 22.0, 22.0, 22.5, 22.5, 22.7,\n",
        "       23.0, 23.5, 24.0, 24.0, 24.6, 25.0, 25.6, 26.5, 27.3, 27.5, 27.5,\n",
        "       27.5, 28.0, 28.7, 30.0, 32.8, 34.5, 35.0, 36.5, 36.0, 37.0, 37.0,\n",
        "       39.0, 39.0, 39.0, 40.0, 40.0, 40.0, 40.0, 42.0, 43.0, 43.0, 43.5,\n",
        "       44.0])\n",
        "perch_weight = np.array([5.9, 32.0, 40.0, 51.5, 70.0, 100.0, 78.0, 80.0, 85.0, 85.0, 110.0,\n",
        "       115.0, 125.0, 130.0, 120.0, 120.0, 130.0, 135.0, 110.0, 130.0,\n",
        "       150.0, 145.0, 150.0, 170.0, 225.0, 145.0, 188.0, 180.0, 197.0,\n",
        "       218.0, 300.0, 260.0, 265.0, 250.0, 250.0, 300.0, 320.0, 514.0,\n",
        "       556.0, 840.0, 685.0, 700.0, 700.0, 690.0, 900.0, 650.0, 820.0,\n",
        "       850.0, 900.0, 1015.0, 820.0, 1100.0, 1000.0, 1100.0, 1000.0,\n",
        "       1000.0])"
      ],
      "execution_count": null,
      "outputs": []
    },
    {
      "cell_type": "markdown",
      "metadata": {
        "id": "EDUHFl02fh27"
      },
      "source": [
        "> 데이터를 훈련세트와 테스트 세트로 분할\n",
        "- 특성 데이터는 2차원 배열로 변환"
      ]
    },
    {
      "cell_type": "code",
      "metadata": {
        "id": "iFQ8oLIxfg-w"
      },
      "source": [
        "from sklearn.model_selection import train_test_split\n",
        "\n",
        "# 훈련 세트와 테스트 세트로 분할\n",
        "train_input, test_input, train_target, test_target = train_test_split(perch_length, perch_weight, random_state = 42)\n",
        "\n",
        "# 2차원 배열로 변환\n",
        "train_input = train_input.reshape(-1,1)\n",
        "test_input = test_input.reshape(-1,1)"
      ],
      "execution_count": null,
      "outputs": []
    },
    {
      "cell_type": "markdown",
      "metadata": {
        "id": "rs6HQQJbgM_4"
      },
      "source": [
        "> k를 3으로 하는 최근접 이웃 모델을 훈련"
      ]
    },
    {
      "cell_type": "code",
      "metadata": {
        "colab": {
          "base_uri": "https://localhost:8080/"
        },
        "id": "J4SiA9SmgTfL",
        "outputId": "db42ce67-0a7a-4ae7-96ae-d546b88ccfb1"
      },
      "source": [
        "from sklearn.neighbors import KNeighborsRegressor\n",
        "\n",
        "knr = KNeighborsRegressor(n_neighbors = 3)\n",
        "\n",
        "# k-최근접 이웃 모델 훈련\n",
        "knr.fit(train_input, train_target)"
      ],
      "execution_count": null,
      "outputs": [
        {
          "output_type": "execute_result",
          "data": {
            "text/plain": [
              "KNeighborsRegressor(algorithm='auto', leaf_size=30, metric='minkowski',\n",
              "                    metric_params=None, n_jobs=None, n_neighbors=3, p=2,\n",
              "                    weights='uniform')"
            ]
          },
          "metadata": {
            "tags": []
          },
          "execution_count": 4
        }
      ]
    },
    {
      "cell_type": "code",
      "metadata": {
        "colab": {
          "base_uri": "https://localhost:8080/"
        },
        "id": "OW0ozHYhgm5L",
        "outputId": "b77dafb6-9e99-4244-95cf-9f20b994be4c"
      },
      "source": [
        "# 길이가 50cm인 농어 무게 예측 by k-최근접 이웃 회귀\n",
        "print(knr.predict([[50]]))"
      ],
      "execution_count": null,
      "outputs": [
        {
          "output_type": "stream",
          "text": [
            "[1033.33333333]\n"
          ],
          "name": "stdout"
        }
      ]
    },
    {
      "cell_type": "markdown",
      "metadata": {
        "id": "DMVNUH_6g8lY"
      },
      "source": [
        "> 실제 농어의 무게는 1,033.33...g보다 훨씬 많이 나간다고 한다. 어디서 문제가 생겼을까?"
      ]
    },
    {
      "cell_type": "markdown",
      "metadata": {
        "id": "aH2w183Ohpcw"
      },
      "source": [
        "- 훈련 세트와 50cm의 농어, 그리고 이 농어의 최근접 이웃을 산점도에 표시해보자.\n",
        "- kneighbors() 메서드 사용"
      ]
    },
    {
      "cell_type": "code",
      "metadata": {
        "colab": {
          "base_uri": "https://localhost:8080/",
          "height": 265
        },
        "id": "R7noRzBgg4Q3",
        "outputId": "725f50fe-ab74-4eb2-a85d-4b65bdac992d"
      },
      "source": [
        "import matplotlib.pyplot as plt\n",
        "\n",
        "# 50cm 농어의 이웃\n",
        "distances, indexes = knr.kneighbors([[50]])\n",
        "\n",
        "# 훈련 세트의 산점도\n",
        "plt.scatter(train_input, train_target)\n",
        "\n",
        "# 훈련 세트 중에서 이웃 샘플만 다시 표시\n",
        "plt.scatter(train_input[indexes], train_target[indexes], marker = 'D')\n",
        "\n",
        "# 50cm 농어 데이터\n",
        "plt.scatter(50, 1033, marker = '^')\n",
        "plt.show()"
      ],
      "execution_count": null,
      "outputs": [
        {
          "output_type": "display_data",
          "data": {
            "image/png": "[encoded data removed]",
            "text/plain": [
              "<Figure size 432x288 with 1 Axes>"
            ]
          },
          "metadata": {
            "tags": [],
            "needs_background": "light"
          }
        }
      ]
    },
    {
      "cell_type": "markdown",
      "metadata": {
        "id": "sU74IS2eiqsK"
      },
      "source": [
        "- 50cm 농어 데이터가 훈련 세트의 범위를 넘어갔기 때문에, 가장 가까운 이웃이 훈련 세트에서의 최대값인 45 부근 데이터들이 되게 된다.\n",
        "- 이런 이유로, k-최근접 이웃 회귀는 새로운 샘플이 훈련 세트의 범위를 초과하면 엉뚱한 값을 예측하게 될 수 있다.\n",
        "- 예를 들어, 위와 같은 경우 100cm 짜리 농어 또한 1,033g으로 예측했을 것이다. "
      ]
    },
    {
      "cell_type": "markdown",
      "metadata": {
        "id": "LbpZ5CULj0HI"
      },
      "source": [
        "- k-최근접 이웃을 사용해 이 문제를 해결하려면, 가장 큰 농어가 포함되도록 훈련 세트를 다시 만들어야 한다.\n",
        "- 하지만 이와 같은 방법을 사용할 경우, 새로운 데이터가 생겨날 경우 다시 훈련 세트를 수정해주어야 하며, 정확도 또한 그렇게 높지않을 것이다."
      ]
    },
    {
      "cell_type": "markdown",
      "metadata": {
        "id": "OePrsTNdkMhF"
      },
      "source": [
        "## 선형 회귀\n",
        "선형 회귀(Linear Regression)는 널리 사용되는 대표적인 회귀 알고리즘이다. 비교적 간단하고 성능이 뛰어나기 때문에 맨 처음 배우는 머신러닝 알고리즘 중 하나이다.\n",
        "선형이란 말에서 짐작할 수 있듯이 특성이 하나인 경우 해당 특성을 가장 잘 설명할 수 있는 직선을 학습하는 알고리즘이다."
      ]
    },
    {
      "cell_type": "markdown",
      "metadata": {
        "id": "baxMgpzVk78h"
      },
      "source": [
        "특성을 가장 잘 설명하는 직선은 결정계수가 1에 가까운 직선을 말한다."
      ]
    },
    {
      "cell_type": "markdown",
      "metadata": {
        "id": "qPQDDb8em2zP"
      },
      "source": [
        "> 사이킷런은 고맙게도, sklearn.linear_model 패키지 아래에 LinerRegression 클래스로 선형 회귀 알고리즘을 구현해 두었다.\n",
        "우리는 이 클래스의 객체를 만들어 훈련하도록 하겠다."
      ]
    },
    {
      "cell_type": "code",
      "metadata": {
        "colab": {
          "base_uri": "https://localhost:8080/"
        },
        "id": "wvTcbxu6ikp3",
        "outputId": "80c48803-77f3-4ffb-cf4f-5010e2ecffbc"
      },
      "source": [
        "from sklearn.linear_model import LinearRegression\n",
        "lr = LinearRegression()\n",
        "\n",
        "# 선형 회귀 모델 훈련\n",
        "lr.fit(train_input, train_target)\n",
        "\n",
        "# 50cm 농어 무게 예측 진행\n",
        "print(lr.predict([[50]]))"
      ],
      "execution_count": null,
      "outputs": [
        {
          "output_type": "stream",
          "text": [
            "[1241.83860323]\n"
          ],
          "name": "stdout"
        }
      ]
    },
    {
      "cell_type": "markdown",
      "metadata": {
        "id": "YqKjYbxinY1U"
      },
      "source": [
        "- k-최근접 이웃 회귀 모델과 비교했을 때 선형 회귀는 50cm 농어의 무게를 상당히 높게 예측했음을 확인 할 수 있다.\n"
      ]
    },
    {
      "cell_type": "markdown",
      "metadata": {
        "id": "k7HHvdAHnmh7"
      },
      "source": [
        "- 죄표평면 상에 하나의 직선을 그리려면 기울기와 절편이 필요하다.\n",
        "$$y = ax + b$$\n",
        "여기서 x를 농어의 길이, y를 농어의 무게라 하면, 농어의 길이와 무게 사이의 상관관계를 나타내는 직선을 그릴 수 있다.\n"
      ]
    },
    {
      "cell_type": "markdown",
      "metadata": {
        "id": "MLx-RPOktQZ-"
      },
      "source": [
        "- 여기서 LinearRegression 클래스가 찾은 a와 b는 lr 객체의 coef\\_와 intercept\\_ 속성에 저장되어 있다. "
      ]
    },
    {
      "cell_type": "markdown",
      "metadata": {
        "id": "JSpLt93ntTUB"
      },
      "source": [
        "- 이러한 coef\\_와 intercept\\_를, 머신러닝 알고리즘이 찾은 값이라는 의미로 **모델 파라미터(model parameter)**라고 부른다. 많은 머신러닝 알고리즘의 훈련 과정은 최적의 모델 파라미터를 찾는 과정으로, 이를 **모델 기반 학습**이라고 부른다. 앞서 사용한 k-최근접 이웃에서처럼 모델 파라미터 없이 훈련 세트를 저장하는 것이 훈련의 전부인 경우는 **사례 기반 학습**이라고 한다."
      ]
    },
    {
      "cell_type": "code",
      "metadata": {
        "colab": {
          "base_uri": "https://localhost:8080/"
        },
        "id": "mp9Ie-sWnXQL",
        "outputId": "8b04e43f-9bcb-4e15-8d7e-724f17417cec"
      },
      "source": [
        "print(lr.coef_, lr.intercept_) # coef_ == coefficient (계수)"
      ],
      "execution_count": null,
      "outputs": [
        {
          "output_type": "stream",
          "text": [
            "[39.01714496] -709.0186449535477\n"
          ],
          "name": "stdout"
        }
      ]
    },
    {
      "cell_type": "markdown",
      "metadata": {
        "id": "JU-bqe6Atb9o"
      },
      "source": [
        "- 농어의 길이 15에서 50까지를 직선으로 그려보도록 하자. 이 직선을 그리기 위해서는 앞서 구한 기울기와 절편을 이용하면 된다.\n",
        "- 비교를 위해 산점도 또한 동시에 그려보도록 하겠다.\n"
      ]
    },
    {
      "cell_type": "code",
      "metadata": {
        "colab": {
          "base_uri": "https://localhost:8080/",
          "height": 265
        },
        "id": "3Y-s7aILsVgx",
        "outputId": "789ecfcc-2461-402d-c350-989811214d20"
      },
      "source": [
        "# 1차 방정식 그래프\n",
        "plt.plot([15,50], [15*lr.coef_+lr.intercept_, 50*lr.coef_+lr.intercept_])\n",
        "\n",
        "# 훈련 세트 산점도\n",
        "plt.scatter(train_input, train_target)\n",
        "\n",
        "# 50cm 농어 데이터\n",
        "plt.scatter(50, 1241.8, marker='^')\n",
        "\n",
        "plt.show()"
      ],
      "execution_count": null,
      "outputs": [
        {
          "output_type": "display_data",
          "data": {
            "image/png": "[encoded data removed]",
            "text/plain": [
              "<Figure size 432x288 with 1 Axes>"
            ]
          },
          "metadata": {
            "tags": [],
            "needs_background": "light"
          }
        }
      ]
    },
    {
      "cell_type": "markdown",
      "metadata": {
        "id": "2uatKm0zuMxj"
      },
      "source": [
        "> 이제 훈련 세트의 범위를 벗어난 농어의 무게도 예측이 가능하게 되었다."
      ]
    },
    {
      "cell_type": "markdown",
      "metadata": {
        "id": "iBGuRDnpuSzX"
      },
      "source": [
        "- 모델이 농어의 무게를 정확하게 예측하고 있는지 확인하기 위해, 훈련 세트와 테스트 세트에 대한 $R^2$ 점수를 확인해보도록 하자."
      ]
    },
    {
      "cell_type": "code",
      "metadata": {
        "colab": {
          "base_uri": "https://localhost:8080/"
        },
        "id": "ogMU4XAeuIg0",
        "outputId": "877263e0-d843-4e00-964d-e8711a913676"
      },
      "source": [
        "print(lr.score(train_input, train_target)) # 훈련 세트\n",
        "print(lr.score(test_input, test_target)) # 테스트 세트"
      ],
      "execution_count": null,
      "outputs": [
        {
          "output_type": "stream",
          "text": [
            "0.9398463339976039\n",
            "0.8247503123313558\n"
          ],
          "name": "stdout"
        }
      ]
    },
    {
      "cell_type": "markdown",
      "metadata": {
        "id": "rvVj-T06wPh7"
      },
      "source": [
        "> **점수가 전반적으로 그닥 높지는 않다.** \n",
        "\n",
        "이는 '직선'을 회귀에 사용했기 때문인데, 농어의 무게는 음수가 될 수 없는 반면, 직선 방정식에 의하면 아주 작은 농어의 무게는 음수가 될 것이다."
      ]
    },
    {
      "cell_type": "markdown",
      "metadata": {
        "id": "dfk_tyDUwqej"
      },
      "source": [
        "## 다항 회귀\n",
        "\n",
        "정확도를 조금 더 올리기 위해 우리는 사용 방정식의 차수를 올릴 수 있다. 즉, 1차 방정식이 아닌 2차 방정식을 사용하면 정확도가 더 올라간다는 이야기이다."
      ]
    },
    {
      "cell_type": "markdown",
      "metadata": {
        "id": "IjVtn4vmxCsd"
      },
      "source": [
        "이러한 2차방정식의 그래프를 그리기 위해서는 길이를 제곱한 항이 훈련 세트에 추가되어야 한다. 이는 **넘파이**를 이용하면 간단하게 만들 수 있다."
      ]
    },
    {
      "cell_type": "code",
      "metadata": {
        "colab": {
          "base_uri": "https://localhost:8080/"
        },
        "id": "HcKAnSGTvFBm",
        "outputId": "b6fc3b41-7da3-436c-cd9b-a7b4bdded291"
      },
      "source": [
        "train_poly = np.column_stack((train_input**2, train_input)) # 넘파이 브로드캐스팅이 적용됨\n",
        "test_poly = np.column_stack((test_input ** 2, test_input))\n",
        "\n",
        "print(train_poly.shape, test_poly.shape)"
      ],
      "execution_count": null,
      "outputs": [
        {
          "output_type": "stream",
          "text": [
            "(42, 2) (14, 2)\n"
          ],
          "name": "stdout"
        }
      ]
    },
    {
      "cell_type": "markdown",
      "metadata": {
        "id": "FF7ofo-Sxqnb"
      },
      "source": [
        "> 원래 특성인 길이를 제곱하여 왼쪽 열에 추가했기 때문에 훈련 세트와 테스트 세트 모두 열이 2개로 늘어났음을 확인할 수 있다."
      ]
    },
    {
      "cell_type": "markdown",
      "metadata": {
        "id": "V8hFc9EPxz7l"
      },
      "source": [
        "- train_poly를 사용해 선형 회귀 모델을 다시 훈련해보도록 하자.\n",
        "- 여기서 주목할 점은, 2차 방정식의 그래프를 찾기 위해 훈련 세트에 제곱 항을 추가했지만, 타깃값은 그대로 사용한다는 것이다. 목표하는 값은 어떤 그래프를 사용하든지 바꿀 필요가 없기 때문이다"
      ]
    },
    {
      "cell_type": "code",
      "metadata": {
        "colab": {
          "base_uri": "https://localhost:8080/"
        },
        "id": "DVGdCSndxn45",
        "outputId": "6cd73662-fb02-4fdd-986c-44d7c7d5a0a4"
      },
      "source": [
        "lr = LinearRegression()\n",
        "lr.fit(train_poly, train_target)\n",
        "\n",
        "print(lr.predict([[50**2, 50]])) # 테스트할 때는 농어 길이의 제곱과 원래 길이를 함께 넣어줘야 한다"
      ],
      "execution_count": null,
      "outputs": [
        {
          "output_type": "stream",
          "text": [
            "[1573.98423528]\n"
          ],
          "name": "stdout"
        }
      ]
    },
    {
      "cell_type": "markdown",
      "metadata": {
        "id": "4Gm3iIxfyhqn"
      },
      "source": [
        "> 기존 선형 회귀에서보다 더 높은 값을 무게로 예측하였음을 확인할 수 있다."
      ]
    },
    {
      "cell_type": "markdown",
      "metadata": {
        "id": "xb30jojlyntf"
      },
      "source": [
        "- 이 모델이 훈련한 계수와 절편을 출력해보자."
      ]
    },
    {
      "cell_type": "code",
      "metadata": {
        "colab": {
          "base_uri": "https://localhost:8080/"
        },
        "id": "sr5Vx3mAyf46",
        "outputId": "de686fe4-cd6c-4eff-92a0-0b2f54e8382e"
      },
      "source": [
        "print(lr.coef_, lr.intercept_)"
      ],
      "execution_count": null,
      "outputs": [
        {
          "output_type": "stream",
          "text": [
            "[  1.01433211 -21.55792498] 116.05021078278276\n"
          ],
          "name": "stdout"
        }
      ]
    },
    {
      "cell_type": "markdown",
      "metadata": {
        "id": "Q5UZd06GywQP"
      },
      "source": [
        "- **$무게 = 1.014 * 길이^2 - 21.558 * 길이 + 116.05$**"
      ]
    },
    {
      "cell_type": "markdown",
      "metadata": {
        "id": "RUs3coeLzTkH"
      },
      "source": [
        "이러한 방정식을 **다항식 (polynimial)**이라 부르며, 다항식을 사용한 회귀를 **다항 회귀 (polynomial regression)**이라 부른다."
      ]
    },
    {
      "cell_type": "markdown",
      "metadata": {
        "id": "MC_5ID9Kz9IS"
      },
      "source": [
        "- 이 2차 방정식의 계수와 절편 a,b,c를 알았으니 이전과 동일하게 훈련 세트의 산점도에 그래프로 그려보도록 하자.\n",
        "\n",
        "- 짧은 직선을 이어서 그리면 곡선처럼 그릴 수 있다는 것을 이용하여 1씩 끊어서 그려보도록 하겠다."
      ]
    },
    {
      "cell_type": "code",
      "metadata": {
        "colab": {
          "base_uri": "https://localhost:8080/",
          "height": 265
        },
        "id": "S78mmHDHyuf3",
        "outputId": "ca6ecb2e-7d34-408e-e463-5d7353367455"
      },
      "source": [
        "# 구간별 직선을 그리기 위한 정수 배열\n",
        "point = np.arange(15,50) # 15에서 49\n",
        "\n",
        "# 훈련 세트의 산점도\n",
        "plt.scatter(train_input, train_target)\n",
        "\n",
        "# 2차 방정식 그래프\n",
        "plt.plot(point, 1.014*point**2 - 21.558*point + 116.05)\n",
        "\n",
        "# 50cm 농어 데이터\n",
        "plt.scatter([50], [1573.984], marker = '^')\n",
        "\n",
        "plt.show()"
      ],
      "execution_count": null,
      "outputs": [
        {
          "output_type": "display_data",
          "data": {
            "image/png": "[encoded data removed]",
            "text/plain": [
              "<Figure size 432x288 with 1 Axes>"
            ]
          },
          "metadata": {
            "tags": [],
            "needs_background": "light"
          }
        }
      ]
    },
    {
      "cell_type": "markdown",
      "metadata": {
        "id": "lvm8vqtz1LaZ"
      },
      "source": [
        "> 전반적으로 괜찮은 그래프가 그려졌다."
      ]
    },
    {
      "cell_type": "markdown",
      "metadata": {
        "id": "hV1lYlIS1O5N"
      },
      "source": [
        "- 다시 훈련 세트와 테스트 세트의 $R^2$ 점수를 확인해 보도록 하자."
      ]
    },
    {
      "cell_type": "code",
      "metadata": {
        "colab": {
          "base_uri": "https://localhost:8080/"
        },
        "id": "LMg9BoEC1Vnd",
        "outputId": "d86d5c03-69b5-418f-866e-92c8d55e055e"
      },
      "source": [
        "print(lr.score(train_poly, train_target))\n",
        "print(lr.score(test_poly, test_target))"
      ],
      "execution_count": null,
      "outputs": [
        {
          "output_type": "stream",
          "text": [
            "0.9706807451768623\n",
            "0.9775935108325122\n"
          ],
          "name": "stdout"
        }
      ]
    },
    {
      "cell_type": "markdown",
      "metadata": {
        "id": "jLRnhxCR1fmN"
      },
      "source": [
        "> 점수가 기존에 비하면 크게 높아졌지만, 여전히 테스트 세트의 점수가 조금 더 높아 약간의 과소적합이 일어났음을 확인할 수 있다."
      ]
    },
    {
      "cell_type": "markdown",
      "metadata": {
        "id": "6A6DGs4-1ukf"
      },
      "source": [
        "- 이를 해결하기 위해서는 모델을 조금 더 복잡하게 만들 필요가 있을 것 같다. 이는 다음에 이어하도록 하겠다."
      ]
    },
    {
      "cell_type": "markdown",
      "metadata": {
        "id": "PJUw3bxo12CW"
      },
      "source": [
        "## **5일차. 선형 회귀로 훈련 세트 범위 밖의 샘플 예측**\n",
        "- k-최근접 이웃 회귀는 훈련 세트 범위 밖의 샘플을 예측할 수 없다. 실제 거리에 관계 없이 가지고 있는 샘플들의 데이터 중 가장 가까운 것의 값을 평균하여 예측하기 때문이다.\n",
        "\n",
        "- 이를 해결하기 위해 우리는 선형 회귀를 사용했다. 선형 회귀는 훈련 세트에 잘 맞는 직선의 방정식을 찾는 방법으로, 사이킷런의 LinearRegression 클래스를 사용하면 k-최근접 이웃 알고리즘을 사용했을 때와 동일한 방식으로 모델을 훈련하고 예측에 사용할 수 있다.\n",
        "\n",
        "- 가장 잘 맞는 직선의 방정식을 찾는다는 것은 최적의 기울기와 절편을 구한다는 의미로, 이 값들은 선형 회귀 모델의 coef\\_와 intercept\\_ 속성에 저장되어있다.\n",
        "\n",
        "- 무게가 음수가 될 수 있는 점을 고치고 정확도를 올리기 위해 단순 1차 방정식이 아닌 2차 방정식을 이용해 다항 회귀를 진행 할 수 있었다.\n",
        "\n",
        "- 조금 더 복잡한 모델을 사용함으로써 어느정도 문제를 해결하였자만, 여전히 과소적합 경향을 보이고 있다. 이 문제는 다음에 해결하도록 하겠다."
      ]
    },
    {
      "cell_type": "code",
      "metadata": {
        "id": "2b6Qpdlb11f0"
      },
      "source": [
        "## k-최근접 이웃의 한계\n",
        "import numpy as np\n",
        "\n",
        "perch_length = np.array(\n",
        "    [8.4, 13.7, 15.0, 16.2, 17.4, 18.0, 18.7, 19.0, 19.6, 20.0, \n",
        "     21.0, 21.0, 21.0, 21.3, 22.0, 22.0, 22.0, 22.0, 22.0, 22.5, \n",
        "     22.5, 22.7, 23.0, 23.5, 24.0, 24.0, 24.6, 25.0, 25.6, 26.5, \n",
        "     27.3, 27.5, 27.5, 27.5, 28.0, 28.7, 30.0, 32.8, 34.5, 35.0, \n",
        "     36.5, 36.0, 37.0, 37.0, 39.0, 39.0, 39.0, 40.0, 40.0, 40.0, \n",
        "     40.0, 42.0, 43.0, 43.0, 43.5, 44.0]\n",
        "     )\n",
        "perch_weight = np.array(\n",
        "    [5.9, 32.0, 40.0, 51.5, 70.0, 100.0, 78.0, 80.0, 85.0, 85.0, \n",
        "     110.0, 115.0, 125.0, 130.0, 120.0, 120.0, 130.0, 135.0, 110.0, \n",
        "     130.0, 150.0, 145.0, 150.0, 170.0, 225.0, 145.0, 188.0, 180.0, \n",
        "     197.0, 218.0, 300.0, 260.0, 265.0, 250.0, 250.0, 300.0, 320.0, \n",
        "     514.0, 556.0, 840.0, 685.0, 700.0, 700.0, 690.0, 900.0, 650.0, \n",
        "     820.0, 850.0, 900.0, 1015.0, 820.0, 1100.0, 1000.0, 1100.0, \n",
        "     1000.0, 1000.0]\n",
        "     )\n",
        "\n",
        "from sklearn.model_selection import train_test_split\n",
        "\n",
        "# 훈련 세트와 테스트 세트로 나눕니다\n",
        "train_input, test_input, train_target, test_target = train_test_split(\n",
        "    perch_length, perch_weight, random_state=42)\n",
        "# 훈련 세트와 테스트 세트를 2차원 배열로 바꿉니다\n",
        "train_input = train_input.reshape(-1, 1)\n",
        "test_input = test_input.reshape(-1, 1)\n",
        "\n",
        "from sklearn.neighbors import KNeighborsRegressor\n",
        "\n",
        "knr = KNeighborsRegressor(n_neighbors=3)\n",
        "# k-최근접 이웃 회귀 모델을 훈련합니다\n",
        "knr.fit(train_input, train_target)\n",
        "\n",
        "#print(knr.predict([[50]]))\n",
        "\n",
        "import matplotlib.pyplot as plt\n",
        "\n",
        "# 50cm 농어의 이웃을 구합니다\n",
        "distances, indexes = knr.kneighbors([[50]])\n",
        "\n",
        "# 훈련 세트의 산점도를 그립니다\n",
        "plt.scatter(train_input, train_target)\n",
        "# 훈련 세트 중에서 이웃 샘플만 다시 그립니다\n",
        "plt.scatter(train_input[indexes], train_target[indexes], marker='D')\n",
        "# 50cm 농어 데이터\n",
        "plt.scatter(50, 1033, marker='^')\n",
        "plt.xlabel('length')\n",
        "plt.ylabel('weight')\n",
        "plt.show()\n",
        "\n",
        "# print(np.mean(train_target[indexes]))\n",
        "# print(knr.predict([[100]]))\n",
        "\n",
        "# 100cm 농어의 이웃을 구합니다\n",
        "distances, indexes = knr.kneighbors([[100]])\n",
        "\n",
        "# 훈련 세트의 산점도를 그립니다\u001f\n",
        "plt.scatter(train_input, train_target)\n",
        "# 훈련 세트 중에서 이웃 샘플만 다시 그립니다\u001f\n",
        "plt.scatter(train_input[indexes], train_target[indexes], marker='D')\n",
        "# 100cm 농어 데이터\n",
        "plt.scatter(100, 1033, marker='^')\n",
        "plt.xlabel('length')\n",
        "plt.ylabel('weight')\n",
        "plt.show()\n",
        "\n",
        "## 선형 회귀\n",
        "from sklearn.linear_model import LinearRegression\n",
        "lr = LinearRegression()\n",
        "# 선형 회귀 모델 훈련\n",
        "lr.fit(train_input, train_target)\n",
        "\n",
        "# print(lr.coef_, lr.intercept_)\n",
        "\n",
        "# 훈련 세트의 산점도를 그립니다\u001f\n",
        "plt.scatter(train_input, train_target)\n",
        "# 15에서 50까지 1차 방정식 그래프를 그립니다\n",
        "plt.plot([15, 50], [15*lr.coef_+lr.intercept_, 50*lr.coef_+lr.intercept_])\n",
        "# 50cm 농어 데이터\n",
        "plt.scatter(50, 1241.8, marker='^')\n",
        "plt.xlabel('length')\n",
        "plt.ylabel('weight')\n",
        "plt.show()\n",
        "\n",
        "# print(lr.score(train_input, train_target))\n",
        "# print(lr.score(test_input, test_target))\n",
        "\n",
        "## 다항 회귀\n",
        "train_poly = np.column_stack((train_input ** 2, train_input))\n",
        "test_poly = np.column_stack((test_input ** 2, test_input))\n",
        "\n",
        "# print(train_poly.shape, test_poly.shape)\n",
        "\n",
        "lr = LinearRegression()\n",
        "lr.fit(train_poly, train_target)\n",
        "\n",
        "# print(lr.predict([[50**2, 50]]))\n",
        "\n",
        "# print(lr.coef_, lr.intercept_)\n",
        "\n",
        "# 구간별 직선을 그리기 위해 15에서 49까지 정수 배열을 만듭니다\n",
        "point = np.arange(15, 50)\n",
        "# 훈련 세트의 산점도를 그립니다\n",
        "plt.scatter(train_input, train_target)\n",
        "# 15에서 49까지 2차 방정식 그래프를 그립니다\n",
        "plt.plot(point, 1.01*point**2 - 21.6*point + 116.05)\n",
        "# 50cm 농어 데이터\n",
        "plt.scatter([50], [1574], marker='^')\n",
        "plt.xlabel('length')\n",
        "plt.ylabel('weight')\n",
        "plt.show()\n",
        "\n",
        "# print(lr.score(train_poly, train_target))\n",
        "# print(lr.score(test_poly, test_target))"
      ],
      "execution_count": null,
      "outputs": []
    }
  ]
}