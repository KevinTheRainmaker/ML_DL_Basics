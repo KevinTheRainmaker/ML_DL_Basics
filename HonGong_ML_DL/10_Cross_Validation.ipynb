{
  "nbformat": 4,
  "nbformat_minor": 0,
  "metadata": {
    "colab": {
      "name": "10_Cross_Validation.ipynb",
      "provenance": [],
      "collapsed_sections": [],
      "authorship_tag": "ABX9TyPgWtSZ+Y+FQUmgKYrAf36+",
      "include_colab_link": true
    },
    "kernelspec": {
      "name": "python3",
      "display_name": "Python 3"
    },
    "language_info": {
      "name": "python"
    }
  },
  "cells": [
    {
      "cell_type": "markdown",
      "metadata": {
        "id": "view-in-github",
        "colab_type": "text"
      },
      "source": [
        "<a href=\"https://colab.research.google.com/github/KevinTheRainmaker/ML_DL_Basics/blob/master/HonGong_ML_DL/10_Cross_Validation.ipynb\" target=\"_parent\"><img src=\"https://colab.research.google.com/assets/colab-badge.svg\" alt=\"Open In Colab\"/></a>"
      ]
    },
    {
      "cell_type": "markdown",
      "source": [
        "# 교차 검증\n",
        "\n",
        "### **키워드:** 검증 세트, 교차 검증, 그리드 서치, 랜덤 서치\n",
        "\n",
        "검증 세트가 필요한 이유를 이해하고 교차 검증에 대해 알아보자. 그리드 서치와 랜덤 서치 방식을 이용해 하이퍼 파라미터 튜닝을 진행해보자."
      ],
      "metadata": {
        "id": "cqltkF3-pq4j"
      }
    },
    {
      "cell_type": "markdown",
      "source": [
        "## 검증 세트"
      ],
      "metadata": {
        "id": "ME-7tDWtp9t8"
      }
    },
    {
      "cell_type": "markdown",
      "source": [
        "테스트 세트로 일반화된 모델 성능을 정확하게 예측하려면 테스트 세트는 가장 마지막에 한 번만 사용하는 것이 가장 바람직하다. 그렇다면 최적의 매개변수 값을 찾는 하이퍼 파라미터 튜닝을 위해서는 어떻게 해야할까? 이때 필요한 것이 바로 검증 세트(Validation set)이다.\n",
        "\n",
        "훈련 세트로 학습된 모델을 검증 세트로 평가하고, 매개변수를 바꿔가며 하이퍼 파라미터 튜닝을 수행한다. 그 다음, 훈련 세트와 검증 세트를 합쳐 모델을 다시 학습시킨 후 최종적으로 테스트 세트로 성능을 평가하면 된다.\n",
        " \n",
        "전체 데이터에서 훈련 세트, 검증 세트, 테스트 세트의 비율은 일반적으로 3:1:1로 둔다."
      ],
      "metadata": {
        "id": "C6h2qz3tp_yf"
      }
    },
    {
      "cell_type": "code",
      "execution_count": 2,
      "metadata": {
        "id": "1MDZv3CtpbFS"
      },
      "outputs": [],
      "source": [
        "# packages\n",
        "import pandas as pd\n",
        "import numpy as np\n",
        "\n",
        "from sklearn.model_selection import train_test_split\n",
        "from sklearn.tree import DecisionTreeClassifier\n",
        "from sklearn.model_selection import cross_validate\n",
        "from sklearn.model_selection import StratifiedKFold\n",
        "from sklearn.model_selection import GridSearchCV\n",
        "from sklearn.model_selection import RandomizedSearchCV\n",
        "\n",
        "from scipy.stats import uniform, randint"
      ]
    },
    {
      "cell_type": "markdown",
      "source": [
        "## 데이터셋 준비"
      ],
      "metadata": {
        "id": "Nmn5V9k_zFCe"
      }
    },
    {
      "cell_type": "code",
      "source": [
        "wine = pd.read_csv('https://bit.ly/wine-date')\n",
        "\n",
        "data = wine[['alcohol','sugar','pH']].to_numpy()\n",
        "target = wine['class'].to_numpy()"
      ],
      "metadata": {
        "id": "UFN21iJyzBSr"
      },
      "execution_count": 3,
      "outputs": []
    },
    {
      "cell_type": "code",
      "source": [
        "# data split\n",
        "X_train, X_test, y_train, y_test = train_test_split(data, target, test_size=0.2, random_state=42)"
      ],
      "metadata": {
        "id": "OhhGcQNKzSNE"
      },
      "execution_count": 4,
      "outputs": []
    },
    {
      "cell_type": "markdown",
      "source": [
        "`X_train`과 `y_train`을 다시 `train_test_split()` 함수에 넣어 훈련 세트와 검증 세트로 나누겠다."
      ],
      "metadata": {
        "id": "NQKVBdLYzvUn"
      }
    },
    {
      "cell_type": "code",
      "source": [
        "X_sub, X_val, y_sub, y_val = train_test_split(X_train, y_train, test_size=0.2, random_state=42)"
      ],
      "metadata": {
        "id": "akAcSahazsrJ"
      },
      "execution_count": 8,
      "outputs": []
    },
    {
      "cell_type": "code",
      "source": [
        "print(X_sub.shape, X_val.shape)"
      ],
      "metadata": {
        "colab": {
          "base_uri": "https://localhost:8080/"
        },
        "id": "JSqREh0m0HoJ",
        "outputId": "64d5acf1-5e6e-4379-a2e5-c8fac6a54fa1"
      },
      "execution_count": 9,
      "outputs": [
        {
          "output_type": "stream",
          "name": "stdout",
          "text": [
            "(4157, 3) (1040, 3)\n"
          ]
        }
      ]
    },
    {
      "cell_type": "markdown",
      "source": [
        "이제 `X_sub`와 `y_sub`로 모델을 학습시키고 `X_val`과 `y_val`로 평가해보자."
      ],
      "metadata": {
        "id": "CaEBHG5g0r0T"
      }
    },
    {
      "cell_type": "code",
      "source": [
        "dt = DecisionTreeClassifier(random_state=42)\n",
        "dt.fit(X_sub, y_sub)\n",
        "print(dt.score(X_sub, y_sub))\n",
        "print(dt.score(X_val, y_val))"
      ],
      "metadata": {
        "colab": {
          "base_uri": "https://localhost:8080/"
        },
        "id": "cbgcuLfr0mc2",
        "outputId": "fd4d9fb0-b666-4ba5-f14b-265be3bf3a47"
      },
      "execution_count": 10,
      "outputs": [
        {
          "output_type": "stream",
          "name": "stdout",
          "text": [
            "0.9971133028626413\n",
            "0.864423076923077\n"
          ]
        }
      ]
    },
    {
      "cell_type": "markdown",
      "source": [
        "## 교차 검증"
      ],
      "metadata": {
        "id": "h7gUpcAh1ImK"
      }
    },
    {
      "cell_type": "markdown",
      "source": [
        "학습 세트로부터 검증 세트를 분리한 탓에 학습 세트의 양이 줄었고, 이것은 모델 학습에 악영향을 끼칠 우려가 있다. 하지만 그렇다고 검증 세트를 너무 적게 쓰거나 쓰지 않는다면 제대로된 평가가 이루어지지 않을 것이다.\n",
        "\n",
        "이럴 때 사용하는 방법이 교차 검증(Cross Validation)으로, 전체 훈련 세트에서 검증 세트로 분리되는 샘플을 바꿔가며 사용하는 방식이다.\n",
        "\n",
        "전체 훈련 세트를 K개의 sub set로 나누어 K번 검증 세트를 바꾸는 방식을 K-fold Cross Validation이라고 한다. 평균적으로 K의 값으로는 5 또는 10을 주로 채택한다."
      ],
      "metadata": {
        "id": "8GqNjxKm1J7C"
      }
    },
    {
      "cell_type": "markdown",
      "source": [
        "여기서 주의할 점은, 전달되는 데이터셋은 sub set이 아닌 전체 세트를 전달해야 한다는 점이다."
      ],
      "metadata": {
        "id": "uxJoEZil3dMq"
      }
    },
    {
      "cell_type": "code",
      "source": [
        "scores = cross_validate(dt, X_train, y_train)\n",
        "print(scores)"
      ],
      "metadata": {
        "colab": {
          "base_uri": "https://localhost:8080/"
        },
        "id": "CjbM3qA81FKu",
        "outputId": "098dfea2-234e-4947-ea8e-aff0d8f6ac0b"
      },
      "execution_count": 11,
      "outputs": [
        {
          "output_type": "stream",
          "name": "stdout",
          "text": [
            "{'fit_time': array([0.00955343, 0.00703406, 0.00727081, 0.00712538, 0.0068996 ]), 'score_time': array([0.00083828, 0.00064993, 0.00065947, 0.00067711, 0.00066996]), 'test_score': array([0.86923077, 0.84615385, 0.87680462, 0.84889317, 0.83541867])}\n"
          ]
        }
      ]
    },
    {
      "cell_type": "markdown",
      "source": [
        "`fit_time`, `score_time`, `test_score`이라는 키를 가진 딕셔너리를 반환한다. 앞의 두 개의 키는 각각 학습과 평가에 걸린 시간을 나타내며 `test_score` 키의 값은 K번째 검증 세트에 대한 테스트 점수를 의미한다.\n",
        "\n",
        "기본값은 5로 설정되어있으며, `cross_validate`의 매개변수 `cv`를 이용해 폴드 수를 바꿀 수 있다."
      ],
      "metadata": {
        "id": "afYwUXUI2HcX"
      }
    },
    {
      "cell_type": "code",
      "source": [
        "print(np.mean(scores['test_score']))"
      ],
      "metadata": {
        "colab": {
          "base_uri": "https://localhost:8080/"
        },
        "id": "PnrQom5P2B9J",
        "outputId": "14d09d5d-5d29-4202-829d-fd7248da759d"
      },
      "execution_count": 12,
      "outputs": [
        {
          "output_type": "stream",
          "name": "stdout",
          "text": [
            "0.855300214703487\n"
          ]
        }
      ]
    },
    {
      "cell_type": "markdown",
      "source": [
        "앞서 우리는 `train_test_split()`을 이용해 sub set과 val set을 나누어 학습한 후 `cross_validate`를 했기 때문에 별도로 훈련 세트를 섞어 폴드를 나눠줄 필요가 없었다.\n",
        "\n",
        "만약 그렇게 하지 않고 바로 진행을 하려한다면 분할기(splitter)를 따로 지정해줘야 할 필요가 있다."
      ],
      "metadata": {
        "id": "WgPvgUK63nsg"
      }
    },
    {
      "cell_type": "code",
      "source": [
        "scores = cross_validate(dt, X_train, y_train, cv=StratifiedKFold())\n",
        "print(np.mean(scores['test_score']))"
      ],
      "metadata": {
        "colab": {
          "base_uri": "https://localhost:8080/"
        },
        "id": "3UaJZYmc2wHY",
        "outputId": "59608669-73e8-4a9c-96c0-452267df00b1"
      },
      "execution_count": 13,
      "outputs": [
        {
          "output_type": "stream",
          "name": "stdout",
          "text": [
            "0.855300214703487\n"
          ]
        }
      ]
    },
    {
      "cell_type": "markdown",
      "source": [
        "분류의 경우 각 세트마다 존재하는 클래스의 비율을 일정하게 해주기 위해서 `StratifiedKFold()`를 사용한다.\n",
        "\n",
        "만약 훈련 세트를 섞은 후 10-Fold CV를 진행하려면 다음과 같이 코드를 작성하면 된다."
      ],
      "metadata": {
        "id": "K7ulkoNm4LKr"
      }
    },
    {
      "cell_type": "code",
      "source": [
        "splitter = StratifiedKFold(n_splits=10, shuffle=True, random_state=42)\n",
        "scores = cross_validate(dt, X_train, y_train, cv=splitter)\n",
        "print(np.mean(scores['test_score']))"
      ],
      "metadata": {
        "colab": {
          "base_uri": "https://localhost:8080/"
        },
        "id": "U3QMNl274Kvd",
        "outputId": "88f4cafc-a065-4c40-ea4e-11113e140e10"
      },
      "execution_count": 14,
      "outputs": [
        {
          "output_type": "stream",
          "name": "stdout",
          "text": [
            "0.8574181117533719\n"
          ]
        }
      ]
    },
    {
      "cell_type": "markdown",
      "source": [
        "## 하이퍼 파라미터 튜닝 (Hyper Parameter Tuning, HPO)"
      ],
      "metadata": {
        "id": "CyF0aIBX46dY"
      }
    },
    {
      "cell_type": "markdown",
      "source": [
        "모델이 학습하는 파라미터인 모델 파라미터와 달리 사용자가 직접 입력해주는 매개변수를 하이퍼 파라미터(Hyper Parameter)라고 한다.\n",
        "\n",
        "모델마다 적게는 1~2개, 많게는 5~6개에 달하는 하이퍼 파라미터 값을 제공하며, 이를 바꿔가며 실험을 수행하고 최적의 하이퍼 파라미터 값을 찾는 과정을 하이퍼 파라미터 튜닝이라고 한다.\n",
        "\n",
        "과거에는 이를 사용자가 일일히 해주었으나, 현재는 사람의 개입 없이 하이퍼 파라미터 튜닝을 수행하는 기술인 AutoML이 각광받고 있다."
      ],
      "metadata": {
        "id": "NIBPVJeZ-Qsl"
      }
    },
    {
      "cell_type": "markdown",
      "source": [
        "HPO를 수행할 때는 한 가지 주의 사항이 있다. \n",
        "\n",
        "A 매개변수에 대해 최적의 값을 찾았다고 해서 이를 고정시키고 B 매개변수에 대한 탐색을 하면 안된다는 점이다. 보통 매개변수 간에는 유기적인 관계가 존재하고, 따라서 B 매개변수가 달라지면 최적의 A 매개변수도 달라질 수 있기 때문이다.\n",
        "\n",
        "이러한 작업을 n중 for문으로 수행하면 굉장히 복잡하고 시간도 많이 걸릴 것이다. 그래서 우리는 `GridSearchCV`라는 사이킷런 제공 클래스를 사용할 것이다."
      ],
      "metadata": {
        "id": "Be2v00v5-4y4"
      }
    },
    {
      "cell_type": "code",
      "source": [
        "# configure\n",
        "params = {'min_impurity_decrease':[0.0001,0.0005,0.001,0.005]} # 노드 분할을 위한 불순도 감소 최소량"
      ],
      "metadata": {
        "id": "P2l8mvb-43qc"
      },
      "execution_count": 26,
      "outputs": []
    },
    {
      "cell_type": "code",
      "source": [
        "gs = GridSearchCV(DecisionTreeClassifier(random_state=42), params, n_jobs=-1) \n",
        "# n_jobs 매개변수로 병렬 실행에 사용할 CPU 코어 수를 지정할 수 있다. \n",
        "# -1은 가능한 모든 CPU를 사용한다\n",
        "\n",
        "gs.fit(X_train, y_train)\n",
        "print(gs.score(X_train, y_train))\n",
        "print(gs.score(X_test, y_test))"
      ],
      "metadata": {
        "colab": {
          "base_uri": "https://localhost:8080/"
        },
        "id": "XbS0NXE__mwF",
        "outputId": "d1f04bf6-8347-443b-8268-9c83cbb044a8"
      },
      "execution_count": 27,
      "outputs": [
        {
          "output_type": "stream",
          "name": "stdout",
          "text": [
            "0.9615162593804117\n",
            "0.8653846153846154\n"
          ]
        }
      ]
    },
    {
      "cell_type": "markdown",
      "source": [
        "`GridSearchCV`는 기본적으로 5-fold CV를 수행하는데, `params`에서 바꿔주는 `min_impurity_decrease`가 5개이므로 5 * 5 = 25개의 모델을 학습시킨다.\n",
        "\n",
        "이렇게 학습된 25개의 모델 중 최적의 매개변수를 가지고 학습된 모델은 `best_estimator_`를 통해 확인할 수 있으며, 이때 사용된 최적의 매개변수는 `best_params_`를 통해 확인할 수 있다."
      ],
      "metadata": {
        "id": "2WJ3L3OP_6KO"
      }
    },
    {
      "cell_type": "code",
      "source": [
        "dt = gs.best_estimator_\n",
        "print(gs.best_params_)\n",
        "\n",
        "print(dt.score(X_train, y_train))\n",
        "print(dt.score(X_test, y_test))"
      ],
      "metadata": {
        "colab": {
          "base_uri": "https://localhost:8080/"
        },
        "id": "tFA39NAF_1ZG",
        "outputId": "e61e5402-73db-4fd4-a07c-8bdb2e3f5df5"
      },
      "execution_count": 28,
      "outputs": [
        {
          "output_type": "stream",
          "name": "stdout",
          "text": [
            "{'min_impurity_decrease': 0.0001}\n",
            "0.9615162593804117\n",
            "0.8653846153846154\n"
          ]
        }
      ]
    },
    {
      "cell_type": "markdown",
      "source": [
        "모델의 실행 점수는 위 gs의 결과값과 동일함을 확인할 수 있다."
      ],
      "metadata": {
        "id": "zeVU_qqLAy1d"
      }
    },
    {
      "cell_type": "markdown",
      "source": [
        "각 매개변수에서 수행한 CV의 평균 점수가 확인하고 싶다면, `cv_results_` 속성의 `mea_test_score` 키에 저장된 값을 확인하면 된다."
      ],
      "metadata": {
        "id": "YLFD0lMMBKqH"
      }
    },
    {
      "cell_type": "code",
      "source": [
        "print(gs.cv_results_['mean_test_score'])"
      ],
      "metadata": {
        "colab": {
          "base_uri": "https://localhost:8080/"
        },
        "id": "iQGMIzGMAwrN",
        "outputId": "b7134192-50ba-4be5-98ac-351af2447773"
      },
      "execution_count": 29,
      "outputs": [
        {
          "output_type": "stream",
          "name": "stdout",
          "text": [
            "[0.86819297 0.86761605 0.86165044 0.85318557]\n"
          ]
        }
      ]
    },
    {
      "cell_type": "markdown",
      "source": [
        "넘파이의 `argmax()`를 이용하면 가장 큰 값의 인덱스를 출력할 수 있다."
      ],
      "metadata": {
        "id": "PbYFv7MLBfVf"
      }
    },
    {
      "cell_type": "code",
      "source": [
        "best_index = np.argmax(gs.cv_results_['mean_test_score'])\n",
        "print(gs.cv_results_['params'][best_index])"
      ],
      "metadata": {
        "colab": {
          "base_uri": "https://localhost:8080/"
        },
        "id": "fsTlLI-oBcK6",
        "outputId": "24220543-183c-4c04-bca0-91883412ba0c"
      },
      "execution_count": 30,
      "outputs": [
        {
          "output_type": "stream",
          "name": "stdout",
          "text": [
            "{'min_impurity_decrease': 0.0001}\n"
          ]
        }
      ]
    },
    {
      "cell_type": "markdown",
      "source": [
        "`GridSearchCV`에 사용할 매개변수의 종류를 늘려 더 복잡한 HPO를 수행해보자."
      ],
      "metadata": {
        "id": "xFv2E2DfB_An"
      }
    },
    {
      "cell_type": "code",
      "source": [
        "# configure\n",
        "params = {\n",
        "    'min_impurity_decrease':np.arange(0.0001, 0.001, 0.0001),\n",
        "    'max_depth':range(5,20,1),\n",
        "    'min_samples_split':range(2,100,10) # 노드를 나누기 위한 최소 샘플 수\n",
        "    } "
      ],
      "metadata": {
        "id": "1fDJoynHBwaP"
      },
      "execution_count": 34,
      "outputs": []
    },
    {
      "cell_type": "code",
      "source": [
        "gs = GridSearchCV(DecisionTreeClassifier(random_state=42), params, n_jobs=-1) \n",
        "gs.fit(X_train, y_train)\n",
        "print(gs.best_params_)\n",
        "print(np.max(gs.cv_results_['mean_test_score'])) # 최상의 교차 검증 점수"
      ],
      "metadata": {
        "colab": {
          "base_uri": "https://localhost:8080/"
        },
        "id": "VfrXa-RRCnbd",
        "outputId": "c6396a9f-7598-49aa-df1e-83dbdf8d2d18"
      },
      "execution_count": 35,
      "outputs": [
        {
          "output_type": "stream",
          "name": "stdout",
          "text": [
            "{'max_depth': 14, 'min_impurity_decrease': 0.0004, 'min_samples_split': 12}\n",
            "0.8683865773302731\n"
          ]
        }
      ]
    },
    {
      "cell_type": "markdown",
      "source": [
        "### +) 랜덤서치"
      ],
      "metadata": {
        "id": "n6shE-zZD-2y"
      }
    },
    {
      "cell_type": "markdown",
      "source": [
        "매개변수의 값을 정하기 어렵거나, 너무 많은 매개변수가 있어 그리드서치 방식이 시간이 너무 오래 걸릴 때는 랜덤서치(Random Search) 방식을 사용할 수 있다.\n",
        "\n",
        "랜덤 서치에는 매개변수 목록을 전달하는 것이 아니라 매개변수를 샘플링 할 수 있는 확률 분포 객체를 전달한다."
      ],
      "metadata": {
        "id": "OLRXv30TEBZA"
      }
    },
    {
      "cell_type": "markdown",
      "source": [
        "Scipy stats 서브 패키지 내 `uniform`과 `randint` 클래스는 모두 주어진 범위에서 고르게 값을 뽑는다. 이러한 방식을 '균등 분포에서 샘플링'한다고 하는데, `randint`는 정숫값을, `uniform`은 실숫값을 뽑는다는 차이가 있다."
      ],
      "metadata": {
        "id": "FL1fbp4AEZrr"
      }
    },
    {
      "cell_type": "code",
      "source": [
        "rgen = randint(0,10) # 0~10\n",
        "rgen.rvs(10) # 10개"
      ],
      "metadata": {
        "colab": {
          "base_uri": "https://localhost:8080/"
        },
        "id": "6DOuP9OpC5ON",
        "outputId": "4ef6f2a7-7abb-4c2a-e342-b90feb500be4"
      },
      "execution_count": 38,
      "outputs": [
        {
          "output_type": "execute_result",
          "data": {
            "text/plain": [
              "array([8, 7, 1, 9, 9, 7, 4, 2, 0, 5])"
            ]
          },
          "metadata": {},
          "execution_count": 38
        }
      ]
    },
    {
      "cell_type": "code",
      "source": [
        "ugen = uniform(0,1) # 0~10\n",
        "ugen.rvs(10)"
      ],
      "metadata": {
        "colab": {
          "base_uri": "https://localhost:8080/"
        },
        "id": "Rw9CgdB1FIVI",
        "outputId": "7cbb68f5-ef1b-4856-d799-6c5340c52afd"
      },
      "execution_count": 39,
      "outputs": [
        {
          "output_type": "execute_result",
          "data": {
            "text/plain": [
              "array([0.30223857, 0.95153179, 0.26803982, 0.14241315, 0.15072332,\n",
              "       0.48764667, 0.725663  , 0.8344644 , 0.77196743, 0.62427398])"
            ]
          },
          "metadata": {},
          "execution_count": 39
        }
      ]
    },
    {
      "cell_type": "markdown",
      "source": [
        "위 방식을 사용해서 랜덤 서치를 진행해보자"
      ],
      "metadata": {
        "id": "7__ON8OTFUc_"
      }
    },
    {
      "cell_type": "code",
      "source": [
        "# configure\n",
        "params = {\n",
        "    'min_impurity_decrease':uniform(0.0001, 0.001),\n",
        "    'max_depth':randint(20,50),\n",
        "    'min_samples_split':randint(2,25),\n",
        "    'min_samples_leaf':randint(1,25) # 리프 노드가 되기 위한 최소 샘플 개수\n",
        "    } "
      ],
      "metadata": {
        "id": "cQpqyoP7FO6g"
      },
      "execution_count": 40,
      "outputs": []
    },
    {
      "cell_type": "code",
      "source": [
        "rs = RandomizedSearchCV(DecisionTreeClassifier(random_state=42), params, \n",
        "                        n_iter=100, n_jobs=-1, random_state=42)\n",
        "rs.fit(X_train, y_train)"
      ],
      "metadata": {
        "colab": {
          "base_uri": "https://localhost:8080/"
        },
        "id": "jPOFytYAFuFC",
        "outputId": "642186ac-3c29-4cec-9530-6b60b24d266f"
      },
      "execution_count": 41,
      "outputs": [
        {
          "output_type": "execute_result",
          "data": {
            "text/plain": [
              "RandomizedSearchCV(estimator=DecisionTreeClassifier(random_state=42),\n",
              "                   n_iter=100, n_jobs=-1,\n",
              "                   param_distributions={'max_depth': <scipy.stats._distn_infrastructure.rv_frozen object at 0x7fe6b4ed5690>,\n",
              "                                        'min_impurity_decrease': <scipy.stats._distn_infrastructure.rv_frozen object at 0x7fe6b4ed5910>,\n",
              "                                        'min_samples_leaf': <scipy.stats._distn_infrastructure.rv_frozen object at 0x7fe6b44c6710>,\n",
              "                                        'min_samples_split': <scipy.stats._distn_infrastructure.rv_frozen object at 0x7fe6b44c6150>},\n",
              "                   random_state=42)"
            ]
          },
          "metadata": {},
          "execution_count": 41
        }
      ]
    },
    {
      "cell_type": "markdown",
      "source": [
        "위 `params`에 정의된 매개변수 범위에서 총 100번(`n_iter`) 샘플링하여 교차 검증을 수행하고 최적의 매개변수 조합을 찾는다."
      ],
      "metadata": {
        "id": "YDdd8KVlGDQC"
      }
    },
    {
      "cell_type": "code",
      "source": [
        "print(rs.best_params_)"
      ],
      "metadata": {
        "colab": {
          "base_uri": "https://localhost:8080/"
        },
        "id": "FalPE4YoF9py",
        "outputId": "36670626-b63a-4698-a126-a7693c09ab02"
      },
      "execution_count": 42,
      "outputs": [
        {
          "output_type": "stream",
          "name": "stdout",
          "text": [
            "{'max_depth': 39, 'min_impurity_decrease': 0.00034102546602601173, 'min_samples_leaf': 7, 'min_samples_split': 13}\n"
          ]
        }
      ]
    },
    {
      "cell_type": "code",
      "source": [
        "print(np.max(rs.cv_results_['mean_test_score']))"
      ],
      "metadata": {
        "colab": {
          "base_uri": "https://localhost:8080/"
        },
        "id": "8TYbzdhXGRqi",
        "outputId": "7697caec-736a-4bdd-8d8e-934460805463"
      },
      "execution_count": 43,
      "outputs": [
        {
          "output_type": "stream",
          "name": "stdout",
          "text": [
            "0.8695428296438884\n"
          ]
        }
      ]
    },
    {
      "cell_type": "code",
      "source": [
        "dt = rs.best_estimator_\n",
        "\n",
        "print(dt.score(X_train, y_train))\n",
        "print(dt.score(X_test, y_test))"
      ],
      "metadata": {
        "colab": {
          "base_uri": "https://localhost:8080/"
        },
        "id": "SPhKMZ3HGWeU",
        "outputId": "6b80360b-ee79-4034-b81a-c7e34ded469a"
      },
      "execution_count": 44,
      "outputs": [
        {
          "output_type": "stream",
          "name": "stdout",
          "text": [
            "0.8928227823744468\n",
            "0.86\n"
          ]
        }
      ]
    },
    {
      "cell_type": "code",
      "source": [
        ""
      ],
      "metadata": {
        "id": "81eNZTM6GcSG"
      },
      "execution_count": null,
      "outputs": []
    }
  ]
}