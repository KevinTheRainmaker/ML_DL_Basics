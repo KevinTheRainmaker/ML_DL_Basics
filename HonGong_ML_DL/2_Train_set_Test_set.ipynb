{
  "nbformat": 4,
  "nbformat_minor": 0,
  "metadata": {
    "colab": {
      "name": "2. TrainSet&TestSet.ipynb",
      "provenance": [],
      "collapsed_sections": [
        "4xhIWBoPQh_S",
        "Nh2qqGkwQJlN"
      ],
      "authorship_tag": "ABX9TyNnugyg9yK4jDl2/KBSNEFs",
      "include_colab_link": true
    },
    "kernelspec": {
      "name": "python3",
      "display_name": "Python 3"
    }
  },
  "cells": [
    {
      "cell_type": "markdown",
      "metadata": {
        "id": "view-in-github",
        "colab_type": "text"
      },
      "source": [
        "<a href=\"https://colab.research.google.com/github/KevinTheRainmaker/Hanbit-HonGong-ML-DL/blob/master/2_TrainSet%26TestSet.ipynb\" target=\"_parent\"><img src=\"https://colab.research.google.com/assets/colab-badge.svg\" alt=\"Open In Colab\"/></a>"
      ]
    },
    {
      "cell_type": "markdown",
      "metadata": {
        "id": "iw00-23bOe6K"
      },
      "source": [
        "# **<훈련세트와 테스트 세트>**\n",
        "\n",
        "### 지도 학습과 비지도 학습의 차이를 배운다. 모델을 훈련시키는 훈련 세트와 모델을 평가하기 위한 테스트 세트로 데이터를 나눠서 학습해 본다. "
      ]
    },
    {
      "cell_type": "markdown",
      "metadata": {
        "id": "jEaFGJ8hO29r"
      },
      "source": [
        "## **지도 학습과 비지도 학습**\n",
        "\n",
        "- 지도 학습 알고리즘은 훈련하기 위한 데이터와 정답이 필요하다. 여기서 '데이터'와 '정답'을 **input**과 **target**이라고 하며, 이 둘을 합쳐 **훈련 데이터**라고 부른다\n",
        "\n",
        " 이전에 수행했던 도미와 빙어를 구분하기 위해 사용한 k-NearestNeighbor 알고리즘의 경우 target이 있으므로 지도 학습에 속한다고 볼 수 있다. 지도 학습 알고리즘은 **특정 data의 feature를 기준으로 정답을 내고자 할 경우** 사용된다.\n",
        "\n",
        "  반면 **target이 없고 input data만 존재할 경우** 비지도 학습 알고리즘을 사용한다. target이 없으므로 정답을 맞힐 수는 없지만 **data를 잘 파악하거나 변형하는데 도움**을 준다."
      ]
    },
    {
      "cell_type": "markdown",
      "metadata": {
        "id": "4xhIWBoPQh_S"
      },
      "source": [
        "## **훈련 세트와 데이터 세트**\n",
        "\n",
        "- 머신러닝 알고리즘의 성능을 제대로 파악하기 위해서는 훈련 데이터와 평가에 사용할 데이터가 각각 달라야 한다.\n",
        "\n",
        "- 이렇게 하는 가장 간단한 방법은 평가를 위해 또 다른 데이터를 준비하거나, 이미 준비된 데이터 중에서 일부를 떼어 내 활용하는 것이다. 일반적으로 후자의 방법이 사용되며, 이때 평가에 사용되는 데이터를 **테스트 세트**, 훈련에 사용되는 데이터를 **훈련 세트**라고 부른다."
      ]
    },
    {
      "cell_type": "markdown",
      "metadata": {
        "id": "3xU4oi3JUl7o"
      },
      "source": [
        "> 1장에서 사용한 도미와 빙어 데이터를 하나의 파이썬 리스트로 준비"
      ]
    },
    {
      "cell_type": "code",
      "metadata": {
        "id": "hD5lR0rCU3Uf"
      },
      "source": [
        "fish_length = [25.4, 26.3, 26.5, 29.0, 29.0, 29.7, 29.7, 30.0, 30.0, 30.7, 31.0, 31.0, \n",
        "                31.5, 32.0, 32.0, 32.0, 33.0, 33.0, 33.5, 33.5, 34.0, 34.0, 34.5, 35.0, \n",
        "                35.0, 35.0, 35.0, 36.0, 36.0, 37.0, 38.5, 38.5, 39.5, 41.0, 41.0, 9.8, \n",
        "                10.5, 10.6, 11.0, 11.2, 11.3, 11.8, 11.8, 12.0, 12.2, 12.4, 13.0, 14.3, 15.0]\n",
        "fish_weight = [242.0, 290.0, 340.0, 363.0, 430.0, 450.0, 500.0, 390.0, 450.0, 500.0, 475.0, 500.0, \n",
        "                500.0, 340.0, 600.0, 600.0, 700.0, 700.0, 610.0, 650.0, 575.0, 685.0, 620.0, 680.0, \n",
        "                700.0, 725.0, 720.0, 714.0, 850.0, 1000.0, 920.0, 955.0, 925.0, 975.0, 950.0, 6.7, \n",
        "                7.5, 7.0, 9.7, 9.8, 8.7, 10.0, 9.9, 9.8, 12.2, 13.4, 12.2, 19.7, 19.9]"
      ],
      "execution_count": null,
      "outputs": []
    },
    {
      "cell_type": "markdown",
      "metadata": {
        "id": "WjiId3VbVHBF"
      },
      "source": [
        "> 두 파이썬 리스트를 순화하면서 각 생선의 길이와 무게를 하나의 리스트로 담은 2차원 리스트를 생성\n",
        "\n",
        "- 각각의 생선 데이터를 **샘플**이라고 부른다. 현재 리스트에는 총 49개의 샘플이 존재한다."
      ]
    },
    {
      "cell_type": "code",
      "metadata": {
        "id": "qIDIMDYgVFQP"
      },
      "source": [
        "fish_data = [[l,w] for l, w in zip(fish_length, fish_weight)]\n",
        "fish_target = [1]*35 + [0]*14"
      ],
      "execution_count": null,
      "outputs": []
    },
    {
      "cell_type": "markdown",
      "metadata": {
        "id": "fguVPxIcViU9"
      },
      "source": [
        "> 사이킷런의 KNeighborsClassifier 클래스를 import하여 모델 객체 생성"
      ]
    },
    {
      "cell_type": "code",
      "metadata": {
        "id": "oNTqp1xIWMEg"
      },
      "source": [
        "from sklearn.neighbors import KNeighborsClassifier\n",
        "kn = KNeighborsClassifier()"
      ],
      "execution_count": null,
      "outputs": []
    },
    {
      "cell_type": "markdown",
      "metadata": {
        "id": "ci8TyM_gWYfy"
      },
      "source": [
        "> 처음 35개 데이터를 훈련 세트, 나머지 14개를 테스트 세트로 사용하기 위해 **슬라이싱**을 이용 "
      ]
    },
    {
      "cell_type": "code",
      "metadata": {
        "id": "4UI71-9jYEox"
      },
      "source": [
        "# 훈련 세트로 입력값 중 0부터 34번째 인덱스까지 사용\n",
        "train_input = fish_data[:35]\n",
        "\n",
        "# 훈련 세트로 타깃값 중 0부터 34번째 인덱스까지 사용\n",
        "train_target = fish_target[:35]\n",
        "\n",
        "# 테스트 세트로 입력값 중 35번째부터 마지막 인덱스까지 사용\n",
        "test_input = fish_data[35:]\n",
        "\n",
        "# 테스트 세트로 타깃값 중 35번째부터 마지막 인덱스까지 사용\n",
        "test_target = fish_target[35:]"
      ],
      "execution_count": null,
      "outputs": []
    },
    {
      "cell_type": "markdown",
      "metadata": {
        "id": "_IeqjHtvY69n"
      },
      "source": [
        "> 훈련 세트로 fit() 메서드를 호출해 모델을 훈련하고, 테스트 세트로 score() 메서드를 호출해 평가"
      ]
    },
    {
      "cell_type": "code",
      "metadata": {
        "colab": {
          "base_uri": "https://localhost:8080/"
        },
        "id": "y-NqcCyzZTzs",
        "outputId": "bf1237eb-fd43-453a-f9e5-011a645980c1"
      },
      "source": [
        "kn = kn.fit(train_input, train_target)\n",
        "kn.score(test_input, test_target)"
      ],
      "execution_count": null,
      "outputs": [
        {
          "output_type": "execute_result",
          "data": {
            "text/plain": [
              "0.0"
            ]
          },
          "metadata": {
            "tags": []
          },
          "execution_count": 24
        }
      ]
    },
    {
      "cell_type": "markdown",
      "metadata": {
        "id": "Z43kwBlfBy_J"
      },
      "source": [
        ">정확도가 0.0임을 확인할 수 있다. >> 훈련 세트에는 '빙어 데이터'가 없기 때문 (**샘플링 편향**)\n",
        "\n",
        "- 이를 해결하기 위해서는 샘플 추출 전 데이터를 섞거나 골고루 샘플을 추출하는 과정이 필요하다 >> **Numpy이용**\n"
      ]
    },
    {
      "cell_type": "markdown",
      "metadata": {
        "id": "K23eHFiWDO7U"
      },
      "source": [
        "## **넘파이** \n",
        "- 파이썬의 대표적인 배열 라이브러리 >> 고차원의 배열을 손쉽게 만들고 조작할 수 있는 기능 제공"
      ]
    },
    {
      "cell_type": "markdown",
      "metadata": {
        "id": "PXmHG7JsDyGZ"
      },
      "source": [
        "> 생선 데이터를 2차원 넘파이 배열로 변환"
      ]
    },
    {
      "cell_type": "code",
      "metadata": {
        "id": "3qnXAcqGZcsg",
        "colab": {
          "base_uri": "https://localhost:8080/"
        },
        "outputId": "540a5a11-0658-4256-b173-5fe7090e417e"
      },
      "source": [
        "import numpy as np\n",
        "\n",
        "input_arr = np.array(fish_data)\n",
        "target_arr = np.array(fish_target)\n",
        "\n",
        "print(input_arr) # 2열(feature) / 49행(sample)"
      ],
      "execution_count": null,
      "outputs": [
        {
          "output_type": "stream",
          "text": [
            "[[  25.4  242. ]\n",
            " [  26.3  290. ]\n",
            " [  26.5  340. ]\n",
            " [  29.   363. ]\n",
            " [  29.   430. ]\n",
            " [  29.7  450. ]\n",
            " [  29.7  500. ]\n",
            " [  30.   390. ]\n",
            " [  30.   450. ]\n",
            " [  30.7  500. ]\n",
            " [  31.   475. ]\n",
            " [  31.   500. ]\n",
            " [  31.5  500. ]\n",
            " [  32.   340. ]\n",
            " [  32.   600. ]\n",
            " [  32.   600. ]\n",
            " [  33.   700. ]\n",
            " [  33.   700. ]\n",
            " [  33.5  610. ]\n",
            " [  33.5  650. ]\n",
            " [  34.   575. ]\n",
            " [  34.   685. ]\n",
            " [  34.5  620. ]\n",
            " [  35.   680. ]\n",
            " [  35.   700. ]\n",
            " [  35.   725. ]\n",
            " [  35.   720. ]\n",
            " [  36.   714. ]\n",
            " [  36.   850. ]\n",
            " [  37.  1000. ]\n",
            " [  38.5  920. ]\n",
            " [  38.5  955. ]\n",
            " [  39.5  925. ]\n",
            " [  41.   975. ]\n",
            " [  41.   950. ]\n",
            " [   9.8    6.7]\n",
            " [  10.5    7.5]\n",
            " [  10.6    7. ]\n",
            " [  11.     9.7]\n",
            " [  11.2    9.8]\n",
            " [  11.3    8.7]\n",
            " [  11.8   10. ]\n",
            " [  11.8    9.9]\n",
            " [  12.     9.8]\n",
            " [  12.2   12.2]\n",
            " [  12.4   13.4]\n",
            " [  13.    12.2]\n",
            " [  14.3   19.7]\n",
            " [  15.    19.9]]\n"
          ],
          "name": "stdout"
        }
      ]
    },
    {
      "cell_type": "code",
      "metadata": {
        "colab": {
          "base_uri": "https://localhost:8080/"
        },
        "id": "EUDy0Zn9FI8V",
        "outputId": "059b387d-f474-415f-accc-1af223f1a70d"
      },
      "source": [
        "print(input_arr.shape) # (sample number, feature number)"
      ],
      "execution_count": null,
      "outputs": [
        {
          "output_type": "stream",
          "text": [
            "(49, 2)\n"
          ],
          "name": "stdout"
        }
      ]
    },
    {
      "cell_type": "markdown",
      "metadata": {
        "id": "SHHQT3g3E9O0"
      },
      "source": [
        "> 준비된 배열에서 무작위로 샘플을 선택하여 훈련 세트와 테스트 세트로 이동 >> 인덱스 섞은 후 input_arr과 target_arr에서 샘플을 선택 (**np.arange()함수 사용**)"
      ]
    },
    {
      "cell_type": "code",
      "metadata": {
        "colab": {
          "base_uri": "https://localhost:8080/"
        },
        "id": "7LdK_a9xGGfT",
        "outputId": "7ef26cbc-e394-4440-da71-50f8c03bb435"
      },
      "source": [
        "np.random.seed(42) # 일정한 결과를 얻기 위해 seed를 지정해 주었다. 매번 다른 결과를 얻고 싶을 경우 seed 제거\n",
        "\n",
        "index = np.arange(49) # arange(N) == 0부터 N-1까지 1씩 증가하는 배열 생성\n",
        "np.random.shuffle(index) # 배열 무작위 셔플\n",
        "\n",
        "print(index)"
      ],
      "execution_count": null,
      "outputs": [
        {
          "output_type": "stream",
          "text": [
            "[13 45 47 44 17 27 26 25 31 19 12  4 34  8  3  6 40 41 46 15  9 16 24 33\n",
            " 30  0 43 32  5 29 11 36  1 21  2 37 35 23 39 10 22 18 48 20  7 42 14 28\n",
            " 38]\n"
          ],
          "name": "stdout"
        }
      ]
    },
    {
      "cell_type": "markdown",
      "metadata": {
        "id": "14IdmGo0Kr8Q"
      },
      "source": [
        "> 넘파이는 슬라이싱 외에 **배열 인덱싱** 기능을 제공한다. 여러 개의 인덱스로 한 번에 여러 개의 원소를 선택할 수 있는 것"
      ]
    },
    {
      "cell_type": "code",
      "metadata": {
        "colab": {
          "base_uri": "https://localhost:8080/"
        },
        "id": "4OtQlOYtHXrY",
        "outputId": "1373d551-d9c1-4458-eff0-cbda2463d278"
      },
      "source": [
        "print(input_arr[[1,3]]) # input_arr에서 두 번째와 네 번째 샘플을 선택하여 출력가능"
      ],
      "execution_count": null,
      "outputs": [
        {
          "output_type": "stream",
          "text": [
            "[[ 26.3 290. ]\n",
            " [ 29.  363. ]]\n"
          ],
          "name": "stdout"
        }
      ]
    },
    {
      "cell_type": "markdown",
      "metadata": {
        "id": "zfCA0PQ0LM6a"
      },
      "source": [
        "> 이와 비슷한 방식으로, 리스트 대신 넘파이 배열을 인덱스로 전달할 수 있다 \n",
        "- 처음 35개를 input_arr과 target_arr에 전달하여 랜덤하게 35개의 샘플을 훈련 세트로 만들기"
      ]
    },
    {
      "cell_type": "code",
      "metadata": {
        "colab": {
          "base_uri": "https://localhost:8080/"
        },
        "id": "OOvtfTw5K_rL",
        "outputId": "f3b8270f-bab5-433b-91fe-0282df94dc07"
      },
      "source": [
        "train_input = input_arr[index[:35]]\n",
        "train_target = target_arr[index[:35]]\n",
        "\n",
        "# 만들어진 index의 첫 번째 값은 13 >> train_input의 첫 번째 원소는 input_arr의 열 네 번째 원소\n",
        "print(input_arr[13], train_input[0])"
      ],
      "execution_count": null,
      "outputs": [
        {
          "output_type": "stream",
          "text": [
            "[ 32. 340.] [ 32. 340.]\n"
          ],
          "name": "stdout"
        }
      ]
    },
    {
      "cell_type": "markdown",
      "metadata": {
        "id": "ogFz5opGMFaM"
      },
      "source": [
        "> 나머지 14개를 테스트 세트로 만들기"
      ]
    },
    {
      "cell_type": "code",
      "metadata": {
        "id": "5uLC6nm9MBXh"
      },
      "source": [
        "test_input = input_arr[index[35:]]\n",
        "test_target = target_arr[index[35:]]"
      ],
      "execution_count": null,
      "outputs": []
    },
    {
      "cell_type": "markdown",
      "metadata": {
        "id": "twlqcI_6MUGV"
      },
      "source": [
        "> 각각의 세트에 도미와 빙어가 잘 섞여있는지 확인하기 위해서 산점도로 시각화"
      ]
    },
    {
      "cell_type": "code",
      "metadata": {
        "colab": {
          "base_uri": "https://localhost:8080/",
          "height": 279
        },
        "id": "iGMtUd91MTN-",
        "outputId": "2cccf527-aa1f-48f8-e6bc-9a8c2a633fad"
      },
      "source": [
        "import matplotlib.pyplot as plt\n",
        "\n",
        "plt.scatter(train_input[:,0],train_input[:,1]) # train_input[:,0] == fish length / train_input[:,1] == fish weight\n",
        "plt.scatter(test_input[:,0],test_input[:,1])\n",
        "\n",
        "plt.xlabel('length')\n",
        "plt.ylabel('weight')\n",
        "\n",
        "plt.show()"
      ],
      "execution_count": null,
      "outputs": [
        {
          "output_type": "display_data",
          "data": {
            "image/png": "[encoded data removed]",
            "text/plain": [
              "<Figure size 432x288 with 1 Axes>"
            ]
          },
          "metadata": {
            "tags": [],
            "needs_background": "light"
          }
        }
      ]
    },
    {
      "cell_type": "markdown",
      "metadata": {
        "id": "QJRxlGi9NsjR"
      },
      "source": [
        "## 두 번째 머신러닝 프로그램\n",
        "- 앞서 만든 훈련 세트와 테스트 세트로 k-NearestNeighbor 모델을 훈련시켜보도록 하자.\n",
        "\n",
        "- fit() 메서드들 실행할 때마다 KNeighborsClassifier 클래스의 객체는 이전에 학습한 모든 것을 잃어버린다 \n",
        " - 유지하고 싶은 경우 KNeighborsClassifier 클래스 객체를 새로 만들어야 함"
      ]
    },
    {
      "cell_type": "code",
      "metadata": {
        "id": "wO-NLiZENosm"
      },
      "source": [
        "kn = kn.fit(train_input, train_target)"
      ],
      "execution_count": null,
      "outputs": []
    },
    {
      "cell_type": "code",
      "metadata": {
        "colab": {
          "base_uri": "https://localhost:8080/"
        },
        "id": "3kKppTe1O3uf",
        "outputId": "a073d323-1b53-4e35-e0c1-36c3148f9852"
      },
      "source": [
        "kn.score(test_input, test_target)"
      ],
      "execution_count": null,
      "outputs": [
        {
          "output_type": "execute_result",
          "data": {
            "text/plain": [
              "1.0"
            ]
          },
          "metadata": {
            "tags": []
          },
          "execution_count": 33
        }
      ]
    },
    {
      "cell_type": "markdown",
      "metadata": {
        "id": "zd0v9yHpPCte" 
      },
      "source": [
        "> 100%의 정확도로 테스트 세트에 있는 모든 샘플을 맞췄다.\n",
        "- predict() 메서드로 테스트 세트의 예측결과와 실제 타깃을 확인해보자\n"
      ]
    },
    {
      "cell_type": "code",
      "metadata": {
        "colab": {
          "base_uri": "https://localhost:8080/"
        },
        "id": "uYqACKVYO-j8",
        "outputId": "7ad35935-67e5-4430-ca15-6fc20bc08d45"
      },
      "source": [
        "kn.predict(test_input)"
      ],
      "execution_count": null,
      "outputs": [
        {
          "output_type": "execute_result",
          "data": {
            "text/plain": [
              "array([0, 0, 1, 0, 1, 1, 1, 0, 1, 1, 0, 1, 1, 0])"
            ]
          },
          "metadata": {
            "tags": []
          },
          "execution_count": 34
        }
      ]
    },
    {
      "cell_type": "code",
      "metadata": {
        "colab": {
          "base_uri": "https://localhost:8080/"
        },
        "id": "TDKQ4UHXPUXT",
        "outputId": "e41d36d9-3cdd-4a7e-e3b0-57bcc635dba7"
      },
      "source": [
        "test_target"
      ],
      "execution_count": null,
      "outputs": [
        {
          "output_type": "execute_result",
          "data": {
            "text/plain": [
              "array([0, 0, 1, 0, 1, 1, 1, 0, 1, 1, 0, 1, 1, 0])"
            ]
          },
          "metadata": {
            "tags": []
          },
          "execution_count": 35
        }
      ]
    },
    {
      "cell_type": "markdown",
      "metadata": {
        "id": "AIPtAlt_S_Oo"
      },
      "source": [
        "\n",
        "\n",
        "---\n",
        "\n",
        "---\n",
        "\n",
        "\n",
        "\n",
        "\n",
        "\n"
      ]
    },
    {
      "cell_type": "markdown",
      "metadata": {
        "id": "sxjdiLNhTGNt"
      },
      "source": [
        "## **2일차. 훈련 세트와 테스트 세트**\n",
        "- 모델의 공정하고 정확한 평가를 위해서는 학습에 사용되지 않은 데이터를 이용하여 평가해야 한다\n",
        "- 훈련 데이터 => 훈련 세트 + 테스트 세트\n",
        "- 훈련 세트와 테스트 세트를 올바르게 나누기 위해 파이썬의 다차원 배열 라이브러리인 넘파이를 사용해보았다\n",
        "- 넘파이는 파이썬의 리스트와 비슷하지만 고차원의 큰 배열을 효과적으로 다룰 수 있는 다양한 도구를 제공한다"
      ]
    },
    {
      "cell_type": "markdown",
      "metadata": {
        "id": "Nh2qqGkwQJlN"
      },
      "source": [
        "## **<전체 소스코드>**"
      ]
    },
    {
      "cell_type": "code",
      "metadata": {
        "id": "jkR8zeT8PV1-"
      },
      "source": [
        "'''## 훈련 세트와 테스트 세트'''\n",
        "fish_length = [25.4, 26.3, 26.5, 29.0, 29.0, 29.7, 29.7, 30.0, 30.0, 30.7, 31.0, 31.0, \n",
        "                31.5, 32.0, 32.0, 32.0, 33.0, 33.0, 33.5, 33.5, 34.0, 34.0, 34.5, 35.0, \n",
        "                35.0, 35.0, 35.0, 36.0, 36.0, 37.0, 38.5, 38.5, 39.5, 41.0, 41.0, 9.8, \n",
        "                10.5, 10.6, 11.0, 11.2, 11.3, 11.8, 11.8, 12.0, 12.2, 12.4, 13.0, 14.3, 15.0]\n",
        "fish_weight = [242.0, 290.0, 340.0, 363.0, 430.0, 450.0, 500.0, 390.0, 450.0, 500.0, 475.0, 500.0, \n",
        "                500.0, 340.0, 600.0, 600.0, 700.0, 700.0, 610.0, 650.0, 575.0, 685.0, 620.0, 680.0, \n",
        "                700.0, 725.0, 720.0, 714.0, 850.0, 1000.0, 920.0, 955.0, 925.0, 975.0, 950.0, 6.7, \n",
        "                7.5, 7.0, 9.7, 9.8, 8.7, 10.0, 9.9, 9.8, 12.2, 13.4, 12.2, 19.7, 19.9]\n",
        "\n",
        "fish_data = [[l, w] for l, w in zip(fish_length, fish_weight)]\n",
        "fish_target = [1]*35 + [0]*14\n",
        "\n",
        "from sklearn.neighbors import KNeighborsClassifier\n",
        "kn = KNeighborsClassifier()\n",
        "\n",
        "print(fish_data[4])\n",
        "print(fish_data[0:5])\n",
        "print(fish_data[:5])\n",
        "print(fish_data[44:])\n",
        "\n",
        "# 훈련 세트로 입력값 중 0부터 34번째 인덱스까지 사용\n",
        "train_input = fish_data[:35]\n",
        "\n",
        "# 훈련 세트로 타깃값 중 0부터 34번째 인덱스까지 사용\n",
        "train_target = fish_target[:35]\n",
        "\n",
        "# 테스트 세트로 입력값 중 0부터 34번째 인덱스까지 사용\n",
        "test_input = fish_data[35:]\n",
        "\n",
        "# 테스트 세트로 타깃값 중 0부터 34번째 인덱스까지 사용\n",
        "test_target = fish_target[35:]\n",
        "\n",
        "kn = kn.fit(train_input, train_target)\n",
        "kn.score(test_input, test_target)\n",
        "\n",
        "\n",
        "'''## 넘파이'''\n",
        "import numpy as np\n",
        "\n",
        "input_arr = np.array(fish_data)\n",
        "target_arr = np.array(fish_target)\n",
        "\n",
        "print(input_arr)\n",
        "\n",
        "print(input_arr.shape) # 이 명령을 사용하면 (sample number, feature number) 출력 가능\n",
        "\n",
        "np.random.seed(42)\n",
        "index = np.arange(49)\n",
        "np.random.shuffle(index)\n",
        "\n",
        "print(index)\n",
        "\n",
        "print(input_arr[[1,3]])\n",
        "\n",
        "train_input = input_arr[index[:35]]\n",
        "train_target = target_arr[index[:35]]\n",
        "\n",
        "print(input_arr[13], train_input[0])\n",
        "\n",
        "test_input = input_arr[index[35:]]\n",
        "test_target = target_arr[index[35:]]\n",
        "\n",
        "# 시각화\n",
        "import matplotlib.pyplot as plt\n",
        "\n",
        "plt.scatter(train_input[:, 0], train_input[:, 1])\n",
        "plt.scatter(test_input[:, 0], test_input[:, 1])\n",
        "plt.xlabel('length')\n",
        "plt.ylabel('weight')\n",
        "plt.show()\n",
        "\n",
        "# 두 번째 머신러닝 프로그램\n",
        "kn = kn.fit(train_input, train_target)\n",
        "kn.score(test_input, test_target)\n",
        "kn.predict(test_input)\n",
        "test_target"
      ],
      "execution_count": null,
      "outputs": []
    }
  ]
}
