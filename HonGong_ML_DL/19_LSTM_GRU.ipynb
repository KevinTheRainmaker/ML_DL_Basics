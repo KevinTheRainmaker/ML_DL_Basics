{
  "nbformat": 4,
  "nbformat_minor": 0,
  "metadata": {
    "colab": {
      "name": "19_LSTM_GRU.ipynb",
      "provenance": [],
      "collapsed_sections": [],
      "authorship_tag": "ABX9TyNABeUARKBagpjUdyZv4Hbi",
      "include_colab_link": true
    },
    "kernelspec": {
      "name": "python3",
      "display_name": "Python 3"
    },
    "language_info": {
      "name": "python"
    }
  },
  "cells": [
    {
      "cell_type": "markdown",
      "metadata": {
        "id": "view-in-github",
        "colab_type": "text"
      },
      "source": [
        "<a href=\"https://colab.research.google.com/github/KevinTheRainmaker/ML_DL_Basics/blob/master/HonGong_ML_DL/19_LSTM_GRU.ipynb\" target=\"_parent\"><img src=\"https://colab.research.google.com/assets/colab-badge.svg\" alt=\"Open In Colab\"/></a>"
      ]
    },
    {
      "cell_type": "markdown",
      "source": [
        "# LSTM과 GRU 셀\n",
        "\n",
        "### **키워드:**  LSTM, 셀 상태, GRU\n",
        "\n",
        "순환 신경망에서 빼놓을 수 없는 핵심 기술인 LSTM과 GRU 셀을 사용한 모델을 만들어보자."
      ],
      "metadata": {
        "id": "SYeSQm6vWTWu"
      }
    },
    {
      "cell_type": "markdown",
      "source": [
        "일반적으로 기본 순환층은 긴 시퀀스를 학습하기 어렵다. 시퀀스가 길수록 순환되는 은닉 상태에 담긴 정보가 점차 희석되기 때문에 멀리 떨어져 있는 단어 정보를 인식하는데 어려움이 있다.\n",
        "\n",
        "이를 해결하기 위해 LSTM과 GRU 셀이 발명되었다."
      ],
      "metadata": {
        "id": "6eMZ3eIoXOmc"
      }
    },
    {
      "cell_type": "code",
      "source": [
        "# packages\n",
        "\n",
        "from tensorflow import keras\n",
        "from tensorflow.keras.datasets import imdb\n",
        "from tensorflow.keras.preprocessing.sequence import pad_sequences\n",
        "\n",
        "from sklearn.model_selection import train_test_split\n",
        "\n",
        "import matplotlib.pyplot as plt"
      ],
      "metadata": {
        "id": "4qC5UukUdW63"
      },
      "execution_count": 1,
      "outputs": []
    },
    {
      "cell_type": "markdown",
      "source": [
        "## LSTM 구조"
      ],
      "metadata": {
        "id": "t1GBYPLhXhvw"
      }
    },
    {
      "cell_type": "markdown",
      "source": [
        "LSTM은 Long Shor-Term Memory의 약자로, 단기 기억을 오래 기억하기 위해 고안된 구조이다. LSTM에는 입력과 가중치를 곤하고 절편을 더해 활성화 함수를 통과시키는 구조를 여러 개 가지고 있다. 이런 계산 결과는 다음 타임스텝에 재사용된다."
      ],
      "metadata": {
        "id": "1g_Ey_9sXjSe"
      }
    },
    {
      "cell_type": "markdown",
      "source": [
        "입력과 이전 타임스텝의 은닉 상태를 가중치에 곱한 후 활성화 함수를 통과시킨 값을 다음 은닉 상태를 만들기 위해 사용한다. 이때 기본 순환층과는 달리 시그모이드 활성화 함수를 사용한다. 여기에 tanh 활성화 함수를 통과한 어떤 값을 곱해 은닉 상태를 만든다. 여기서의 어떤 값은 셀 상태로부터 만들어진 은닉 상태이다.\n",
        "\n",
        "LSTM에는 순환되는 상태는 은닉 상태와 셀 상태(cell state)로 2개이다. 은닉 상태와 달리 셀 상태는 다음 층으로 전달되지 않고 LSTM 셀에서 순환만 되는 값이다. 입력과 은닉 상태를 첫 번째 가중치와는 다른 가중치에 곱하여 시그모이드 함수를 통과시킨 후 이전 타임스텝의 셀 상태와 곱하여 새로운 셀 상태를 만든다. 이 셀 상태가 tanh 함수를 통과하여 새로운 은닉 상태를 만드는데 기여한다."
      ],
      "metadata": {
        "id": "mzfMkjcPX9NX"
      }
    },
    {
      "cell_type": "markdown",
      "source": [
        "여기에 2개의 작은 셀이 더 추가되어 셀 상태를 만드는 데 기여한다. 이전과 마찬가지로 입력과 은닉 상태를 각기 다른 가중치에 곱한 다음, 하나의 시그모이드 함수를 통과시키고 다른 하나는 tanh 함수를 통과시킨다. 그 다음 두 결과를 곱하여 이전 셀 상태와 더하면 최종적인 다음 셀 상태가 된다."
      ],
      "metadata": {
        "id": "ukAiXDd9byfo"
      }
    },
    {
      "cell_type": "markdown",
      "source": [
        "<img src='https://user-images.githubusercontent.com/76294398/147720072-4a3a011f-5ccb-4c83-bc5b-518cc33c5b26.png' width=40% height=80%>\n"
      ],
      "metadata": {
        "id": "dOQWce7pcZXd"
      }
    },
    {
      "cell_type": "markdown",
      "source": [
        "삭제 게이트(forget gate)는 셀 상태에 있는 정보를 제거하는 역할을 하고 입력 게이트(input gate)는 새로운 정보를 셀 상태에 추가한다. 출력 게이트(output gate)를 통해서 이 셀 상태가 다음 은닉 상태로 출력된다."
      ],
      "metadata": {
        "id": "lIbo-BG1c03J"
      }
    },
    {
      "cell_type": "markdown",
      "source": [
        "## LSTM 신경망 훈련하기"
      ],
      "metadata": {
        "id": "f5y1LBgtdvB4"
      }
    },
    {
      "cell_type": "code",
      "execution_count": 2,
      "metadata": {
        "colab": {
          "base_uri": "https://localhost:8080/"
        },
        "id": "UzEDHeP_WP2g",
        "outputId": "96d3fc0f-e72e-4a3b-d175-b289b59dc7c8"
      },
      "outputs": [
        {
          "output_type": "stream",
          "name": "stdout",
          "text": [
            "Downloading data from https://storage.googleapis.com/tensorflow/tf-keras-datasets/imdb.npz\n",
            "17465344/17464789 [==============================] - 0s 0us/step\n",
            "17473536/17464789 [==============================] - 0s 0us/step\n"
          ]
        }
      ],
      "source": [
        "# dataset\n",
        "(X_train, y_train), (X_test, y_test) = imdb.load_data(num_words=500)\n",
        "\n",
        "X_train, X_val, y_train, y_val = train_test_split(X_train, y_train, test_size=0.2, random_state=42)\n",
        "\n",
        "train_seq = pad_sequences(X_train, maxlen=100)\n",
        "val_seq = pad_sequences(X_val, maxlen=100)"
      ]
    },
    {
      "cell_type": "code",
      "source": [
        "model = keras.Sequential()\n",
        "model.add(keras.layers.Embedding(500, 16, input_length=100))\n",
        "model.add(keras.layers.LSTM(8))\n",
        "model.add(keras.layers.Dense(1, activation='sigmoid'))\n",
        "\n",
        "model.summary()"
      ],
      "metadata": {
        "colab": {
          "base_uri": "https://localhost:8080/"
        },
        "id": "s2cOOBEeeW6s",
        "outputId": "6928855f-0fe3-416d-f903-628606c4e333"
      },
      "execution_count": 3,
      "outputs": [
        {
          "output_type": "stream",
          "name": "stdout",
          "text": [
            "Model: \"sequential\"\n",
            "_________________________________________________________________\n",
            " Layer (type)                Output Shape              Param #   \n",
            "=================================================================\n",
            " embedding (Embedding)       (None, 100, 16)           8000      \n",
            "                                                                 \n",
            " lstm (LSTM)                 (None, 8)                 800       \n",
            "                                                                 \n",
            " dense (Dense)               (None, 1)                 9         \n",
            "                                                                 \n",
            "=================================================================\n",
            "Total params: 8,809\n",
            "Trainable params: 8,809\n",
            "Non-trainable params: 0\n",
            "_________________________________________________________________\n"
          ]
        }
      ]
    },
    {
      "cell_type": "markdown",
      "source": [
        "LSTM에는 작은 셀이 4개가 있으므로 SimpleRNN 대비 모델 파라미터 개수가 4배 늘어 800개가 되었다."
      ],
      "metadata": {
        "id": "fogaqcCserBY"
      }
    },
    {
      "cell_type": "code",
      "source": [
        "rmsprop = keras.optimizers.RMSprop(learning_rate=0.0001)\n",
        "model.compile(optimizer=rmsprop, loss='binary_crossentropy', metrics=['accuracy'])\n",
        "\n",
        "checkpoint_cb = keras.callbacks.ModelCheckpoint('best-simplernn-model.h5')\n",
        "early_stopping_cb = keras.callbacks.EarlyStopping(patience=3, restore_best_weights=True)\n",
        "\n",
        "history = model.fit(train_seq, y_train, epochs=100, batch_size=64,\n",
        "                    validation_data=(val_seq, y_val),\n",
        "                    callbacks=[checkpoint_cb, early_stopping_cb])"
      ],
      "metadata": {
        "colab": {
          "base_uri": "https://localhost:8080/"
        },
        "id": "dDRVzqY4eoSL",
        "outputId": "17b58350-af01-418d-a6e9-98dce21639cd"
      },
      "execution_count": 4,
      "outputs": [
        {
          "output_type": "stream",
          "name": "stdout",
          "text": [
            "Epoch 1/100\n",
            "313/313 [==============================] - 15s 41ms/step - loss: 0.6922 - accuracy: 0.5465 - val_loss: 0.6910 - val_accuracy: 0.5808\n",
            "Epoch 2/100\n",
            "313/313 [==============================] - 14s 45ms/step - loss: 0.6884 - accuracy: 0.6234 - val_loss: 0.6856 - val_accuracy: 0.6328\n",
            "Epoch 3/100\n",
            "313/313 [==============================] - 11s 36ms/step - loss: 0.6775 - accuracy: 0.6619 - val_loss: 0.6663 - val_accuracy: 0.6430\n",
            "Epoch 4/100\n",
            "313/313 [==============================] - 11s 36ms/step - loss: 0.6298 - accuracy: 0.7058 - val_loss: 0.6064 - val_accuracy: 0.7304\n",
            "Epoch 5/100\n",
            "313/313 [==============================] - 11s 36ms/step - loss: 0.5885 - accuracy: 0.7397 - val_loss: 0.5828 - val_accuracy: 0.7440\n",
            "Epoch 6/100\n",
            "313/313 [==============================] - 15s 48ms/step - loss: 0.5663 - accuracy: 0.7539 - val_loss: 0.5622 - val_accuracy: 0.7534\n",
            "Epoch 7/100\n",
            "313/313 [==============================] - 11s 36ms/step - loss: 0.5473 - accuracy: 0.7624 - val_loss: 0.5451 - val_accuracy: 0.7588\n",
            "Epoch 8/100\n",
            "313/313 [==============================] - 11s 36ms/step - loss: 0.5299 - accuracy: 0.7708 - val_loss: 0.5287 - val_accuracy: 0.7620\n",
            "Epoch 9/100\n",
            "313/313 [==============================] - 12s 38ms/step - loss: 0.5141 - accuracy: 0.7763 - val_loss: 0.5139 - val_accuracy: 0.7726\n",
            "Epoch 10/100\n",
            "313/313 [==============================] - 11s 35ms/step - loss: 0.4995 - accuracy: 0.7826 - val_loss: 0.5016 - val_accuracy: 0.7792\n",
            "Epoch 11/100\n",
            "313/313 [==============================] - 11s 36ms/step - loss: 0.4860 - accuracy: 0.7903 - val_loss: 0.4916 - val_accuracy: 0.7792\n",
            "Epoch 12/100\n",
            "313/313 [==============================] - 11s 35ms/step - loss: 0.4749 - accuracy: 0.7951 - val_loss: 0.4811 - val_accuracy: 0.7844\n",
            "Epoch 13/100\n",
            "313/313 [==============================] - 11s 36ms/step - loss: 0.4648 - accuracy: 0.7987 - val_loss: 0.4747 - val_accuracy: 0.7856\n",
            "Epoch 14/100\n",
            "313/313 [==============================] - 11s 36ms/step - loss: 0.4566 - accuracy: 0.8021 - val_loss: 0.4664 - val_accuracy: 0.7912\n",
            "Epoch 15/100\n",
            "313/313 [==============================] - 12s 37ms/step - loss: 0.4491 - accuracy: 0.8055 - val_loss: 0.4691 - val_accuracy: 0.7896\n",
            "Epoch 16/100\n",
            "313/313 [==============================] - 11s 35ms/step - loss: 0.4435 - accuracy: 0.8064 - val_loss: 0.4577 - val_accuracy: 0.7920\n",
            "Epoch 17/100\n",
            "313/313 [==============================] - 11s 35ms/step - loss: 0.4387 - accuracy: 0.8080 - val_loss: 0.4558 - val_accuracy: 0.7934\n",
            "Epoch 18/100\n",
            "313/313 [==============================] - 11s 36ms/step - loss: 0.4349 - accuracy: 0.8089 - val_loss: 0.4526 - val_accuracy: 0.7924\n",
            "Epoch 19/100\n",
            "313/313 [==============================] - 12s 38ms/step - loss: 0.4312 - accuracy: 0.8099 - val_loss: 0.4484 - val_accuracy: 0.7952\n",
            "Epoch 20/100\n",
            "313/313 [==============================] - 11s 37ms/step - loss: 0.4284 - accuracy: 0.8103 - val_loss: 0.4482 - val_accuracy: 0.7976\n",
            "Epoch 21/100\n",
            "313/313 [==============================] - 11s 36ms/step - loss: 0.4258 - accuracy: 0.8123 - val_loss: 0.4457 - val_accuracy: 0.7988\n",
            "Epoch 22/100\n",
            "313/313 [==============================] - 12s 37ms/step - loss: 0.4234 - accuracy: 0.8135 - val_loss: 0.4443 - val_accuracy: 0.8004\n",
            "Epoch 23/100\n",
            "313/313 [==============================] - 11s 37ms/step - loss: 0.4216 - accuracy: 0.8120 - val_loss: 0.4419 - val_accuracy: 0.8026\n",
            "Epoch 24/100\n",
            "313/313 [==============================] - 11s 36ms/step - loss: 0.4197 - accuracy: 0.8155 - val_loss: 0.4449 - val_accuracy: 0.8006\n",
            "Epoch 25/100\n",
            "313/313 [==============================] - 11s 36ms/step - loss: 0.4182 - accuracy: 0.8126 - val_loss: 0.4427 - val_accuracy: 0.8026\n",
            "Epoch 26/100\n",
            "313/313 [==============================] - 12s 37ms/step - loss: 0.4167 - accuracy: 0.8132 - val_loss: 0.4389 - val_accuracy: 0.7942\n",
            "Epoch 27/100\n",
            "313/313 [==============================] - 11s 37ms/step - loss: 0.4149 - accuracy: 0.8152 - val_loss: 0.4383 - val_accuracy: 0.8022\n",
            "Epoch 28/100\n",
            "313/313 [==============================] - 12s 37ms/step - loss: 0.4136 - accuracy: 0.8162 - val_loss: 0.4383 - val_accuracy: 0.8034\n",
            "Epoch 29/100\n",
            "313/313 [==============================] - 12s 37ms/step - loss: 0.4126 - accuracy: 0.8150 - val_loss: 0.4358 - val_accuracy: 0.8002\n",
            "Epoch 30/100\n",
            "313/313 [==============================] - 12s 37ms/step - loss: 0.4115 - accuracy: 0.8162 - val_loss: 0.4355 - val_accuracy: 0.8040\n",
            "Epoch 31/100\n",
            "313/313 [==============================] - 12s 38ms/step - loss: 0.4108 - accuracy: 0.8166 - val_loss: 0.4349 - val_accuracy: 0.8038\n",
            "Epoch 32/100\n",
            "313/313 [==============================] - 12s 37ms/step - loss: 0.4101 - accuracy: 0.8156 - val_loss: 0.4345 - val_accuracy: 0.8056\n",
            "Epoch 33/100\n",
            "313/313 [==============================] - 12s 37ms/step - loss: 0.4084 - accuracy: 0.8146 - val_loss: 0.4441 - val_accuracy: 0.7868\n",
            "Epoch 34/100\n",
            "313/313 [==============================] - 12s 37ms/step - loss: 0.4076 - accuracy: 0.8164 - val_loss: 0.4342 - val_accuracy: 0.8064\n",
            "Epoch 35/100\n",
            "313/313 [==============================] - 12s 38ms/step - loss: 0.4068 - accuracy: 0.8159 - val_loss: 0.4336 - val_accuracy: 0.8046\n",
            "Epoch 36/100\n",
            "313/313 [==============================] - 11s 37ms/step - loss: 0.4062 - accuracy: 0.8180 - val_loss: 0.4326 - val_accuracy: 0.8078\n",
            "Epoch 37/100\n",
            "313/313 [==============================] - 11s 36ms/step - loss: 0.4051 - accuracy: 0.8183 - val_loss: 0.4320 - val_accuracy: 0.8018\n",
            "Epoch 38/100\n",
            "313/313 [==============================] - 12s 37ms/step - loss: 0.4043 - accuracy: 0.8181 - val_loss: 0.4323 - val_accuracy: 0.8070\n",
            "Epoch 39/100\n",
            "313/313 [==============================] - 11s 37ms/step - loss: 0.4035 - accuracy: 0.8197 - val_loss: 0.4318 - val_accuracy: 0.8060\n",
            "Epoch 40/100\n",
            "313/313 [==============================] - 11s 36ms/step - loss: 0.4026 - accuracy: 0.8195 - val_loss: 0.4316 - val_accuracy: 0.8070\n",
            "Epoch 41/100\n",
            "313/313 [==============================] - 11s 37ms/step - loss: 0.4020 - accuracy: 0.8187 - val_loss: 0.4387 - val_accuracy: 0.7916\n",
            "Epoch 42/100\n",
            "313/313 [==============================] - 11s 37ms/step - loss: 0.4017 - accuracy: 0.8202 - val_loss: 0.4306 - val_accuracy: 0.8030\n",
            "Epoch 43/100\n",
            "313/313 [==============================] - 11s 37ms/step - loss: 0.4006 - accuracy: 0.8191 - val_loss: 0.4310 - val_accuracy: 0.8064\n",
            "Epoch 44/100\n",
            "313/313 [==============================] - 11s 37ms/step - loss: 0.3999 - accuracy: 0.8190 - val_loss: 0.4299 - val_accuracy: 0.8072\n",
            "Epoch 45/100\n",
            "313/313 [==============================] - 11s 37ms/step - loss: 0.3995 - accuracy: 0.8202 - val_loss: 0.4340 - val_accuracy: 0.8090\n",
            "Epoch 46/100\n",
            "313/313 [==============================] - 11s 36ms/step - loss: 0.3992 - accuracy: 0.8198 - val_loss: 0.4294 - val_accuracy: 0.8070\n",
            "Epoch 47/100\n",
            "313/313 [==============================] - 11s 37ms/step - loss: 0.3984 - accuracy: 0.8210 - val_loss: 0.4285 - val_accuracy: 0.8062\n",
            "Epoch 48/100\n",
            "313/313 [==============================] - 11s 36ms/step - loss: 0.3977 - accuracy: 0.8195 - val_loss: 0.4308 - val_accuracy: 0.8088\n",
            "Epoch 49/100\n",
            "313/313 [==============================] - 11s 36ms/step - loss: 0.3969 - accuracy: 0.8204 - val_loss: 0.4293 - val_accuracy: 0.8084\n",
            "Epoch 50/100\n",
            "313/313 [==============================] - 11s 36ms/step - loss: 0.3959 - accuracy: 0.8221 - val_loss: 0.4290 - val_accuracy: 0.8060\n"
          ]
        }
      ]
    },
    {
      "cell_type": "code",
      "source": [
        "plt.plot(history.history['loss'])\n",
        "plt.plot(history.history['val_loss'])\n",
        "plt.xlabel('epoch')\n",
        "plt.ylabel('loss')\n",
        "plt.legend(['train', 'val'])\n",
        "plt.show()"
      ],
      "metadata": {
        "colab": {
          "base_uri": "https://localhost:8080/",
          "height": 279
        },
        "id": "8-Sr7HBKfBI2",
        "outputId": "ca84220d-1470-431c-ff2e-00d89290c692"
      },
      "execution_count": 5,
      "outputs": [
        {
          "output_type": "display_data",
          "data": {
            "image/png": "[encoded data removed]",
            "text/plain": [
              "<Figure size 432x288 with 1 Axes>"
            ]
          },
          "metadata": {
            "needs_background": "light"
          }
        }
      ]
    },
    {
      "cell_type": "markdown",
      "source": [
        "기본 순환층보다 확실히 과대적합을 잘 억제하고 있다. 하지만 경우에 따라서는 더 강하게 억제할 필요가 있다. 드롭아웃으로 이를 수행해보자."
      ],
      "metadata": {
        "id": "HNJJcn4oiGjN"
      }
    },
    {
      "cell_type": "markdown",
      "source": [
        "## 순환층에 드롭아웃 적용하기"
      ],
      "metadata": {
        "id": "pxOcxzH4ky7s"
      }
    },
    {
      "cell_type": "markdown",
      "source": [
        "기존에는 Dropout 클래스를 사용하여 드롭아웃을 적용했다. 반면 순환층은 자체적으로 드롭아웃 기능을 제공한다.\n",
        "\n",
        "dropout 매개변수는 셀의 입력에 드롭아웃을 적용하고 recurrent_dropout 매개변수는 순환되는 은닉 상태에 드롭아웃을 적용한다.(기술적인 문제로 recurrent_dropout은 GPU를 사용하지 못한다.)"
      ],
      "metadata": {
        "id": "4UDOlsuAk5Ep"
      }
    },
    {
      "cell_type": "code",
      "source": [
        "model2 = keras.Sequential()\n",
        "model2.add(keras.layers.Embedding(500, 16, input_length=100))\n",
        "model2.add(keras.layers.LSTM(8, dropout=0.3))\n",
        "model2.add(keras.layers.Dense(1, activation='sigmoid'))"
      ],
      "metadata": {
        "id": "r7L6UwayfFGL"
      },
      "execution_count": 6,
      "outputs": []
    },
    {
      "cell_type": "code",
      "source": [
        "rmsprop = keras.optimizers.RMSprop(learning_rate=0.0001)\n",
        "model2.compile(optimizer=rmsprop, loss='binary_crossentropy', metrics=['accuracy'])\n",
        "\n",
        "checkpoint_cb = keras.callbacks.ModelCheckpoint('best-simplernn-model.h5')\n",
        "early_stopping_cb = keras.callbacks.EarlyStopping(patience=3, restore_best_weights=True)\n",
        "\n",
        "history = model2.fit(train_seq, y_train, epochs=100, batch_size=64,\n",
        "                    validation_data=(val_seq, y_val),\n",
        "                    callbacks=[checkpoint_cb, early_stopping_cb])"
      ],
      "metadata": {
        "colab": {
          "base_uri": "https://localhost:8080/"
        },
        "id": "WTO7WFixlsKy",
        "outputId": "7227eb4b-c6d8-44b4-d4b4-2a83ee9c9c95"
      },
      "execution_count": 7,
      "outputs": [
        {
          "output_type": "stream",
          "name": "stdout",
          "text": [
            "Epoch 1/100\n",
            "313/313 [==============================] - 17s 47ms/step - loss: 0.6925 - accuracy: 0.5264 - val_loss: 0.6917 - val_accuracy: 0.5716\n",
            "Epoch 2/100\n",
            "313/313 [==============================] - 12s 38ms/step - loss: 0.6904 - accuracy: 0.5901 - val_loss: 0.6886 - val_accuracy: 0.6160\n",
            "Epoch 3/100\n",
            "313/313 [==============================] - 12s 39ms/step - loss: 0.6846 - accuracy: 0.6362 - val_loss: 0.6795 - val_accuracy: 0.6562\n",
            "Epoch 4/100\n",
            "313/313 [==============================] - 12s 39ms/step - loss: 0.6606 - accuracy: 0.6623 - val_loss: 0.6321 - val_accuracy: 0.6858\n",
            "Epoch 5/100\n",
            "313/313 [==============================] - 12s 37ms/step - loss: 0.6031 - accuracy: 0.7178 - val_loss: 0.5890 - val_accuracy: 0.7246\n",
            "Epoch 6/100\n",
            "313/313 [==============================] - 13s 41ms/step - loss: 0.5751 - accuracy: 0.7341 - val_loss: 0.5656 - val_accuracy: 0.7394\n",
            "Epoch 7/100\n",
            "313/313 [==============================] - 12s 39ms/step - loss: 0.5524 - accuracy: 0.7490 - val_loss: 0.5435 - val_accuracy: 0.7446\n",
            "Epoch 8/100\n",
            "313/313 [==============================] - 12s 38ms/step - loss: 0.5328 - accuracy: 0.7560 - val_loss: 0.5238 - val_accuracy: 0.7588\n",
            "Epoch 9/100\n",
            "313/313 [==============================] - 12s 38ms/step - loss: 0.5132 - accuracy: 0.7661 - val_loss: 0.5056 - val_accuracy: 0.7666\n",
            "Epoch 10/100\n",
            "313/313 [==============================] - 12s 38ms/step - loss: 0.4978 - accuracy: 0.7736 - val_loss: 0.4906 - val_accuracy: 0.7742\n",
            "Epoch 11/100\n",
            "313/313 [==============================] - 12s 37ms/step - loss: 0.4820 - accuracy: 0.7833 - val_loss: 0.4790 - val_accuracy: 0.7800\n",
            "Epoch 12/100\n",
            "313/313 [==============================] - 12s 38ms/step - loss: 0.4729 - accuracy: 0.7861 - val_loss: 0.4698 - val_accuracy: 0.7862\n",
            "Epoch 13/100\n",
            "313/313 [==============================] - 12s 39ms/step - loss: 0.4608 - accuracy: 0.7907 - val_loss: 0.4604 - val_accuracy: 0.7910\n",
            "Epoch 14/100\n",
            "313/313 [==============================] - 12s 38ms/step - loss: 0.4548 - accuracy: 0.7933 - val_loss: 0.4549 - val_accuracy: 0.7912\n",
            "Epoch 15/100\n",
            "313/313 [==============================] - 12s 38ms/step - loss: 0.4481 - accuracy: 0.7964 - val_loss: 0.4514 - val_accuracy: 0.7934\n",
            "Epoch 16/100\n",
            "313/313 [==============================] - 12s 38ms/step - loss: 0.4419 - accuracy: 0.8002 - val_loss: 0.4451 - val_accuracy: 0.7966\n",
            "Epoch 17/100\n",
            "313/313 [==============================] - 12s 38ms/step - loss: 0.4380 - accuracy: 0.8023 - val_loss: 0.4419 - val_accuracy: 0.7966\n",
            "Epoch 18/100\n",
            "313/313 [==============================] - 12s 39ms/step - loss: 0.4339 - accuracy: 0.8059 - val_loss: 0.4415 - val_accuracy: 0.7958\n",
            "Epoch 19/100\n",
            "313/313 [==============================] - 12s 38ms/step - loss: 0.4321 - accuracy: 0.8037 - val_loss: 0.4376 - val_accuracy: 0.7964\n",
            "Epoch 20/100\n",
            "313/313 [==============================] - 12s 38ms/step - loss: 0.4297 - accuracy: 0.8062 - val_loss: 0.4366 - val_accuracy: 0.7956\n",
            "Epoch 21/100\n",
            "313/313 [==============================] - 12s 39ms/step - loss: 0.4257 - accuracy: 0.8066 - val_loss: 0.4377 - val_accuracy: 0.7950\n",
            "Epoch 22/100\n",
            "313/313 [==============================] - 12s 37ms/step - loss: 0.4254 - accuracy: 0.8065 - val_loss: 0.4353 - val_accuracy: 0.8002\n",
            "Epoch 23/100\n",
            "313/313 [==============================] - 12s 38ms/step - loss: 0.4230 - accuracy: 0.8091 - val_loss: 0.4336 - val_accuracy: 0.8006\n",
            "Epoch 24/100\n",
            "313/313 [==============================] - 12s 37ms/step - loss: 0.4231 - accuracy: 0.8080 - val_loss: 0.4332 - val_accuracy: 0.7994\n",
            "Epoch 25/100\n",
            "313/313 [==============================] - 12s 38ms/step - loss: 0.4224 - accuracy: 0.8084 - val_loss: 0.4319 - val_accuracy: 0.7994\n",
            "Epoch 26/100\n",
            "313/313 [==============================] - 12s 38ms/step - loss: 0.4208 - accuracy: 0.8099 - val_loss: 0.4308 - val_accuracy: 0.8012\n",
            "Epoch 27/100\n",
            "313/313 [==============================] - 12s 39ms/step - loss: 0.4197 - accuracy: 0.8080 - val_loss: 0.4321 - val_accuracy: 0.8034\n",
            "Epoch 28/100\n",
            "313/313 [==============================] - 12s 40ms/step - loss: 0.4178 - accuracy: 0.8102 - val_loss: 0.4308 - val_accuracy: 0.7986\n",
            "Epoch 29/100\n",
            "313/313 [==============================] - 12s 39ms/step - loss: 0.4173 - accuracy: 0.8106 - val_loss: 0.4307 - val_accuracy: 0.8036\n",
            "Epoch 30/100\n",
            "313/313 [==============================] - 12s 39ms/step - loss: 0.4166 - accuracy: 0.8101 - val_loss: 0.4292 - val_accuracy: 0.7996\n",
            "Epoch 31/100\n",
            "313/313 [==============================] - 12s 38ms/step - loss: 0.4158 - accuracy: 0.8108 - val_loss: 0.4291 - val_accuracy: 0.8034\n",
            "Epoch 32/100\n",
            "313/313 [==============================] - 12s 38ms/step - loss: 0.4164 - accuracy: 0.8084 - val_loss: 0.4294 - val_accuracy: 0.8026\n",
            "Epoch 33/100\n",
            "313/313 [==============================] - 12s 39ms/step - loss: 0.4150 - accuracy: 0.8107 - val_loss: 0.4310 - val_accuracy: 0.8048\n",
            "Epoch 34/100\n",
            "313/313 [==============================] - 12s 38ms/step - loss: 0.4146 - accuracy: 0.8099 - val_loss: 0.4287 - val_accuracy: 0.8044\n",
            "Epoch 35/100\n",
            "313/313 [==============================] - 12s 39ms/step - loss: 0.4141 - accuracy: 0.8119 - val_loss: 0.4287 - val_accuracy: 0.7992\n",
            "Epoch 36/100\n",
            "313/313 [==============================] - 12s 39ms/step - loss: 0.4126 - accuracy: 0.8127 - val_loss: 0.4299 - val_accuracy: 0.8052\n",
            "Epoch 37/100\n",
            "313/313 [==============================] - 12s 38ms/step - loss: 0.4135 - accuracy: 0.8116 - val_loss: 0.4289 - val_accuracy: 0.8044\n"
          ]
        }
      ]
    },
    {
      "cell_type": "code",
      "source": [
        "plt.plot(history.history['loss'])\n",
        "plt.plot(history.history['val_loss'])\n",
        "plt.xlabel('epoch')\n",
        "plt.ylabel('loss')\n",
        "plt.legend(['train', 'val'])\n",
        "plt.show()"
      ],
      "metadata": {
        "colab": {
          "base_uri": "https://localhost:8080/",
          "height": 279
        },
        "id": "iRk_F9_jlxF7",
        "outputId": "316fa0f9-5ba6-4b88-df4f-b832ba5e4634"
      },
      "execution_count": 8,
      "outputs": [
        {
          "output_type": "display_data",
          "data": {
            "image/png": "[encoded data removed]",
            "text/plain": [
              "<Figure size 432x288 with 1 Axes>"
            ]
          },
          "metadata": {
            "needs_background": "light"
          }
        }
      ]
    },
    {
      "cell_type": "markdown",
      "source": [
        "LSTM 층에 적용된 드롭아웃이 효과를 발휘해 훈련 손실과 검증 손실 간 차이가 좁혀졌다."
      ],
      "metadata": {
        "id": "m-ttbgRPl4Kd"
      }
    },
    {
      "cell_type": "markdown",
      "source": [
        "이번에는 2개의 순환층을 연결한 모델을 훈련해보자."
      ],
      "metadata": {
        "id": "T2rl-wiMmBe0"
      }
    },
    {
      "cell_type": "markdown",
      "source": [
        "## 2개의 층 연결하기"
      ],
      "metadata": {
        "id": "jZoZBDmJnrkw"
      }
    },
    {
      "cell_type": "markdown",
      "source": [
        "순환층의 은닉 상태는 샘플의 마지막 타임스텝에 대한 은닉 상태만 다음 층으로 전달한다. 하지만 순환층을 쌓게 되면 모든 순환층에 순차 데이터가 필요하다. 따라서 앞쪽의 순환층이 모든 타임스텝에 대한 은닉 상태를 출력해야 한다."
      ],
      "metadata": {
        "id": "Yxk2Za2HntnM"
      }
    },
    {
      "cell_type": "markdown",
      "source": [
        "케라스의 순환층에서 모든 타임스텝의 은닉 상태를 출력하려면 return_sequences 매개변수를 True로 지정하면 된다."
      ],
      "metadata": {
        "id": "hIlQPuWGoC__"
      }
    },
    {
      "cell_type": "code",
      "source": [
        "model3 = keras.Sequential()\n",
        "model3.add(keras.layers.Embedding(500, 16, input_length=100))\n",
        "model3.add(keras.layers.LSTM(8, dropout=0.3, return_sequences=True))\n",
        "model3.add(keras.layers.LSTM(8, dropout=0.3))\n",
        "model3.add(keras.layers.Dense(1, activation='sigmoid'))\n",
        "\n",
        "model3.summary()"
      ],
      "metadata": {
        "colab": {
          "base_uri": "https://localhost:8080/"
        },
        "id": "PwtSL2rOl0YU",
        "outputId": "d03ab4ac-1005-486e-c645-3327a4aab0e5"
      },
      "execution_count": 9,
      "outputs": [
        {
          "output_type": "stream",
          "name": "stdout",
          "text": [
            "Model: \"sequential_2\"\n",
            "_________________________________________________________________\n",
            " Layer (type)                Output Shape              Param #   \n",
            "=================================================================\n",
            " embedding_2 (Embedding)     (None, 100, 16)           8000      \n",
            "                                                                 \n",
            " lstm_2 (LSTM)               (None, 100, 8)            800       \n",
            "                                                                 \n",
            " lstm_3 (LSTM)               (None, 8)                 544       \n",
            "                                                                 \n",
            " dense_2 (Dense)             (None, 1)                 9         \n",
            "                                                                 \n",
            "=================================================================\n",
            "Total params: 9,353\n",
            "Trainable params: 9,353\n",
            "Non-trainable params: 0\n",
            "_________________________________________________________________\n"
          ]
        }
      ]
    },
    {
      "cell_type": "code",
      "source": [
        "rmsprop = keras.optimizers.RMSprop(learning_rate=0.0001)\n",
        "model3.compile(optimizer=rmsprop, loss='binary_crossentropy', metrics=['accuracy'])\n",
        "\n",
        "checkpoint_cb = keras.callbacks.ModelCheckpoint('best-simplernn-model.h5')\n",
        "early_stopping_cb = keras.callbacks.EarlyStopping(patience=3, restore_best_weights=True)\n",
        "\n",
        "history = model3.fit(train_seq, y_train, epochs=100, batch_size=64,\n",
        "                    validation_data=(val_seq, y_val),\n",
        "                    callbacks=[checkpoint_cb, early_stopping_cb])"
      ],
      "metadata": {
        "colab": {
          "base_uri": "https://localhost:8080/"
        },
        "id": "xKQPgTaRol5I",
        "outputId": "979dd415-433d-4a0d-ce76-cd6d3dd05043"
      },
      "execution_count": 10,
      "outputs": [
        {
          "output_type": "stream",
          "name": "stdout",
          "text": [
            "Epoch 1/100\n",
            "313/313 [==============================] - 30s 81ms/step - loss: 0.6924 - accuracy: 0.5411 - val_loss: 0.6912 - val_accuracy: 0.6098\n",
            "Epoch 2/100\n",
            "313/313 [==============================] - 23s 74ms/step - loss: 0.6870 - accuracy: 0.6140 - val_loss: 0.6801 - val_accuracy: 0.6460\n",
            "Epoch 3/100\n",
            "313/313 [==============================] - 23s 74ms/step - loss: 0.6519 - accuracy: 0.6809 - val_loss: 0.6133 - val_accuracy: 0.7162\n",
            "Epoch 4/100\n",
            "313/313 [==============================] - 23s 72ms/step - loss: 0.5821 - accuracy: 0.7207 - val_loss: 0.5538 - val_accuracy: 0.7358\n",
            "Epoch 5/100\n",
            "313/313 [==============================] - 23s 73ms/step - loss: 0.5426 - accuracy: 0.7376 - val_loss: 0.5238 - val_accuracy: 0.7522\n",
            "Epoch 6/100\n",
            "313/313 [==============================] - 23s 74ms/step - loss: 0.5174 - accuracy: 0.7562 - val_loss: 0.5032 - val_accuracy: 0.7654\n",
            "Epoch 7/100\n",
            "313/313 [==============================] - 23s 72ms/step - loss: 0.5019 - accuracy: 0.7667 - val_loss: 0.4899 - val_accuracy: 0.7686\n",
            "Epoch 8/100\n",
            "313/313 [==============================] - 23s 72ms/step - loss: 0.4870 - accuracy: 0.7744 - val_loss: 0.4814 - val_accuracy: 0.7754\n",
            "Epoch 9/100\n",
            "313/313 [==============================] - 23s 73ms/step - loss: 0.4789 - accuracy: 0.7797 - val_loss: 0.4737 - val_accuracy: 0.7832\n",
            "Epoch 10/100\n",
            "313/313 [==============================] - 23s 72ms/step - loss: 0.4707 - accuracy: 0.7826 - val_loss: 0.4656 - val_accuracy: 0.7840\n",
            "Epoch 11/100\n",
            "313/313 [==============================] - 23s 73ms/step - loss: 0.4647 - accuracy: 0.7855 - val_loss: 0.4631 - val_accuracy: 0.7878\n",
            "Epoch 12/100\n",
            "313/313 [==============================] - 23s 73ms/step - loss: 0.4604 - accuracy: 0.7883 - val_loss: 0.4578 - val_accuracy: 0.7872\n",
            "Epoch 13/100\n",
            "313/313 [==============================] - 23s 74ms/step - loss: 0.4535 - accuracy: 0.7947 - val_loss: 0.4543 - val_accuracy: 0.7880\n",
            "Epoch 14/100\n",
            "313/313 [==============================] - 23s 73ms/step - loss: 0.4528 - accuracy: 0.7911 - val_loss: 0.4639 - val_accuracy: 0.7864\n",
            "Epoch 15/100\n",
            "313/313 [==============================] - 23s 73ms/step - loss: 0.4461 - accuracy: 0.7936 - val_loss: 0.4495 - val_accuracy: 0.7928\n",
            "Epoch 16/100\n",
            "313/313 [==============================] - 23s 74ms/step - loss: 0.4455 - accuracy: 0.7971 - val_loss: 0.4479 - val_accuracy: 0.7930\n",
            "Epoch 17/100\n",
            "313/313 [==============================] - 23s 73ms/step - loss: 0.4440 - accuracy: 0.7952 - val_loss: 0.4502 - val_accuracy: 0.7896\n",
            "Epoch 18/100\n",
            "313/313 [==============================] - 23s 73ms/step - loss: 0.4415 - accuracy: 0.7969 - val_loss: 0.4490 - val_accuracy: 0.7954\n",
            "Epoch 19/100\n",
            "313/313 [==============================] - 23s 73ms/step - loss: 0.4420 - accuracy: 0.7974 - val_loss: 0.4429 - val_accuracy: 0.7924\n",
            "Epoch 20/100\n",
            "313/313 [==============================] - 23s 74ms/step - loss: 0.4366 - accuracy: 0.8017 - val_loss: 0.4426 - val_accuracy: 0.7962\n",
            "Epoch 21/100\n",
            "313/313 [==============================] - 23s 74ms/step - loss: 0.4371 - accuracy: 0.7987 - val_loss: 0.4410 - val_accuracy: 0.7968\n",
            "Epoch 22/100\n",
            "313/313 [==============================] - 23s 73ms/step - loss: 0.4359 - accuracy: 0.7991 - val_loss: 0.4401 - val_accuracy: 0.7956\n",
            "Epoch 23/100\n",
            "313/313 [==============================] - 23s 75ms/step - loss: 0.4343 - accuracy: 0.8021 - val_loss: 0.4402 - val_accuracy: 0.7916\n",
            "Epoch 24/100\n",
            "313/313 [==============================] - 23s 73ms/step - loss: 0.4313 - accuracy: 0.8008 - val_loss: 0.4407 - val_accuracy: 0.7962\n",
            "Epoch 25/100\n",
            "313/313 [==============================] - 23s 74ms/step - loss: 0.4319 - accuracy: 0.8036 - val_loss: 0.4384 - val_accuracy: 0.7972\n",
            "Epoch 26/100\n",
            "313/313 [==============================] - 23s 75ms/step - loss: 0.4311 - accuracy: 0.8024 - val_loss: 0.4386 - val_accuracy: 0.7986\n",
            "Epoch 27/100\n",
            "313/313 [==============================] - 23s 74ms/step - loss: 0.4310 - accuracy: 0.8015 - val_loss: 0.4374 - val_accuracy: 0.7994\n",
            "Epoch 28/100\n",
            "313/313 [==============================] - 24s 76ms/step - loss: 0.4284 - accuracy: 0.8018 - val_loss: 0.4374 - val_accuracy: 0.7964\n",
            "Epoch 29/100\n",
            "313/313 [==============================] - 24s 76ms/step - loss: 0.4281 - accuracy: 0.8044 - val_loss: 0.4362 - val_accuracy: 0.8000\n",
            "Epoch 30/100\n",
            "313/313 [==============================] - 24s 76ms/step - loss: 0.4284 - accuracy: 0.8052 - val_loss: 0.4419 - val_accuracy: 0.8020\n",
            "Epoch 31/100\n",
            "313/313 [==============================] - 24s 75ms/step - loss: 0.4265 - accuracy: 0.8059 - val_loss: 0.4375 - val_accuracy: 0.7984\n",
            "Epoch 32/100\n",
            "313/313 [==============================] - 24s 75ms/step - loss: 0.4254 - accuracy: 0.8059 - val_loss: 0.4351 - val_accuracy: 0.7980\n",
            "Epoch 33/100\n",
            "313/313 [==============================] - 23s 75ms/step - loss: 0.4255 - accuracy: 0.8041 - val_loss: 0.4373 - val_accuracy: 0.7958\n",
            "Epoch 34/100\n",
            "313/313 [==============================] - 23s 75ms/step - loss: 0.4255 - accuracy: 0.8039 - val_loss: 0.4350 - val_accuracy: 0.7996\n",
            "Epoch 35/100\n",
            "313/313 [==============================] - 24s 76ms/step - loss: 0.4258 - accuracy: 0.8049 - val_loss: 0.4352 - val_accuracy: 0.8022\n",
            "Epoch 36/100\n",
            "313/313 [==============================] - 24s 76ms/step - loss: 0.4227 - accuracy: 0.8066 - val_loss: 0.4343 - val_accuracy: 0.8014\n",
            "Epoch 37/100\n",
            "313/313 [==============================] - 24s 75ms/step - loss: 0.4229 - accuracy: 0.8077 - val_loss: 0.4347 - val_accuracy: 0.7978\n",
            "Epoch 38/100\n",
            "313/313 [==============================] - 24s 75ms/step - loss: 0.4223 - accuracy: 0.8087 - val_loss: 0.4349 - val_accuracy: 0.7990\n",
            "Epoch 39/100\n",
            "313/313 [==============================] - 24s 75ms/step - loss: 0.4225 - accuracy: 0.8064 - val_loss: 0.4336 - val_accuracy: 0.8018\n",
            "Epoch 40/100\n",
            "313/313 [==============================] - 24s 75ms/step - loss: 0.4213 - accuracy: 0.8069 - val_loss: 0.4338 - val_accuracy: 0.7986\n",
            "Epoch 41/100\n",
            "313/313 [==============================] - 24s 76ms/step - loss: 0.4207 - accuracy: 0.8068 - val_loss: 0.4355 - val_accuracy: 0.7988\n",
            "Epoch 42/100\n",
            "313/313 [==============================] - 24s 75ms/step - loss: 0.4207 - accuracy: 0.8074 - val_loss: 0.4348 - val_accuracy: 0.8036\n"
          ]
        }
      ]
    },
    {
      "cell_type": "code",
      "source": [
        "plt.plot(history.history['loss'])\n",
        "plt.plot(history.history['val_loss'])\n",
        "plt.xlabel('epoch')\n",
        "plt.ylabel('loss')\n",
        "plt.legend(['train', 'val'])\n",
        "plt.show()"
      ],
      "metadata": {
        "colab": {
          "base_uri": "https://localhost:8080/",
          "height": 279
        },
        "id": "SfHQLxldos-V",
        "outputId": "f4449a86-244d-4700-d9cb-1743740eae17"
      },
      "execution_count": 11,
      "outputs": [
        {
          "output_type": "display_data",
          "data": {
            "image/png": "[encoded data removed]",
            "text/plain": [
              "<Figure size 432x288 with 1 Axes>"
            ]
          },
          "metadata": {
            "needs_background": "light"
          }
        }
      ]
    },
    {
      "cell_type": "markdown",
      "source": [
        "비록 여기서는 큰 improve를 보이진 못했지만, 과대적합을 잘 제어하면서 학습을 진행했다."
      ],
      "metadata": {
        "id": "6e0eNOmUsfsv"
      }
    },
    {
      "cell_type": "code",
      "source": [
        ""
      ],
      "metadata": {
        "id": "PhBnL76-ouie"
      },
      "execution_count": null,
      "outputs": []
    }
  ]
}