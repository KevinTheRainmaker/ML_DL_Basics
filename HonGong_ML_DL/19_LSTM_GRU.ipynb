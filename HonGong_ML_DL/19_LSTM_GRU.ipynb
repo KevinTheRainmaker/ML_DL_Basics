{
  "nbformat": 4,
  "nbformat_minor": 0,
  "metadata": {
    "colab": {
      "name": "19_LSTM_GRU.ipynb",
      "provenance": [],
      "collapsed_sections": [],
      "authorship_tag": "ABX9TyO40ojgNJ087pwCRZxZ0csv",
      "include_colab_link": true
    },
    "kernelspec": {
      "name": "python3",
      "display_name": "Python 3"
    },
    "language_info": {
      "name": "python"
    },
    "accelerator": "GPU"
  },
  "cells": [
    {
      "cell_type": "markdown",
      "metadata": {
        "id": "view-in-github",
        "colab_type": "text"
      },
      "source": [
        "<a href=\"https://colab.research.google.com/github/KevinTheRainmaker/ML_DL_Basics/blob/master/HonGong_ML_DL/19_LSTM_GRU.ipynb\" target=\"_parent\"><img src=\"https://colab.research.google.com/assets/colab-badge.svg\" alt=\"Open In Colab\"/></a>"
      ]
    },
    {
      "cell_type": "markdown",
      "source": [
        "# LSTM과 GRU 셀\n",
        "\n",
        "### **키워드:**  LSTM, 셀 상태, GRU\n",
        "\n",
        "순환 신경망에서 빼놓을 수 없는 핵심 기술인 LSTM과 GRU 셀을 사용한 모델을 만들어보자."
      ],
      "metadata": {
        "id": "SYeSQm6vWTWu"
      }
    },
    {
      "cell_type": "markdown",
      "source": [
        "일반적으로 기본 순환층은 긴 시퀀스를 학습하기 어렵다. 시퀀스가 길수록 순환되는 은닉 상태에 담긴 정보가 점차 희석되기 때문에 멀리 떨어져 있는 단어 정보를 인식하는데 어려움이 있다.\n",
        "\n",
        "이를 해결하기 위해 LSTM과 GRU 셀이 발명되었다."
      ],
      "metadata": {
        "id": "6eMZ3eIoXOmc"
      }
    },
    {
      "cell_type": "code",
      "source": [
        "# packages\n",
        "\n",
        "from tensorflow import keras\n",
        "from tensorflow.keras.datasets import imdb\n",
        "from tensorflow.keras.preprocessing.sequence import pad_sequences\n",
        "\n",
        "from sklearn.model_selection import train_test_split\n",
        "\n",
        "import matplotlib.pyplot as plt"
      ],
      "metadata": {
        "id": "4qC5UukUdW63"
      },
      "execution_count": 1,
      "outputs": []
    },
    {
      "cell_type": "markdown",
      "source": [
        "## LSTM 구조"
      ],
      "metadata": {
        "id": "t1GBYPLhXhvw"
      }
    },
    {
      "cell_type": "markdown",
      "source": [
        "LSTM은 Long Shor-Term Memory의 약자로, 단기 기억을 오래 기억하기 위해 고안된 구조이다. LSTM에는 입력과 가중치를 곤하고 절편을 더해 활성화 함수를 통과시키는 구조를 여러 개 가지고 있다. 이런 계산 결과는 다음 타임스텝에 재사용된다."
      ],
      "metadata": {
        "id": "1g_Ey_9sXjSe"
      }
    },
    {
      "cell_type": "markdown",
      "source": [
        "입력과 이전 타임스텝의 은닉 상태를 가중치에 곱한 후 활성화 함수를 통과시킨 값을 다음 은닉 상태를 만들기 위해 사용한다. 이때 기본 순환층과는 달리 시그모이드 활성화 함수를 사용한다. 여기에 tanh 활성화 함수를 통과한 어떤 값을 곱해 은닉 상태를 만든다. 여기서의 어떤 값은 셀 상태로부터 만들어진 은닉 상태이다.\n",
        "\n",
        "LSTM에는 순환되는 상태는 은닉 상태와 셀 상태(cell state)로 2개이다. 은닉 상태와 달리 셀 상태는 다음 층으로 전달되지 않고 LSTM 셀에서 순환만 되는 값이다. 입력과 은닉 상태를 첫 번째 가중치와는 다른 가중치에 곱하여 시그모이드 함수를 통과시킨 후 이전 타임스텝의 셀 상태와 곱하여 새로운 셀 상태를 만든다. 이 셀 상태가 tanh 함수를 통과하여 새로운 은닉 상태를 만드는데 기여한다."
      ],
      "metadata": {
        "id": "mzfMkjcPX9NX"
      }
    },
    {
      "cell_type": "markdown",
      "source": [
        "여기에 2개의 작은 셀이 더 추가되어 셀 상태를 만드는 데 기여한다. 이전과 마찬가지로 입력과 은닉 상태를 각기 다른 가중치에 곱한 다음, 하나의 시그모이드 함수를 통과시키고 다른 하나는 tanh 함수를 통과시킨다. 그 다음 두 결과를 곱하여 이전 셀 상태와 더하면 최종적인 다음 셀 상태가 된다."
      ],
      "metadata": {
        "id": "ukAiXDd9byfo"
      }
    },
    {
      "cell_type": "markdown",
      "source": [
        "<img src='https://user-images.githubusercontent.com/76294398/147720072-4a3a011f-5ccb-4c83-bc5b-518cc33c5b26.png' width=40% height=80%>\n"
      ],
      "metadata": {
        "id": "dOQWce7pcZXd"
      }
    },
    {
      "cell_type": "markdown",
      "source": [
        "삭제 게이트(forget gate)는 셀 상태에 있는 정보를 제거하는 역할을 하고 입력 게이트(input gate)는 새로운 정보를 셀 상태에 추가한다. 출력 게이트(output gate)를 통해서 이 셀 상태가 다음 은닉 상태로 출력된다."
      ],
      "metadata": {
        "id": "lIbo-BG1c03J"
      }
    },
    {
      "cell_type": "markdown",
      "source": [
        "## LSTM 신경망 훈련하기"
      ],
      "metadata": {
        "id": "f5y1LBgtdvB4"
      }
    },
    {
      "cell_type": "code",
      "execution_count": 2,
      "metadata": {
        "colab": {
          "base_uri": "https://localhost:8080/"
        },
        "id": "UzEDHeP_WP2g",
        "outputId": "2b155d71-064b-441a-d5b9-fecf8b57a757"
      },
      "outputs": [
        {
          "output_type": "stream",
          "name": "stdout",
          "text": [
            "Downloading data from https://storage.googleapis.com/tensorflow/tf-keras-datasets/imdb.npz\n",
            "17465344/17464789 [==============================] - 1s 0us/step\n",
            "17473536/17464789 [==============================] - 1s 0us/step\n"
          ]
        }
      ],
      "source": [
        "# dataset\n",
        "(X_train, y_train), (X_test, y_test) = imdb.load_data(num_words=500)\n",
        "\n",
        "X_train, X_val, y_train, y_val = train_test_split(X_train, y_train, test_size=0.2, random_state=42)\n",
        "\n",
        "train_seq = pad_sequences(X_train, maxlen=100)\n",
        "val_seq = pad_sequences(X_val, maxlen=100)"
      ]
    },
    {
      "cell_type": "code",
      "source": [
        "model = keras.Sequential()\n",
        "model.add(keras.layers.Embedding(500, 16, input_length=100))\n",
        "model.add(keras.layers.LSTM(8))\n",
        "model.add(keras.layers.Dense(1, activation='sigmoid'))\n",
        "\n",
        "model.summary()"
      ],
      "metadata": {
        "colab": {
          "base_uri": "https://localhost:8080/"
        },
        "id": "s2cOOBEeeW6s",
        "outputId": "aff00883-f769-4acb-9064-8bca65be6d75"
      },
      "execution_count": 3,
      "outputs": [
        {
          "output_type": "stream",
          "name": "stdout",
          "text": [
            "Model: \"sequential\"\n",
            "_________________________________________________________________\n",
            " Layer (type)                Output Shape              Param #   \n",
            "=================================================================\n",
            " embedding (Embedding)       (None, 100, 16)           8000      \n",
            "                                                                 \n",
            " lstm (LSTM)                 (None, 8)                 800       \n",
            "                                                                 \n",
            " dense (Dense)               (None, 1)                 9         \n",
            "                                                                 \n",
            "=================================================================\n",
            "Total params: 8,809\n",
            "Trainable params: 8,809\n",
            "Non-trainable params: 0\n",
            "_________________________________________________________________\n"
          ]
        }
      ]
    },
    {
      "cell_type": "markdown",
      "source": [
        "LSTM에는 작은 셀이 4개가 있으므로 SimpleRNN 대비 모델 파라미터 개수가 4배 늘어 800개가 되었다."
      ],
      "metadata": {
        "id": "fogaqcCserBY"
      }
    },
    {
      "cell_type": "code",
      "source": [
        "rmsprop = keras.optimizers.RMSprop(learning_rate=0.0001)\n",
        "model.compile(optimizer=rmsprop, loss='binary_crossentropy', metrics=['accuracy'])\n",
        "\n",
        "checkpoint_cb = keras.callbacks.ModelCheckpoint('best-lstm-model.h5')\n",
        "early_stopping_cb = keras.callbacks.EarlyStopping(patience=3, restore_best_weights=True)\n",
        "\n",
        "history = model.fit(train_seq, y_train, epochs=100, batch_size=64,\n",
        "                    validation_data=(val_seq, y_val),\n",
        "                    callbacks=[checkpoint_cb, early_stopping_cb])"
      ],
      "metadata": {
        "colab": {
          "base_uri": "https://localhost:8080/"
        },
        "id": "dDRVzqY4eoSL",
        "outputId": "e471949b-9024-4f97-a91c-6742cbf79c8b"
      },
      "execution_count": 4,
      "outputs": [
        {
          "output_type": "stream",
          "name": "stdout",
          "text": [
            "Epoch 1/100\n",
            "313/313 [==============================] - 12s 22ms/step - loss: 0.6915 - accuracy: 0.5544 - val_loss: 0.6894 - val_accuracy: 0.6174\n",
            "Epoch 2/100\n",
            "313/313 [==============================] - 6s 21ms/step - loss: 0.6827 - accuracy: 0.6554 - val_loss: 0.6698 - val_accuracy: 0.6828\n",
            "Epoch 3/100\n",
            "313/313 [==============================] - 8s 24ms/step - loss: 0.6266 - accuracy: 0.7035 - val_loss: 0.5926 - val_accuracy: 0.7148\n",
            "Epoch 4/100\n",
            "313/313 [==============================] - 6s 20ms/step - loss: 0.5763 - accuracy: 0.7261 - val_loss: 0.5644 - val_accuracy: 0.7320\n",
            "Epoch 5/100\n",
            "313/313 [==============================] - 6s 20ms/step - loss: 0.5491 - accuracy: 0.7451 - val_loss: 0.5443 - val_accuracy: 0.7430\n",
            "Epoch 6/100\n",
            "313/313 [==============================] - 6s 20ms/step - loss: 0.5272 - accuracy: 0.7583 - val_loss: 0.5267 - val_accuracy: 0.7508\n",
            "Epoch 7/100\n",
            "313/313 [==============================] - 6s 20ms/step - loss: 0.5086 - accuracy: 0.7684 - val_loss: 0.5099 - val_accuracy: 0.7660\n",
            "Epoch 8/100\n",
            "313/313 [==============================] - 6s 20ms/step - loss: 0.4919 - accuracy: 0.7757 - val_loss: 0.4989 - val_accuracy: 0.7632\n",
            "Epoch 9/100\n",
            "313/313 [==============================] - 6s 20ms/step - loss: 0.4767 - accuracy: 0.7843 - val_loss: 0.4814 - val_accuracy: 0.7782\n",
            "Epoch 10/100\n",
            "313/313 [==============================] - 6s 20ms/step - loss: 0.4640 - accuracy: 0.7911 - val_loss: 0.4730 - val_accuracy: 0.7824\n",
            "Epoch 11/100\n",
            "313/313 [==============================] - 6s 20ms/step - loss: 0.4536 - accuracy: 0.7977 - val_loss: 0.4657 - val_accuracy: 0.7832\n",
            "Epoch 12/100\n",
            "313/313 [==============================] - 6s 20ms/step - loss: 0.4466 - accuracy: 0.8009 - val_loss: 0.4580 - val_accuracy: 0.7918\n",
            "Epoch 13/100\n",
            "313/313 [==============================] - 6s 20ms/step - loss: 0.4412 - accuracy: 0.8030 - val_loss: 0.4554 - val_accuracy: 0.7886\n",
            "Epoch 14/100\n",
            "313/313 [==============================] - 6s 21ms/step - loss: 0.4368 - accuracy: 0.8055 - val_loss: 0.4514 - val_accuracy: 0.7934\n",
            "Epoch 15/100\n",
            "313/313 [==============================] - 6s 20ms/step - loss: 0.4334 - accuracy: 0.8065 - val_loss: 0.4479 - val_accuracy: 0.7954\n",
            "Epoch 16/100\n",
            "313/313 [==============================] - 7s 21ms/step - loss: 0.4305 - accuracy: 0.8099 - val_loss: 0.4470 - val_accuracy: 0.7966\n",
            "Epoch 17/100\n",
            "313/313 [==============================] - 7s 21ms/step - loss: 0.4281 - accuracy: 0.8090 - val_loss: 0.4438 - val_accuracy: 0.7976\n",
            "Epoch 18/100\n",
            "313/313 [==============================] - 6s 20ms/step - loss: 0.4255 - accuracy: 0.8093 - val_loss: 0.4442 - val_accuracy: 0.7982\n",
            "Epoch 19/100\n",
            "313/313 [==============================] - 6s 20ms/step - loss: 0.4236 - accuracy: 0.8091 - val_loss: 0.4423 - val_accuracy: 0.7970\n",
            "Epoch 20/100\n",
            "313/313 [==============================] - 6s 20ms/step - loss: 0.4223 - accuracy: 0.8109 - val_loss: 0.4398 - val_accuracy: 0.7982\n",
            "Epoch 21/100\n",
            "313/313 [==============================] - 6s 20ms/step - loss: 0.4205 - accuracy: 0.8100 - val_loss: 0.4393 - val_accuracy: 0.7992\n",
            "Epoch 22/100\n",
            "313/313 [==============================] - 6s 20ms/step - loss: 0.4194 - accuracy: 0.8102 - val_loss: 0.4377 - val_accuracy: 0.7978\n",
            "Epoch 23/100\n",
            "313/313 [==============================] - 6s 21ms/step - loss: 0.4182 - accuracy: 0.8117 - val_loss: 0.4376 - val_accuracy: 0.7972\n",
            "Epoch 24/100\n",
            "313/313 [==============================] - 6s 20ms/step - loss: 0.4169 - accuracy: 0.8115 - val_loss: 0.4386 - val_accuracy: 0.7954\n",
            "Epoch 25/100\n",
            "313/313 [==============================] - 7s 21ms/step - loss: 0.4162 - accuracy: 0.8112 - val_loss: 0.4357 - val_accuracy: 0.7996\n",
            "Epoch 26/100\n",
            "313/313 [==============================] - 6s 21ms/step - loss: 0.4152 - accuracy: 0.8126 - val_loss: 0.4356 - val_accuracy: 0.7992\n",
            "Epoch 27/100\n",
            "313/313 [==============================] - 7s 21ms/step - loss: 0.4142 - accuracy: 0.8112 - val_loss: 0.4437 - val_accuracy: 0.7904\n",
            "Epoch 28/100\n",
            "313/313 [==============================] - 6s 21ms/step - loss: 0.4137 - accuracy: 0.8113 - val_loss: 0.4342 - val_accuracy: 0.7996\n",
            "Epoch 29/100\n",
            "313/313 [==============================] - 6s 21ms/step - loss: 0.4127 - accuracy: 0.8133 - val_loss: 0.4334 - val_accuracy: 0.7996\n",
            "Epoch 30/100\n",
            "313/313 [==============================] - 6s 20ms/step - loss: 0.4118 - accuracy: 0.8133 - val_loss: 0.4336 - val_accuracy: 0.7996\n",
            "Epoch 31/100\n",
            "313/313 [==============================] - 6s 20ms/step - loss: 0.4111 - accuracy: 0.8135 - val_loss: 0.4333 - val_accuracy: 0.7996\n",
            "Epoch 32/100\n",
            "313/313 [==============================] - 6s 20ms/step - loss: 0.4106 - accuracy: 0.8134 - val_loss: 0.4331 - val_accuracy: 0.8012\n",
            "Epoch 33/100\n",
            "313/313 [==============================] - 6s 21ms/step - loss: 0.4096 - accuracy: 0.8142 - val_loss: 0.4330 - val_accuracy: 0.8002\n",
            "Epoch 34/100\n",
            "313/313 [==============================] - 6s 21ms/step - loss: 0.4095 - accuracy: 0.8127 - val_loss: 0.4398 - val_accuracy: 0.8020\n",
            "Epoch 35/100\n",
            "313/313 [==============================] - 6s 21ms/step - loss: 0.4086 - accuracy: 0.8140 - val_loss: 0.4318 - val_accuracy: 0.8022\n",
            "Epoch 36/100\n",
            "313/313 [==============================] - 6s 21ms/step - loss: 0.4083 - accuracy: 0.8150 - val_loss: 0.4327 - val_accuracy: 0.7966\n",
            "Epoch 37/100\n",
            "313/313 [==============================] - 6s 21ms/step - loss: 0.4073 - accuracy: 0.8163 - val_loss: 0.4313 - val_accuracy: 0.8014\n",
            "Epoch 38/100\n",
            "313/313 [==============================] - 7s 21ms/step - loss: 0.4068 - accuracy: 0.8161 - val_loss: 0.4337 - val_accuracy: 0.7968\n",
            "Epoch 39/100\n",
            "313/313 [==============================] - 7s 21ms/step - loss: 0.4065 - accuracy: 0.8153 - val_loss: 0.4325 - val_accuracy: 0.8046\n",
            "Epoch 40/100\n",
            "313/313 [==============================] - 6s 21ms/step - loss: 0.4056 - accuracy: 0.8171 - val_loss: 0.4323 - val_accuracy: 0.8032\n"
          ]
        }
      ]
    },
    {
      "cell_type": "code",
      "source": [
        "plt.plot(history.history['loss'])\n",
        "plt.plot(history.history['val_loss'])\n",
        "plt.xlabel('epoch')\n",
        "plt.ylabel('loss')\n",
        "plt.legend(['train', 'val'])\n",
        "plt.show()"
      ],
      "metadata": {
        "colab": {
          "base_uri": "https://localhost:8080/",
          "height": 279
        },
        "id": "8-Sr7HBKfBI2",
        "outputId": "8d4c19cd-2c40-4d09-96f0-cd5226ff9de3"
      },
      "execution_count": 5,
      "outputs": [
        {
          "output_type": "display_data",
          "data": {
            "image/png": "[encoded data removed]",
            "text/plain": [
              "<Figure size 432x288 with 1 Axes>"
            ]
          },
          "metadata": {
            "needs_background": "light"
          }
        }
      ]
    },
    {
      "cell_type": "markdown",
      "source": [
        "기본 순환층보다 확실히 과대적합을 잘 억제하고 있다. 하지만 경우에 따라서는 더 강하게 억제할 필요가 있다. 드롭아웃으로 이를 수행해보자."
      ],
      "metadata": {
        "id": "HNJJcn4oiGjN"
      }
    },
    {
      "cell_type": "markdown",
      "source": [
        "## 순환층에 드롭아웃 적용하기"
      ],
      "metadata": {
        "id": "pxOcxzH4ky7s"
      }
    },
    {
      "cell_type": "markdown",
      "source": [
        "기존에는 Dropout 클래스를 사용하여 드롭아웃을 적용했다. 반면 순환층은 자체적으로 드롭아웃 기능을 제공한다.\n",
        "\n",
        "dropout 매개변수는 셀의 입력에 드롭아웃을 적용하고 recurrent_dropout 매개변수는 순환되는 은닉 상태에 드롭아웃을 적용한다.(기술적인 문제로 recurrent_dropout은 GPU를 사용하지 못한다.)"
      ],
      "metadata": {
        "id": "4UDOlsuAk5Ep"
      }
    },
    {
      "cell_type": "code",
      "source": [
        "model2 = keras.Sequential()\n",
        "model2.add(keras.layers.Embedding(500, 16, input_length=100))\n",
        "model2.add(keras.layers.LSTM(8, dropout=0.3))\n",
        "model2.add(keras.layers.Dense(1, activation='sigmoid'))"
      ],
      "metadata": {
        "id": "r7L6UwayfFGL"
      },
      "execution_count": 6,
      "outputs": []
    },
    {
      "cell_type": "code",
      "source": [
        "rmsprop = keras.optimizers.RMSprop(learning_rate=0.0001)\n",
        "model2.compile(optimizer=rmsprop, loss='binary_crossentropy', metrics=['accuracy'])\n",
        "\n",
        "checkpoint_cb = keras.callbacks.ModelCheckpoint('best-lstm-model.h5')\n",
        "early_stopping_cb = keras.callbacks.EarlyStopping(patience=3, restore_best_weights=True)\n",
        "\n",
        "history = model2.fit(train_seq, y_train, epochs=100, batch_size=64,\n",
        "                    validation_data=(val_seq, y_val),\n",
        "                    callbacks=[checkpoint_cb, early_stopping_cb])"
      ],
      "metadata": {
        "colab": {
          "base_uri": "https://localhost:8080/"
        },
        "id": "WTO7WFixlsKy",
        "outputId": "6bbb9246-dace-4455-b02c-9b32bdba83a7"
      },
      "execution_count": 7,
      "outputs": [
        {
          "output_type": "stream",
          "name": "stdout",
          "text": [
            "Epoch 1/100\n",
            "313/313 [==============================] - 9s 22ms/step - loss: 0.6921 - accuracy: 0.5464 - val_loss: 0.6912 - val_accuracy: 0.5864\n",
            "Epoch 2/100\n",
            "313/313 [==============================] - 6s 21ms/step - loss: 0.6889 - accuracy: 0.6193 - val_loss: 0.6863 - val_accuracy: 0.6440\n",
            "Epoch 3/100\n",
            "313/313 [==============================] - 6s 21ms/step - loss: 0.6776 - accuracy: 0.6594 - val_loss: 0.6629 - val_accuracy: 0.6714\n",
            "Epoch 4/100\n",
            "313/313 [==============================] - 6s 21ms/step - loss: 0.6187 - accuracy: 0.7078 - val_loss: 0.5977 - val_accuracy: 0.7186\n",
            "Epoch 5/100\n",
            "313/313 [==============================] - 6s 20ms/step - loss: 0.5808 - accuracy: 0.7293 - val_loss: 0.5711 - val_accuracy: 0.7352\n",
            "Epoch 6/100\n",
            "313/313 [==============================] - 6s 21ms/step - loss: 0.5594 - accuracy: 0.7434 - val_loss: 0.5503 - val_accuracy: 0.7506\n",
            "Epoch 7/100\n",
            "313/313 [==============================] - 6s 21ms/step - loss: 0.5418 - accuracy: 0.7534 - val_loss: 0.5320 - val_accuracy: 0.7616\n",
            "Epoch 8/100\n",
            "313/313 [==============================] - 6s 21ms/step - loss: 0.5227 - accuracy: 0.7623 - val_loss: 0.5151 - val_accuracy: 0.7702\n",
            "Epoch 9/100\n",
            "313/313 [==============================] - 6s 21ms/step - loss: 0.5058 - accuracy: 0.7740 - val_loss: 0.5022 - val_accuracy: 0.7690\n",
            "Epoch 10/100\n",
            "313/313 [==============================] - 6s 20ms/step - loss: 0.4912 - accuracy: 0.7792 - val_loss: 0.4866 - val_accuracy: 0.7794\n",
            "Epoch 11/100\n",
            "313/313 [==============================] - 6s 21ms/step - loss: 0.4782 - accuracy: 0.7861 - val_loss: 0.4764 - val_accuracy: 0.7834\n",
            "Epoch 12/100\n",
            "313/313 [==============================] - 7s 21ms/step - loss: 0.4707 - accuracy: 0.7860 - val_loss: 0.4690 - val_accuracy: 0.7876\n",
            "Epoch 13/100\n",
            "313/313 [==============================] - 7s 21ms/step - loss: 0.4640 - accuracy: 0.7901 - val_loss: 0.4637 - val_accuracy: 0.7890\n",
            "Epoch 14/100\n",
            "313/313 [==============================] - 7s 21ms/step - loss: 0.4568 - accuracy: 0.7957 - val_loss: 0.4592 - val_accuracy: 0.7886\n",
            "Epoch 15/100\n",
            "313/313 [==============================] - 7s 21ms/step - loss: 0.4542 - accuracy: 0.7964 - val_loss: 0.4564 - val_accuracy: 0.7932\n",
            "Epoch 16/100\n",
            "313/313 [==============================] - 7s 21ms/step - loss: 0.4511 - accuracy: 0.7977 - val_loss: 0.4544 - val_accuracy: 0.7880\n",
            "Epoch 17/100\n",
            "313/313 [==============================] - 7s 21ms/step - loss: 0.4470 - accuracy: 0.7992 - val_loss: 0.4504 - val_accuracy: 0.7992\n",
            "Epoch 18/100\n",
            "313/313 [==============================] - 7s 21ms/step - loss: 0.4443 - accuracy: 0.8011 - val_loss: 0.4479 - val_accuracy: 0.7960\n",
            "Epoch 19/100\n",
            "313/313 [==============================] - 7s 21ms/step - loss: 0.4413 - accuracy: 0.7987 - val_loss: 0.4480 - val_accuracy: 0.7910\n",
            "Epoch 20/100\n",
            "313/313 [==============================] - 7s 21ms/step - loss: 0.4381 - accuracy: 0.8055 - val_loss: 0.4449 - val_accuracy: 0.7976\n",
            "Epoch 21/100\n",
            "313/313 [==============================] - 7s 21ms/step - loss: 0.4367 - accuracy: 0.8031 - val_loss: 0.4424 - val_accuracy: 0.7984\n",
            "Epoch 22/100\n",
            "313/313 [==============================] - 7s 21ms/step - loss: 0.4356 - accuracy: 0.8034 - val_loss: 0.4470 - val_accuracy: 0.7986\n",
            "Epoch 23/100\n",
            "313/313 [==============================] - 7s 21ms/step - loss: 0.4308 - accuracy: 0.8058 - val_loss: 0.4401 - val_accuracy: 0.7976\n",
            "Epoch 24/100\n",
            "313/313 [==============================] - 7s 21ms/step - loss: 0.4311 - accuracy: 0.8063 - val_loss: 0.4409 - val_accuracy: 0.8018\n",
            "Epoch 25/100\n",
            "313/313 [==============================] - 7s 21ms/step - loss: 0.4298 - accuracy: 0.8064 - val_loss: 0.4382 - val_accuracy: 0.7964\n",
            "Epoch 26/100\n",
            "313/313 [==============================] - 7s 21ms/step - loss: 0.4270 - accuracy: 0.8094 - val_loss: 0.4380 - val_accuracy: 0.7952\n",
            "Epoch 27/100\n",
            "313/313 [==============================] - 7s 21ms/step - loss: 0.4253 - accuracy: 0.8082 - val_loss: 0.4370 - val_accuracy: 0.7958\n",
            "Epoch 28/100\n",
            "313/313 [==============================] - 6s 20ms/step - loss: 0.4256 - accuracy: 0.8074 - val_loss: 0.4356 - val_accuracy: 0.8010\n",
            "Epoch 29/100\n",
            "313/313 [==============================] - 6s 21ms/step - loss: 0.4259 - accuracy: 0.8084 - val_loss: 0.4362 - val_accuracy: 0.8024\n",
            "Epoch 30/100\n",
            "313/313 [==============================] - 6s 21ms/step - loss: 0.4230 - accuracy: 0.8084 - val_loss: 0.4355 - val_accuracy: 0.8020\n",
            "Epoch 31/100\n",
            "313/313 [==============================] - 6s 21ms/step - loss: 0.4227 - accuracy: 0.8077 - val_loss: 0.4369 - val_accuracy: 0.7996\n",
            "Epoch 32/100\n",
            "313/313 [==============================] - 7s 21ms/step - loss: 0.4200 - accuracy: 0.8095 - val_loss: 0.4364 - val_accuracy: 0.7944\n",
            "Epoch 33/100\n",
            "313/313 [==============================] - 7s 21ms/step - loss: 0.4206 - accuracy: 0.8109 - val_loss: 0.4331 - val_accuracy: 0.8008\n",
            "Epoch 34/100\n",
            "313/313 [==============================] - 7s 21ms/step - loss: 0.4206 - accuracy: 0.8099 - val_loss: 0.4319 - val_accuracy: 0.8004\n",
            "Epoch 35/100\n",
            "313/313 [==============================] - 7s 21ms/step - loss: 0.4190 - accuracy: 0.8131 - val_loss: 0.4339 - val_accuracy: 0.8042\n",
            "Epoch 36/100\n",
            "313/313 [==============================] - 7s 21ms/step - loss: 0.4190 - accuracy: 0.8102 - val_loss: 0.4352 - val_accuracy: 0.8054\n",
            "Epoch 37/100\n",
            "313/313 [==============================] - 7s 21ms/step - loss: 0.4200 - accuracy: 0.8097 - val_loss: 0.4308 - val_accuracy: 0.8000\n",
            "Epoch 38/100\n",
            "313/313 [==============================] - 7s 21ms/step - loss: 0.4169 - accuracy: 0.8123 - val_loss: 0.4308 - val_accuracy: 0.7992\n",
            "Epoch 39/100\n",
            "313/313 [==============================] - 7s 21ms/step - loss: 0.4175 - accuracy: 0.8108 - val_loss: 0.4305 - val_accuracy: 0.8010\n",
            "Epoch 40/100\n",
            "313/313 [==============================] - 7s 21ms/step - loss: 0.4163 - accuracy: 0.8116 - val_loss: 0.4305 - val_accuracy: 0.8042\n",
            "Epoch 41/100\n",
            "313/313 [==============================] - 7s 21ms/step - loss: 0.4159 - accuracy: 0.8127 - val_loss: 0.4302 - val_accuracy: 0.8002\n",
            "Epoch 42/100\n",
            "313/313 [==============================] - 7s 21ms/step - loss: 0.4152 - accuracy: 0.8116 - val_loss: 0.4304 - val_accuracy: 0.8044\n",
            "Epoch 43/100\n",
            "313/313 [==============================] - 7s 21ms/step - loss: 0.4148 - accuracy: 0.8116 - val_loss: 0.4296 - val_accuracy: 0.8024\n",
            "Epoch 44/100\n",
            "313/313 [==============================] - 7s 21ms/step - loss: 0.4154 - accuracy: 0.8130 - val_loss: 0.4295 - val_accuracy: 0.8050\n",
            "Epoch 45/100\n",
            "313/313 [==============================] - 6s 21ms/step - loss: 0.4143 - accuracy: 0.8127 - val_loss: 0.4323 - val_accuracy: 0.8046\n",
            "Epoch 46/100\n",
            "313/313 [==============================] - 7s 21ms/step - loss: 0.4132 - accuracy: 0.8128 - val_loss: 0.4323 - val_accuracy: 0.8046\n",
            "Epoch 47/100\n",
            "313/313 [==============================] - 7s 21ms/step - loss: 0.4132 - accuracy: 0.8118 - val_loss: 0.4302 - val_accuracy: 0.8026\n"
          ]
        }
      ]
    },
    {
      "cell_type": "code",
      "source": [
        "plt.plot(history.history['loss'])\n",
        "plt.plot(history.history['val_loss'])\n",
        "plt.xlabel('epoch')\n",
        "plt.ylabel('loss')\n",
        "plt.legend(['train', 'val'])\n",
        "plt.show()"
      ],
      "metadata": {
        "colab": {
          "base_uri": "https://localhost:8080/",
          "height": 279
        },
        "id": "iRk_F9_jlxF7",
        "outputId": "089ec017-609d-4bdd-d7bd-5c2f5d9ece8b"
      },
      "execution_count": 8,
      "outputs": [
        {
          "output_type": "display_data",
          "data": {
            "image/png": "[encoded data removed]",
            "text/plain": [
              "<Figure size 432x288 with 1 Axes>"
            ]
          },
          "metadata": {
            "needs_background": "light"
          }
        }
      ]
    },
    {
      "cell_type": "markdown",
      "source": [
        "LSTM 층에 적용된 드롭아웃이 효과를 발휘해 훈련 손실과 검증 손실 간 차이가 좁혀졌다."
      ],
      "metadata": {
        "id": "m-ttbgRPl4Kd"
      }
    },
    {
      "cell_type": "markdown",
      "source": [
        "이번에는 2개의 순환층을 연결한 모델을 훈련해보자."
      ],
      "metadata": {
        "id": "T2rl-wiMmBe0"
      }
    },
    {
      "cell_type": "markdown",
      "source": [
        "## 2개의 층 연결하기"
      ],
      "metadata": {
        "id": "jZoZBDmJnrkw"
      }
    },
    {
      "cell_type": "markdown",
      "source": [
        "순환층의 은닉 상태는 샘플의 마지막 타임스텝에 대한 은닉 상태만 다음 층으로 전달한다. 하지만 순환층을 쌓게 되면 모든 순환층에 순차 데이터가 필요하다. 따라서 앞쪽의 순환층이 모든 타임스텝에 대한 은닉 상태를 출력해야 한다."
      ],
      "metadata": {
        "id": "Yxk2Za2HntnM"
      }
    },
    {
      "cell_type": "markdown",
      "source": [
        "케라스의 순환층에서 모든 타임스텝의 은닉 상태를 출력하려면 return_sequences 매개변수를 True로 지정하면 된다."
      ],
      "metadata": {
        "id": "hIlQPuWGoC__"
      }
    },
    {
      "cell_type": "code",
      "source": [
        "model3 = keras.Sequential()\n",
        "model3.add(keras.layers.Embedding(500, 16, input_length=100))\n",
        "model3.add(keras.layers.LSTM(8, dropout=0.3, return_sequences=True))\n",
        "model3.add(keras.layers.LSTM(8, dropout=0.3))\n",
        "model3.add(keras.layers.Dense(1, activation='sigmoid'))\n",
        "\n",
        "model3.summary()"
      ],
      "metadata": {
        "colab": {
          "base_uri": "https://localhost:8080/"
        },
        "id": "PwtSL2rOl0YU",
        "outputId": "d06c5ff4-20e2-45b9-bc4e-2a990260ca9a"
      },
      "execution_count": 9,
      "outputs": [
        {
          "output_type": "stream",
          "name": "stdout",
          "text": [
            "Model: \"sequential_2\"\n",
            "_________________________________________________________________\n",
            " Layer (type)                Output Shape              Param #   \n",
            "=================================================================\n",
            " embedding_2 (Embedding)     (None, 100, 16)           8000      \n",
            "                                                                 \n",
            " lstm_2 (LSTM)               (None, 100, 8)            800       \n",
            "                                                                 \n",
            " lstm_3 (LSTM)               (None, 8)                 544       \n",
            "                                                                 \n",
            " dense_2 (Dense)             (None, 1)                 9         \n",
            "                                                                 \n",
            "=================================================================\n",
            "Total params: 9,353\n",
            "Trainable params: 9,353\n",
            "Non-trainable params: 0\n",
            "_________________________________________________________________\n"
          ]
        }
      ]
    },
    {
      "cell_type": "code",
      "source": [
        "rmsprop = keras.optimizers.RMSprop(learning_rate=0.0001)\n",
        "model3.compile(optimizer=rmsprop, loss='binary_crossentropy', metrics=['accuracy'])\n",
        "\n",
        "checkpoint_cb = keras.callbacks.ModelCheckpoint('best-lstm-model.h5')\n",
        "early_stopping_cb = keras.callbacks.EarlyStopping(patience=3, restore_best_weights=True)\n",
        "\n",
        "history = model3.fit(train_seq, y_train, epochs=100, batch_size=64,\n",
        "                    validation_data=(val_seq, y_val),\n",
        "                    callbacks=[checkpoint_cb, early_stopping_cb])"
      ],
      "metadata": {
        "colab": {
          "base_uri": "https://localhost:8080/"
        },
        "id": "xKQPgTaRol5I",
        "outputId": "3b2a0922-fe15-4633-b24f-b8abd2b6b021"
      },
      "execution_count": 10,
      "outputs": [
        {
          "output_type": "stream",
          "name": "stdout",
          "text": [
            "Epoch 1/100\n",
            "313/313 [==============================] - 18s 45ms/step - loss: 0.6927 - accuracy: 0.5172 - val_loss: 0.6918 - val_accuracy: 0.5894\n",
            "Epoch 2/100\n",
            "313/313 [==============================] - 13s 43ms/step - loss: 0.6885 - accuracy: 0.5898 - val_loss: 0.6819 - val_accuracy: 0.6340\n",
            "Epoch 3/100\n",
            "313/313 [==============================] - 13s 43ms/step - loss: 0.6511 - accuracy: 0.6489 - val_loss: 0.6061 - val_accuracy: 0.6974\n",
            "Epoch 4/100\n",
            "313/313 [==============================] - 13s 43ms/step - loss: 0.5813 - accuracy: 0.7080 - val_loss: 0.5565 - val_accuracy: 0.7352\n",
            "Epoch 5/100\n",
            "313/313 [==============================] - 13s 42ms/step - loss: 0.5430 - accuracy: 0.7373 - val_loss: 0.5195 - val_accuracy: 0.7588\n",
            "Epoch 6/100\n",
            "313/313 [==============================] - 13s 42ms/step - loss: 0.5178 - accuracy: 0.7556 - val_loss: 0.4976 - val_accuracy: 0.7690\n",
            "Epoch 7/100\n",
            "313/313 [==============================] - 13s 42ms/step - loss: 0.5019 - accuracy: 0.7630 - val_loss: 0.4851 - val_accuracy: 0.7760\n",
            "Epoch 8/100\n",
            "313/313 [==============================] - 13s 42ms/step - loss: 0.4875 - accuracy: 0.7754 - val_loss: 0.4751 - val_accuracy: 0.7794\n",
            "Epoch 9/100\n",
            "313/313 [==============================] - 13s 42ms/step - loss: 0.4749 - accuracy: 0.7821 - val_loss: 0.4690 - val_accuracy: 0.7840\n",
            "Epoch 10/100\n",
            "313/313 [==============================] - 13s 43ms/step - loss: 0.4720 - accuracy: 0.7811 - val_loss: 0.4682 - val_accuracy: 0.7860\n",
            "Epoch 11/100\n",
            "313/313 [==============================] - 13s 43ms/step - loss: 0.4671 - accuracy: 0.7820 - val_loss: 0.4593 - val_accuracy: 0.7898\n",
            "Epoch 12/100\n",
            "313/313 [==============================] - 13s 42ms/step - loss: 0.4618 - accuracy: 0.7865 - val_loss: 0.4573 - val_accuracy: 0.7908\n",
            "Epoch 13/100\n",
            "313/313 [==============================] - 13s 42ms/step - loss: 0.4583 - accuracy: 0.7866 - val_loss: 0.4556 - val_accuracy: 0.7912\n",
            "Epoch 14/100\n",
            "313/313 [==============================] - 13s 42ms/step - loss: 0.4530 - accuracy: 0.7922 - val_loss: 0.4521 - val_accuracy: 0.7922\n",
            "Epoch 15/100\n",
            "313/313 [==============================] - 13s 42ms/step - loss: 0.4506 - accuracy: 0.7941 - val_loss: 0.4500 - val_accuracy: 0.7944\n",
            "Epoch 16/100\n",
            "313/313 [==============================] - 13s 42ms/step - loss: 0.4470 - accuracy: 0.7944 - val_loss: 0.4498 - val_accuracy: 0.7882\n",
            "Epoch 17/100\n",
            "313/313 [==============================] - 13s 42ms/step - loss: 0.4469 - accuracy: 0.7948 - val_loss: 0.4471 - val_accuracy: 0.7922\n",
            "Epoch 18/100\n",
            "313/313 [==============================] - 13s 42ms/step - loss: 0.4432 - accuracy: 0.7986 - val_loss: 0.4454 - val_accuracy: 0.7930\n",
            "Epoch 19/100\n",
            "313/313 [==============================] - 13s 43ms/step - loss: 0.4419 - accuracy: 0.7962 - val_loss: 0.4440 - val_accuracy: 0.7946\n",
            "Epoch 20/100\n",
            "313/313 [==============================] - 13s 42ms/step - loss: 0.4406 - accuracy: 0.7980 - val_loss: 0.4435 - val_accuracy: 0.7954\n",
            "Epoch 21/100\n",
            "313/313 [==============================] - 13s 42ms/step - loss: 0.4394 - accuracy: 0.7994 - val_loss: 0.4434 - val_accuracy: 0.7922\n",
            "Epoch 22/100\n",
            "313/313 [==============================] - 13s 42ms/step - loss: 0.4385 - accuracy: 0.7977 - val_loss: 0.4409 - val_accuracy: 0.7956\n",
            "Epoch 23/100\n",
            "313/313 [==============================] - 13s 42ms/step - loss: 0.4360 - accuracy: 0.8018 - val_loss: 0.4455 - val_accuracy: 0.7942\n",
            "Epoch 24/100\n",
            "313/313 [==============================] - 13s 42ms/step - loss: 0.4370 - accuracy: 0.8002 - val_loss: 0.4409 - val_accuracy: 0.7960\n",
            "Epoch 25/100\n",
            "313/313 [==============================] - 13s 42ms/step - loss: 0.4354 - accuracy: 0.8021 - val_loss: 0.4494 - val_accuracy: 0.7926\n"
          ]
        }
      ]
    },
    {
      "cell_type": "code",
      "source": [
        "plt.plot(history.history['loss'])\n",
        "plt.plot(history.history['val_loss'])\n",
        "plt.xlabel('epoch')\n",
        "plt.ylabel('loss')\n",
        "plt.legend(['train', 'val'])\n",
        "plt.show()"
      ],
      "metadata": {
        "colab": {
          "base_uri": "https://localhost:8080/",
          "height": 279
        },
        "id": "SfHQLxldos-V",
        "outputId": "25af1176-c906-4001-b8d4-a44a51a959df"
      },
      "execution_count": 11,
      "outputs": [
        {
          "output_type": "display_data",
          "data": {
            "image/png": "[encoded data removed]",
            "text/plain": [
              "<Figure size 432x288 with 1 Axes>"
            ]
          },
          "metadata": {
            "needs_background": "light"
          }
        }
      ]
    },
    {
      "cell_type": "markdown",
      "source": [
        "비록 여기서는 큰 improve를 보이진 못했지만, 과대적합을 잘 제어하면서 학습을 진행했다."
      ],
      "metadata": {
        "id": "6e0eNOmUsfsv"
      }
    },
    {
      "cell_type": "markdown",
      "source": [
        "## GRU 구조"
      ],
      "metadata": {
        "id": "0U3XCqGUs0YM"
      }
    },
    {
      "cell_type": "markdown",
      "source": [
        "GRU(Gated Recurrent Unit) 셀은 뉴욕 대학교 조경현 교수가 발명한 셀로 유명하다. LSTM의 간소화 버전으로 이해되기도 하는 이 구조는 LSTM과 달리 셀 상태를 계산하지 않고 은닉 상태 하나만을 포함하고 있다.\n",
        "\n",
        "GRU 셀에는 은닉 상태와 입력에 가중치를 곱하고 절편을 더하는 작은 셀이 3개 들어있다. 2개는 시그모이드 활성화 함수를 사용하고 하나는 tanh 활성화 함수를 사용한다. \n",
        "\n",
        "GRU 셀은 LSTM보다 가중치가 적기 때문에 계산량이 적지만 LSTM 못지않은 좋은 성능을 낸다고 알려져 있다."
      ],
      "metadata": {
        "id": "DFML7DTss9u4"
      }
    },
    {
      "cell_type": "markdown",
      "source": [
        "## GRU 신경망 훈련하기"
      ],
      "metadata": {
        "id": "Ns0ZgZGet1oi"
      }
    },
    {
      "cell_type": "code",
      "source": [
        "model4 = keras.Sequential()\n",
        "model4.add(keras.layers.Embedding(500,16, input_length=100))\n",
        "model4.add(keras.layers.GRU(8, dropout=0.3))\n",
        "model4.add(keras.layers.Dense(1, activation='sigmoid'))"
      ],
      "metadata": {
        "id": "PhBnL76-ouie"
      },
      "execution_count": 15,
      "outputs": []
    },
    {
      "cell_type": "code",
      "source": [
        "model4.summary()"
      ],
      "metadata": {
        "colab": {
          "base_uri": "https://localhost:8080/"
        },
        "id": "MTJIdcuYueha",
        "outputId": "0a1b0a8d-6cfe-47e8-f900-2eb7ccaab18a"
      },
      "execution_count": 16,
      "outputs": [
        {
          "output_type": "stream",
          "name": "stdout",
          "text": [
            "Model: \"sequential_4\"\n",
            "_________________________________________________________________\n",
            " Layer (type)                Output Shape              Param #   \n",
            "=================================================================\n",
            " embedding_4 (Embedding)     (None, 100, 16)           8000      \n",
            "                                                                 \n",
            " gru_1 (GRU)                 (None, 8)                 624       \n",
            "                                                                 \n",
            " dense_4 (Dense)             (None, 1)                 9         \n",
            "                                                                 \n",
            "=================================================================\n",
            "Total params: 8,633\n",
            "Trainable params: 8,633\n",
            "Non-trainable params: 0\n",
            "_________________________________________________________________\n"
          ]
        }
      ]
    },
    {
      "cell_type": "code",
      "source": [
        "rmsprop = keras.optimizers.RMSprop(learning_rate=0.0001)\n",
        "model4.compile(optimizer=rmsprop, loss='binary_crossentropy', metrics=['accuracy'])\n",
        "\n",
        "checkpoint_cb = keras.callbacks.ModelCheckpoint('best-gru-model.h5')\n",
        "early_stopping_cb = keras.callbacks.EarlyStopping(patience=3, restore_best_weights=True)\n",
        "\n",
        "history = model4.fit(train_seq, y_train, epochs=100, batch_size=64,\n",
        "                    validation_data=(val_seq, y_val),\n",
        "                    callbacks=[checkpoint_cb, early_stopping_cb])"
      ],
      "metadata": {
        "colab": {
          "base_uri": "https://localhost:8080/"
        },
        "id": "vFL0Dk3MugOW",
        "outputId": "10b206c1-9694-44e1-a105-aa210a691711"
      },
      "execution_count": 17,
      "outputs": [
        {
          "output_type": "stream",
          "name": "stdout",
          "text": [
            "Epoch 1/100\n",
            "313/313 [==============================] - 9s 22ms/step - loss: 0.6922 - accuracy: 0.5191 - val_loss: 0.6912 - val_accuracy: 0.5502\n",
            "Epoch 2/100\n",
            "313/313 [==============================] - 6s 21ms/step - loss: 0.6904 - accuracy: 0.5526 - val_loss: 0.6895 - val_accuracy: 0.5716\n",
            "Epoch 3/100\n",
            "313/313 [==============================] - 7s 21ms/step - loss: 0.6880 - accuracy: 0.5699 - val_loss: 0.6869 - val_accuracy: 0.5868\n",
            "Epoch 4/100\n",
            "313/313 [==============================] - 7s 21ms/step - loss: 0.6844 - accuracy: 0.5917 - val_loss: 0.6828 - val_accuracy: 0.5962\n",
            "Epoch 5/100\n",
            "313/313 [==============================] - 6s 21ms/step - loss: 0.6790 - accuracy: 0.6064 - val_loss: 0.6765 - val_accuracy: 0.6024\n",
            "Epoch 6/100\n",
            "313/313 [==============================] - 6s 21ms/step - loss: 0.6708 - accuracy: 0.6150 - val_loss: 0.6681 - val_accuracy: 0.6162\n",
            "Epoch 7/100\n",
            "313/313 [==============================] - 7s 21ms/step - loss: 0.6591 - accuracy: 0.6356 - val_loss: 0.6545 - val_accuracy: 0.6320\n",
            "Epoch 8/100\n",
            "313/313 [==============================] - 7s 21ms/step - loss: 0.6411 - accuracy: 0.6497 - val_loss: 0.6339 - val_accuracy: 0.6536\n",
            "Epoch 9/100\n",
            "313/313 [==============================] - 6s 21ms/step - loss: 0.6111 - accuracy: 0.6798 - val_loss: 0.5969 - val_accuracy: 0.6928\n",
            "Epoch 10/100\n",
            "313/313 [==============================] - 6s 20ms/step - loss: 0.5639 - accuracy: 0.7116 - val_loss: 0.5461 - val_accuracy: 0.7334\n",
            "Epoch 11/100\n",
            "313/313 [==============================] - 6s 20ms/step - loss: 0.5302 - accuracy: 0.7362 - val_loss: 0.5247 - val_accuracy: 0.7466\n",
            "Epoch 12/100\n",
            "313/313 [==============================] - 6s 20ms/step - loss: 0.5136 - accuracy: 0.7510 - val_loss: 0.5122 - val_accuracy: 0.7536\n",
            "Epoch 13/100\n",
            "313/313 [==============================] - 7s 21ms/step - loss: 0.5012 - accuracy: 0.7577 - val_loss: 0.5011 - val_accuracy: 0.7628\n",
            "Epoch 14/100\n",
            "313/313 [==============================] - 7s 21ms/step - loss: 0.4914 - accuracy: 0.7681 - val_loss: 0.4920 - val_accuracy: 0.7692\n",
            "Epoch 15/100\n",
            "313/313 [==============================] - 7s 21ms/step - loss: 0.4830 - accuracy: 0.7724 - val_loss: 0.4889 - val_accuracy: 0.7622\n",
            "Epoch 16/100\n",
            "313/313 [==============================] - 7s 21ms/step - loss: 0.4775 - accuracy: 0.7773 - val_loss: 0.4802 - val_accuracy: 0.7810\n",
            "Epoch 17/100\n",
            "313/313 [==============================] - 7s 21ms/step - loss: 0.4704 - accuracy: 0.7811 - val_loss: 0.4725 - val_accuracy: 0.7834\n",
            "Epoch 18/100\n",
            "313/313 [==============================] - 7s 21ms/step - loss: 0.4654 - accuracy: 0.7844 - val_loss: 0.4684 - val_accuracy: 0.7802\n",
            "Epoch 19/100\n",
            "313/313 [==============================] - 7s 21ms/step - loss: 0.4593 - accuracy: 0.7874 - val_loss: 0.4669 - val_accuracy: 0.7852\n",
            "Epoch 20/100\n",
            "313/313 [==============================] - 6s 21ms/step - loss: 0.4531 - accuracy: 0.7915 - val_loss: 0.4663 - val_accuracy: 0.7780\n",
            "Epoch 21/100\n",
            "313/313 [==============================] - 7s 21ms/step - loss: 0.4511 - accuracy: 0.7935 - val_loss: 0.4586 - val_accuracy: 0.7818\n",
            "Epoch 22/100\n",
            "313/313 [==============================] - 7s 21ms/step - loss: 0.4498 - accuracy: 0.7963 - val_loss: 0.4552 - val_accuracy: 0.7866\n",
            "Epoch 23/100\n",
            "313/313 [==============================] - 7s 21ms/step - loss: 0.4469 - accuracy: 0.7936 - val_loss: 0.4520 - val_accuracy: 0.7886\n",
            "Epoch 24/100\n",
            "313/313 [==============================] - 6s 21ms/step - loss: 0.4421 - accuracy: 0.7961 - val_loss: 0.4500 - val_accuracy: 0.7938\n",
            "Epoch 25/100\n",
            "313/313 [==============================] - 7s 21ms/step - loss: 0.4398 - accuracy: 0.7994 - val_loss: 0.4480 - val_accuracy: 0.7936\n",
            "Epoch 26/100\n",
            "313/313 [==============================] - 6s 20ms/step - loss: 0.4382 - accuracy: 0.8015 - val_loss: 0.4471 - val_accuracy: 0.7910\n",
            "Epoch 27/100\n",
            "313/313 [==============================] - 6s 21ms/step - loss: 0.4371 - accuracy: 0.8032 - val_loss: 0.4459 - val_accuracy: 0.7928\n",
            "Epoch 28/100\n",
            "313/313 [==============================] - 6s 21ms/step - loss: 0.4341 - accuracy: 0.8029 - val_loss: 0.4459 - val_accuracy: 0.7988\n",
            "Epoch 29/100\n",
            "313/313 [==============================] - 6s 21ms/step - loss: 0.4323 - accuracy: 0.8040 - val_loss: 0.4462 - val_accuracy: 0.7988\n",
            "Epoch 30/100\n",
            "313/313 [==============================] - 6s 21ms/step - loss: 0.4312 - accuracy: 0.8054 - val_loss: 0.4435 - val_accuracy: 0.7984\n",
            "Epoch 31/100\n",
            "313/313 [==============================] - 7s 21ms/step - loss: 0.4307 - accuracy: 0.8051 - val_loss: 0.4424 - val_accuracy: 0.7936\n",
            "Epoch 32/100\n",
            "313/313 [==============================] - 7s 21ms/step - loss: 0.4287 - accuracy: 0.8046 - val_loss: 0.4435 - val_accuracy: 0.7912\n",
            "Epoch 33/100\n",
            "313/313 [==============================] - 7s 21ms/step - loss: 0.4280 - accuracy: 0.8066 - val_loss: 0.4409 - val_accuracy: 0.7988\n",
            "Epoch 34/100\n",
            "313/313 [==============================] - 7s 21ms/step - loss: 0.4270 - accuracy: 0.8080 - val_loss: 0.4406 - val_accuracy: 0.7990\n",
            "Epoch 35/100\n",
            "313/313 [==============================] - 7s 21ms/step - loss: 0.4263 - accuracy: 0.8084 - val_loss: 0.4405 - val_accuracy: 0.7990\n",
            "Epoch 36/100\n",
            "313/313 [==============================] - 7s 21ms/step - loss: 0.4229 - accuracy: 0.8079 - val_loss: 0.4500 - val_accuracy: 0.7916\n",
            "Epoch 37/100\n",
            "313/313 [==============================] - 7s 21ms/step - loss: 0.4251 - accuracy: 0.8091 - val_loss: 0.4399 - val_accuracy: 0.7928\n",
            "Epoch 38/100\n",
            "313/313 [==============================] - 7s 21ms/step - loss: 0.4234 - accuracy: 0.8099 - val_loss: 0.4421 - val_accuracy: 0.7906\n",
            "Epoch 39/100\n",
            "313/313 [==============================] - 7s 21ms/step - loss: 0.4233 - accuracy: 0.8060 - val_loss: 0.4395 - val_accuracy: 0.7938\n",
            "Epoch 40/100\n",
            "313/313 [==============================] - 7s 21ms/step - loss: 0.4213 - accuracy: 0.8116 - val_loss: 0.4378 - val_accuracy: 0.7994\n",
            "Epoch 41/100\n",
            "313/313 [==============================] - 7s 21ms/step - loss: 0.4220 - accuracy: 0.8092 - val_loss: 0.4371 - val_accuracy: 0.7974\n",
            "Epoch 42/100\n",
            "313/313 [==============================] - 7s 21ms/step - loss: 0.4224 - accuracy: 0.8084 - val_loss: 0.4388 - val_accuracy: 0.7940\n",
            "Epoch 43/100\n",
            "313/313 [==============================] - 7s 21ms/step - loss: 0.4209 - accuracy: 0.8095 - val_loss: 0.4379 - val_accuracy: 0.7992\n",
            "Epoch 44/100\n",
            "313/313 [==============================] - 6s 21ms/step - loss: 0.4199 - accuracy: 0.8088 - val_loss: 0.4361 - val_accuracy: 0.7980\n",
            "Epoch 45/100\n",
            "313/313 [==============================] - 6s 20ms/step - loss: 0.4220 - accuracy: 0.8092 - val_loss: 0.4362 - val_accuracy: 0.7976\n",
            "Epoch 46/100\n",
            "313/313 [==============================] - 6s 21ms/step - loss: 0.4180 - accuracy: 0.8120 - val_loss: 0.4354 - val_accuracy: 0.7990\n",
            "Epoch 47/100\n",
            "313/313 [==============================] - 6s 21ms/step - loss: 0.4211 - accuracy: 0.8075 - val_loss: 0.4357 - val_accuracy: 0.7986\n",
            "Epoch 48/100\n",
            "313/313 [==============================] - 6s 20ms/step - loss: 0.4181 - accuracy: 0.8124 - val_loss: 0.4374 - val_accuracy: 0.7980\n",
            "Epoch 49/100\n",
            "313/313 [==============================] - 7s 21ms/step - loss: 0.4186 - accuracy: 0.8101 - val_loss: 0.4360 - val_accuracy: 0.7988\n"
          ]
        }
      ]
    },
    {
      "cell_type": "code",
      "source": [
        "plt.plot(history.history['loss'])\n",
        "plt.plot(history.history['val_loss'])\n",
        "plt.xlabel('epoch')\n",
        "plt.ylabel('loss')\n",
        "plt.legend(['train', 'val'])\n",
        "plt.show()"
      ],
      "metadata": {
        "colab": {
          "base_uri": "https://localhost:8080/",
          "height": 279
        },
        "id": "fukfa7cDuyOz",
        "outputId": "be025581-8a57-4b55-f6f2-dc3e8c5d338b"
      },
      "execution_count": 18,
      "outputs": [
        {
          "output_type": "display_data",
          "data": {
            "image/png": "[encoded data removed]",
            "text/plain": [
              "<Figure size 432x288 with 1 Axes>"
            ]
          },
          "metadata": {
            "needs_background": "light"
          }
        }
      ]
    },
    {
      "cell_type": "code",
      "source": [
        "train_seq = pad_sequences(X_test, maxlen=100)\n",
        "gru_model = keras.models.load_model('best-gru-model.h5')\n",
        "gru_model.evaluate(val_seq, y_val)"
      ],
      "metadata": {
        "colab": {
          "base_uri": "https://localhost:8080/"
        },
        "id": "sPl4bybCvIbj",
        "outputId": "a7009737-0942-480e-ede8-eb3958cbc293"
      },
      "execution_count": 20,
      "outputs": [
        {
          "output_type": "stream",
          "name": "stdout",
          "text": [
            "157/157 [==============================] - 2s 8ms/step - loss: 0.4360 - accuracy: 0.7988\n"
          ]
        },
        {
          "output_type": "execute_result",
          "data": {
            "text/plain": [
              "[0.4360349476337433, 0.798799991607666]"
            ]
          },
          "metadata": {},
          "execution_count": 20
        }
      ]
    },
    {
      "cell_type": "code",
      "source": [
        ""
      ],
      "metadata": {
        "id": "ZCq3oTnT0evw"
      },
      "execution_count": null,
      "outputs": []
    }
  ]
}