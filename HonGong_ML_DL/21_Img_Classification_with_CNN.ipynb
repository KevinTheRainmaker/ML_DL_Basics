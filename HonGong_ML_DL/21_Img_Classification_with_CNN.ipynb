{
  "nbformat": 4,
  "nbformat_minor": 0,
  "metadata": {
    "colab": {
      "name": "21_Img_Classification_with_CNN.ipynb",
      "provenance": [],
      "collapsed_sections": [],
      "authorship_tag": "ABX9TyPQVbrd19JBAGB1j2ttV9GE",
      "include_colab_link": true
    },
    "kernelspec": {
      "name": "python3",
      "display_name": "Python 3"
    },
    "language_info": {
      "name": "python"
    }
  },
  "cells": [
    {
      "cell_type": "markdown",
      "metadata": {
        "id": "view-in-github",
        "colab_type": "text"
      },
      "source": [
        "<a href=\"https://colab.research.google.com/github/KevinTheRainmaker/ML_DL_Basics/blob/master/HonGong_ML_DL/21_Img_Classification_with_CNN.ipynb\" target=\"_parent\"><img src=\"https://colab.research.google.com/assets/colab-badge.svg\" alt=\"Open In Colab\"/></a>"
      ]
    },
    {
      "cell_type": "markdown",
      "source": [
        "# 합성곱 신경망을 이용한 이미지 분류\n",
        "\n",
        "### **키워드:** Conv2D, MaxPooling2D, plot_model\n",
        "\n",
        "케라스 API를 사용해 합성곱 신경망 모델을 만들어 Fashion MNIST 이미지를 분류해보고 그 모델의 층 구성을 그림으로 표현해보자."
      ],
      "metadata": {
        "id": "i-yjSfuz8vpt"
      }
    },
    {
      "cell_type": "code",
      "execution_count": 1,
      "metadata": {
        "id": "_6oSIqne7ArT"
      },
      "outputs": [],
      "source": [
        "# packages\n",
        "import numpy as np\n",
        "\n",
        "from tensorflow import keras\n",
        "from sklearn.model_selection import train_test_split\n",
        "\n",
        "import matplotlib.pyplot as plt"
      ]
    },
    {
      "cell_type": "markdown",
      "source": [
        "## Dataset"
      ],
      "metadata": {
        "id": "C3wy1hXHDVLV"
      }
    },
    {
      "cell_type": "markdown",
      "source": [
        "데이터를 불러오는 것은 기존의 방식과 같지만, Flatten 혹은 reshape를 사용했던 완전 연결 신경망과 달리 여기서는 2차원 이미지를 그대로 사용한다.\n",
        "\n",
        "다만, 입력 이미지에는 깊이(채널)이 있어야 하므로 reshape를 통해 차원을 추가해주겠다. 흑백 이미지의 경우 깊이가 1이다."
      ],
      "metadata": {
        "id": "phadV1oTDWfs"
      }
    },
    {
      "cell_type": "code",
      "source": [
        "(X_train, y_train), (X_test, y_test) = keras.datasets.fashion_mnist.load_data()\n",
        "\n",
        "train_scaled = X_train.reshape(-1, 28, 28, 1) / 255.0\n",
        "train_scaled, val_scaled, y_train, y_val = train_test_split(train_scaled, y_train, test_size=0.2, random_state=42)"
      ],
      "metadata": {
        "colab": {
          "base_uri": "https://localhost:8080/"
        },
        "id": "m1F5MwpbDQtm",
        "outputId": "ab9e8a63-e147-4c37-e9c5-677ae1e0b810"
      },
      "execution_count": 2,
      "outputs": [
        {
          "output_type": "stream",
          "name": "stdout",
          "text": [
            "Downloading data from https://storage.googleapis.com/tensorflow/tf-keras-datasets/train-labels-idx1-ubyte.gz\n",
            "32768/29515 [=================================] - 0s 0us/step\n",
            "40960/29515 [=========================================] - 0s 0us/step\n",
            "Downloading data from https://storage.googleapis.com/tensorflow/tf-keras-datasets/train-images-idx3-ubyte.gz\n",
            "26427392/26421880 [==============================] - 0s 0us/step\n",
            "26435584/26421880 [==============================] - 0s 0us/step\n",
            "Downloading data from https://storage.googleapis.com/tensorflow/tf-keras-datasets/t10k-labels-idx1-ubyte.gz\n",
            "16384/5148 [===============================================================================================] - 0s 0us/step\n",
            "Downloading data from https://storage.googleapis.com/tensorflow/tf-keras-datasets/t10k-images-idx3-ubyte.gz\n",
            "4423680/4422102 [==============================] - 0s 0us/step\n",
            "4431872/4422102 [==============================] - 0s 0us/step\n"
          ]
        }
      ]
    },
    {
      "cell_type": "markdown",
      "source": [
        "`train_scaled`의 차원이 (50000, 28, 28)에서 (50000, 28, 28, 1)이 되었다."
      ],
      "metadata": {
        "id": "idGAEtWcFOpj"
      }
    },
    {
      "cell_type": "markdown",
      "source": [
        "## 합성곱 신경망 만들기"
      ],
      "metadata": {
        "id": "oMDn0hCcFX7l"
      }
    },
    {
      "cell_type": "markdown",
      "source": [
        "합성곱 신경망의 구조는 기본적으로 합성곱 층으로 이미지에서 특징을 감지한 후 밀집층으로 클래스에 따른 분류 확률을 계산하는 방식을 따른다."
      ],
      "metadata": {
        "id": "4Z5zjDJ4Fv6v"
      }
    },
    {
      "cell_type": "code",
      "source": [
        "model = keras.Sequential()\n",
        "model.add(keras.layers.Conv2D(32, kernel_size=3, activation='relu',\n",
        "                              padding='same', input_shape=(28,28,1)))"
      ],
      "metadata": {
        "id": "JyDZjLFDEYSs"
      },
      "execution_count": 3,
      "outputs": []
    },
    {
      "cell_type": "markdown",
      "source": [
        "32개의 필터를 사용하고 same padding을 이용하므로 위 합성곱 층의 출력은 (28, 28, 32)가 될 것이다."
      ],
      "metadata": {
        "id": "e-PvYIxwGNPU"
      }
    },
    {
      "cell_type": "markdown",
      "source": [
        "`MaxPooling2D`로 풀링층을 추가해보자."
      ],
      "metadata": {
        "id": "fDrbM6gEGXjd"
      }
    },
    {
      "cell_type": "code",
      "source": [
        "model.add(keras.layers.MaxPooling2D(2))"
      ],
      "metadata": {
        "id": "r7fuCrdyGM5X"
      },
      "execution_count": 4,
      "outputs": []
    },
    {
      "cell_type": "markdown",
      "source": [
        "(2, 2) 최대 풀링을 적용했으므로 출력되는 특성 맵의 크기는 (14, 14, 32)가 될 것이다."
      ],
      "metadata": {
        "id": "t0tdavUfJwyn"
      }
    },
    {
      "cell_type": "markdown",
      "source": [
        "위에서 만든 첫번째 합성곱-풀링 층 다음에 두번째 합성곱-풀링 층을 추가해보자. 여기서는 더 다양하고 구체적인 특징을 감지할 수 있도록 필터의 개수를 64개로 늘리도록 하겠다."
      ],
      "metadata": {
        "id": "xMaX3_k5J5Aq"
      }
    },
    {
      "cell_type": "code",
      "source": [
        "model.add(keras.layers.Conv2D(64, kernel_size=3, activation='relu',\n",
        "                              padding='same'))\n",
        "model.add(keras.layers.MaxPooling2D(2))"
      ],
      "metadata": {
        "id": "6YTeRk-oJuSH"
      },
      "execution_count": 5,
      "outputs": []
    },
    {
      "cell_type": "markdown",
      "source": [
        "합성곱 층에서는 크기가 줄지 않으나 풀링 층에서 반으로 줄어들 것이므로 최종적으로 만들어지는 특성 맵의 크기는 (7, 7, 64)가 될 것이다."
      ],
      "metadata": {
        "id": "-YoMBN5UKpcZ"
      }
    },
    {
      "cell_type": "markdown",
      "source": [
        "이제 최종 밀집 출력층에서 사용하기 위해서 3차원 특성 맵을 일렬고 펼쳐보겠다. 여기에서는 특성 맵을 펼쳐 바로 출력층에 전달하지 않고 하나의 밀집 은닉층을 거치도록 하겠다. 드롭아웃은 0.4로 적용하도록 하자."
      ],
      "metadata": {
        "id": "xf1M-UI9K0sl"
      }
    },
    {
      "cell_type": "code",
      "source": [
        "model.add(keras.layers.Flatten())\n",
        "model.add(keras.layers.Dense(100, activation='relu'))\n",
        "model.add(keras.layers.Dropout(0.4))\n",
        "model.add(keras.layers.Dense(10, activation='softmax'))"
      ],
      "metadata": {
        "id": "GH9ihRppKYFA"
      },
      "execution_count": 6,
      "outputs": []
    },
    {
      "cell_type": "code",
      "source": [
        "model.summary()"
      ],
      "metadata": {
        "colab": {
          "base_uri": "https://localhost:8080/"
        },
        "id": "Jz_Rps_kLZ3e",
        "outputId": "c4938123-2f27-44e7-cf08-7e0226445e01"
      },
      "execution_count": 7,
      "outputs": [
        {
          "output_type": "stream",
          "name": "stdout",
          "text": [
            "Model: \"sequential\"\n",
            "_________________________________________________________________\n",
            " Layer (type)                Output Shape              Param #   \n",
            "=================================================================\n",
            " conv2d (Conv2D)             (None, 28, 28, 32)        320       \n",
            "                                                                 \n",
            " max_pooling2d (MaxPooling2D  (None, 14, 14, 32)       0         \n",
            " )                                                               \n",
            "                                                                 \n",
            " conv2d_1 (Conv2D)           (None, 14, 14, 64)        18496     \n",
            "                                                                 \n",
            " max_pooling2d_1 (MaxPooling  (None, 7, 7, 64)         0         \n",
            " 2D)                                                             \n",
            "                                                                 \n",
            " flatten (Flatten)           (None, 3136)              0         \n",
            "                                                                 \n",
            " dense (Dense)               (None, 100)               313700    \n",
            "                                                                 \n",
            " dropout (Dropout)           (None, 100)               0         \n",
            "                                                                 \n",
            " dense_1 (Dense)             (None, 10)                1010      \n",
            "                                                                 \n",
            "=================================================================\n",
            "Total params: 333,526\n",
            "Trainable params: 333,526\n",
            "Non-trainable params: 0\n",
            "_________________________________________________________________\n"
          ]
        }
      ]
    },
    {
      "cell_type": "code",
      "source": [
        ""
      ],
      "metadata": {
        "id": "29lXoVguLf0d"
      },
      "execution_count": null,
      "outputs": []
    }
  ]
}