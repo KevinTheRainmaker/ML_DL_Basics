{
  "nbformat": 4,
  "nbformat_minor": 0,
  "metadata": {
    "colab": {
      "name": "22_Visualize_CNN.ipynb",
      "provenance": [],
      "collapsed_sections": [],
      "mount_file_id": "1QkHgRdMcz9q-PMfrZ-p63DK-7_qf1BpW",
      "authorship_tag": "ABX9TyNdeZHaWWQQdNn/G6FjsfB6",
      "include_colab_link": true
    },
    "kernelspec": {
      "name": "python3",
      "display_name": "Python 3"
    },
    "language_info": {
      "name": "python"
    }
  },
  "cells": [
    {
      "cell_type": "markdown",
      "metadata": {
        "id": "view-in-github",
        "colab_type": "text"
      },
      "source": [
        "<a href=\"https://colab.research.google.com/github/KevinTheRainmaker/ML_DL_Basics/blob/master/HonGong_ML_DL/22_Visualize_CNN.ipynb\" target=\"_parent\"><img src=\"https://colab.research.google.com/assets/colab-badge.svg\" alt=\"Open In Colab\"/></a>"
      ]
    },
    {
      "cell_type": "markdown",
      "source": [
        "# 합성곱 신경망의 시각화\n",
        "\n",
        "### **키워드:** 가중치 시각화, 특성 맵 시각화, 함수형 API\n",
        "\n",
        "합성곱 층의 가중치와 특성 맵을 시각화하여 신경망이 이미지에서 어떤 것을 학습하는지 이해해보자."
      ],
      "metadata": {
        "id": "vlPgyqUNHx77"
      }
    },
    {
      "cell_type": "code",
      "execution_count": 1,
      "metadata": {
        "id": "75axSgDtHt1u"
      },
      "outputs": [],
      "source": [
        "# packages\n",
        "from tensorflow import keras\n",
        "\n",
        "import matplotlib.pyplot as plt"
      ]
    },
    {
      "cell_type": "markdown",
      "source": [
        "## 가중치 시각화"
      ],
      "metadata": {
        "id": "NKzsqzNsIcAQ"
      }
    },
    {
      "cell_type": "markdown",
      "source": [
        "합성곱 층은 여러 개의 필터를 사용해 이미지에서 특징을 학습한다. 각 필터는 커널이라 부르는 가중치와 절편을 가지고 있고, 가중치는 입력 이미지의 2차원 영역에 적용되어 어떤 특징을 크게 두드러지게 표현하는 역할을 수행한다. 일반적으로 절편은 시각적으로 큰 의미를 갖지는 않는다."
      ],
      "metadata": {
        "id": "LEbHa746IdUG"
      }
    },
    {
      "cell_type": "markdown",
      "source": [
        "모델이 학습한 가중치를 체크포인트 파일을 읽어 확인할 수 있다."
      ],
      "metadata": {
        "id": "8yaEVjNJLfMn"
      }
    },
    {
      "cell_type": "code",
      "source": [
        "path = '/content/drive/MyDrive/Model_checkpoints/best-cnn-model.h5'\n",
        "model = keras.models.load_model(path)"
      ],
      "metadata": {
        "id": "b2NhiJn6IU6p"
      },
      "execution_count": 2,
      "outputs": []
    },
    {
      "cell_type": "markdown",
      "source": [
        "케라스 모델에 추가한 층은 layers 속성에 저장되어 있다."
      ],
      "metadata": {
        "id": "6RfPZEXxPF8c"
      }
    },
    {
      "cell_type": "code",
      "source": [
        "model.layers"
      ],
      "metadata": {
        "colab": {
          "base_uri": "https://localhost:8080/"
        },
        "id": "bkbFqP4YPDYa",
        "outputId": "f85b4151-bf02-4c15-e99e-c5e544ab5886"
      },
      "execution_count": 3,
      "outputs": [
        {
          "output_type": "execute_result",
          "data": {
            "text/plain": [
              "[<keras.layers.convolutional.Conv2D at 0x7f1a362c7490>,\n",
              " <keras.layers.pooling.MaxPooling2D at 0x7f1a3220cb50>,\n",
              " <keras.layers.convolutional.Conv2D at 0x7f1a321e4e90>,\n",
              " <keras.layers.pooling.MaxPooling2D at 0x7f1a321bde50>,\n",
              " <keras.layers.core.flatten.Flatten at 0x7f1a362c7e50>,\n",
              " <keras.layers.core.dense.Dense at 0x7f1a321e4890>,\n",
              " <keras.layers.core.dropout.Dropout at 0x7f1a3220c250>,\n",
              " <keras.layers.core.dense.Dense at 0x7f1a321f1850>]"
            ]
          },
          "metadata": {},
          "execution_count": 3
        }
      ]
    },
    {
      "cell_type": "markdown",
      "source": [
        "첫 번째 합성곱 층의 가중치를 조사해보자. 층의 가중치와 절편은 층의 `weights` 속성에 저장되어 있다."
      ],
      "metadata": {
        "id": "LQuNn6rl0Eq0"
      }
    },
    {
      "cell_type": "code",
      "source": [
        "conv = model.layers[0]\n",
        "print(conv.weights[0].shape, conv.weights[1].shape)"
      ],
      "metadata": {
        "colab": {
          "base_uri": "https://localhost:8080/"
        },
        "id": "hCi0LbsWPO7f",
        "outputId": "620f3e99-68d6-4951-9c89-0c8f499fb12a"
      },
      "execution_count": 4,
      "outputs": [
        {
          "output_type": "stream",
          "name": "stdout",
          "text": [
            "(3, 3, 1, 32) (32,)\n"
          ]
        }
      ]
    },
    {
      "cell_type": "markdown",
      "source": [
        "`weights` 속성은 텐서플로우의 다차원 배열인 Tensor 클래스의 객체이다. 다루기 쉽도록 넘파이 배열로 바꾼 후 가중치 배열의 평균과 표준편차를 메서드로 계산해보자."
      ],
      "metadata": {
        "id": "zAF49xqN1YBR"
      }
    },
    {
      "cell_type": "code",
      "source": [
        "conv_weights = conv.weights[0].numpy()\n",
        "print(conv_weights.mean(), conv_weights.std())"
      ],
      "metadata": {
        "colab": {
          "base_uri": "https://localhost:8080/"
        },
        "id": "8_FGFZq40D7t",
        "outputId": "3a6a9eac-6d91-44e5-df7d-435d8e9cd665"
      },
      "execution_count": 5,
      "outputs": [
        {
          "output_type": "stream",
          "name": "stdout",
          "text": [
            "-0.029908843 0.25596046\n"
          ]
        }
      ]
    },
    {
      "cell_type": "code",
      "source": [
        "plt.hist(conv_weights.reshape(-1,1))\n",
        "plt.xlabel('weight')\n",
        "plt.ylabel('count')\n",
        "plt.show()"
      ],
      "metadata": {
        "colab": {
          "base_uri": "https://localhost:8080/",
          "height": 279
        },
        "id": "kY0t7-6W2mrg",
        "outputId": "06e5bea2-b22e-4fdb-96bf-be02601d46d7"
      },
      "execution_count": 6,
      "outputs": [
        {
          "output_type": "display_data",
          "data": {
            "image/png": "[encoded data removed]",
            "text/plain": [
              "<Figure size 432x288 with 1 Axes>"
            ]
          },
          "metadata": {
            "needs_background": "light"
          }
        }
      ]
    },
    {
      "cell_type": "markdown",
      "source": [
        "`hist()` 함수에는 1차원 배열을 전달해야하기 때문에 `reshape`를 이용했다."
      ],
      "metadata": {
        "id": "nniOZ2sS6a3h"
      }
    },
    {
      "cell_type": "markdown",
      "source": [
        "이번에는 32개의 커널을 출력해보자."
      ],
      "metadata": {
        "id": "E6IZubWt6tzc"
      }
    },
    {
      "cell_type": "code",
      "source": [
        "fig, axis = plt.subplots(2, 16, figsize=(15,2))\n",
        "for i in range(2):\n",
        "  for j in range(16):\n",
        "    axis[i,j].imshow(conv_weights[:,:,0,i*16 + j], vmin=-0.5, vmax=0.5)\n",
        "    axis[i,j].axis('off')\n",
        "plt.show()"
      ],
      "metadata": {
        "colab": {
          "base_uri": "https://localhost:8080/",
          "height": 134
        },
        "id": "7tHMf0T_6X5c",
        "outputId": "ecf3678b-b789-417b-c819-4c00b20f98ab"
      },
      "execution_count": 7,
      "outputs": [
        {
          "output_type": "display_data",
          "data": {
            "image/png": "[encoded data removed]",
            "text/plain": [
              "<Figure size 1080x144 with 32 Axes>"
            ]
          },
          "metadata": {
            "needs_background": "light"
          }
        }
      ]
    },
    {
      "cell_type": "markdown",
      "source": [
        "`imshow()`에서는 배열에 있는 최댓값과 최솟값을 사용해 픽셀의 강도를 표현한다. 따라서 여러 배열의 픽셀 강도를 비교하기 위해서는 기준값이 필요한데, 이를 위해 위 코드에서 vmin과 vmax로 컬러맵(colormap)에 의해 표현될 범위를 설정하였다."
      ],
      "metadata": {
        "id": "_Wwy9l_k7RAA"
      }
    },
    {
      "cell_type": "markdown",
      "source": [
        "이번에는 훈련되지 않은 빈 합성곱 층을 만들어 가중치를 시각화해보도록 하겠다."
      ],
      "metadata": {
        "id": "LheAbTEO8Gia"
      }
    },
    {
      "cell_type": "code",
      "source": [
        "no_training_model = keras.Sequential()\n",
        "no_training_model.add(keras.layers.Conv2D(32, kernel_size=3, activation='relu',\n",
        "                                          padding='same', input_shape=(28,28,1)))\n",
        "\n",
        "no_training_conv = no_training_model.layers[0]\n",
        "print(no_training_conv.weights[0].shape)"
      ],
      "metadata": {
        "colab": {
          "base_uri": "https://localhost:8080/"
        },
        "id": "lS7Ncuym7Lav",
        "outputId": "f4e544ec-244b-40d4-87df-813287981100"
      },
      "execution_count": 8,
      "outputs": [
        {
          "output_type": "stream",
          "name": "stdout",
          "text": [
            "(3, 3, 1, 32)\n"
          ]
        }
      ]
    },
    {
      "cell_type": "code",
      "source": [
        "no_training_weights = no_training_conv.weights[0].numpy()\n",
        "print(no_training_weights.mean(), no_training_weights.std())\n",
        "plt.hist(no_training_weights.reshape(-1,1))\n",
        "plt.xlabel('weight')\n",
        "plt.ylabel('count')\n",
        "plt.show()"
      ],
      "metadata": {
        "colab": {
          "base_uri": "https://localhost:8080/",
          "height": 296
        },
        "id": "UeLQzsN98iPy",
        "outputId": "0bfd0a74-9696-459e-f3ef-db6302b83731"
      },
      "execution_count": 9,
      "outputs": [
        {
          "output_type": "stream",
          "name": "stdout",
          "text": [
            "-0.0048868135 0.08559995\n"
          ]
        },
        {
          "output_type": "display_data",
          "data": {
            "image/png": "[encoded data removed]",
            "text/plain": [
              "<Figure size 432x288 with 1 Axes>"
            ]
          },
          "metadata": {
            "needs_background": "light"
          }
        }
      ]
    },
    {
      "cell_type": "markdown",
      "source": [
        "표준편차가 매우 작으며, 대부분의 가중치가 -0.15와 0.15 사이에서 비교적 고른 분포를 보이고 있다. 이는 텐서플로우가 신경망의 가중치를 처음 초기화할 때 균등 분포에서 랜덤하게 값을 선택하기 때문이다."
      ],
      "metadata": {
        "id": "Wh71vPHh80Lh"
      }
    },
    {
      "cell_type": "code",
      "source": [
        "fig, axis = plt.subplots(2, 16, figsize=(15,2))\n",
        "for i in range(2):\n",
        "  for j in range(16):\n",
        "    axis[i,j].imshow(no_training_weights[:,:,0,i*16 + j], vmin=-0.5, vmax=0.5)\n",
        "    axis[i,j].axis('off')\n",
        "plt.show()"
      ],
      "metadata": {
        "colab": {
          "base_uri": "https://localhost:8080/",
          "height": 134
        },
        "id": "rNnH6fiM8sD5",
        "outputId": "84bcc4c2-c535-4d67-e71e-a57c46dc7b40"
      },
      "execution_count": 10,
      "outputs": [
        {
          "output_type": "display_data",
          "data": {
            "image/png": "[encoded data removed]",
            "text/plain": [
              "<Figure size 1080x144 with 32 Axes>"
            ]
          },
          "metadata": {
            "needs_background": "light"
          }
        }
      ]
    },
    {
      "cell_type": "markdown",
      "source": [
        "전체적인 가중치가 밋밋하게 초기화되어 있다."
      ],
      "metadata": {
        "id": "_ktVIqZ09k8Y"
      }
    },
    {
      "cell_type": "markdown",
      "source": [
        "## 함수형 API"
      ],
      "metadata": {
        "id": "jzj5Ds6h9z1P"
      }
    },
    {
      "cell_type": "markdown",
      "source": [
        "지금까지 신경망 모델을 만들 때 케라스 Sequential 클래스를 사용했다. 이 클래스는 층을 차례대로 쌓은 모델을 만든다.\n",
        "\n",
        "하지만 더욱 복잡한 형태의 모델을 구현하기에는 이로는 부족한 경우가 많다. 이를 해결하기 위해 함수형 API(functional API)가 사용되곤 한다."
      ],
      "metadata": {
        "id": "70z4lcnK91xr"
      }
    },
    {
      "cell_type": "markdown",
      "source": [
        "함수형 API는 케라스의 Model 클래스를 사용하여 모델을 만든다.\n",
        "\n",
        "예시를 들기 위해 Dense 층 2개로 이루어진 간단한 완전 연결 신경망을 함수형 API로 구현해보도록 하겠다."
      ],
      "metadata": {
        "id": "57fDr7OG-Mhe"
      }
    },
    {
      "cell_type": "code",
      "source": [
        "dense1 = keras.layers.Dense(100, activation='sigmoid')\n",
        "dense2 = keras.layers.Dense(10, activation='softmax')"
      ],
      "metadata": {
        "id": "MF5yEN3c9Gxr"
      },
      "execution_count": 84,
      "outputs": []
    },
    {
      "cell_type": "markdown",
      "source": [
        "기존에는 이를 add해서 Sequential에 넣었지만, 다음과 같이 사용할 수도 있다."
      ],
      "metadata": {
        "id": "WWpNH8JH_BY0"
      }
    },
    {
      "cell_type": "code",
      "source": [
        "inputs = keras.Input(shape=(784,)) # Sequential에서와 달리 InputLayer 클래스가 수동으로 추가되고 호출되어야 한다.\n",
        "\n",
        "hidden = dense1(inputs)\n",
        "outputs = dense2(hidden)"
      ],
      "metadata": {
        "id": "Ff_Yj5-X_A6o"
      },
      "execution_count": 85,
      "outputs": []
    },
    {
      "cell_type": "markdown",
      "source": [
        "파이썬의 모든 객체는 callable하다. 이는 케라스에서도 마찬가지이다. inputs를 dense1에 통과시켜 hidden을 만들고 이를 dense2의 입력으로 사용하여 출력을 만들 수 있다."
      ],
      "metadata": {
        "id": "pad9iw1I_u1a"
      }
    },
    {
      "cell_type": "markdown",
      "source": [
        "이제 inputs와 outputs를 케라스의 Model 클래스로 연결해주면 된다."
      ],
      "metadata": {
        "id": "s5TTB6zY_-Jn"
      }
    },
    {
      "cell_type": "code",
      "source": [
        "model = keras.Model(inputs, outputs)"
      ],
      "metadata": {
        "id": "sG7yfX1V_cyL"
      },
      "execution_count": 86,
      "outputs": []
    },
    {
      "cell_type": "code",
      "source": [
        "model = keras.models.load_model(path)\n",
        "print(model.input)"
      ],
      "metadata": {
        "colab": {
          "base_uri": "https://localhost:8080/"
        },
        "id": "9hUxLp5NIXwh",
        "outputId": "a1c7ba8f-ea7c-455f-fdff-92e66889377c"
      },
      "execution_count": 90,
      "outputs": [
        {
          "output_type": "stream",
          "name": "stdout",
          "text": [
            "KerasTensor(type_spec=TensorSpec(shape=(None, 28, 28, 1), dtype=tf.float32, name='conv2d_input'), name='conv2d_input', description=\"created by layer 'conv2d_input'\")\n"
          ]
        }
      ]
    },
    {
      "cell_type": "markdown",
      "source": [
        "이제 model.input과 model.layers[0].output을 연결하는 새로운 conv_acti 모델을 만들 수 있다."
      ],
      "metadata": {
        "id": "0f3BpVCAA4HC"
      }
    },
    {
      "cell_type": "code",
      "source": [
        "conv_acti = keras.Model(model.input, model.layers[0].output)"
      ],
      "metadata": {
        "id": "iEHSA-pyAveJ"
      },
      "execution_count": 91,
      "outputs": []
    },
    {
      "cell_type": "markdown",
      "source": [
        "model 객체의 predict() 메서드를 호출하면 최종 출력층의 확률을 반환한다. 하지만 conv_acti의 predict() 메서드를 호출하면 첫 번째 Conv2D의 출력을 반환할 것이다.\n",
        "\n",
        "이를 이용하면 특성 맵을 시각화 할 수 있다."
      ],
      "metadata": {
        "id": "yzurx0CBBI-9"
      }
    },
    {
      "cell_type": "markdown",
      "source": [
        "## 특성 맵 시각화"
      ],
      "metadata": {
        "id": "bddwq8srBV2a"
      }
    },
    {
      "cell_type": "code",
      "source": [
        "(X_train, y_train), (X_test, y_test) = keras.datasets.fashion_mnist.load_data()\n",
        "plt.imshow(X_train[0], cmap='gray_r')\n",
        "plt.show()"
      ],
      "metadata": {
        "colab": {
          "base_uri": "https://localhost:8080/",
          "height": 265
        },
        "id": "kaH0xkQoBHR0",
        "outputId": "31915017-914e-4589-bc9b-e458473072f8"
      },
      "execution_count": 92,
      "outputs": [
        {
          "output_type": "display_data",
          "data": {
            "image/png": "[encoded data removed]",
            "text/plain": [
              "<Figure size 432x288 with 1 Axes>"
            ]
          },
          "metadata": {
            "needs_background": "light"
          }
        }
      ]
    },
    {
      "cell_type": "code",
      "source": [
        "inputs = X_train[0:1].reshape(-1, 28, 28, 1) /255.0\n",
        "feature_maps = conv_acti.predict(inputs)"
      ],
      "metadata": {
        "id": "iB8r9xF8BrUY"
      },
      "execution_count": 93,
      "outputs": []
    },
    {
      "cell_type": "code",
      "source": [
        "print(feature_maps.shape)"
      ],
      "metadata": {
        "colab": {
          "base_uri": "https://localhost:8080/"
        },
        "id": "g7QxXmD9B4rX",
        "outputId": "bd793567-19c8-4552-ba1a-c7f739c54d38"
      },
      "execution_count": 94,
      "outputs": [
        {
          "output_type": "stream",
          "name": "stdout",
          "text": [
            "(1, 28, 28, 32)\n"
          ]
        }
      ]
    },
    {
      "cell_type": "code",
      "source": [
        "fig, axis = plt.subplots(4, 8, figsize=(15,8))\n",
        "for i in range(4):\n",
        "  for j in range(8):\n",
        "    axis[i,j].imshow(feature_maps[0,:,:,i*8 + j])\n",
        "    axis[i,j].axis('off')\n",
        "plt.show()"
      ],
      "metadata": {
        "colab": {
          "base_uri": "https://localhost:8080/",
          "height": 460
        },
        "id": "Rca0Zmt3HSV0",
        "outputId": "2c327785-18c8-4687-ef79-b1460adae36a"
      },
      "execution_count": 97,
      "outputs": [
        {
          "output_type": "display_data",
          "data": {
            "image/png": "[encoded data removed]",
            "text/plain": [
              "<Figure size 1080x576 with 32 Axes>"
            ]
          },
          "metadata": {
            "needs_background": "light"
          }
        }
      ]
    },
    {
      "cell_type": "code",
      "source": [
        "conv2_acti = keras.models.Model(model.input, model.layers[2].output)"
      ],
      "metadata": {
        "id": "8dIdEzDkJa3e"
      },
      "execution_count": 98,
      "outputs": []
    },
    {
      "cell_type": "code",
      "source": [
        "inputs = X_train[0:1].reshape(-1,28,28,1)/255.0\n",
        "feature_maps = conv2_acti.predict(inputs)"
      ],
      "metadata": {
        "id": "cnISy3PeJ2Zz"
      },
      "execution_count": 99,
      "outputs": []
    },
    {
      "cell_type": "code",
      "source": [
        "print(feature_maps.shape)"
      ],
      "metadata": {
        "colab": {
          "base_uri": "https://localhost:8080/"
        },
        "id": "1wAonZdyJ_uv",
        "outputId": "576ce3ce-f70f-44ea-fa4e-9a91b565271e"
      },
      "execution_count": 100,
      "outputs": [
        {
          "output_type": "stream",
          "name": "stdout",
          "text": [
            "(1, 14, 14, 64)\n"
          ]
        }
      ]
    },
    {
      "cell_type": "code",
      "source": [
        "fig, axis = plt.subplots(8, 8, figsize=(12,12))\n",
        "for i in range(8):\n",
        "  for j in range(8):\n",
        "    axis[i,j].imshow(feature_maps[0,:,:,i*8 + j])\n",
        "    axis[i,j].axis('off')\n",
        "plt.show()"
      ],
      "metadata": {
        "colab": {
          "base_uri": "https://localhost:8080/",
          "height": 683
        },
        "id": "SUrzuox-KB0E",
        "outputId": "b5494025-3a04-4a77-80c8-f74f1a9e2e6c"
      },
      "execution_count": 101,
      "outputs": [
        {
          "output_type": "display_data",
          "data": {
            "image/png": "[encoded data removed]",
            "text/plain": [
              "<Figure size 864x864 with 64 Axes>"
            ]
          },
          "metadata": {
            "needs_background": "light"
          }
        }
      ]
    },
    {
      "cell_type": "code",
      "source": [
        ""
      ],
      "metadata": {
        "id": "BLB1Je2jKHuD"
      },
      "execution_count": null,
      "outputs": []
    }
  ]
}