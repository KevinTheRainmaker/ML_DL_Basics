{
  "nbformat": 4,
  "nbformat_minor": 0,
  "metadata": {
    "colab": {
      "name": "18_RNN.ipynb",
      "provenance": [],
      "collapsed_sections": [],
      "authorship_tag": "ABX9TyN5UsuaAAyO3/jFwdT6pi/M",
      "include_colab_link": true
    },
    "kernelspec": {
      "name": "python3",
      "display_name": "Python 3"
    },
    "language_info": {
      "name": "python"
    }
  },
  "cells": [
    {
      "cell_type": "markdown",
      "metadata": {
        "id": "view-in-github",
        "colab_type": "text"
      },
      "source": [
        "<a href=\"https://colab.research.google.com/github/KevinTheRainmaker/ML_DL_Basics/blob/master/HonGong_ML_DL/18_RNN.ipynb\" target=\"_parent\"><img src=\"https://colab.research.google.com/assets/colab-badge.svg\" alt=\"Open In Colab\"/></a>"
      ]
    },
    {
      "cell_type": "markdown",
      "source": [
        "# 순차 데이터와 순환 신경망\n",
        "\n",
        "### **키워드:** 순차 데이터, 순환 신경망, 셀, 은닉 상태 \n",
        "\n",
        "순차 데이터의 특징을 알고 순환 신경망의 개념에 대해 배워보자"
      ],
      "metadata": {
        "id": "5YZVudFSHmeW"
      }
    },
    {
      "cell_type": "code",
      "execution_count": 1,
      "metadata": {
        "id": "LOq80fluHY1f"
      },
      "outputs": [],
      "source": [
        "# packages\n",
        "import numpy as np\n",
        "\n",
        "from tensorflow import keras\n",
        "from tensorflow.keras.datasets import imdb\n",
        "from tensorflow.keras.preprocessing.sequence import pad_sequences\n",
        "\n",
        "from sklearn.model_selection import train_test_split\n",
        "\n",
        "import matplotlib.pyplot as plt"
      ]
    },
    {
      "cell_type": "markdown",
      "source": [
        "## 순차 데이터"
      ],
      "metadata": {
        "id": "qVedRy7eJdb3"
      }
    },
    {
      "cell_type": "markdown",
      "source": [
        "순차 데이터(sequential data)는 텍스트나 시계열 데이터(time series data)와 같이 순서에 의미가 있는, 달리 말하면 순서가 달라지면 의미가 달라지거나 이해하기 어려워지는 데이터를 지칭한다.\n",
        "\n",
        "대부분의 데이터는 순서가 크게 상관이 없었고, 오히려 랜덤하게 셔플하는 편이 더 좋은 결과를 내기도 했다. 하지만 시계열 데이터의 경우 순서를 그대로 사용해야만 한다."
      ],
      "metadata": {
        "id": "aL25GSRcJfMl"
      }
    },
    {
      "cell_type": "markdown",
      "source": [
        "이전의 샘플을 다음 샘플 계산에 이용하지 않는 다른 신경망과 달리, 순차 데이터를 다룰 때는 이전에 입력한 데이터를 기억하는 메모리 기능이 필요하다.\n",
        "\n",
        "입력 데이터가 재사용되지 않고 데이터의 흐름이 앞으로만 전달되는 신경망을 피드포워드 신경망(feedforward neural network)이라고 하며, 이와 상반되게 데이터를 재사용하며 데이터가 신경망 층을 순환하는 것을 순환 신경망(recurrent neural network)이라고 한다."
      ],
      "metadata": {
        "id": "0EY10v0qMo0N"
      }
    },
    {
      "cell_type": "markdown",
      "source": [
        "## 순환 신경망"
      ],
      "metadata": {
        "id": "MfzwGDecNgNP"
      }
    },
    {
      "cell_type": "markdown",
      "source": [
        "앞서 설명했듯이, 순환 신경망은 데이터가 지속적으로 신경망을 순환하며 재사용된다.\n",
        "\n",
        "앞서 학습했던 완전 연결 신경망에 이전 데이터 처리 흐름을 순환하는 고리 하나만 추가해주면 되기에 구현 또한 간단한 편이다. 순환 신경망은 직전의 데이터에 의한 아웃풋을 되먹임으로 사용하기 때문에 다음 아웃풋에는 더 앞선 데이터보다는 직전 데이터에 대한 정보가 더 많이 들어가 있을 것이다. 이렇게 샘플을 처리하는 하나의 단계를 타임스텝(timestep)이라고 하며, 타임스텝이 오래될수록 순환되는 정보는 희미해진다."
      ],
      "metadata": {
        "id": "2a_EJ5Y8NiD-"
      }
    },
    {
      "cell_type": "markdown",
      "source": [
        "순환 신경망에서는 특별히 층을 셀(cell)이라고 부른다. 실제로는 한 셀에 여러 개의 뉴런이 있지만 완전 연결 신경망과 달리 뉴런을 전부 표현하지 않고 하나의 셀을 층이라고 부르는 것이다. 이러한 셀의 출력은 은닉 상태(hidden state)라고 부른다. 이러한 은닉 상태가 매 타임스텝마다 재사용 된다."
      ],
      "metadata": {
        "id": "CIIZ-DloO8hU"
      }
    },
    {
      "cell_type": "markdown",
      "source": [
        "일반적으로 은닉층의 활성화 함수로는 하이퍼볼릭 탄젠트(hyperbolic tangent) 함수인 tanh가 많이 사용된다. 시그모이드와 비슷하게 S자 형태를 가졌으나 tanh는 -1\\~1의 범위를 가진다. (시그모이드는 0~1)"
      ],
      "metadata": {
        "id": "cx2py5KNQqMA"
      }
    },
    {
      "cell_type": "markdown",
      "source": [
        "## 셀의 가중치"
      ],
      "metadata": {
        "id": "WiZVH0dCTkVV"
      }
    },
    {
      "cell_type": "markdown",
      "source": [
        "모델을 잘 이해하는 방법 중 하나는 가중치를 계산해보는 것이다. 순환 신경망의 셀에서 필요한 가중치의 크기를 계산해보자. \n",
        "\n",
        "순환층에 입력되는 특성이 4개이고 각 순환층의 뉴런이 3개라고 가정하자. 입력층과 순환층은 완전 연결을 이루고 있기 때문에 입력에 곱해지는 가중치 $w_x$의 크기는 특성 개수 4 * 뉴런 수 3 = 12개가 된다. \n",
        "\n",
        "다음으로 순환층에서 다음 타임스텝에 재사용되는 은닉 상태를 위한 가중치 $w_b$의 크기를 생각해보자. 순환층에 있는 첫 번째 뉴런의 은닉 상태가 타임스텝에 재사용될 때 3개 뉴런 모두에 전달된다. 두 번째와 세 번째도 마찬가지이다. 따라서 $w_b$의 크기는 뉴런 수 3^2 = 9개이다."
      ],
      "metadata": {
        "id": "ZnyBjc8fTm0e"
      }
    },
    {
      "cell_type": "markdown",
      "source": [
        "이번엔 모델 파라미터 개수를 구해보자. 이는 가중치에 절편을 더하면 된다. 순환 신경망에는 각 뉴런마다 하나의 절편이 있으므로 총 12 + 9 + 3 = 24개의 모델 파라미터를 가지게 된다.\n",
        "\n",
        "$모델\\ 파라미터\\ 수=w_x + w_b + 절편 + = 12 + 9 + 3 = 24$"
      ],
      "metadata": {
        "id": "mJ9vWWtuKxSQ"
      }
    },
    {
      "cell_type": "markdown",
      "source": [
        "## 순환층의 입출력"
      ],
      "metadata": {
        "id": "1oRlpdaTLn2I"
      }
    },
    {
      "cell_type": "markdown",
      "source": [
        "순환층은 일반적으로 샘플마다 2개의 차원을 가진다. 보통 하나의 샘플을 하나의 시퀀스(sequence)라고 한다. 시퀀스 안에는 여러 개의 아이템이 들어있는데, 여기서의 시퀀스의 길이가 바로 타임스텝의 길이가 된다.\n",
        "\n",
        "이런 입력이 순환층을 통과하게 되면 두 번째, 세 번째 차원이 사라지고 순환층의 뉴런 개수만큼 출력된다. 하나의 샘플은 시퀀스 길이와 타임스탬프 수로 이루어진 2차원 배열이다. 이 샘플이 순환층을 통과할 때 실제로는 마지막 타임스텝에서만 출력을 내보내기 때문에 2차원의 배열은 1차원으로 바뀌게 되며, 이때의 크기는 순환층의 뉴런 개수에 의해 결정된다. 시퀀스를 모두 읽어 마지막 은닉 상태에 압축하여 출력하는 것으로 이해해도 무방하다.\n",
        "\n",
        "다만 순환층이 여러 개인 경우 마지막 순환층을 제외하고는 모든 타임스텝의 은닉 상태를 출력하여 다음 순환층에 2차원 입력으로 들어갈 수 있도록 한다."
      ],
      "metadata": {
        "id": "mzLRxS1xLvs-"
      }
    },
    {
      "cell_type": "markdown",
      "source": [
        "순환 신경망도 마지막에는 밀집층을 두어 클래스를 분류하는데, 다중 분류일 경우 출력층에 클래스 개수만큼 뉴런을 두고 소프트맥스를, 이진 분류인 경우 하나의 뉴런을 두고 시그모이드를 사용한다.\n",
        "\n",
        "마지막 셀의 출력이 1차원이기 때문에 CNN과 달리 Flatten으로 펼쳐주지 않아도 된다."
      ],
      "metadata": {
        "id": "hNNVZN2nAfDE"
      }
    },
    {
      "cell_type": "markdown",
      "source": [
        "# 순환 신경망으로 IMDB 리뷰 분류하기\n",
        "\n",
        "### **키워드:** 말뭉치, 토큰, 원-핫 인코딩, 단어 임베딩\n",
        "\n",
        "텐서플로우를 사용해 순환 신경망을 만들어 영화 리뷰 데이터셋에 적용해서 리뷰를 긍정과 부정으로 분류해보자."
      ],
      "metadata": {
        "id": "X9lUkGkuA5Gw"
      }
    },
    {
      "cell_type": "markdown",
      "source": [
        "## 데이터셋"
      ],
      "metadata": {
        "id": "ODhLDGXSBTCq"
      }
    },
    {
      "cell_type": "markdown",
      "source": [
        "IMDB 리뷰 데이터셋은 유명 인터넷 영화 데이터베이스인 [imdb.com](https://www.imdb.com/)에서 수집한 리뷰를 감상평에 따라 긍정과 부정으로 분류해 놓은 데이터셋이다. 자연어처리에서 많이 사용되는 데이터셋 중 하나로, 말뭉치(corpus)라고도 불린다."
      ],
      "metadata": {
        "id": "NqxK5qBQBZd1"
      }
    },
    {
      "cell_type": "markdown",
      "source": [
        "실제 IMDB 리뷰 데이터셋은 영어로 된 문장이지만 텐서플로우에는 이미 토큰화된 데이터가 포함되어 있다. 여기에서는 전체 데이터셋에서 가장 자주 등장하는 500 단어만을 사용해보도록 하겠다."
      ],
      "metadata": {
        "id": "5zR7DL5BBzre"
      }
    },
    {
      "cell_type": "code",
      "source": [
        "(X_train, y_train), (X_test, y_test) = imdb.load_data(num_words=500)"
      ],
      "metadata": {
        "id": "AqR2NdDUJPld"
      },
      "execution_count": 22,
      "outputs": []
    },
    {
      "cell_type": "code",
      "source": [
        "print(X_train.shape, X_test.shape)"
      ],
      "metadata": {
        "colab": {
          "base_uri": "https://localhost:8080/"
        },
        "id": "BrIbk0oHCeT7",
        "outputId": "c35fb06c-ce7b-4e20-b083-074240ce4cee"
      },
      "execution_count": 23,
      "outputs": [
        {
          "output_type": "stream",
          "name": "stdout",
          "text": [
            "(25000,) (25000,)\n"
          ]
        }
      ]
    },
    {
      "cell_type": "markdown",
      "source": [
        "리뷰 데이터는 길이가 제각각이기 때문에 고정 크기의 2차원 배열에 담기보다는 리뷰마다 별도의 파이썬 리스트로 담아야 메모리를 효율적으로 사용할 수 있다. 즉 위의 데이터는 개별 리뷰를 담은 파이썬 리스트 객체로 이루어진 넘파이 배열이다."
      ],
      "metadata": {
        "id": "X5gGtzHdCoME"
      }
    },
    {
      "cell_type": "code",
      "source": [
        "print(len(X_train[0]))\n",
        "print(len(X_train[1]))"
      ],
      "metadata": {
        "colab": {
          "base_uri": "https://localhost:8080/"
        },
        "id": "PWIDT58pCjoo",
        "outputId": "7163ec4c-1c5f-430e-d2e9-511f9922b55a"
      },
      "execution_count": 24,
      "outputs": [
        {
          "output_type": "stream",
          "name": "stdout",
          "text": [
            "218\n",
            "189\n"
          ]
        }
      ]
    },
    {
      "cell_type": "code",
      "source": [
        "print(X_train[0])"
      ],
      "metadata": {
        "colab": {
          "base_uri": "https://localhost:8080/"
        },
        "id": "n5KM0o0gDCVt",
        "outputId": "21523825-b23a-46da-93bd-638003f2ab89"
      },
      "execution_count": 25,
      "outputs": [
        {
          "output_type": "stream",
          "name": "stdout",
          "text": [
            "[1, 14, 22, 16, 43, 2, 2, 2, 2, 65, 458, 2, 66, 2, 4, 173, 36, 256, 5, 25, 100, 43, 2, 112, 50, 2, 2, 9, 35, 480, 284, 5, 150, 4, 172, 112, 167, 2, 336, 385, 39, 4, 172, 2, 2, 17, 2, 38, 13, 447, 4, 192, 50, 16, 6, 147, 2, 19, 14, 22, 4, 2, 2, 469, 4, 22, 71, 87, 12, 16, 43, 2, 38, 76, 15, 13, 2, 4, 22, 17, 2, 17, 12, 16, 2, 18, 2, 5, 62, 386, 12, 8, 316, 8, 106, 5, 4, 2, 2, 16, 480, 66, 2, 33, 4, 130, 12, 16, 38, 2, 5, 25, 124, 51, 36, 135, 48, 25, 2, 33, 6, 22, 12, 215, 28, 77, 52, 5, 14, 407, 16, 82, 2, 8, 4, 107, 117, 2, 15, 256, 4, 2, 7, 2, 5, 2, 36, 71, 43, 2, 476, 26, 400, 317, 46, 7, 4, 2, 2, 13, 104, 88, 4, 381, 15, 297, 98, 32, 2, 56, 26, 141, 6, 194, 2, 18, 4, 226, 22, 21, 134, 476, 26, 480, 5, 144, 30, 2, 18, 51, 36, 28, 224, 92, 25, 104, 4, 226, 65, 16, 38, 2, 88, 12, 16, 283, 5, 16, 2, 113, 103, 32, 15, 16, 2, 19, 178, 32]\n"
          ]
        }
      ]
    },
    {
      "cell_type": "markdown",
      "source": [
        "500개 최빈 데이터 외의 데이터는 2로 표시되어있다. 이런 토큰을 OOV 토큰(Out of Vacabulary Token)이라고 한다."
      ],
      "metadata": {
        "id": "cYHWEPlpDWO8"
      }
    },
    {
      "cell_type": "markdown",
      "source": [
        "## EDA"
      ],
      "metadata": {
        "id": "qQt3A2KjDnGY"
      }
    },
    {
      "cell_type": "code",
      "source": [
        "X_train, X_val, y_train, y_val = train_test_split(X_train, y_train, test_size=0.2, random_state=42)\n",
        "lengths = np.array([len(x) for x in X_train])\n",
        "print(np.mean(lengths), np.median(lengths))"
      ],
      "metadata": {
        "colab": {
          "base_uri": "https://localhost:8080/"
        },
        "id": "QVynezpZDLSS",
        "outputId": "cef0dab4-135d-4340-e2cf-deca575e9ead"
      },
      "execution_count": 26,
      "outputs": [
        {
          "output_type": "stream",
          "name": "stdout",
          "text": [
            "239.00925 178.0\n"
          ]
        }
      ]
    },
    {
      "cell_type": "code",
      "source": [
        "plt.hist(lengths)\n",
        "plt.xlabel('length')\n",
        "plt.ylabel('frequency')\n",
        "plt.show()"
      ],
      "metadata": {
        "colab": {
          "base_uri": "https://localhost:8080/",
          "height": 279
        },
        "id": "0JUgnA-hEAmK",
        "outputId": "7569f53e-99c5-46c6-ea40-2d2a6bd2d288"
      },
      "execution_count": 27,
      "outputs": [
        {
          "output_type": "display_data",
          "data": {
            "image/png": "[encoded data removed]",
            "text/plain": [
              "<Figure size 432x288 with 1 Axes>"
            ]
          },
          "metadata": {
            "needs_background": "light"
          }
        }
      ]
    },
    {
      "cell_type": "markdown",
      "source": [
        "리뷰들의 길이가 제각각이다. 이러한 다양한 길이의 텍스트 데이터의 길이를 맞춰주기 위해 패딩(padding)을 이용한다.\n",
        "\n",
        "`pad_sequences()`를 사용하면 시퀀스 데이터의 길이를 maxlen에 맞춰 그보다 긴 경우 잘라내고, 짧은 경우 0으로 채운다.\n",
        "\n",
        "여기서는 100 정도를 사용하겠다."
      ],
      "metadata": {
        "id": "6XnUYqWpErS7"
      }
    },
    {
      "cell_type": "code",
      "source": [
        "train_seq = pad_sequences(X_train, maxlen=100)"
      ],
      "metadata": {
        "id": "4DxtWwpTENTs"
      },
      "execution_count": 28,
      "outputs": []
    },
    {
      "cell_type": "code",
      "source": [
        "print(train_seq.shape)"
      ],
      "metadata": {
        "colab": {
          "base_uri": "https://localhost:8080/"
        },
        "id": "Otdi0FXdFA8r",
        "outputId": "8792ea7c-5684-4912-e246-18eaef9479b8"
      },
      "execution_count": 29,
      "outputs": [
        {
          "output_type": "stream",
          "name": "stdout",
          "text": [
            "(20000, 100)\n"
          ]
        }
      ]
    },
    {
      "cell_type": "code",
      "source": [
        "print(train_seq[0])"
      ],
      "metadata": {
        "colab": {
          "base_uri": "https://localhost:8080/"
        },
        "id": "cnGOUpOuFN7A",
        "outputId": "434b9257-dcca-4a92-dc6c-335e235f9308"
      },
      "execution_count": 30,
      "outputs": [
        {
          "output_type": "stream",
          "name": "stdout",
          "text": [
            "[ 10   4  20   9   2 364 352   5  45   6   2   2  33 269   8   2 142   2\n",
            "   5   2  17  73  17 204   5   2  19  55   2   2  92  66 104  14  20  93\n",
            "  76   2 151  33   4  58  12 188   2 151  12 215  69 224 142  73 237   6\n",
            "   2   7   2   2 188   2 103  14  31  10  10 451   7   2   5   2  80  91\n",
            "   2  30   2  34  14  20 151  50  26 131  49   2  84  46  50  37  80  79\n",
            "   6   2  46   7  14  20  10  10 470 158]\n"
          ]
        }
      ]
    },
    {
      "cell_type": "markdown",
      "source": [
        "앞쪽에 0이 채워져있다. 자르거나 채우는 방향은 pad_sequence()의 padding과 truncating 매개변수로 조절할 수 있다."
      ],
      "metadata": {
        "id": "dL5yCAzDFtX1"
      }
    },
    {
      "cell_type": "code",
      "source": [
        "val_seq = pad_sequences(X_val, maxlen=100)"
      ],
      "metadata": {
        "id": "tzJnB_ipJDZZ"
      },
      "execution_count": 31,
      "outputs": []
    },
    {
      "cell_type": "markdown",
      "source": [
        "## 순환 신경망 만들기"
      ],
      "metadata": {
        "id": "WMCz2GQCHP3r"
      }
    },
    {
      "cell_type": "markdown",
      "source": [
        "케라스는 여러 종류의 순환층 클래스를 제공한다. 그중 가장 간단한 것은 SimpleRNN 클래스이다."
      ],
      "metadata": {
        "id": "kaw3aiLsHTMt"
      }
    },
    {
      "cell_type": "code",
      "source": [
        "model = keras.Sequential()\n",
        "model.add(keras.layers.SimpleRNN(8, input_shape=(100, 500))) # 토큰에 대응되는 정수값을 원핫 인코딩으로 만들기 위한 500 길이의 배열\n",
        "model.add(keras.layers.Dense(1, activation='sigmoid'))"
      ],
      "metadata": {
        "id": "7ZhCD7krFrIl"
      },
      "execution_count": 32,
      "outputs": []
    },
    {
      "cell_type": "code",
      "source": [
        "# 원-핫 인코딩\n",
        "train_oh = keras.utils.to_categorical(train_seq)\n",
        "print(train_oh.shape)"
      ],
      "metadata": {
        "colab": {
          "base_uri": "https://localhost:8080/"
        },
        "id": "l8exq2dNHzJi",
        "outputId": "bc875edc-c8c0-47ba-9e61-0fc05121ff94"
      },
      "execution_count": 33,
      "outputs": [
        {
          "output_type": "stream",
          "name": "stdout",
          "text": [
            "(20000, 100, 500)\n"
          ]
        }
      ]
    },
    {
      "cell_type": "code",
      "source": [
        "val_oh = keras.utils.to_categorical(val_seq)"
      ],
      "metadata": {
        "id": "KeCUCqhcIZR-"
      },
      "execution_count": 34,
      "outputs": []
    },
    {
      "cell_type": "code",
      "source": [
        "model.summary()"
      ],
      "metadata": {
        "colab": {
          "base_uri": "https://localhost:8080/"
        },
        "id": "wU13X2wOI9hA",
        "outputId": "ad9e752a-c10a-40b0-dfdf-07bf6ed3f84b"
      },
      "execution_count": 35,
      "outputs": [
        {
          "output_type": "stream",
          "name": "stdout",
          "text": [
            "Model: \"sequential_1\"\n",
            "_________________________________________________________________\n",
            " Layer (type)                Output Shape              Param #   \n",
            "=================================================================\n",
            " simple_rnn_1 (SimpleRNN)    (None, 8)                 4072      \n",
            "                                                                 \n",
            " dense_1 (Dense)             (None, 1)                 9         \n",
            "                                                                 \n",
            "=================================================================\n",
            "Total params: 4,081\n",
            "Trainable params: 4,081\n",
            "Non-trainable params: 0\n",
            "_________________________________________________________________\n"
          ]
        }
      ]
    },
    {
      "cell_type": "markdown",
      "source": [
        "## 순환 신경망 훈련하기"
      ],
      "metadata": {
        "id": "vIPpACRWJb0x"
      }
    },
    {
      "cell_type": "code",
      "source": [
        "rmsprop = keras.optimizers.RMSprop(learning_rate=0.0001)\n",
        "model.compile(optimizer=rmsprop, loss='binary_crossentropy', metrics=['accuracy'])\n",
        "\n",
        "checkpoint_cb = keras.callbacks.ModelCheckpoint('best-simplernn-model.h5')\n",
        "early_stopping_cb = keras.callbacks.EarlyStopping(patience=3, restore_best_weights=True)\n",
        "\n",
        "history = model.fit(train_oh, y_train, epochs=100, batch_size=64,\n",
        "                    validation_data=(val_oh, y_val),\n",
        "                    callbacks=[checkpoint_cb, early_stopping_cb])"
      ],
      "metadata": {
        "colab": {
          "base_uri": "https://localhost:8080/"
        },
        "id": "zXeUSNZiJacR",
        "outputId": "1bc59f9d-b609-4153-d5ec-b2777962f111"
      },
      "execution_count": 36,
      "outputs": [
        {
          "output_type": "stream",
          "name": "stdout",
          "text": [
            "Epoch 1/100\n",
            "313/313 [==============================] - 17s 52ms/step - loss: 0.6965 - accuracy: 0.5145 - val_loss: 0.6913 - val_accuracy: 0.5240\n",
            "Epoch 2/100\n",
            "313/313 [==============================] - 16s 50ms/step - loss: 0.6857 - accuracy: 0.5474 - val_loss: 0.6806 - val_accuracy: 0.5674\n",
            "Epoch 3/100\n",
            "313/313 [==============================] - 15s 49ms/step - loss: 0.6637 - accuracy: 0.6016 - val_loss: 0.6452 - val_accuracy: 0.6384\n",
            "Epoch 4/100\n",
            "313/313 [==============================] - 15s 50ms/step - loss: 0.6233 - accuracy: 0.6620 - val_loss: 0.6066 - val_accuracy: 0.6862\n",
            "Epoch 5/100\n",
            "313/313 [==============================] - 15s 49ms/step - loss: 0.5882 - accuracy: 0.6973 - val_loss: 0.5795 - val_accuracy: 0.7124\n",
            "Epoch 6/100\n",
            "313/313 [==============================] - 16s 50ms/step - loss: 0.5622 - accuracy: 0.7194 - val_loss: 0.5553 - val_accuracy: 0.7270\n",
            "Epoch 7/100\n",
            "313/313 [==============================] - 16s 50ms/step - loss: 0.5399 - accuracy: 0.7373 - val_loss: 0.5369 - val_accuracy: 0.7426\n",
            "Epoch 8/100\n",
            "313/313 [==============================] - 15s 49ms/step - loss: 0.5221 - accuracy: 0.7526 - val_loss: 0.5237 - val_accuracy: 0.7476\n",
            "Epoch 9/100\n",
            "313/313 [==============================] - 15s 49ms/step - loss: 0.5074 - accuracy: 0.7624 - val_loss: 0.5115 - val_accuracy: 0.7610\n",
            "Epoch 10/100\n",
            "313/313 [==============================] - 16s 50ms/step - loss: 0.4940 - accuracy: 0.7728 - val_loss: 0.4981 - val_accuracy: 0.7670\n",
            "Epoch 11/100\n",
            "313/313 [==============================] - 16s 50ms/step - loss: 0.4829 - accuracy: 0.7783 - val_loss: 0.4900 - val_accuracy: 0.7696\n",
            "Epoch 12/100\n",
            "313/313 [==============================] - 15s 49ms/step - loss: 0.4731 - accuracy: 0.7832 - val_loss: 0.4815 - val_accuracy: 0.7820\n",
            "Epoch 13/100\n",
            "313/313 [==============================] - 16s 50ms/step - loss: 0.4647 - accuracy: 0.7911 - val_loss: 0.4750 - val_accuracy: 0.7862\n",
            "Epoch 14/100\n",
            "313/313 [==============================] - 15s 49ms/step - loss: 0.4578 - accuracy: 0.7923 - val_loss: 0.4703 - val_accuracy: 0.7842\n",
            "Epoch 15/100\n",
            "313/313 [==============================] - 16s 50ms/step - loss: 0.4514 - accuracy: 0.7965 - val_loss: 0.4669 - val_accuracy: 0.7854\n",
            "Epoch 16/100\n",
            "313/313 [==============================] - 16s 50ms/step - loss: 0.4456 - accuracy: 0.7995 - val_loss: 0.4695 - val_accuracy: 0.7772\n",
            "Epoch 17/100\n",
            "313/313 [==============================] - 16s 51ms/step - loss: 0.4411 - accuracy: 0.8023 - val_loss: 0.4624 - val_accuracy: 0.7852\n",
            "Epoch 18/100\n",
            "313/313 [==============================] - 16s 50ms/step - loss: 0.4367 - accuracy: 0.8036 - val_loss: 0.4588 - val_accuracy: 0.7892\n",
            "Epoch 19/100\n",
            "313/313 [==============================] - 15s 48ms/step - loss: 0.4332 - accuracy: 0.8057 - val_loss: 0.4543 - val_accuracy: 0.7906\n",
            "Epoch 20/100\n",
            "313/313 [==============================] - 15s 49ms/step - loss: 0.4293 - accuracy: 0.8077 - val_loss: 0.4559 - val_accuracy: 0.7898\n",
            "Epoch 21/100\n",
            "313/313 [==============================] - 15s 49ms/step - loss: 0.4265 - accuracy: 0.8081 - val_loss: 0.4566 - val_accuracy: 0.7896\n",
            "Epoch 22/100\n",
            "313/313 [==============================] - 15s 49ms/step - loss: 0.4239 - accuracy: 0.8098 - val_loss: 0.4492 - val_accuracy: 0.7918\n",
            "Epoch 23/100\n",
            "313/313 [==============================] - 15s 49ms/step - loss: 0.4208 - accuracy: 0.8109 - val_loss: 0.4556 - val_accuracy: 0.7850\n",
            "Epoch 24/100\n",
            "313/313 [==============================] - 16s 50ms/step - loss: 0.4192 - accuracy: 0.8132 - val_loss: 0.4478 - val_accuracy: 0.7932\n",
            "Epoch 25/100\n",
            "313/313 [==============================] - 16s 50ms/step - loss: 0.4169 - accuracy: 0.8138 - val_loss: 0.4486 - val_accuracy: 0.7900\n",
            "Epoch 26/100\n",
            "313/313 [==============================] - 15s 49ms/step - loss: 0.4144 - accuracy: 0.8153 - val_loss: 0.4453 - val_accuracy: 0.7926\n",
            "Epoch 27/100\n",
            "313/313 [==============================] - 15s 49ms/step - loss: 0.4131 - accuracy: 0.8162 - val_loss: 0.4478 - val_accuracy: 0.7910\n",
            "Epoch 28/100\n",
            "313/313 [==============================] - 15s 48ms/step - loss: 0.4116 - accuracy: 0.8149 - val_loss: 0.4436 - val_accuracy: 0.7952\n",
            "Epoch 29/100\n",
            "313/313 [==============================] - 16s 51ms/step - loss: 0.4097 - accuracy: 0.8166 - val_loss: 0.4472 - val_accuracy: 0.7898\n",
            "Epoch 30/100\n",
            "313/313 [==============================] - 15s 49ms/step - loss: 0.4085 - accuracy: 0.8183 - val_loss: 0.4455 - val_accuracy: 0.7938\n",
            "Epoch 31/100\n",
            "313/313 [==============================] - 15s 49ms/step - loss: 0.4065 - accuracy: 0.8176 - val_loss: 0.4550 - val_accuracy: 0.7904\n"
          ]
        }
      ]
    },
    {
      "cell_type": "code",
      "source": [
        "plt.plot(history.history['loss'])\n",
        "plt.plot(history.history['val_loss'])\n",
        "plt.xlabel('epoch')\n",
        "plt.ylabel('loss')\n",
        "plt.legend(['train', 'val'])\n",
        "plt.show()"
      ],
      "metadata": {
        "colab": {
          "base_uri": "https://localhost:8080/",
          "height": 279
        },
        "id": "51vbZbDBKnmz",
        "outputId": "722c284d-b761-4652-8b5e-91ef895f9d6e"
      },
      "execution_count": 37,
      "outputs": [
        {
          "output_type": "display_data",
          "data": {
            "image/png": "[encoded data removed]",
            "text/plain": [
              "<Figure size 432x288 with 1 Axes>"
            ]
          },
          "metadata": {
            "needs_background": "light"
          }
        }
      ]
    },
    {
      "cell_type": "code",
      "source": [
        ""
      ],
      "metadata": {
        "id": "yW5-9jPOVhRn"
      },
      "execution_count": 37,
      "outputs": []
    }
  ]
}