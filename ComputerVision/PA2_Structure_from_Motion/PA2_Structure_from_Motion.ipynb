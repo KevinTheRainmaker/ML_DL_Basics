{
 "cells": [
  {
   "cell_type": "markdown",
   "metadata": {},
   "source": [
    "## Computer Vision PA #2: Structure from Motion (SfM)\n",
    "20195003 고강빈"
   ]
  },
  {
   "cell_type": "code",
   "execution_count": 1,
   "metadata": {},
   "outputs": [],
   "source": [
    "import numpy as np\n",
    "import cv2 as cv"
   ]
  },
  {
   "cell_type": "code",
   "execution_count": 5,
   "metadata": {},
   "outputs": [
    {
     "name": "stdout",
     "output_type": "stream",
     "text": [
      "(37936, 128)\n",
      "[[  1.   0.   0. ...   1.   7.   7.]\n",
      " [  3.   1.   2. ...   3.   1.   1.]\n",
      " [  0.   1.   2. ...   0.   0.   0.]\n",
      " ...\n",
      " [  1.   0.   0. ...   2.   0.   1.]\n",
      " [  0.   0.   0. ...  17.  11.  16.]\n",
      " [145.  10.   2. ...   0.   0.   0.]]\n"
     ]
    }
   ],
   "source": [
    "img1 = cv.imread('./SfM/Data/sfm03.jpg')\n",
    "img2 = cv.imread('./SfM/Data/sfm04.jpg')\n",
    "\n",
    "# create SIFT instance\n",
    "sift = cv.SIFT_create()\n",
    "# sift = cv.xfeatures2d.SIFT_create()\n",
    "\n",
    "# detect and compute keypoints\n",
    "img1_kp, img1_des = sift.detectAndCompute(img1, None)\n",
    "img2_kp, img2_des = sift.detectAndCompute(img2, None)\n",
    "\n",
    "img1_drawKps = cv.drawKeypoints(img1, img1_kp, None)\n",
    "img2_drawKps = cv.drawKeypoints(img2, img2_kp, None)\n",
    "\n",
    "# save result\n",
    "cv.imwrite('sift_keypoints.jpg',img1_drawKps)\n",
    "\n",
    "print(img1_des.shape)\n",
    "print(img1_des)"
   ]
  },
  {
   "cell_type": "code",
   "execution_count": 6,
   "metadata": {},
   "outputs": [
    {
     "name": "stdout",
     "output_type": "stream",
     "text": [
      "1893\n"
     ]
    }
   ],
   "source": [
    "# Brute force matching with k=2\n",
    "bf = cv.BFMatcher()\n",
    "matches = bf.knnMatch(img1_des, img2_des, k=2)\n",
    "\n",
    "# Ratio test and retrieval of indices\n",
    "matches_good = [m1 for m1, m2 in matches if m1.distance < 0.75*m2.distance]\n",
    "\n",
    "sorted_matches = sorted(matches_good, key=lambda x: x.distance)\n",
    "res = cv.drawMatches(img1, img1_kp, img2, img2_kp, sorted_matches, img2, flags=2) \n",
    "\n",
    "cv.imwrite('sift_bfMatcher.jpg',res)\n",
    "print(len(sorted_matches))"
   ]
  },
  {
   "cell_type": "code",
   "execution_count": 7,
   "metadata": {},
   "outputs": [],
   "source": [
    "# print(res.shape)\n",
    "# print(res)"
   ]
  },
  {
   "cell_type": "code",
   "execution_count": 9,
   "metadata": {},
   "outputs": [
    {
     "name": "stdout",
     "output_type": "stream",
     "text": [
      "(1893, 2)\n",
      "[[  24.099752 3219.431   ]\n",
      " [ 298.76065  2282.336   ]\n",
      " [ 330.07364  2516.3718  ]]\n",
      "(1893, 1, 2)\n",
      "[[[  24.099752 3219.431   ]]\n",
      "\n",
      " [[ 298.76065  2282.336   ]]\n",
      "\n",
      " [[ 330.07364  2516.3718  ]]]\n"
     ]
    }
   ],
   "source": [
    "# queryIdx : 1번 이미지의 feature point index\n",
    "# trainIdx : 2번 이미지의 feature point index\n",
    "query_idx = [match.queryIdx for match in matches_good]\n",
    "train_idx = [match.trainIdx for match in matches_good]\n",
    "\n",
    "#Getting float based points from good matches\n",
    "p1 = np.float32([img1_kp[ind].pt for ind in query_idx])\n",
    "p2 = np.float32([img2_kp[ind].pt for ind in train_idx])\n",
    "\n",
    "print(p1.shape)\n",
    "print(p1[:3])\n",
    "\n",
    "img1_pts = np.array([img1_kp[m.queryIdx].pt for m in matches_good]).reshape(-1, 1, 2).astype(np.float32) # 픽셀 좌표\n",
    "img2_pts = np.array([img2_kp[m.trainIdx].pt for m in matches_good]).reshape(-1, 1, 2).astype(np.float32)\n",
    "\n",
    "print(img1_pts.shape)\n",
    "print(img1_pts[:3])"
   ]
  },
  {
   "cell_type": "code",
   "execution_count": 18,
   "metadata": {},
   "outputs": [
    {
     "data": {
      "text/plain": [
       "array([[  24.099752, 3219.431   ],\n",
       "       [ 298.76065 , 2282.336   ],\n",
       "       [ 330.07364 , 2516.3718  ],\n",
       "       ...,\n",
       "       [4551.96    , 3080.2961  ],\n",
       "       [4573.4385  , 3094.0754  ],\n",
       "       [4574.8506  , 2760.8474  ]], dtype=float32)"
      ]
     },
     "execution_count": 18,
     "metadata": {},
     "output_type": "execute_result"
    }
   ],
   "source": [
    "p1"
   ]
  },
  {
   "cell_type": "code",
   "execution_count": 63,
   "metadata": {},
   "outputs": [],
   "source": [
    "def randomsample(p1, p2):\n",
    "    concat = np.concatenate((p1, p2), axis=1)\n",
    "    rand_mat = concat[np.random.randint(concat.shape[0], size = len(concat)), :]\n",
    "    p1s = rand_mat[:5, :2]\n",
    "    p2s = rand_mat[:5, 2:]\n",
    "    return p1s, p2s"
   ]
  },
  {
   "cell_type": "code",
   "execution_count": 59,
   "metadata": {},
   "outputs": [
    {
     "name": "stdout",
     "output_type": "stream",
     "text": [
      "(1893, 4)\n",
      "1893\n"
     ]
    }
   ],
   "source": [
    "concat = np.concatenate((p1, p2), axis=1)\n",
    "print(concat.shape)\n",
    "print(len(concat))"
   ]
  },
  {
   "cell_type": "code",
   "execution_count": 11,
   "metadata": {},
   "outputs": [],
   "source": [
    "# def RANSAC2(p1, p2, iter, threshold):\n",
    "    \n",
    "#     b_inlier = np.array([[]])\n",
    "#     b_E = None\n",
    "#     tmp_inlier_len = 0\n",
    "\n",
    "#     for i in range(iter):\n",
    "#     \t# 5개의 Random sample 추출\n",
    "#         p1s, p2s = randomsample(p1, p2)\n",
    "        \n",
    "#         # 5-point algorithm\n",
    "#         E, cur_inlier = cv2.findEssentialMat(p1s, p2s, maxIters = 0)\n",
    "\n",
    "#         # inlier 추출\n",
    "#         inlier_idx = np.where(cur_inlier==1)\n",
    "#         pts1 = np.vstack([p1[i] for i in inlier_idx[0]])\n",
    "#         pts2 = np.vstack([p2[i] for i in inlier_idx[0]])\n",
    "        \n",
    "#         # intrinsic parameter 설정\n",
    "#         skew = 0.0215878\n",
    "#         K = np.array([[3092.8, skew, 2016], [0, 3092.8, 1512], [0,0,1]])\n",
    "#         K_inv = np.linalg.inv(K)\n",
    "        \n",
    "#         # (x,y) -> Homogeneous Coordinate (x,y,1) 로 변환\n",
    "#         a, b = rescale_point(pts1, pts2, len(pts1))\n",
    "\n",
    "#         if E is None:\n",
    "#             continue\n",
    "        \n",
    "#         # Epipolar constraint = 0\n",
    "#         cur_E = (b @ K_inv @ E @ K_inv.T @ a.T) \n",
    "\t\t\n",
    "#         c = []\n",
    "#         for i in range(len(pts1)):\n",
    "#             c.append(cur_E[i][i])\n",
    "#         c = np.array(c)\n",
    "        \n",
    "#         # inlier 수가 가장 많은 E 추출\n",
    "#         tmp_inlier_len = len(c[(c<threshold) & (c>0)])\n",
    "#         if len(pts1) > tmp_inlier_len: # 현재 inlier 수 > 최고 inlier 수\n",
    "#             b_E = cur_E \n",
    "#             b_inlier = cur_inlier \n",
    "#             tmp_inlier_len = len(pts1)\n",
    "    \n",
    "#     return b_E"
   ]
  },
  {
   "cell_type": "code",
   "execution_count": 12,
   "metadata": {},
   "outputs": [],
   "source": [
    "# # intrinsic parameter \n",
    "# Rt0 = np.hstack((np.eye(3), np.zeros((3, 1))))\n",
    "# skew = 0.0215878\n",
    "# K = np.array([[3092.8, skew, 2016], [0, 3092.8, 1512], [0,0,1]])\n",
    "# Rt1 = K @ CameraMatrix\n",
    "\n",
    "# # Rescale to Homogeneous Coordinate\n",
    "# def rescale_point(pts1, pts2, length):\n",
    "#     a = [[]]\n",
    "#     b = [[]]\n",
    "#     for i in range(length):\n",
    "#         tmp1 = pts1[i].flatten()\n",
    "#         tmp1 = np.append(tmp1, 1)\n",
    "#         a = np.append(a, tmp1)\n",
    "#         tmp2 = pts2[i].flatten()\n",
    "#         tmp2 = np.append(tmp2, 1)\n",
    "#         b = np.append(b, tmp2)\n",
    "    \n",
    "#     a = a.reshape((length),3)\n",
    "#     b = b.reshape((length),3)\n",
    "#     return a, b\n",
    "\n",
    "# p1, p2 = rescale_point(p1, p2, len(p1))\n",
    "\n",
    "# # Triangulation\n",
    "# def LinearTriangulation(Rt0, Rt1, p1, p2):\n",
    "#     A = [p1[1]*Rt0[2,:] - Rt0[1,:], # x(p 3row) - (p 1row) \n",
    "#         -(p1[0]*Rt0[2,:] - Rt0[0,:]), # y(p 3row) - (p 2row) \n",
    "#         p2[1]*Rt1[2,:] - Rt1[1,:], # x'(p' 3row) - (p' 1row) \n",
    "#         -(p2[0]*Rt1[2,:] - Rt1[0,:])]  # y'(p' 3row) - (p' 2row)\n",
    "        \n",
    "#     A = np.array(A).reshape((4,4))\n",
    "#     AA = A.T @ A \n",
    "#     U, S, VT = np.linalg.svd(AA) # right singular vector\n",
    " \n",
    "#     return VT[3,0:3]/VT[3,3]\n",
    "\n",
    "# p3ds = []\n",
    "# for pt1, pt2 in zip(p1, p2):\n",
    "#     p3d = LinearTriangulation(Rt0, Rt1, pt1, pt2)\n",
    "#     p3ds.append(p3d)\n",
    "# p3ds = np.array(p3ds).T"
   ]
  },
  {
   "cell_type": "code",
   "execution_count": 66,
   "metadata": {},
   "outputs": [
    {
     "name": "stdout",
     "output_type": "stream",
     "text": [
      "(6, 3)\n"
     ]
    }
   ],
   "source": [
    "import matlab.engine\n",
    "\n",
    "MAXITER = 100\n",
    "best_inlier = np.array([[]])\n",
    "best_E = None\n",
    "inlier_len_temp = 0\n",
    "\n",
    "# intrinsic parameter\n",
    "K = np.array([[3451.5, 0.0, 2312.0], [0.0, 3451.5, 1734], [0.0,0.0,1.0]])\n",
    "K_inv = np.linalg.inv(K)\n",
    "\n",
    "# for i in range(MAXITER):\n",
    "    \n",
    "# select random points\n",
    "p1s, p2s = randomsample(p1, p2)\n",
    "p1s, p2s = np.array(matlab.double(p1s.tolist())), np.array(matlab.double(p2s.tolist()))\n",
    "\n",
    "# 5-points algorithm\n",
    "# eng = matlab.engine.start_matlab()\n",
    "# eng.addpath(\"./SfM/Step2/\")  # 'calibrated_fivepoint.m'가 위치한 경로\n",
    "# cur_E = np.asarray(eng.calibrated_fivepoint(p1s, p2s))\n",
    "# eng.quit()\n",
    "\n",
    "cur_E, cur_inlier = cv.findEssentialMat(p1s, p2s, focal=3451.5, pp=(2312, 1734), maxIters=0, threshold=0.1)\n",
    "\n",
    "print(cur_E.shape)\n",
    "\n",
    "if cur_E is None:\n",
    "    print('Error: E is empty')\n",
    "\n",
    "# estim = p1s * cur_E.T * p2s.T\n",
    "# # inlier\n",
    "# for i in range(cur_E.shape[1]):\n",
    "#     tmp = cur_E[:,i]\n",
    "#     tmp = np.reshape(tmp, [3,3])\n",
    "#     for j in range(5):\n",
    "#         estim = \n",
    "\n",
    "\n"
   ]
  },
  {
   "cell_type": "code",
   "execution_count": 17,
   "metadata": {},
   "outputs": [],
   "source": [
    "# import matlab.engine\n",
    "# eng = matlab.engine.start_matlab()\n",
    "# eng.addpath(\"./SfM/Step2/\")  # 'calibrated_fivepoint.m'가 위치한 경로\n",
    "# for i in range(100):\n",
    "#     a = np.random.rand(3, 5).tolist()\n",
    "#     a = matlab.double(a)\n",
    "#     b = np.random.rand(3, 5).tolist()\n",
    "#     b = matlab.double(b)\n",
    "#     E = eng.calibrated_fivepoint(a, b)\n",
    "#     print(np.asarray(E))"
   ]
  },
  {
   "cell_type": "code",
   "execution_count": 47,
   "metadata": {},
   "outputs": [
    {
     "name": "stdout",
     "output_type": "stream",
     "text": [
      "(1893, 2)\n",
      "[[ 0.04895976  0.38504826 -0.00336808]\n",
      " [-0.23916036  0.0168629  -0.66520118]\n",
      " [ 0.07145306  0.58656625 -0.01375776]]\n",
      "[[0]\n",
      " [0]\n",
      " [0]\n",
      " ...\n",
      " [1]\n",
      " [0]\n",
      " [0]]\n"
     ]
    }
   ],
   "source": [
    "def randomsample(p1, p2):\n",
    "    p1p2 = np.concatenate((p1, p2), axis=1)\n",
    "    p1p2_ = p1p2[np.random.randint(p1p2.shape[0], size=len(p1)), :]\n",
    "    p1s = p1p2_[:,:2]\n",
    "    p2s = p1p2_[:,2:]\n",
    "    return p1s, p2s\n",
    "\n",
    "    \n",
    "b_inlier = np.array([[]]) # best inlier\n",
    "b_E = None # best Essential Matrix\n",
    "tmp_inlier_len = 0 # tmp inlier의 개수\n",
    "\n",
    "# choice random sample\n",
    "p1s, p2s = randomsample(p1, p2)\n",
    "print(p1s.shape)\n",
    "\n",
    "# 5-point algorithm (with intrinsic parameter, epipolar constraint = 0, no RANSAC) \n",
    "cur_E, cur_inlier = cv.findEssentialMat(p1s, p2s, focal=3092.8, pp=(2016, 1512),\n",
    "                                            maxIters = 0, threshold=0.1)\n",
    "\n",
    "print(cur_E)\n",
    "print(cur_inlier)"
   ]
  },
  {
   "cell_type": "code",
   "execution_count": null,
   "metadata": {},
   "outputs": [],
   "source": []
  }
 ],
 "metadata": {
  "kernelspec": {
   "display_name": "Python 3.8.10 64-bit",
   "language": "python",
   "name": "python3"
  },
  "language_info": {
   "codemirror_mode": {
    "name": "ipython",
    "version": 3
   },
   "file_extension": ".py",
   "mimetype": "text/x-python",
   "name": "python",
   "nbconvert_exporter": "python",
   "pygments_lexer": "ipython3",
   "version": "3.8.10"
  },
  "orig_nbformat": 4,
  "vscode": {
   "interpreter": {
    "hash": "916dbcbb3f70747c44a77c7bcd40155683ae19c65e1c03b4aa3499c5328201f1"
   }
  }
 },
 "nbformat": 4,
 "nbformat_minor": 2
}
