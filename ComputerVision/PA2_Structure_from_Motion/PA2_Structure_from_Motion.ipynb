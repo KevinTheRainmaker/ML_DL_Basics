{
 "cells": [
  {
   "cell_type": "markdown",
   "metadata": {},
   "source": [
    "## Computer Vision PA #2: Structure from Motion (SfM)\n",
    "20195003 고강빈"
   ]
  },
  {
   "cell_type": "code",
   "execution_count": 1,
   "metadata": {},
   "outputs": [],
   "source": [
    "import numpy as np\n",
    "import cv2 as cv"
   ]
  },
  {
   "cell_type": "code",
   "execution_count": 2,
   "metadata": {},
   "outputs": [
    {
     "name": "stdout",
     "output_type": "stream",
     "text": [
      "(37935, 128)\n",
      "[[  1.   0.   0. ...   1.   7.   7.]\n",
      " [  3.   1.   2. ...   3.   1.   1.]\n",
      " [  0.   1.   2. ...   0.   0.   0.]\n",
      " ...\n",
      " [  1.   0.   0. ...   2.   0.   1.]\n",
      " [  0.   0.   0. ...  17.  11.  16.]\n",
      " [145.  10.   2. ...   0.   0.   0.]]\n"
     ]
    }
   ],
   "source": [
    "img1 = cv.imread('./SfM/Data/sfm03.jpg')\n",
    "img2 = cv.imread('./SfM/Data/sfm04.jpg')\n",
    "\n",
    "# create SIFT instance\n",
    "sift = cv.SIFT_create()\n",
    "# sift = cv.xfeatures2d.SIFT_create()\n",
    "\n",
    "# detect and compute keypoints\n",
    "img1_kp, img1_des = sift.detectAndCompute(img1, None)\n",
    "img2_kp, img2_des = sift.detectAndCompute(img2, None)\n",
    "\n",
    "img1_drawKps = cv.drawKeypoints(img1, img1_kp, None)\n",
    "img2_drawKps = cv.drawKeypoints(img2, img2_kp, None)\n",
    "\n",
    "# save result\n",
    "cv.imwrite('sift_keypoints.jpg',img1_drawKps)\n",
    "\n",
    "print(img1_des.shape)\n",
    "print(img1_des)"
   ]
  },
  {
   "cell_type": "code",
   "execution_count": 3,
   "metadata": {},
   "outputs": [
    {
     "name": "stdout",
     "output_type": "stream",
     "text": [
      "1895\n"
     ]
    }
   ],
   "source": [
    "# Brute force matching with k=2\n",
    "bf = cv.BFMatcher()\n",
    "matches = bf.knnMatch(img1_des, img2_des, k=2)\n",
    "\n",
    "# Ratio test and retrieval of indices\n",
    "matches_good = [m1 for m1, m2 in matches if m1.distance < 0.75*m2.distance]\n",
    "\n",
    "sorted_matches = sorted(matches_good, key=lambda x: x.distance)\n",
    "res = cv.drawMatches(img1, img1_kp, img2, img2_kp, sorted_matches, img2, flags=2) \n",
    "\n",
    "cv.imwrite('sift_bfMatcher.jpg',res)\n",
    "print(len(sorted_matches))"
   ]
  },
  {
   "cell_type": "code",
   "execution_count": 15,
   "metadata": {},
   "outputs": [],
   "source": [
    "# queryIdx : 1번 이미지의 feature point index\n",
    "# trainIdx : 2번 이미지의 feature point index\n",
    "query_idx = [match.queryIdx for match in matches_good]\n",
    "train_idx = [match.trainIdx for match in matches_good]\n",
    "\n",
    "p1 = np.float32([img1_kp[ind].pt for ind in query_idx])\n",
    "p2 = np.float32([img2_kp[ind].pt for ind in train_idx])\n",
    "\n",
    "# img1_pts = np.array([img1_kp[m.queryIdx].pt for m in matches_good]).reshape(-1, 1, 2).astype(np.float32) # 픽셀 좌표\n",
    "# img2_pts = np.array([img2_kp[m.trainIdx].pt for m in matches_good]).reshape(-1, 1, 2).astype(np.float32)\n",
    "\n",
    "# print(img1_pts.shape)\n",
    "# print(img1_pts[:3])"
   ]
  },
  {
   "cell_type": "code",
   "execution_count": 16,
   "metadata": {},
   "outputs": [
    {
     "name": "stdout",
     "output_type": "stream",
     "text": [
      "(1895, 2)\n",
      "(1895, 2)\n"
     ]
    }
   ],
   "source": [
    "print(p1.shape)\n",
    "p1 = np.array(p1).reshape(-1,2)\n",
    "print(p1.shape)\n"
   ]
  },
  {
   "cell_type": "code",
   "execution_count": 7,
   "metadata": {},
   "outputs": [],
   "source": [
    "def random_five_samples(p1, p2):\n",
    "    concat = np.concatenate((p1, p2), axis=1)\n",
    "    rand_mat = concat[np.random.randint(concat.shape[0], size = len(concat)), :]\n",
    "    p1s = rand_mat[:5, :2]\n",
    "    p2s = rand_mat[:5, 2:]\n",
    "    return p1s, p2s"
   ]
  },
  {
   "cell_type": "code",
   "execution_count": 8,
   "metadata": {},
   "outputs": [],
   "source": [
    "def get_homogeneous(p1s, p2s, length):\n",
    "    a = [[]]\n",
    "    b = [[]]\n",
    "\n",
    "    for i in range(length):\n",
    "        tmp = np.append(p1s[i].flatten(), 1)\n",
    "        a = np.append(a, tmp)\n",
    "\n",
    "        tmp = np.append(p2s[i].flatten(), 1)\n",
    "        b = np.append(b, tmp)\n",
    "\n",
    "    a = a.reshape((length),3)\n",
    "    b = b.reshape((length),3)\n",
    "\n",
    "    return a,b\n"
   ]
  },
  {
   "cell_type": "code",
   "execution_count": 9,
   "metadata": {},
   "outputs": [
    {
     "data": {
      "text/plain": [
       "array([[2.40997543e+01, 3.21943091e+03, 1.00000000e+00],\n",
       "       [2.98760559e+02, 2.28233594e+03, 1.00000000e+00],\n",
       "       [3.30073669e+02, 2.51637183e+03, 1.00000000e+00],\n",
       "       ...,\n",
       "       [4.55195996e+03, 3.08029614e+03, 1.00000000e+00],\n",
       "       [4.57343848e+03, 3.09407544e+03, 1.00000000e+00],\n",
       "       [4.57485059e+03, 2.76084741e+03, 1.00000000e+00]])"
      ]
     },
     "execution_count": 9,
     "metadata": {},
     "output_type": "execute_result"
    }
   ],
   "source": [
    "a, b = get_homogeneous(p1, p2, len(p1))\n",
    "a"
   ]
  },
  {
   "cell_type": "code",
   "execution_count": 124,
   "metadata": {},
   "outputs": [
    {
     "name": "stdout",
     "output_type": "stream",
     "text": [
      "[[ 6.72128611e-05 -5.74084019e-04 -3.43018902e-01]\n",
      " [ 5.55371340e-04 -2.99083269e-04  6.18334720e-01]\n",
      " [-3.19838011e-01  6.30637047e-01  1.89800275e-04]]\n",
      "[[ 6.72128611e-05 -5.74084019e-04 -3.43018902e-01]\n",
      " [ 5.55371340e-04 -2.99083269e-04  6.18334720e-01]\n",
      " [-3.19838011e-01  6.30637047e-01  1.89800275e-04]]\n"
     ]
    }
   ],
   "source": [
    "import matlab.engine\n",
    "\n",
    "MAXITER = 1\n",
    "best_inlier = 0\n",
    "best_E = None\n",
    "alpha = 5e-4\n",
    "\n",
    "# intrinsic parameter\n",
    "K = np.array([[3451.5, 0.0, 2312.0], [0.0, 3451.5, 1734], [0.0,0.0,1.0]])\n",
    "K_inv = np.linalg.inv(K)\n",
    "\n",
    "for _ in range(MAXITER):\n",
    "\n",
    "    # select random points\n",
    "    p1s, p2s = random_five_samples(p1, p2)\n",
    "    p1s, p2s = np.array(matlab.double(p1s.tolist())), np.array(matlab.double(p2s.tolist()))\n",
    "    a, b = get_homogeneous(p1s, p2s, len(p1s))\n",
    "\n",
    "    # 5-points algorithm\n",
    "    eng = matlab.engine.start_matlab()\n",
    "    eng.addpath(\"./SfM/Step2/\")  # 'calibrated_fivepoint.m'가 위치한 경로\n",
    "    cur_E = np.asarray(eng.calibrated_fivepoint(a.T, b.T))\n",
    "    eng.quit()\n",
    "\n",
    "    print(len(cur_E[0]))\n",
    "    print(cur_E.shape[1])\n",
    "    # inlier\n",
    "    # for i in range(cur_E.shape[1]):\n",
    "    #     inlier_len_temp = 0\n",
    "\n",
    "    #     tmp = cur_E[:,i]\n",
    "    #     tmp = np.reshape(tmp, [3,3])\n",
    "    #     for j in range(5):\n",
    "    #         estim = a[j] @ tmp @ b[j].T \n",
    "    #         if estim < alpha:\n",
    "    #             inlier_len_temp += 1\n",
    "        \n",
    "    #     if best_inlier < inlier_len_temp:\n",
    "    #         best_inlier = inlier_len_temp\n",
    "    #         best_E = tmp\n",
    "\n",
    "    # print(tmp)\n",
    "    # print(best_E)\n",
    "\n",
    "        \n",
    "\n"
   ]
  },
  {
   "cell_type": "code",
   "execution_count": null,
   "metadata": {},
   "outputs": [],
   "source": []
  }
 ],
 "metadata": {
  "kernelspec": {
   "display_name": "Python 3.8.0 ('opencv_matlab_py38')",
   "language": "python",
   "name": "python3"
  },
  "language_info": {
   "codemirror_mode": {
    "name": "ipython",
    "version": 3
   },
   "file_extension": ".py",
   "mimetype": "text/x-python",
   "name": "python",
   "nbconvert_exporter": "python",
   "pygments_lexer": "ipython3",
   "version": "3.8.0"
  },
  "orig_nbformat": 4,
  "vscode": {
   "interpreter": {
    "hash": "cc01558cfc5231bffcdc316af059f095dfbeac1d8499ffe2bcda09f240df6faa"
   }
  }
 },
 "nbformat": 4,
 "nbformat_minor": 2
}
