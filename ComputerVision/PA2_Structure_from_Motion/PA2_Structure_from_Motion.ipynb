{
 "cells": [
  {
   "cell_type": "markdown",
   "metadata": {},
   "source": [
    "## Computer Vision PA #2: Structure from Motion (SfM)\n",
    "20195003 고강빈"
   ]
  },
  {
   "cell_type": "code",
   "execution_count": 4,
   "metadata": {},
   "outputs": [],
   "source": [
    "import numpy as np\n",
    "import cv2 as cv"
   ]
  },
  {
   "cell_type": "code",
   "execution_count": 10,
   "metadata": {},
   "outputs": [
    {
     "data": {
      "text/plain": [
       "True"
      ]
     },
     "execution_count": 10,
     "metadata": {},
     "output_type": "execute_result"
    }
   ],
   "source": [
    "img1 = cv.imread('./SfM/Data/sfm03.jpg')\n",
    "img2 = cv.imread('./SfM/Data/sfm04.jpg')\n",
    "\n",
    "# create SIFT instance\n",
    "sift = cv.xfeatures2d.SIFT_create()\n",
    "\n",
    "# detect keypoints\n",
    "img1_kp, img1_des = sift.detectAndCompute(img1, None)\n",
    "img2_kp, img2_des = sift.detectAndCompute(img2, None)\n",
    "\n",
    "img1_draw = cv.drawKeypoints(img1, img1_kp, None)\n",
    "img2_draw = cv.drawKeypoints(img2, img2_kp, None)\n",
    "# img1_draw = cv.drawKeypoints(img1, img1_kp, None, flags=cv.DRAW_MATCHES_FLAGS_DRAW_RICH_KEYPOINTS)\n",
    "# img2_draw = cv.drawKeypoints(img2, img2_kp, None, flags=cv.DRAW_MATCHES_FLAGS_DRAW_RICH_KEYPOINTS)\n",
    "\n",
    "# save result\n",
    "cv.imwrite('sift_keypoints.jpg',img1_draw)"
   ]
  },
  {
   "cell_type": "code",
   "execution_count": 7,
   "metadata": {},
   "outputs": [
    {
     "name": "stdout",
     "output_type": "stream",
     "text": [
      "2592\n"
     ]
    }
   ],
   "source": [
    "# Brute force matching with k=2\n",
    "bf = cv.BFMatcher()\n",
    "matches = bf.knnMatch(img1_des, img2_des, k=2)\n",
    "# bf = cv2.BFMatcher(cv2.NORM_L2, crossCheck=True)\n",
    "# matches = bf.match(img1_des, img2_des)\n",
    "\n",
    "\n",
    "# Ratio test and retrieval of indices\n",
    "matches_good = [m1 for m1, m2 in matches if m1.distance < 0.80*m2.distance]\n",
    "\n",
    "sorted_matches = sorted(matches_good, key=lambda x: x.distance)\n",
    "res = cv.drawMatches(img1, img1_kp, img2, img2_kp, sorted_matches, img2, flags=2) \n",
    "\n",
    "cv.imwrite('sift_bfMatcher.jpg',res)\n",
    "print(len(sorted_matches))"
   ]
  },
  {
   "cell_type": "code",
   "execution_count": null,
   "metadata": {},
   "outputs": [],
   "source": []
  }
 ],
 "metadata": {
  "kernelspec": {
   "display_name": "Python 3.5.5 ('opencv_py35')",
   "language": "python",
   "name": "python3"
  },
  "language_info": {
   "codemirror_mode": {
    "name": "ipython",
    "version": 3
   },
   "file_extension": ".py",
   "mimetype": "text/x-python",
   "name": "python",
   "nbconvert_exporter": "python",
   "pygments_lexer": "ipython3",
   "version": "3.5.5"
  },
  "orig_nbformat": 4,
  "vscode": {
   "interpreter": {
    "hash": "e179f8a4a8b01c6d8ca8e32ceead8b103eff6dd0e4d0ca5963a7b698a7e956b3"
   }
  }
 },
 "nbformat": 4,
 "nbformat_minor": 2
}
