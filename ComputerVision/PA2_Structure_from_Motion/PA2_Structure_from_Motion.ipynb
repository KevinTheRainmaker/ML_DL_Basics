{
 "cells": [
  {
   "cell_type": "markdown",
   "metadata": {},
   "source": [
    "## Computer Vision PA #2: Structure from Motion (SfM)\n",
    "20195003 고강빈"
   ]
  },
  {
   "cell_type": "code",
   "execution_count": 4,
   "metadata": {},
   "outputs": [],
   "source": [
    "import numpy as np\n",
    "import cv2 as cv"
   ]
  },
  {
   "cell_type": "code",
   "execution_count": 9,
   "metadata": {},
   "outputs": [
    {
     "name": "stdout",
     "output_type": "stream",
     "text": [
      "(37935, 128)\n",
      "[[  1.   0.   0. ...   1.   7.   7.]\n",
      " [  3.   1.   2. ...   3.   1.   1.]\n",
      " [  0.   1.   2. ...   0.   0.   0.]\n",
      " ...\n",
      " [  1.   0.   0. ...   2.   0.   1.]\n",
      " [  0.   0.   0. ...  17.  11.  16.]\n",
      " [145.  10.   2. ...   0.   0.   0.]]\n"
     ]
    }
   ],
   "source": [
    "img1 = cv.imread('./SfM/Data/sfm03.jpg')\n",
    "img2 = cv.imread('./SfM/Data/sfm04.jpg')\n",
    "\n",
    "# create SIFT instance\n",
    "sift = cv.xfeatures2d.SIFT_create()\n",
    "\n",
    "# detect and compute keypoints\n",
    "img1_kp, img1_des = sift.detectAndCompute(img1, None)\n",
    "img2_kp, img2_des = sift.detectAndCompute(img2, None)\n",
    "\n",
    "img1_drawKps = cv.drawKeypoints(img1, img1_kp, None)\n",
    "img2_drawKps = cv.drawKeypoints(img2, img2_kp, None)\n",
    "\n",
    "# save result\n",
    "cv.imwrite('sift_keypoints.jpg',img1_drawKps)\n",
    "\n",
    "print(img1_des.shape)\n",
    "print(img1_des)"
   ]
  },
  {
   "cell_type": "code",
   "execution_count": 10,
   "metadata": {},
   "outputs": [
    {
     "name": "stdout",
     "output_type": "stream",
     "text": [
      "1895\n"
     ]
    }
   ],
   "source": [
    "# Brute force matching with k=2\n",
    "bf = cv.BFMatcher()\n",
    "matches = bf.knnMatch(img1_des, img2_des, k=2)\n",
    "\n",
    "# Ratio test and retrieval of indices\n",
    "matches_good = [m1 for m1, m2 in matches if m1.distance < 0.75*m2.distance]\n",
    "\n",
    "sorted_matches = sorted(matches_good, key=lambda x: x.distance)\n",
    "res = cv.drawMatches(img1, img1_kp, img2, img2_kp, sorted_matches, img2, flags=2) \n",
    "\n",
    "cv.imwrite('sift_bfMatcher.jpg',res)\n",
    "print(len(sorted_matches))"
   ]
  },
  {
   "cell_type": "code",
   "execution_count": 11,
   "metadata": {},
   "outputs": [],
   "source": [
    "# print(res.shape)\n",
    "# print(res)"
   ]
  },
  {
   "cell_type": "code",
   "execution_count": 13,
   "metadata": {},
   "outputs": [
    {
     "name": "stdout",
     "output_type": "stream",
     "text": [
      "(1895, 2)\n",
      "[[  24.099754 3219.431   ]\n",
      " [ 298.76056  2282.336   ]\n",
      " [ 330.07367  2516.3718  ]]\n",
      "(1895, 1, 2)\n",
      "[[[  24.099754 3219.431   ]]\n",
      "\n",
      " [[ 298.76056  2282.336   ]]\n",
      "\n",
      " [[ 330.07367  2516.3718  ]]]\n"
     ]
    }
   ],
   "source": [
    "# queryIdx : 1번 이미지의 feature point index\n",
    "# trainIdx : 2번 이미지의 feature point index\n",
    "query_idx = [match.queryIdx for match in matches_good]\n",
    "train_idx = [match.trainIdx for match in matches_good]\n",
    "\n",
    "#Getting float based points from good matches\n",
    "p1 = np.float32([img1_kp[ind].pt for ind in query_idx])\n",
    "p2 = np.float32([img2_kp[ind].pt for ind in train_idx])\n",
    "\n",
    "print(p1.shape)\n",
    "print(p1[:3])\n",
    "\n",
    "img1_pts = np.array([img1_kp[m.queryIdx].pt for m in matches_good]).reshape(-1, 1, 2).astype(np.float32) # 픽셀 좌표\n",
    "img2_pts = np.array([img2_kp[m.trainIdx].pt for m in matches_good]).reshape(-1, 1, 2).astype(np.float32)\n",
    "\n",
    "print(img1_pts.shape)\n",
    "print(img1_pts[:3])"
   ]
  },
  {
   "cell_type": "code",
   "execution_count": 14,
   "metadata": {},
   "outputs": [],
   "source": [
    "def randomsample(p1, p2):\n",
    "    concat = np.concatenate((p1, p2), axis=1)\n",
    "    rand_mat = concat[np.random.randint(concat.shape[0], size = len(concat)), :]\n",
    "    p1s = rand_mat[:, :2]\n",
    "    p2s = rand_mat[:, 2:]\n",
    "    return p1s, p2s"
   ]
  },
  {
   "cell_type": "code",
   "execution_count": 15,
   "metadata": {},
   "outputs": [],
   "source": [
    "def RANSAC(p1, p2, iteration):\n",
    "    \n",
    "    b_inlier = np.array([[]]) # best inlier\n",
    "    b_E = None # best Essential Matrix\n",
    "    tmp_inlier_len = 0 # tmp inlier의 개수\n",
    "\n",
    "    for i in range(iteration):\n",
    "        \n",
    "        # choice random sample\n",
    "        p1s, p2s = randomsample(p1, p2)\n",
    "        \n",
    "        # 5-point algorithm (with intrinsic parameter, epipolar constraint = 0, no RANSAC) \n",
    "        cur_E, cur_inlier = cv.findEssentialMat(p1s, p2s, focal=3092.8, pp=(2016, 1512),\n",
    "                                                 maxIters = 0, threshold=0.1)\n",
    "\n",
    "        # inlier 추출\n",
    "        inlier_idx = np.where(cur_inlier==1)\n",
    "        pts1 = np.vstack([p1[i] for i in inlier_idx[0]])\n",
    "        pts2 = np.vstack([p2[i] for i in inlier_idx[0]])\n",
    "        \n",
    "        if cur_E is None:\n",
    "            continue\n",
    "\n",
    "        # inlier 수가 가장 많은 최적의 E 추출\n",
    "        if len(pts1) > tmp_inlier_len: # 현재 inlier 수 > 가장 많은 inlier 수\n",
    "            b_E = cur_E \n",
    "            b_inlier = cur_inlier \n",
    "            tmp_inlier_len = len(pts1)\n",
    "\n",
    "    return b_E"
   ]
  },
  {
   "cell_type": "code",
   "execution_count": null,
   "metadata": {},
   "outputs": [],
   "source": [
    "# MAXITER = 100\n",
    "# best_inlier = np.array([[]])\n",
    "# best_E = None\n",
    "# inlier_len_temp = 0\n",
    "\n",
    "# for i in range(MAXITER):\n",
    "    \n",
    "#     # select random points\n",
    "#     p1s, p2s = randomsample(p1, p2)\n",
    "    \n",
    "#     # 5-points algorithm\n",
    "    "
   ]
  },
  {
   "cell_type": "code",
   "execution_count": 17,
   "metadata": {},
   "outputs": [],
   "source": [
    "# import matlab.engine\n",
    "# eng = matlab.engine.start_matlab()\n",
    "# eng.addpath(\"./SfM/Step2/\")  # 'calibrated_fivepoint.m'가 위치한 경로\n",
    "# for i in range(100):\n",
    "#     a = np.random.rand(3, 5).tolist()\n",
    "#     a = matlab.double(a)\n",
    "#     b = np.random.rand(3, 5).tolist()\n",
    "#     b = matlab.double(b)\n",
    "#     E = eng.calibrated_fivepoint(a, b)\n",
    "#     print(np.asarray(E))"
   ]
  },
  {
   "cell_type": "code",
   "execution_count": null,
   "metadata": {},
   "outputs": [],
   "source": []
  }
 ],
 "metadata": {
  "kernelspec": {
   "display_name": "Python 3.8.0 ('opencv_matlab_py38')",
   "language": "python",
   "name": "python3"
  },
  "language_info": {
   "codemirror_mode": {
    "name": "ipython",
    "version": 3
   },
   "file_extension": ".py",
   "mimetype": "text/x-python",
   "name": "python",
   "nbconvert_exporter": "python",
   "pygments_lexer": "ipython3",
   "version": "3.8.0"
  },
  "orig_nbformat": 4,
  "vscode": {
   "interpreter": {
    "hash": "cc01558cfc5231bffcdc316af059f095dfbeac1d8499ffe2bcda09f240df6faa"
   }
  }
 },
 "nbformat": 4,
 "nbformat_minor": 2
}
