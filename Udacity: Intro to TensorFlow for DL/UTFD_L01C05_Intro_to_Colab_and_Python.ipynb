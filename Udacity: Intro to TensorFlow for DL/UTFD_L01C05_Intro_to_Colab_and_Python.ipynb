{
  "nbformat": 4,
  "nbformat_minor": 0,
  "metadata": {
    "colab": {
      "name": "TFSD_S1L1_Colab0_Intro. to Colab and Python.ipynb",
      "provenance": [],
      "collapsed_sections": [],
      "authorship_tag": "ABX9TyNOT4jJhUojcc+/1giq3S1i",
      "include_colab_link": true
    },
    "kernelspec": {
      "name": "python3",
      "display_name": "Python 3"
    },
    "language_info": {
      "name": "python"
    }
  },
  "cells": [
    {
      "cell_type": "markdown",
      "metadata": {
        "id": "view-in-github",
        "colab_type": "text"
      },
      "source": [
        "<a href=\"https://colab.research.google.com/github/KevinTheRainmaker/ML_DL_Basics/blob/master/Udacity%3A%20Intro%20to%20TensorFlow%20for%20DL/TFSD_S1L1_Colab0_Intro_to_Colab_and_Python.ipynb\" target=\"_parent\"><img src=\"https://colab.research.google.com/assets/colab-badge.svg\" alt=\"Open In Colab\"/></a>"
      ]
    },
    {
      "cell_type": "markdown",
      "metadata": {
        "id": "5JnwNvfz2Bzv"
      },
      "source": [
        "# Functions, Conditionals, and Interation"
      ]
    },
    {
      "cell_type": "code",
      "metadata": {
        "colab": {
          "base_uri": "https://localhost:8080/"
        },
        "id": "1TZFwlrc1ZVt",
        "outputId": "293f15c5-7a88-49b7-b37c-5ae2bd059d8c"
      },
      "source": [
        "def HelloWorldXY(x,y):\n",
        "  if (x<10):\n",
        "    print('Hello World, x was < 10')\n",
        "  elif (x<20):\n",
        "    print('Hello World, x was >= 10 but < 20')\n",
        "  else:\n",
        "    print('Hello World, x was >= 20')\n",
        "  return x+y\n",
        "\n",
        "for i in range(8, 25, 5):\n",
        "  print('--- Now running with i: {}'.format(i))\n",
        "  r = HelloWorldXY(i,i)\n",
        "  print('Result from HelloWorld: {}'.format(i,r))"
      ],
      "execution_count": 3,
      "outputs": [
        {
          "output_type": "stream",
          "name": "stdout",
          "text": [
            "--- Now running with i: 8\n",
            "Hello World, x was < 10\n",
            "Result from HelloWorld: 8\n",
            "--- Now running with i: 13\n",
            "Hello World, x was >= 10 but < 20\n",
            "Result from HelloWorld: 13\n",
            "--- Now running with i: 18\n",
            "Hello World, x was >= 10 but < 20\n",
            "Result from HelloWorld: 18\n",
            "--- Now running with i: 23\n",
            "Hello World, x was >= 20\n",
            "Result from HelloWorld: 23\n"
          ]
        }
      ]
    },
    {
      "cell_type": "markdown",
      "metadata": {
        "id": "enq0oXr24pUs"
      },
      "source": [
        "# Numpy and lists\n",
        "Numpy gives you a lot's of support functions that are useful when doing ML"
      ]
    },
    {
      "cell_type": "code",
      "metadata": {
        "colab": {
          "base_uri": "https://localhost:8080/"
        },
        "id": "c6k0eTZL4M5m",
        "outputId": "da5fcee1-f9cd-4aee-efb3-8182cb692ff4"
      },
      "source": [
        "import numpy as np\n",
        "\n",
        "a = np.array(['Hello', 'World'])\n",
        "a = np.append(a, '!')\n",
        "print(a,'\\n')\n",
        "print('Each Element in \"a\"')\n",
        "for i in a:\n",
        "  print(i)\n",
        "\n",
        "print('\\nEach Element and their index')\n",
        "for i,e in enumerate(a):\n",
        "  print(i,e)"
      ],
      "execution_count": 10,
      "outputs": [
        {
          "output_type": "stream",
          "name": "stdout",
          "text": [
            "['Hello' 'World' '!'] \n",
            "\n",
            "Each Element in \"a\"\n",
            "Hello\n",
            "World\n",
            "!\n",
            "\n",
            "Each Element and their index\n",
            "0 Hello\n",
            "1 World\n",
            "2 !\n"
          ]
        }
      ]
    },
    {
      "cell_type": "code",
      "metadata": {
        "colab": {
          "base_uri": "https://localhost:8080/"
        },
        "id": "bYc3BrFs5T7I",
        "outputId": "cfab801f-170a-4a58-e662-5a7f628baa9f"
      },
      "source": [
        "b = np.array([0,1,4,3,2])\n",
        "print(f'Max: {np.max(b)}')\n",
        "print(f'Average: {np.average(b)}')\n",
        "print(f'Max index: {np.argmax(b)}')"
      ],
      "execution_count": 11,
      "outputs": [
        {
          "output_type": "stream",
          "name": "stdout",
          "text": [
            "Max: 4\n",
            "Average: 2.0\n",
            "Max index: 2\n"
          ]
        }
      ]
    },
    {
      "cell_type": "code",
      "metadata": {
        "colab": {
          "base_uri": "https://localhost:8080/"
        },
        "id": "iFdt6qAU6BrP",
        "outputId": "38ed3e2b-8cb3-4a01-e542-fc732d1be756"
      },
      "source": [
        "print(f'Type of b: {type(b)}\\nType of b[0]: {type(b[0])}')"
      ],
      "execution_count": 13,
      "outputs": [
        {
          "output_type": "stream",
          "name": "stdout",
          "text": [
            "Type of b: <class 'numpy.ndarray'>\n",
            "Type of b[0]: <class 'numpy.int64'>\n"
          ]
        }
      ]
    },
    {
      "cell_type": "code",
      "metadata": {
        "colab": {
          "base_uri": "https://localhost:8080/"
        },
        "id": "lKK2P8Cx6NEV",
        "outputId": "9e583f05-8261-4540-c751-9af91204547e"
      },
      "source": [
        "print('Use Numpy to create a [3,3] dimension array with random number')\n",
        "c = np.random.rand(3,3)\n",
        "print(c)"
      ],
      "execution_count": 14,
      "outputs": [
        {
          "output_type": "stream",
          "name": "stdout",
          "text": [
            "Use Numpy to create a [3,3] dimension array with random number\n",
            "[[0.32507081 0.52021407 0.23098362]\n",
            " [0.80328695 0.79137352 0.48801952]\n",
            " [0.60385637 0.21953683 0.75181035]]\n"
          ]
        }
      ]
    },
    {
      "cell_type": "code",
      "metadata": {
        "colab": {
          "base_uri": "https://localhost:8080/"
        },
        "id": "on37Y_Gr6d3T",
        "outputId": "8286271b-341a-44c0-bba5-11e750bdfa2b"
      },
      "source": [
        "print('Dimension of Array')\n",
        "print(a.shape)\n",
        "print(b.shape)\n",
        "print(c.shape)"
      ],
      "execution_count": 16,
      "outputs": [
        {
          "output_type": "stream",
          "name": "stdout",
          "text": [
            "Dimension of Array\n",
            "(3,)\n",
            "(5,)\n",
            "(3, 3)\n"
          ]
        }
      ]
    }
  ]
}
