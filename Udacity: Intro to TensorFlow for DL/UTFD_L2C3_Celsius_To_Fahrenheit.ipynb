{
  "nbformat": 4,
  "nbformat_minor": 0,
  "metadata": {
    "colab": {
      "name": "TFSD_S1L1_Colab1_Celsius_To_Fahrenheit.ipynb",
      "provenance": [],
      "collapsed_sections": [],
      "authorship_tag": "ABX9TyNYbL82uYLOneRr9B23BDyQ",
      "include_colab_link": true
    },
    "kernelspec": {
      "name": "python3",
      "display_name": "Python 3"
    },
    "language_info": {
      "name": "python"
    }
  },
  "cells": [
    {
      "cell_type": "markdown",
      "metadata": {
        "id": "view-in-github",
        "colab_type": "text"
      },
      "source": [
        "<a href=\"https://colab.research.google.com/github/KevinTheRainmaker/ML_DL_Basics/blob/master/Udacity%3A%20Intro%20to%20TensorFlow%20for%20DL/TFSD_S1L1_Colab1_Celsius_To_Fahrenheit.ipynb\" target=\"_parent\"><img src=\"https://colab.research.google.com/assets/colab-badge.svg\" alt=\"Open In Colab\"/></a>"
      ]
    },
    {
      "cell_type": "markdown",
      "metadata": {
        "id": "7qloobNOMfV0"
      },
      "source": [
        "# The Basics: Traning First Model\n",
        "The problem we will solve is to convert from Celsius to Fahrenheit, where the approximate formula is:\n",
        "\n",
        "$f = c * 1.8 + 32$\n",
        "\n",
        "We will give TensorFlow some sample Celsius values (0, 8, 15, 22, 38) and their corresponding Fahrenheit values (32, 46, 59, 72, 100).\n",
        "\n",
        "Then we will train a model that figures out the above formula through the trainig process."
      ]
    },
    {
      "cell_type": "markdown",
      "metadata": {
        "id": "O-J89X51NZfI"
      },
      "source": [
        "## Import dependencies"
      ]
    },
    {
      "cell_type": "code",
      "metadata": {
        "id": "69XLbC1AMYqT"
      },
      "source": [
        "import tensorflow as tf\n",
        "tf.compat.v1.logging.set_verbosity(tf.compat.v1.logging.ERROR) # Tell TF only to log Error Message (*'logging' is removed from TF v2)\n",
        "import numpy as np"
      ],
      "execution_count": 27,
      "outputs": []
    },
    {
      "cell_type": "markdown",
      "metadata": {
        "id": "NBW8xMz0OFt3"
      },
      "source": [
        "## Set up trainig data"
      ]
    },
    {
      "cell_type": "code",
      "metadata": {
        "id": "04ghdQpiNSN_"
      },
      "source": [
        "celsius_q = np.array([-40, -10, 0, 8, 15, 22, 38], dtype=float)\n",
        "fahrenheit_a = np.array([-40, 14, 32, 46, 59, 72, 100], dtype=float)"
      ],
      "execution_count": 28,
      "outputs": []
    },
    {
      "cell_type": "code",
      "metadata": {
        "colab": {
          "base_uri": "https://localhost:8080/"
        },
        "id": "zamW231HOm3u",
        "outputId": "67927dfc-9c20-4bf6-9cfc-a73a4b7b8ed5"
      },
      "source": [
        "for i,c in enumerate(celsius_q):\n",
        "  print(f'{c} degree Celsius = {fahrenheit_a[i]} degree Fahrenheit')"
      ],
      "execution_count": 29,
      "outputs": [
        {
          "output_type": "stream",
          "name": "stdout",
          "text": [
            "-40.0 degree Celsius = -40.0 degree Fahrenheit\n",
            "-10.0 degree Celsius = 14.0 degree Fahrenheit\n",
            "0.0 degree Celsius = 32.0 degree Fahrenheit\n",
            "8.0 degree Celsius = 46.0 degree Fahrenheit\n",
            "15.0 degree Celsius = 59.0 degree Fahrenheit\n",
            "22.0 degree Celsius = 72.0 degree Fahrenheit\n",
            "38.0 degree Celsius = 100.0 degree Fahrenheit\n"
          ]
        }
      ]
    },
    {
      "cell_type": "markdown",
      "metadata": {
        "id": "YIKLj12JO1v7"
      },
      "source": [
        "### Some ML Terminology\n",
        "- **Feature:** The input(s) to our modle. In this case, a single value - the degree in Celsius.\n",
        "- **Lables:** The output(s) that our model predicts. in this case, a single value - the degree of Fahrenheit.\n",
        "- **Example:** A pair of inputs/outputs used during training. In this case a pair of values from celsius_q and fahrenheit_a at a specific index, such as (22, 72)"
      ]
    },
    {
      "cell_type": "markdown",
      "metadata": {
        "id": "6i-0kYxEPi_a"
      },
      "source": [
        "## Create the model"
      ]
    },
    {
      "cell_type": "markdown",
      "metadata": {
        "id": "Gx6a1w7jPmHr"
      },
      "source": [
        "### Build a layer\n",
        "We'll call the layer l_0 and create it by instantiating tf.keras.layers.Dense with the following configuraton:\n",
        "\n",
        "- **input_shape = [1]**: This specifies that the input to this layer is a single value. That is, the shape is a one-dimensional array with one member. Since this is the first (and only) layer, that input shape is the input shape of the entire model. The songle value is a floating point number, representing degree Celsius.\n",
        "\n",
        "- **units = 1**: This specifies the number of neurons in the layer. The number of neurons defines how many internal variables the layer has to try to learn how to solve the problem. Since this is the final layer, it is also the size of the model's output - a single float value representing degrees Fahrenheit. (In a multi-layered network, the size and shape of the layer would need to match the input_shape of the next layer.)"
      ]
    },
    {
      "cell_type": "code",
      "metadata": {
        "id": "SSRKNoJnOy6H"
      },
      "source": [
        "l_0 = tf.keras.layers.Dense(units= 1, input_shape = [1])"
      ],
      "execution_count": 30,
      "outputs": []
    },
    {
      "cell_type": "markdown",
      "metadata": {
        "id": "zeSnQ9QaRgd0"
      },
      "source": [
        "### Assemble layers into the model\n",
        "Once layers are defined, they nedd to be assembled into a model. The sequential model definition takes a list of layers as a argument, specifying the calculation order from the input to the output.\n",
        "\n",
        "This model has just a single layer, l_0."
      ]
    },
    {
      "cell_type": "code",
      "metadata": {
        "id": "WWP1Y-hhRV-n"
      },
      "source": [
        "model = tf.keras.Sequential([l_0])"
      ],
      "execution_count": 31,
      "outputs": []
    },
    {
      "cell_type": "markdown",
      "metadata": {
        "id": "7d7JK54-SH9C"
      },
      "source": [
        "**Note**\n",
        "\n",
        "You will often see the layers defined inside the model definition, rather than beforehand:\n",
        "~~~\n",
        "model = tf.keras.Sequential([\n",
        "  tf.keras.layers.Dense(units = 1, input_shape=[1])\n",
        "  ])\n",
        "~~~"
      ]
    },
    {
      "cell_type": "markdown",
      "metadata": {
        "id": "MaQqYMVLkkOf"
      },
      "source": [
        "## Compile the model, with loss and optimizer functions\n",
        "Before training, the model has to be compiled. When compiled for training, the model is given:\n",
        "\n",
        "- **Loss function**: A way of measuring how far off predictions are from the desired outcome. (The measured difference is called 'loss')\n",
        "\n",
        "- **Optimizer function**: A way of adjutiong internal values in order to reduce the loss."
      ]
    },
    {
      "cell_type": "code",
      "metadata": {
        "id": "hvIazIO3SFpA"
      },
      "source": [
        "model.compile(loss='mean_squared_error',\n",
        "              optimizer= tf.keras.optimizers.Adam(0.1)) # lr = 0.1"
      ],
      "execution_count": 32,
      "outputs": []
    },
    {
      "cell_type": "markdown",
      "metadata": {
        "id": "d7VBcrSYlaEu"
      },
      "source": [
        "These are used during trainig (***model.fit()*** below) to first calculate the loss at each point, and then improve it. In fact, the act of calculating the current loss of a model and then improving it is precisely what training is.\n",
        "\n",
        "During training, the optimizer function is used to calculate adjustments to the model's internal variables. The goal is to adjust the internal variables until the model mirrors the actual equation for converting Celsius to Fahrenheit.\n",
        "\n",
        "TensorFlow uses numerical analysis to perform this tuning, and all this complexity is hidden from you.\n",
        "\n",
        "\n",
        "<br/>\n",
        "\n",
        "**Learning rate**\n",
        "\n",
        "\n",
        "One part of the Optimizer you may need to think about when buillding your own models is the learning rate. This is the step size taken when adjustiong values in the model. If the values is too small, it will take too many iterations to train the model. If too large, the accuracy goes down.\n",
        "\n",
        "Finding a good values often involves some trial and error, but the range is usually whithin 0.001(default) and 0.1."
      ]
    },
    {
      "cell_type": "markdown",
      "metadata": {
        "id": "Z5EHD18an40T"
      },
      "source": [
        "## Train the model\n",
        "Train the model by calling the ***fit method***.\n",
        "\n",
        "During Training, the model takes in Celsius values, performs a calculation the current internal variables (called 'weights') and outputs values which are meant to be the Fahrenheit equivalent. Since the weights are initially set randomly, the output will not be close to the correct value. The difference between the actual output and the desired output is calculated using the loss function, and the optimizer function directs how the weights should be adjusted.\n",
        "\n",
        "This cycle of calculate, comparem adjust is controlled by the fit method. The first argument is the inputs, the second argument is the desired outputs. The epochs arguments specifices how many times this cycle should be run, and the verbose argument controls how much output the method produces."
      ]
    },
    {
      "cell_type": "code",
      "metadata": {
        "colab": {
          "base_uri": "https://localhost:8080/"
        },
        "id": "Nn_XRx6KlYvT",
        "outputId": "a116086e-a950-43f9-afa6-668af6e6ba3c"
      },
      "source": [
        "history = model.fit(celsius_q, fahrenheit_a, epochs=500, verbose=False) # verbose : logging or not\n",
        "print('Model Training Finished')"
      ],
      "execution_count": 33,
      "outputs": [
        {
          "output_type": "stream",
          "name": "stdout",
          "text": [
            "Model Training Finished\n"
          ]
        }
      ]
    },
    {
      "cell_type": "markdown",
      "metadata": {
        "id": "eehSZfQzqVSj"
      },
      "source": [
        "## Display trainig statistics\n",
        "\n",
        "The fit method returns a history object. We can use this object to plot how the loss of our models goes down after each training epoch. A high loss means that the Fahrenheit degress the model predicts is far from the corresponding value in fahrenheit_a."
      ]
    },
    {
      "cell_type": "code",
      "metadata": {
        "colab": {
          "base_uri": "https://localhost:8080/",
          "height": 300
        },
        "id": "wFzcHpdhpeoI",
        "outputId": "34f3ba4a-6b89-4d33-ff7c-840df19236ec"
      },
      "source": [
        "import matplotlib.pyplot as plt\n",
        "plt.xlabel('Epoch Number')\n",
        "plt.ylabel('Loss Magnitude')\n",
        "plt.plot(history.history['loss'])"
      ],
      "execution_count": 34,
      "outputs": [
        {
          "output_type": "execute_result",
          "data": {
            "text/plain": [
              "[<matplotlib.lines.Line2D at 0x7f3f6440f710>]"
            ]
          },
          "metadata": {},
          "execution_count": 34
        },
        {
          "output_type": "display_data",
          "data": {
            "image/png": "[encoded data removed]",
            "text/plain": [
              "<Figure size 432x288 with 1 Axes>"
            ]
          },
          "metadata": {
            "needs_background": "light"
          }
        }
      ]
    },
    {
      "cell_type": "markdown",
      "metadata": {
        "id": "OWIXabdosDiC"
      },
      "source": [
        "## Use the model to predict values"
      ]
    },
    {
      "cell_type": "code",
      "metadata": {
        "colab": {
          "base_uri": "https://localhost:8080/"
        },
        "id": "j8fj84YerJDs",
        "outputId": "71fddec1-6044-4057-91c6-56e866e88100"
      },
      "source": [
        "print(model.predict([100.0]))"
      ],
      "execution_count": 35,
      "outputs": [
        {
          "output_type": "stream",
          "name": "stdout",
          "text": [
            "[[211.32861]]\n"
          ]
        }
      ]
    },
    {
      "cell_type": "markdown",
      "metadata": {
        "id": "dtGBC3h1sSFh"
      },
      "source": [
        "The correct answer is $100 * 1.8 + 32 = 212$, so our model is doing pretty well."
      ]
    },
    {
      "cell_type": "markdown",
      "metadata": {
        "id": "sOqqCkt1sgRo"
      },
      "source": [
        "### To review\n",
        "- We created a model with a Dense layer\n",
        "- We trained it with 3500 examples (7 pairs, 500 epochs)\n",
        "\n",
        "Our model tuned the variables (weights) in the Dense layer until it was able to return the correct Fahrenheit value for nay Celsius value."
      ]
    },
    {
      "cell_type": "markdown",
      "metadata": {
        "id": "h-TB5Cers_nW"
      },
      "source": [
        "## Looking at the layer weights\n",
        "\n",
        "Finally, let's print the internal variables of the Dense layer."
      ]
    },
    {
      "cell_type": "code",
      "metadata": {
        "colab": {
          "base_uri": "https://localhost:8080/"
        },
        "id": "1fHQ0GUZsPMC",
        "outputId": "9507ed35-458f-4f0a-e62b-9f2768a8411b"
      },
      "source": [
        "print(f\"These are the layer variables: {l_0.get_weights()}\")"
      ],
      "execution_count": 37,
      "outputs": [
        {
          "output_type": "stream",
          "name": "stdout",
          "text": [
            "These are the layer variables: [array([[1.8219037]], dtype=float32), array([29.138248], dtype=float32)]\n"
          ]
        }
      ]
    },
    {
      "cell_type": "markdown",
      "metadata": {
        "id": "0cC8amQ2taER"
      },
      "source": [
        "The first variable is close to 1.8 and the second to 32. These values are the actual variables in the real conversion formula.\n",
        "\n",
        "For a single neuron with a single inout and single output, the internal math looks the same as **the equation for a line**, $y = mx + b$, which has the smae form as the conversion equation, $f = 1.8c + 32$.\n",
        "\n",
        "With additional neurons, additional inputs, and additional outputs, the formula becomes much more complex, but the idea is the same."
      ]
    },
    {
      "cell_type": "markdown",
      "metadata": {
        "id": "VZ29hOThucwL"
      },
      "source": [
        "----"
      ]
    },
    {
      "cell_type": "markdown",
      "metadata": {
        "id": "qFzhaPOKueqj"
      },
      "source": [
        "### A little experiment\n",
        "\n",
        "Just for funm what if we created more Dense layers with different units, which therfore also has more variables?"
      ]
    },
    {
      "cell_type": "code",
      "metadata": {
        "colab": {
          "base_uri": "https://localhost:8080/"
        },
        "id": "BbpMYflAtRaP",
        "outputId": "3e58fbc1-5d10-4c2b-da10-646d67e71b7a"
      },
      "source": [
        "l0 = tf.keras.layers.Dense(units=4, input_shape=[1])\n",
        "l1 = tf.keras.layers.Dense(units=4)\n",
        "l2 = tf.keras.layers.Dense(units=1) # last layer\n",
        "\n",
        "model = tf.keras.Sequential([l0,l1,l2])\n",
        "model.compile(loss='mean_squared_error',\n",
        "              optimizer = tf.keras.optimizers.Adam(0.1))\n",
        "\n",
        "model.fit(celsius_q, fahrenheit_a, epochs=500, verbose=False)\n",
        "print('Model Training Finished')\n",
        "\n",
        "print(model.predict([100.0, 111.0]))\n",
        "\n",
        "print(f'l0 varialbles: {l0.get_weights()}')\n",
        "print(f'l1 varialbles: {l1.get_weights()}')\n",
        "print(f'l2 varialbles: {l2.get_weights()}')"
      ],
      "execution_count": 40,
      "outputs": [
        {
          "output_type": "stream",
          "name": "stdout",
          "text": [
            "Model Training Finished\n",
            "[[211.74744]\n",
            " [231.52489]]\n",
            "l0 varialbles: [array([[-0.38457608,  0.35160187, -0.63798505, -0.1417045 ]],\n",
            "      dtype=float32), array([-3.1157634, -1.5483127, -3.4781394, -3.2546334], dtype=float32)]\n",
            "l1 varialbles: [array([[-0.6804285 ,  0.511673  ,  0.5276717 ,  0.9117809 ],\n",
            "       [-0.00471738,  0.39349663,  0.58799523,  0.768391  ],\n",
            "       [-0.7538634 ,  0.7930291 ,  0.22000024,  0.9816561 ],\n",
            "       [-0.62792146,  0.62082005,  0.6643847 ,  0.42323163]],\n",
            "      dtype=float32), array([ 2.676251 , -2.7146053, -3.265664 , -3.542716 ], dtype=float32)]\n",
            "l2 varialbles: [array([[ 0.7204907 ],\n",
            "       [-0.6759669 ],\n",
            "       [-0.6308683 ],\n",
            "       [-0.80012095]], dtype=float32), array([3.1629539], dtype=float32)]\n"
          ]
        }
      ]
    },
    {
      "cell_type": "markdown",
      "metadata": {
        "id": "VGxCty-WwJ56"
      },
      "source": [
        "As you can see, this model is also able to predict the corresponding Fahrenheit value really well. But when you look at the variables (weights) in the l0 and l1 layers, they are nothing even close to 1.8 and 32. the added complexity hides the 'simple' form if the conversion equation."
      ]
    }
  ]
}
