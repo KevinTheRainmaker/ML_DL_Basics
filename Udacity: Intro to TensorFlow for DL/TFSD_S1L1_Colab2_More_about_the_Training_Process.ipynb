{
  "nbformat": 4,
  "nbformat_minor": 0,
  "metadata": {
    "colab": {
      "name": "TFSD_S1L1_Colab2_More_about_the_Training_Process.ipynb",
      "provenance": [],
      "collapsed_sections": [],
      "authorship_tag": "ABX9TyMl+/W8/UyQdJOZ1OHl6Wi2",
      "include_colab_link": true
    },
    "kernelspec": {
      "name": "python3",
      "display_name": "Python 3"
    },
    "language_info": {
      "name": "python"
    }
  },
  "cells": [
    {
      "cell_type": "markdown",
      "metadata": {
        "id": "view-in-github",
        "colab_type": "text"
      },
      "source": [
        "<a href=\"https://colab.research.google.com/github/KevinTheRainmaker/ML_DL_Basics/blob/master/Udacity%3A%20Intro%20to%20TensorFlow%20for%20DL/TFSD_S1L1_Colab2_More_about_the_Training_Process.ipynb\" target=\"_parent\"><img src=\"https://colab.research.google.com/assets/colab-badge.svg\" alt=\"Open In Colab\"/></a>"
      ]
    },
    {
      "cell_type": "markdown",
      "metadata": {
        "id": "AFKXOi_MS74V"
      },
      "source": [
        "## The Training Process\n",
        "\n",
        "The training process happening in ***model.fit()*** is really about tuning the internal variables of the networks to the best possible values, so that they can map the input to the output. \n",
        "\n",
        "\n",
        "\n",
        "This is achieved through an optimization process called **Gradient Descent**, which uses **Numeric Analysis** to find the best possible values to the internal variables of the model.\n",
        "\n",
        "\n",
        "Gradient Descent iteratively adjusts parameters, nudging them in the correct direction a bit at a time until they reach the best values. In this case “best values” means that nudging them any more would make the model perform worse. The function that measures how good or bad the model is during each iteration is called the “loss function”, and the goal of each nudge is to “minimize the loss function.”\n",
        "\n",
        "The training process starts with a forward pass, where the input data is fed to the neural network. Then the model applies its internal math on the input and internal variables to predict an answer.\n",
        "\n",
        "Once a value is predicted, the difference between that predicted value and the correct value is calculated. This difference is called the loss, and it's a measure of how well the model performed the mapping task. The value of the loss is calculated using a loss function, which we specified with the loss parameter when calling ***model.compile()***.\n",
        "\n",
        "After the loss is calculated, the internal variables (weights and biases) of all the layers of the neural network are adjusted, so as to minimize this loss — that is, to make the output value closer to the correct value.\n",
        "\n",
        "This optimization process is called Gradient Descent. The specific algorithm used to calculate the new value of each internal variable is specified by the optimizer parameter when calling ***model.compile()***. \n",
        "\n",
        "In this example we used the ***Adam*** optimizer.\n",
        "\n",
        "For more informations, click the link below.\n",
        "<a href = \"https://developers.google.com/machine-learning/crash-course/reducing-loss/video-lecture\">[Lesson on Reducing Loss in Google’s Machine Learning Crash Course]</a>\n",
        "\n",
        "</br>\n",
        "\n",
        "**Note: Goldilocks**\n",
        "\n",
        "The learning rate that gradient descent reaches the minimum point in the fewest number of steps.\n",
        "\n",
        "It is not essential for successful model training but good to know."
      ]
    },
    {
      "cell_type": "markdown",
      "metadata": {
        "id": "hD9JKgoSY4xO"
      },
      "source": [
        "## Convex or Not\n",
        "\n",
        "Many machine learning problems are *not convex*. In these cases, the initail value does matter."
      ]
    },
    {
      "cell_type": "markdown",
      "metadata": {
        "id": "VFM87fwuZ36u"
      },
      "source": [
        "## SGD & Mini-Batch Gradient Descent\n",
        "\n",
        "When we're computing the gradient of the loss function, math suggests that we should compute the gradient over all examples in our dataset.\n",
        "\n",
        "This is the only way to guarantee that our gradient steps are in exactly in the right direction.\n",
        "\n",
        "However, for large datasets with a million or billion examples, that would a lot of computation in odrder to perform each step.\n",
        "\n",
        "To solve this problem, people have found the solution by computing the gradient of the loss function over a single example.\n",
        "\n",
        "Even though they'd have to take more overall steps, the amount of totla computation in order to reach a good solution is often much smaller.\n",
        "\n",
        "This is called ***Stochastic Gradient Descent***.\n",
        "\n",
        "Moreover, in practice, we adopt n intermediate solution. Rather than use one example or the entire dataset, we use a small batch, somewhere between then and a thousand examples to perform our steps.\n",
        "\n",
        "This is calles ***Mini-Batch Gradient Descent***.\n",
        "(In this solution, the loss and gradients are averaged over the batch)"
      ]
    },
    {
      "cell_type": "markdown",
      "metadata": {
        "id": "GKsXtBV7b_ib"
      },
      "source": [
        "## Terms that you to know\n",
        "\n",
        "- **Feature:** The input(s) to our model\n",
        "- **Examples:** An input/output pair used for training\n",
        "- **Labels:** The output of the model\n",
        "\n",
        "- **Layer:** A collection of nodes connected together within a neural network.\n",
        "- **Model:** The representation of your neural network\n",
        "- **Dense and Fully Connected (FC):** Each node in one layer is connected to each node in the previous layer.\n",
        "- **Weights and biases:** The internal variables of model\n",
        "- **Loss:** The discrepancy between the desired output and the actual output\n",
        "- **MSE:** Mean squared error, a type of loss function that counts a small number of large discrepancies as worse than a large number of small ones.\n",
        "- **Gradient Descent:** An algorithm that changes the internal variables a bit at a time to gradually reduce the loss function.\n",
        "- **Optimizer:** A specific implementation of the gradient descent algorithm. (There are many algorithms for this. In this course we will only use the “Adam” Optimizer, which stands for ADAptive with Momentum. It is considered the best-practice optimizer.)\n",
        "- **Learning rate:** The “step size” for loss improvement during gradient descent.\n",
        "- **Batch:** The set of examples used during training of the neural network\n",
        "- **Epoch:** A full pass over the entire training dataset\n",
        "- **Forward pass:** The computation of output values from input\n",
        "- **Backward pass (backpropagation):** The calculation of internal variable adjustments according to the optimizer algorithm, starting from the output layer and working back through each layer to the input."
      ]
    },
    {
      "cell_type": "code",
      "metadata": {
        "id": "c7j3o56lS6o5"
      },
      "source": [
        ""
      ],
      "execution_count": null,
      "outputs": []
    }
  ]
}