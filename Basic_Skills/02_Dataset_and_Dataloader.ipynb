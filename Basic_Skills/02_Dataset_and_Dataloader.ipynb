{
  "nbformat": 4,
  "nbformat_minor": 0,
  "metadata": {
    "colab": {
      "provenance": [],
      "authorship_tag": "ABX9TyNaLfebWODdUxkJWj7l1Yyf",
      "include_colab_link": true
    },
    "kernelspec": {
      "name": "python3",
      "display_name": "Python 3"
    },
    "language_info": {
      "name": "python"
    },
    "accelerator": "GPU",
    "gpuClass": "standard",
    "widgets": {
      "application/vnd.jupyter.widget-state+json": {
        "9c52077a6e0a4f68b515a285cccb251b": {
          "model_module": "@jupyter-widgets/controls",
          "model_name": "HBoxModel",
          "model_module_version": "1.5.0",
          "state": {
            "_dom_classes": [],
            "_model_module": "@jupyter-widgets/controls",
            "_model_module_version": "1.5.0",
            "_model_name": "HBoxModel",
            "_view_count": null,
            "_view_module": "@jupyter-widgets/controls",
            "_view_module_version": "1.5.0",
            "_view_name": "HBoxView",
            "box_style": "",
            "children": [
              "IPY_MODEL_bec0617718ac415dbde69e1979f213c8",
              "IPY_MODEL_4980997936b1474dbf4062a73cea5bfc",
              "IPY_MODEL_589d4b3d1f3d45b79e382f00fba75d2f"
            ],
            "layout": "IPY_MODEL_1212e51e53944fb8bdc54e006cec9dd7"
          }
        },
        "bec0617718ac415dbde69e1979f213c8": {
          "model_module": "@jupyter-widgets/controls",
          "model_name": "HTMLModel",
          "model_module_version": "1.5.0",
          "state": {
            "_dom_classes": [],
            "_model_module": "@jupyter-widgets/controls",
            "_model_module_version": "1.5.0",
            "_model_name": "HTMLModel",
            "_view_count": null,
            "_view_module": "@jupyter-widgets/controls",
            "_view_module_version": "1.5.0",
            "_view_name": "HTMLView",
            "description": "",
            "description_tooltip": null,
            "layout": "IPY_MODEL_4eae562c8ec64334b056729e4db23eec",
            "placeholder": "​",
            "style": "IPY_MODEL_df9d0a4735094b4e8daaacc599ce1533",
            "value": "100%"
          }
        },
        "4980997936b1474dbf4062a73cea5bfc": {
          "model_module": "@jupyter-widgets/controls",
          "model_name": "FloatProgressModel",
          "model_module_version": "1.5.0",
          "state": {
            "_dom_classes": [],
            "_model_module": "@jupyter-widgets/controls",
            "_model_module_version": "1.5.0",
            "_model_name": "FloatProgressModel",
            "_view_count": null,
            "_view_module": "@jupyter-widgets/controls",
            "_view_module_version": "1.5.0",
            "_view_name": "ProgressView",
            "bar_style": "success",
            "description": "",
            "description_tooltip": null,
            "layout": "IPY_MODEL_516c2770a0b84dbbad44bac5148a060e",
            "max": 26421880,
            "min": 0,
            "orientation": "horizontal",
            "style": "IPY_MODEL_ad940a72c5ce44a4b8a5fabc29e52f62",
            "value": 26421880
          }
        },
        "589d4b3d1f3d45b79e382f00fba75d2f": {
          "model_module": "@jupyter-widgets/controls",
          "model_name": "HTMLModel",
          "model_module_version": "1.5.0",
          "state": {
            "_dom_classes": [],
            "_model_module": "@jupyter-widgets/controls",
            "_model_module_version": "1.5.0",
            "_model_name": "HTMLModel",
            "_view_count": null,
            "_view_module": "@jupyter-widgets/controls",
            "_view_module_version": "1.5.0",
            "_view_name": "HTMLView",
            "description": "",
            "description_tooltip": null,
            "layout": "IPY_MODEL_6b090a86e2304e1c92fa2fd6593767e3",
            "placeholder": "​",
            "style": "IPY_MODEL_41525f7359854bbab852758de81bdbe0",
            "value": " 26421880/26421880 [00:03&lt;00:00, 13759570.51it/s]"
          }
        },
        "1212e51e53944fb8bdc54e006cec9dd7": {
          "model_module": "@jupyter-widgets/base",
          "model_name": "LayoutModel",
          "model_module_version": "1.2.0",
          "state": {
            "_model_module": "@jupyter-widgets/base",
            "_model_module_version": "1.2.0",
            "_model_name": "LayoutModel",
            "_view_count": null,
            "_view_module": "@jupyter-widgets/base",
            "_view_module_version": "1.2.0",
            "_view_name": "LayoutView",
            "align_content": null,
            "align_items": null,
            "align_self": null,
            "border": null,
            "bottom": null,
            "display": null,
            "flex": null,
            "flex_flow": null,
            "grid_area": null,
            "grid_auto_columns": null,
            "grid_auto_flow": null,
            "grid_auto_rows": null,
            "grid_column": null,
            "grid_gap": null,
            "grid_row": null,
            "grid_template_areas": null,
            "grid_template_columns": null,
            "grid_template_rows": null,
            "height": null,
            "justify_content": null,
            "justify_items": null,
            "left": null,
            "margin": null,
            "max_height": null,
            "max_width": null,
            "min_height": null,
            "min_width": null,
            "object_fit": null,
            "object_position": null,
            "order": null,
            "overflow": null,
            "overflow_x": null,
            "overflow_y": null,
            "padding": null,
            "right": null,
            "top": null,
            "visibility": null,
            "width": null
          }
        },
        "4eae562c8ec64334b056729e4db23eec": {
          "model_module": "@jupyter-widgets/base",
          "model_name": "LayoutModel",
          "model_module_version": "1.2.0",
          "state": {
            "_model_module": "@jupyter-widgets/base",
            "_model_module_version": "1.2.0",
            "_model_name": "LayoutModel",
            "_view_count": null,
            "_view_module": "@jupyter-widgets/base",
            "_view_module_version": "1.2.0",
            "_view_name": "LayoutView",
            "align_content": null,
            "align_items": null,
            "align_self": null,
            "border": null,
            "bottom": null,
            "display": null,
            "flex": null,
            "flex_flow": null,
            "grid_area": null,
            "grid_auto_columns": null,
            "grid_auto_flow": null,
            "grid_auto_rows": null,
            "grid_column": null,
            "grid_gap": null,
            "grid_row": null,
            "grid_template_areas": null,
            "grid_template_columns": null,
            "grid_template_rows": null,
            "height": null,
            "justify_content": null,
            "justify_items": null,
            "left": null,
            "margin": null,
            "max_height": null,
            "max_width": null,
            "min_height": null,
            "min_width": null,
            "object_fit": null,
            "object_position": null,
            "order": null,
            "overflow": null,
            "overflow_x": null,
            "overflow_y": null,
            "padding": null,
            "right": null,
            "top": null,
            "visibility": null,
            "width": null
          }
        },
        "df9d0a4735094b4e8daaacc599ce1533": {
          "model_module": "@jupyter-widgets/controls",
          "model_name": "DescriptionStyleModel",
          "model_module_version": "1.5.0",
          "state": {
            "_model_module": "@jupyter-widgets/controls",
            "_model_module_version": "1.5.0",
            "_model_name": "DescriptionStyleModel",
            "_view_count": null,
            "_view_module": "@jupyter-widgets/base",
            "_view_module_version": "1.2.0",
            "_view_name": "StyleView",
            "description_width": ""
          }
        },
        "516c2770a0b84dbbad44bac5148a060e": {
          "model_module": "@jupyter-widgets/base",
          "model_name": "LayoutModel",
          "model_module_version": "1.2.0",
          "state": {
            "_model_module": "@jupyter-widgets/base",
            "_model_module_version": "1.2.0",
            "_model_name": "LayoutModel",
            "_view_count": null,
            "_view_module": "@jupyter-widgets/base",
            "_view_module_version": "1.2.0",
            "_view_name": "LayoutView",
            "align_content": null,
            "align_items": null,
            "align_self": null,
            "border": null,
            "bottom": null,
            "display": null,
            "flex": null,
            "flex_flow": null,
            "grid_area": null,
            "grid_auto_columns": null,
            "grid_auto_flow": null,
            "grid_auto_rows": null,
            "grid_column": null,
            "grid_gap": null,
            "grid_row": null,
            "grid_template_areas": null,
            "grid_template_columns": null,
            "grid_template_rows": null,
            "height": null,
            "justify_content": null,
            "justify_items": null,
            "left": null,
            "margin": null,
            "max_height": null,
            "max_width": null,
            "min_height": null,
            "min_width": null,
            "object_fit": null,
            "object_position": null,
            "order": null,
            "overflow": null,
            "overflow_x": null,
            "overflow_y": null,
            "padding": null,
            "right": null,
            "top": null,
            "visibility": null,
            "width": null
          }
        },
        "ad940a72c5ce44a4b8a5fabc29e52f62": {
          "model_module": "@jupyter-widgets/controls",
          "model_name": "ProgressStyleModel",
          "model_module_version": "1.5.0",
          "state": {
            "_model_module": "@jupyter-widgets/controls",
            "_model_module_version": "1.5.0",
            "_model_name": "ProgressStyleModel",
            "_view_count": null,
            "_view_module": "@jupyter-widgets/base",
            "_view_module_version": "1.2.0",
            "_view_name": "StyleView",
            "bar_color": null,
            "description_width": ""
          }
        },
        "6b090a86e2304e1c92fa2fd6593767e3": {
          "model_module": "@jupyter-widgets/base",
          "model_name": "LayoutModel",
          "model_module_version": "1.2.0",
          "state": {
            "_model_module": "@jupyter-widgets/base",
            "_model_module_version": "1.2.0",
            "_model_name": "LayoutModel",
            "_view_count": null,
            "_view_module": "@jupyter-widgets/base",
            "_view_module_version": "1.2.0",
            "_view_name": "LayoutView",
            "align_content": null,
            "align_items": null,
            "align_self": null,
            "border": null,
            "bottom": null,
            "display": null,
            "flex": null,
            "flex_flow": null,
            "grid_area": null,
            "grid_auto_columns": null,
            "grid_auto_flow": null,
            "grid_auto_rows": null,
            "grid_column": null,
            "grid_gap": null,
            "grid_row": null,
            "grid_template_areas": null,
            "grid_template_columns": null,
            "grid_template_rows": null,
            "height": null,
            "justify_content": null,
            "justify_items": null,
            "left": null,
            "margin": null,
            "max_height": null,
            "max_width": null,
            "min_height": null,
            "min_width": null,
            "object_fit": null,
            "object_position": null,
            "order": null,
            "overflow": null,
            "overflow_x": null,
            "overflow_y": null,
            "padding": null,
            "right": null,
            "top": null,
            "visibility": null,
            "width": null
          }
        },
        "41525f7359854bbab852758de81bdbe0": {
          "model_module": "@jupyter-widgets/controls",
          "model_name": "DescriptionStyleModel",
          "model_module_version": "1.5.0",
          "state": {
            "_model_module": "@jupyter-widgets/controls",
            "_model_module_version": "1.5.0",
            "_model_name": "DescriptionStyleModel",
            "_view_count": null,
            "_view_module": "@jupyter-widgets/base",
            "_view_module_version": "1.2.0",
            "_view_name": "StyleView",
            "description_width": ""
          }
        },
        "8321b8f84eb44f00b331fa5ba7921293": {
          "model_module": "@jupyter-widgets/controls",
          "model_name": "HBoxModel",
          "model_module_version": "1.5.0",
          "state": {
            "_dom_classes": [],
            "_model_module": "@jupyter-widgets/controls",
            "_model_module_version": "1.5.0",
            "_model_name": "HBoxModel",
            "_view_count": null,
            "_view_module": "@jupyter-widgets/controls",
            "_view_module_version": "1.5.0",
            "_view_name": "HBoxView",
            "box_style": "",
            "children": [
              "IPY_MODEL_300e1180b7a740d9a127b5d5d62597dc",
              "IPY_MODEL_d54b8d30afb34b6293cc7f17514ba4ae",
              "IPY_MODEL_1c6ec050ef534112993051c70f869554"
            ],
            "layout": "IPY_MODEL_bbc50187451f416eafa3baa8d34e7dbc"
          }
        },
        "300e1180b7a740d9a127b5d5d62597dc": {
          "model_module": "@jupyter-widgets/controls",
          "model_name": "HTMLModel",
          "model_module_version": "1.5.0",
          "state": {
            "_dom_classes": [],
            "_model_module": "@jupyter-widgets/controls",
            "_model_module_version": "1.5.0",
            "_model_name": "HTMLModel",
            "_view_count": null,
            "_view_module": "@jupyter-widgets/controls",
            "_view_module_version": "1.5.0",
            "_view_name": "HTMLView",
            "description": "",
            "description_tooltip": null,
            "layout": "IPY_MODEL_2c7246841b35492baa4b5d4c95ef552c",
            "placeholder": "​",
            "style": "IPY_MODEL_5d719198d3ea4f2699c075719330a5c7",
            "value": "100%"
          }
        },
        "d54b8d30afb34b6293cc7f17514ba4ae": {
          "model_module": "@jupyter-widgets/controls",
          "model_name": "FloatProgressModel",
          "model_module_version": "1.5.0",
          "state": {
            "_dom_classes": [],
            "_model_module": "@jupyter-widgets/controls",
            "_model_module_version": "1.5.0",
            "_model_name": "FloatProgressModel",
            "_view_count": null,
            "_view_module": "@jupyter-widgets/controls",
            "_view_module_version": "1.5.0",
            "_view_name": "ProgressView",
            "bar_style": "success",
            "description": "",
            "description_tooltip": null,
            "layout": "IPY_MODEL_d917d609207540bb8255bfab18953a7a",
            "max": 29515,
            "min": 0,
            "orientation": "horizontal",
            "style": "IPY_MODEL_ab5b61a525364e0699162284eba2c60a",
            "value": 29515
          }
        },
        "1c6ec050ef534112993051c70f869554": {
          "model_module": "@jupyter-widgets/controls",
          "model_name": "HTMLModel",
          "model_module_version": "1.5.0",
          "state": {
            "_dom_classes": [],
            "_model_module": "@jupyter-widgets/controls",
            "_model_module_version": "1.5.0",
            "_model_name": "HTMLModel",
            "_view_count": null,
            "_view_module": "@jupyter-widgets/controls",
            "_view_module_version": "1.5.0",
            "_view_name": "HTMLView",
            "description": "",
            "description_tooltip": null,
            "layout": "IPY_MODEL_ff02876397264daeb3a711d346348641",
            "placeholder": "​",
            "style": "IPY_MODEL_9af8196b55e94b14b6962e4a546ff4ee",
            "value": " 29515/29515 [00:00&lt;00:00, 145865.33it/s]"
          }
        },
        "bbc50187451f416eafa3baa8d34e7dbc": {
          "model_module": "@jupyter-widgets/base",
          "model_name": "LayoutModel",
          "model_module_version": "1.2.0",
          "state": {
            "_model_module": "@jupyter-widgets/base",
            "_model_module_version": "1.2.0",
            "_model_name": "LayoutModel",
            "_view_count": null,
            "_view_module": "@jupyter-widgets/base",
            "_view_module_version": "1.2.0",
            "_view_name": "LayoutView",
            "align_content": null,
            "align_items": null,
            "align_self": null,
            "border": null,
            "bottom": null,
            "display": null,
            "flex": null,
            "flex_flow": null,
            "grid_area": null,
            "grid_auto_columns": null,
            "grid_auto_flow": null,
            "grid_auto_rows": null,
            "grid_column": null,
            "grid_gap": null,
            "grid_row": null,
            "grid_template_areas": null,
            "grid_template_columns": null,
            "grid_template_rows": null,
            "height": null,
            "justify_content": null,
            "justify_items": null,
            "left": null,
            "margin": null,
            "max_height": null,
            "max_width": null,
            "min_height": null,
            "min_width": null,
            "object_fit": null,
            "object_position": null,
            "order": null,
            "overflow": null,
            "overflow_x": null,
            "overflow_y": null,
            "padding": null,
            "right": null,
            "top": null,
            "visibility": null,
            "width": null
          }
        },
        "2c7246841b35492baa4b5d4c95ef552c": {
          "model_module": "@jupyter-widgets/base",
          "model_name": "LayoutModel",
          "model_module_version": "1.2.0",
          "state": {
            "_model_module": "@jupyter-widgets/base",
            "_model_module_version": "1.2.0",
            "_model_name": "LayoutModel",
            "_view_count": null,
            "_view_module": "@jupyter-widgets/base",
            "_view_module_version": "1.2.0",
            "_view_name": "LayoutView",
            "align_content": null,
            "align_items": null,
            "align_self": null,
            "border": null,
            "bottom": null,
            "display": null,
            "flex": null,
            "flex_flow": null,
            "grid_area": null,
            "grid_auto_columns": null,
            "grid_auto_flow": null,
            "grid_auto_rows": null,
            "grid_column": null,
            "grid_gap": null,
            "grid_row": null,
            "grid_template_areas": null,
            "grid_template_columns": null,
            "grid_template_rows": null,
            "height": null,
            "justify_content": null,
            "justify_items": null,
            "left": null,
            "margin": null,
            "max_height": null,
            "max_width": null,
            "min_height": null,
            "min_width": null,
            "object_fit": null,
            "object_position": null,
            "order": null,
            "overflow": null,
            "overflow_x": null,
            "overflow_y": null,
            "padding": null,
            "right": null,
            "top": null,
            "visibility": null,
            "width": null
          }
        },
        "5d719198d3ea4f2699c075719330a5c7": {
          "model_module": "@jupyter-widgets/controls",
          "model_name": "DescriptionStyleModel",
          "model_module_version": "1.5.0",
          "state": {
            "_model_module": "@jupyter-widgets/controls",
            "_model_module_version": "1.5.0",
            "_model_name": "DescriptionStyleModel",
            "_view_count": null,
            "_view_module": "@jupyter-widgets/base",
            "_view_module_version": "1.2.0",
            "_view_name": "StyleView",
            "description_width": ""
          }
        },
        "d917d609207540bb8255bfab18953a7a": {
          "model_module": "@jupyter-widgets/base",
          "model_name": "LayoutModel",
          "model_module_version": "1.2.0",
          "state": {
            "_model_module": "@jupyter-widgets/base",
            "_model_module_version": "1.2.0",
            "_model_name": "LayoutModel",
            "_view_count": null,
            "_view_module": "@jupyter-widgets/base",
            "_view_module_version": "1.2.0",
            "_view_name": "LayoutView",
            "align_content": null,
            "align_items": null,
            "align_self": null,
            "border": null,
            "bottom": null,
            "display": null,
            "flex": null,
            "flex_flow": null,
            "grid_area": null,
            "grid_auto_columns": null,
            "grid_auto_flow": null,
            "grid_auto_rows": null,
            "grid_column": null,
            "grid_gap": null,
            "grid_row": null,
            "grid_template_areas": null,
            "grid_template_columns": null,
            "grid_template_rows": null,
            "height": null,
            "justify_content": null,
            "justify_items": null,
            "left": null,
            "margin": null,
            "max_height": null,
            "max_width": null,
            "min_height": null,
            "min_width": null,
            "object_fit": null,
            "object_position": null,
            "order": null,
            "overflow": null,
            "overflow_x": null,
            "overflow_y": null,
            "padding": null,
            "right": null,
            "top": null,
            "visibility": null,
            "width": null
          }
        },
        "ab5b61a525364e0699162284eba2c60a": {
          "model_module": "@jupyter-widgets/controls",
          "model_name": "ProgressStyleModel",
          "model_module_version": "1.5.0",
          "state": {
            "_model_module": "@jupyter-widgets/controls",
            "_model_module_version": "1.5.0",
            "_model_name": "ProgressStyleModel",
            "_view_count": null,
            "_view_module": "@jupyter-widgets/base",
            "_view_module_version": "1.2.0",
            "_view_name": "StyleView",
            "bar_color": null,
            "description_width": ""
          }
        },
        "ff02876397264daeb3a711d346348641": {
          "model_module": "@jupyter-widgets/base",
          "model_name": "LayoutModel",
          "model_module_version": "1.2.0",
          "state": {
            "_model_module": "@jupyter-widgets/base",
            "_model_module_version": "1.2.0",
            "_model_name": "LayoutModel",
            "_view_count": null,
            "_view_module": "@jupyter-widgets/base",
            "_view_module_version": "1.2.0",
            "_view_name": "LayoutView",
            "align_content": null,
            "align_items": null,
            "align_self": null,
            "border": null,
            "bottom": null,
            "display": null,
            "flex": null,
            "flex_flow": null,
            "grid_area": null,
            "grid_auto_columns": null,
            "grid_auto_flow": null,
            "grid_auto_rows": null,
            "grid_column": null,
            "grid_gap": null,
            "grid_row": null,
            "grid_template_areas": null,
            "grid_template_columns": null,
            "grid_template_rows": null,
            "height": null,
            "justify_content": null,
            "justify_items": null,
            "left": null,
            "margin": null,
            "max_height": null,
            "max_width": null,
            "min_height": null,
            "min_width": null,
            "object_fit": null,
            "object_position": null,
            "order": null,
            "overflow": null,
            "overflow_x": null,
            "overflow_y": null,
            "padding": null,
            "right": null,
            "top": null,
            "visibility": null,
            "width": null
          }
        },
        "9af8196b55e94b14b6962e4a546ff4ee": {
          "model_module": "@jupyter-widgets/controls",
          "model_name": "DescriptionStyleModel",
          "model_module_version": "1.5.0",
          "state": {
            "_model_module": "@jupyter-widgets/controls",
            "_model_module_version": "1.5.0",
            "_model_name": "DescriptionStyleModel",
            "_view_count": null,
            "_view_module": "@jupyter-widgets/base",
            "_view_module_version": "1.2.0",
            "_view_name": "StyleView",
            "description_width": ""
          }
        },
        "ad6709a8f2bb4511948de6f0a555b007": {
          "model_module": "@jupyter-widgets/controls",
          "model_name": "HBoxModel",
          "model_module_version": "1.5.0",
          "state": {
            "_dom_classes": [],
            "_model_module": "@jupyter-widgets/controls",
            "_model_module_version": "1.5.0",
            "_model_name": "HBoxModel",
            "_view_count": null,
            "_view_module": "@jupyter-widgets/controls",
            "_view_module_version": "1.5.0",
            "_view_name": "HBoxView",
            "box_style": "",
            "children": [
              "IPY_MODEL_bb546327f941476da0795f05b1819422",
              "IPY_MODEL_ec698ac818ed4c1da0688717a7da71f8",
              "IPY_MODEL_aecd341fd3e145db9b4241827a715f76"
            ],
            "layout": "IPY_MODEL_b4b2ae6998034b0eb77103b23064050d"
          }
        },
        "bb546327f941476da0795f05b1819422": {
          "model_module": "@jupyter-widgets/controls",
          "model_name": "HTMLModel",
          "model_module_version": "1.5.0",
          "state": {
            "_dom_classes": [],
            "_model_module": "@jupyter-widgets/controls",
            "_model_module_version": "1.5.0",
            "_model_name": "HTMLModel",
            "_view_count": null,
            "_view_module": "@jupyter-widgets/controls",
            "_view_module_version": "1.5.0",
            "_view_name": "HTMLView",
            "description": "",
            "description_tooltip": null,
            "layout": "IPY_MODEL_bf8d9f75e9444fcaaa5e3d6d3c04aec3",
            "placeholder": "​",
            "style": "IPY_MODEL_74275573d9ca427cb7496f5574432592",
            "value": "100%"
          }
        },
        "ec698ac818ed4c1da0688717a7da71f8": {
          "model_module": "@jupyter-widgets/controls",
          "model_name": "FloatProgressModel",
          "model_module_version": "1.5.0",
          "state": {
            "_dom_classes": [],
            "_model_module": "@jupyter-widgets/controls",
            "_model_module_version": "1.5.0",
            "_model_name": "FloatProgressModel",
            "_view_count": null,
            "_view_module": "@jupyter-widgets/controls",
            "_view_module_version": "1.5.0",
            "_view_name": "ProgressView",
            "bar_style": "success",
            "description": "",
            "description_tooltip": null,
            "layout": "IPY_MODEL_e7612059060842f691172740802fd18d",
            "max": 4422102,
            "min": 0,
            "orientation": "horizontal",
            "style": "IPY_MODEL_bc6ee9ee3afe45f9a8fdaea9ba3ec5ca",
            "value": 4422102
          }
        },
        "aecd341fd3e145db9b4241827a715f76": {
          "model_module": "@jupyter-widgets/controls",
          "model_name": "HTMLModel",
          "model_module_version": "1.5.0",
          "state": {
            "_dom_classes": [],
            "_model_module": "@jupyter-widgets/controls",
            "_model_module_version": "1.5.0",
            "_model_name": "HTMLModel",
            "_view_count": null,
            "_view_module": "@jupyter-widgets/controls",
            "_view_module_version": "1.5.0",
            "_view_name": "HTMLView",
            "description": "",
            "description_tooltip": null,
            "layout": "IPY_MODEL_cbbc1aeeb8c54caba79bb7b841eb75af",
            "placeholder": "​",
            "style": "IPY_MODEL_a16f6da01191439599b8a0a72bdd2e15",
            "value": " 4422102/4422102 [00:01&lt;00:00, 3503198.90it/s]"
          }
        },
        "b4b2ae6998034b0eb77103b23064050d": {
          "model_module": "@jupyter-widgets/base",
          "model_name": "LayoutModel",
          "model_module_version": "1.2.0",
          "state": {
            "_model_module": "@jupyter-widgets/base",
            "_model_module_version": "1.2.0",
            "_model_name": "LayoutModel",
            "_view_count": null,
            "_view_module": "@jupyter-widgets/base",
            "_view_module_version": "1.2.0",
            "_view_name": "LayoutView",
            "align_content": null,
            "align_items": null,
            "align_self": null,
            "border": null,
            "bottom": null,
            "display": null,
            "flex": null,
            "flex_flow": null,
            "grid_area": null,
            "grid_auto_columns": null,
            "grid_auto_flow": null,
            "grid_auto_rows": null,
            "grid_column": null,
            "grid_gap": null,
            "grid_row": null,
            "grid_template_areas": null,
            "grid_template_columns": null,
            "grid_template_rows": null,
            "height": null,
            "justify_content": null,
            "justify_items": null,
            "left": null,
            "margin": null,
            "max_height": null,
            "max_width": null,
            "min_height": null,
            "min_width": null,
            "object_fit": null,
            "object_position": null,
            "order": null,
            "overflow": null,
            "overflow_x": null,
            "overflow_y": null,
            "padding": null,
            "right": null,
            "top": null,
            "visibility": null,
            "width": null
          }
        },
        "bf8d9f75e9444fcaaa5e3d6d3c04aec3": {
          "model_module": "@jupyter-widgets/base",
          "model_name": "LayoutModel",
          "model_module_version": "1.2.0",
          "state": {
            "_model_module": "@jupyter-widgets/base",
            "_model_module_version": "1.2.0",
            "_model_name": "LayoutModel",
            "_view_count": null,
            "_view_module": "@jupyter-widgets/base",
            "_view_module_version": "1.2.0",
            "_view_name": "LayoutView",
            "align_content": null,
            "align_items": null,
            "align_self": null,
            "border": null,
            "bottom": null,
            "display": null,
            "flex": null,
            "flex_flow": null,
            "grid_area": null,
            "grid_auto_columns": null,
            "grid_auto_flow": null,
            "grid_auto_rows": null,
            "grid_column": null,
            "grid_gap": null,
            "grid_row": null,
            "grid_template_areas": null,
            "grid_template_columns": null,
            "grid_template_rows": null,
            "height": null,
            "justify_content": null,
            "justify_items": null,
            "left": null,
            "margin": null,
            "max_height": null,
            "max_width": null,
            "min_height": null,
            "min_width": null,
            "object_fit": null,
            "object_position": null,
            "order": null,
            "overflow": null,
            "overflow_x": null,
            "overflow_y": null,
            "padding": null,
            "right": null,
            "top": null,
            "visibility": null,
            "width": null
          }
        },
        "74275573d9ca427cb7496f5574432592": {
          "model_module": "@jupyter-widgets/controls",
          "model_name": "DescriptionStyleModel",
          "model_module_version": "1.5.0",
          "state": {
            "_model_module": "@jupyter-widgets/controls",
            "_model_module_version": "1.5.0",
            "_model_name": "DescriptionStyleModel",
            "_view_count": null,
            "_view_module": "@jupyter-widgets/base",
            "_view_module_version": "1.2.0",
            "_view_name": "StyleView",
            "description_width": ""
          }
        },
        "e7612059060842f691172740802fd18d": {
          "model_module": "@jupyter-widgets/base",
          "model_name": "LayoutModel",
          "model_module_version": "1.2.0",
          "state": {
            "_model_module": "@jupyter-widgets/base",
            "_model_module_version": "1.2.0",
            "_model_name": "LayoutModel",
            "_view_count": null,
            "_view_module": "@jupyter-widgets/base",
            "_view_module_version": "1.2.0",
            "_view_name": "LayoutView",
            "align_content": null,
            "align_items": null,
            "align_self": null,
            "border": null,
            "bottom": null,
            "display": null,
            "flex": null,
            "flex_flow": null,
            "grid_area": null,
            "grid_auto_columns": null,
            "grid_auto_flow": null,
            "grid_auto_rows": null,
            "grid_column": null,
            "grid_gap": null,
            "grid_row": null,
            "grid_template_areas": null,
            "grid_template_columns": null,
            "grid_template_rows": null,
            "height": null,
            "justify_content": null,
            "justify_items": null,
            "left": null,
            "margin": null,
            "max_height": null,
            "max_width": null,
            "min_height": null,
            "min_width": null,
            "object_fit": null,
            "object_position": null,
            "order": null,
            "overflow": null,
            "overflow_x": null,
            "overflow_y": null,
            "padding": null,
            "right": null,
            "top": null,
            "visibility": null,
            "width": null
          }
        },
        "bc6ee9ee3afe45f9a8fdaea9ba3ec5ca": {
          "model_module": "@jupyter-widgets/controls",
          "model_name": "ProgressStyleModel",
          "model_module_version": "1.5.0",
          "state": {
            "_model_module": "@jupyter-widgets/controls",
            "_model_module_version": "1.5.0",
            "_model_name": "ProgressStyleModel",
            "_view_count": null,
            "_view_module": "@jupyter-widgets/base",
            "_view_module_version": "1.2.0",
            "_view_name": "StyleView",
            "bar_color": null,
            "description_width": ""
          }
        },
        "cbbc1aeeb8c54caba79bb7b841eb75af": {
          "model_module": "@jupyter-widgets/base",
          "model_name": "LayoutModel",
          "model_module_version": "1.2.0",
          "state": {
            "_model_module": "@jupyter-widgets/base",
            "_model_module_version": "1.2.0",
            "_model_name": "LayoutModel",
            "_view_count": null,
            "_view_module": "@jupyter-widgets/base",
            "_view_module_version": "1.2.0",
            "_view_name": "LayoutView",
            "align_content": null,
            "align_items": null,
            "align_self": null,
            "border": null,
            "bottom": null,
            "display": null,
            "flex": null,
            "flex_flow": null,
            "grid_area": null,
            "grid_auto_columns": null,
            "grid_auto_flow": null,
            "grid_auto_rows": null,
            "grid_column": null,
            "grid_gap": null,
            "grid_row": null,
            "grid_template_areas": null,
            "grid_template_columns": null,
            "grid_template_rows": null,
            "height": null,
            "justify_content": null,
            "justify_items": null,
            "left": null,
            "margin": null,
            "max_height": null,
            "max_width": null,
            "min_height": null,
            "min_width": null,
            "object_fit": null,
            "object_position": null,
            "order": null,
            "overflow": null,
            "overflow_x": null,
            "overflow_y": null,
            "padding": null,
            "right": null,
            "top": null,
            "visibility": null,
            "width": null
          }
        },
        "a16f6da01191439599b8a0a72bdd2e15": {
          "model_module": "@jupyter-widgets/controls",
          "model_name": "DescriptionStyleModel",
          "model_module_version": "1.5.0",
          "state": {
            "_model_module": "@jupyter-widgets/controls",
            "_model_module_version": "1.5.0",
            "_model_name": "DescriptionStyleModel",
            "_view_count": null,
            "_view_module": "@jupyter-widgets/base",
            "_view_module_version": "1.2.0",
            "_view_name": "StyleView",
            "description_width": ""
          }
        },
        "188c09aaaf274cf7ae7bbdafd18a6048": {
          "model_module": "@jupyter-widgets/controls",
          "model_name": "HBoxModel",
          "model_module_version": "1.5.0",
          "state": {
            "_dom_classes": [],
            "_model_module": "@jupyter-widgets/controls",
            "_model_module_version": "1.5.0",
            "_model_name": "HBoxModel",
            "_view_count": null,
            "_view_module": "@jupyter-widgets/controls",
            "_view_module_version": "1.5.0",
            "_view_name": "HBoxView",
            "box_style": "",
            "children": [
              "IPY_MODEL_97ff6e82d82a415fb3d2bc28094ff47d",
              "IPY_MODEL_68884d16121f40ecb2243464b23c2dcb",
              "IPY_MODEL_0dea218e24f14b3da8f103ec1119f2f6"
            ],
            "layout": "IPY_MODEL_580f9f4a98cb4027825493d1781b6ffa"
          }
        },
        "97ff6e82d82a415fb3d2bc28094ff47d": {
          "model_module": "@jupyter-widgets/controls",
          "model_name": "HTMLModel",
          "model_module_version": "1.5.0",
          "state": {
            "_dom_classes": [],
            "_model_module": "@jupyter-widgets/controls",
            "_model_module_version": "1.5.0",
            "_model_name": "HTMLModel",
            "_view_count": null,
            "_view_module": "@jupyter-widgets/controls",
            "_view_module_version": "1.5.0",
            "_view_name": "HTMLView",
            "description": "",
            "description_tooltip": null,
            "layout": "IPY_MODEL_aad3040da9424e88997af28cac387820",
            "placeholder": "​",
            "style": "IPY_MODEL_5abe169a0ab44ca29d5c34c606f4c11e",
            "value": "100%"
          }
        },
        "68884d16121f40ecb2243464b23c2dcb": {
          "model_module": "@jupyter-widgets/controls",
          "model_name": "FloatProgressModel",
          "model_module_version": "1.5.0",
          "state": {
            "_dom_classes": [],
            "_model_module": "@jupyter-widgets/controls",
            "_model_module_version": "1.5.0",
            "_model_name": "FloatProgressModel",
            "_view_count": null,
            "_view_module": "@jupyter-widgets/controls",
            "_view_module_version": "1.5.0",
            "_view_name": "ProgressView",
            "bar_style": "success",
            "description": "",
            "description_tooltip": null,
            "layout": "IPY_MODEL_3c9202f41f8c4bec9d07179eec215b49",
            "max": 5148,
            "min": 0,
            "orientation": "horizontal",
            "style": "IPY_MODEL_aafb1f44447342199e5eee6553002bae",
            "value": 5148
          }
        },
        "0dea218e24f14b3da8f103ec1119f2f6": {
          "model_module": "@jupyter-widgets/controls",
          "model_name": "HTMLModel",
          "model_module_version": "1.5.0",
          "state": {
            "_dom_classes": [],
            "_model_module": "@jupyter-widgets/controls",
            "_model_module_version": "1.5.0",
            "_model_name": "HTMLModel",
            "_view_count": null,
            "_view_module": "@jupyter-widgets/controls",
            "_view_module_version": "1.5.0",
            "_view_name": "HTMLView",
            "description": "",
            "description_tooltip": null,
            "layout": "IPY_MODEL_76a168b22fa543fc92893aa38d79444a",
            "placeholder": "​",
            "style": "IPY_MODEL_ea481e39796c468baa13c8124a749454",
            "value": " 5148/5148 [00:00&lt;00:00, 80937.25it/s]"
          }
        },
        "580f9f4a98cb4027825493d1781b6ffa": {
          "model_module": "@jupyter-widgets/base",
          "model_name": "LayoutModel",
          "model_module_version": "1.2.0",
          "state": {
            "_model_module": "@jupyter-widgets/base",
            "_model_module_version": "1.2.0",
            "_model_name": "LayoutModel",
            "_view_count": null,
            "_view_module": "@jupyter-widgets/base",
            "_view_module_version": "1.2.0",
            "_view_name": "LayoutView",
            "align_content": null,
            "align_items": null,
            "align_self": null,
            "border": null,
            "bottom": null,
            "display": null,
            "flex": null,
            "flex_flow": null,
            "grid_area": null,
            "grid_auto_columns": null,
            "grid_auto_flow": null,
            "grid_auto_rows": null,
            "grid_column": null,
            "grid_gap": null,
            "grid_row": null,
            "grid_template_areas": null,
            "grid_template_columns": null,
            "grid_template_rows": null,
            "height": null,
            "justify_content": null,
            "justify_items": null,
            "left": null,
            "margin": null,
            "max_height": null,
            "max_width": null,
            "min_height": null,
            "min_width": null,
            "object_fit": null,
            "object_position": null,
            "order": null,
            "overflow": null,
            "overflow_x": null,
            "overflow_y": null,
            "padding": null,
            "right": null,
            "top": null,
            "visibility": null,
            "width": null
          }
        },
        "aad3040da9424e88997af28cac387820": {
          "model_module": "@jupyter-widgets/base",
          "model_name": "LayoutModel",
          "model_module_version": "1.2.0",
          "state": {
            "_model_module": "@jupyter-widgets/base",
            "_model_module_version": "1.2.0",
            "_model_name": "LayoutModel",
            "_view_count": null,
            "_view_module": "@jupyter-widgets/base",
            "_view_module_version": "1.2.0",
            "_view_name": "LayoutView",
            "align_content": null,
            "align_items": null,
            "align_self": null,
            "border": null,
            "bottom": null,
            "display": null,
            "flex": null,
            "flex_flow": null,
            "grid_area": null,
            "grid_auto_columns": null,
            "grid_auto_flow": null,
            "grid_auto_rows": null,
            "grid_column": null,
            "grid_gap": null,
            "grid_row": null,
            "grid_template_areas": null,
            "grid_template_columns": null,
            "grid_template_rows": null,
            "height": null,
            "justify_content": null,
            "justify_items": null,
            "left": null,
            "margin": null,
            "max_height": null,
            "max_width": null,
            "min_height": null,
            "min_width": null,
            "object_fit": null,
            "object_position": null,
            "order": null,
            "overflow": null,
            "overflow_x": null,
            "overflow_y": null,
            "padding": null,
            "right": null,
            "top": null,
            "visibility": null,
            "width": null
          }
        },
        "5abe169a0ab44ca29d5c34c606f4c11e": {
          "model_module": "@jupyter-widgets/controls",
          "model_name": "DescriptionStyleModel",
          "model_module_version": "1.5.0",
          "state": {
            "_model_module": "@jupyter-widgets/controls",
            "_model_module_version": "1.5.0",
            "_model_name": "DescriptionStyleModel",
            "_view_count": null,
            "_view_module": "@jupyter-widgets/base",
            "_view_module_version": "1.2.0",
            "_view_name": "StyleView",
            "description_width": ""
          }
        },
        "3c9202f41f8c4bec9d07179eec215b49": {
          "model_module": "@jupyter-widgets/base",
          "model_name": "LayoutModel",
          "model_module_version": "1.2.0",
          "state": {
            "_model_module": "@jupyter-widgets/base",
            "_model_module_version": "1.2.0",
            "_model_name": "LayoutModel",
            "_view_count": null,
            "_view_module": "@jupyter-widgets/base",
            "_view_module_version": "1.2.0",
            "_view_name": "LayoutView",
            "align_content": null,
            "align_items": null,
            "align_self": null,
            "border": null,
            "bottom": null,
            "display": null,
            "flex": null,
            "flex_flow": null,
            "grid_area": null,
            "grid_auto_columns": null,
            "grid_auto_flow": null,
            "grid_auto_rows": null,
            "grid_column": null,
            "grid_gap": null,
            "grid_row": null,
            "grid_template_areas": null,
            "grid_template_columns": null,
            "grid_template_rows": null,
            "height": null,
            "justify_content": null,
            "justify_items": null,
            "left": null,
            "margin": null,
            "max_height": null,
            "max_width": null,
            "min_height": null,
            "min_width": null,
            "object_fit": null,
            "object_position": null,
            "order": null,
            "overflow": null,
            "overflow_x": null,
            "overflow_y": null,
            "padding": null,
            "right": null,
            "top": null,
            "visibility": null,
            "width": null
          }
        },
        "aafb1f44447342199e5eee6553002bae": {
          "model_module": "@jupyter-widgets/controls",
          "model_name": "ProgressStyleModel",
          "model_module_version": "1.5.0",
          "state": {
            "_model_module": "@jupyter-widgets/controls",
            "_model_module_version": "1.5.0",
            "_model_name": "ProgressStyleModel",
            "_view_count": null,
            "_view_module": "@jupyter-widgets/base",
            "_view_module_version": "1.2.0",
            "_view_name": "StyleView",
            "bar_color": null,
            "description_width": ""
          }
        },
        "76a168b22fa543fc92893aa38d79444a": {
          "model_module": "@jupyter-widgets/base",
          "model_name": "LayoutModel",
          "model_module_version": "1.2.0",
          "state": {
            "_model_module": "@jupyter-widgets/base",
            "_model_module_version": "1.2.0",
            "_model_name": "LayoutModel",
            "_view_count": null,
            "_view_module": "@jupyter-widgets/base",
            "_view_module_version": "1.2.0",
            "_view_name": "LayoutView",
            "align_content": null,
            "align_items": null,
            "align_self": null,
            "border": null,
            "bottom": null,
            "display": null,
            "flex": null,
            "flex_flow": null,
            "grid_area": null,
            "grid_auto_columns": null,
            "grid_auto_flow": null,
            "grid_auto_rows": null,
            "grid_column": null,
            "grid_gap": null,
            "grid_row": null,
            "grid_template_areas": null,
            "grid_template_columns": null,
            "grid_template_rows": null,
            "height": null,
            "justify_content": null,
            "justify_items": null,
            "left": null,
            "margin": null,
            "max_height": null,
            "max_width": null,
            "min_height": null,
            "min_width": null,
            "object_fit": null,
            "object_position": null,
            "order": null,
            "overflow": null,
            "overflow_x": null,
            "overflow_y": null,
            "padding": null,
            "right": null,
            "top": null,
            "visibility": null,
            "width": null
          }
        },
        "ea481e39796c468baa13c8124a749454": {
          "model_module": "@jupyter-widgets/controls",
          "model_name": "DescriptionStyleModel",
          "model_module_version": "1.5.0",
          "state": {
            "_model_module": "@jupyter-widgets/controls",
            "_model_module_version": "1.5.0",
            "_model_name": "DescriptionStyleModel",
            "_view_count": null,
            "_view_module": "@jupyter-widgets/base",
            "_view_module_version": "1.2.0",
            "_view_name": "StyleView",
            "description_width": ""
          }
        }
      }
    }
  },
  "cells": [
    {
      "cell_type": "markdown",
      "metadata": {
        "id": "view-in-github",
        "colab_type": "text"
      },
      "source": [
        "<a href=\"https://colab.research.google.com/github/KevinTheRainmaker/ML_DL_Basics/blob/master/Basic_Skills/02_Dataset_and_Dataloader.ipynb\" target=\"_parent\"><img src=\"https://colab.research.google.com/assets/colab-badge.svg\" alt=\"Open In Colab\"/></a>"
      ]
    },
    {
      "cell_type": "markdown",
      "source": [
        "## Dataset / Dataloader\n",
        "\n",
        "PyTorch에서는 Data를 처리하여 model에 공급하는 방법으로 Dataset과 Dataloader를 제공한다.\n",
        "\n",
        "Dataset은 data와 label을 저장하고, DataLoader는 Dataset을 model에 공급할 수 있도록 iterable 객체로 감싸주는 역할을 한다."
      ],
      "metadata": {
        "id": "kVWnXPEOi7Tr"
      }
    },
    {
      "cell_type": "markdown",
      "source": [
        "### PyTorch import"
      ],
      "metadata": {
        "id": "A_ycR03PjQV9"
      }
    },
    {
      "cell_type": "code",
      "source": [
        "import torch\n",
        "print(torch.__version__)"
      ],
      "metadata": {
        "id": "5E7ZcR9bjVAH"
      },
      "execution_count": null,
      "outputs": []
    },
    {
      "cell_type": "code",
      "source": [
        "from torch import nn\n",
        "\n",
        "import matplotlib.pyplot as plt\n",
        "import numpy as np"
      ],
      "metadata": {
        "id": "XJfgR5PPjhxC"
      },
      "execution_count": null,
      "outputs": []
    },
    {
      "cell_type": "markdown",
      "source": [
        "### FashionMNIST data 불러오기"
      ],
      "metadata": {
        "id": "1HhYCVEUjMTI"
      }
    },
    {
      "cell_type": "code",
      "execution_count": null,
      "metadata": {
        "id": "Fvv0w6Vzi4Mo"
      },
      "outputs": [],
      "source": [
        "from torch.utils.data import Dataset, DataLoader\n",
        "from torchvision import datasets\n",
        "import torchvision.transforms as tr"
      ]
    },
    {
      "cell_type": "code",
      "source": [
        "training_data = datasets.FashionMNIST(\n",
        "    root='data',\n",
        "    train=True,\n",
        "    download=True,\n",
        "    transform=tr.ToTensor() # 0~1 scaling도 포함\n",
        ")\n",
        "\n",
        "testing_data = datasets.FashionMNIST(\n",
        "    root='data',\n",
        "    train=False,\n",
        "    download=True,\n",
        "    transform=tr.ToTensor()\n",
        ")"
      ],
      "metadata": {
        "colab": {
          "base_uri": "https://localhost:8080/",
          "height": 423,
          "referenced_widgets": [
            "9c52077a6e0a4f68b515a285cccb251b",
            "bec0617718ac415dbde69e1979f213c8",
            "4980997936b1474dbf4062a73cea5bfc",
            "589d4b3d1f3d45b79e382f00fba75d2f",
            "1212e51e53944fb8bdc54e006cec9dd7",
            "4eae562c8ec64334b056729e4db23eec",
            "df9d0a4735094b4e8daaacc599ce1533",
            "516c2770a0b84dbbad44bac5148a060e",
            "ad940a72c5ce44a4b8a5fabc29e52f62",
            "6b090a86e2304e1c92fa2fd6593767e3",
            "41525f7359854bbab852758de81bdbe0",
            "8321b8f84eb44f00b331fa5ba7921293",
            "300e1180b7a740d9a127b5d5d62597dc",
            "d54b8d30afb34b6293cc7f17514ba4ae",
            "1c6ec050ef534112993051c70f869554",
            "bbc50187451f416eafa3baa8d34e7dbc",
            "2c7246841b35492baa4b5d4c95ef552c",
            "5d719198d3ea4f2699c075719330a5c7",
            "d917d609207540bb8255bfab18953a7a",
            "ab5b61a525364e0699162284eba2c60a",
            "ff02876397264daeb3a711d346348641",
            "9af8196b55e94b14b6962e4a546ff4ee",
            "ad6709a8f2bb4511948de6f0a555b007",
            "bb546327f941476da0795f05b1819422",
            "ec698ac818ed4c1da0688717a7da71f8",
            "aecd341fd3e145db9b4241827a715f76",
            "b4b2ae6998034b0eb77103b23064050d",
            "bf8d9f75e9444fcaaa5e3d6d3c04aec3",
            "74275573d9ca427cb7496f5574432592",
            "e7612059060842f691172740802fd18d",
            "bc6ee9ee3afe45f9a8fdaea9ba3ec5ca",
            "cbbc1aeeb8c54caba79bb7b841eb75af",
            "a16f6da01191439599b8a0a72bdd2e15",
            "188c09aaaf274cf7ae7bbdafd18a6048",
            "97ff6e82d82a415fb3d2bc28094ff47d",
            "68884d16121f40ecb2243464b23c2dcb",
            "0dea218e24f14b3da8f103ec1119f2f6",
            "580f9f4a98cb4027825493d1781b6ffa",
            "aad3040da9424e88997af28cac387820",
            "5abe169a0ab44ca29d5c34c606f4c11e",
            "3c9202f41f8c4bec9d07179eec215b49",
            "aafb1f44447342199e5eee6553002bae",
            "76a168b22fa543fc92893aa38d79444a",
            "ea481e39796c468baa13c8124a749454"
          ]
        },
        "id": "CFCTDKRDj3al",
        "outputId": "79d4cf46-3953-4e69-8c5d-0593e802b1c4"
      },
      "execution_count": null,
      "outputs": [
        {
          "output_type": "stream",
          "name": "stdout",
          "text": [
            "Downloading http://fashion-mnist.s3-website.eu-central-1.amazonaws.com/train-images-idx3-ubyte.gz\n",
            "Downloading http://fashion-mnist.s3-website.eu-central-1.amazonaws.com/train-images-idx3-ubyte.gz to data/FashionMNIST/raw/train-images-idx3-ubyte.gz\n"
          ]
        },
        {
          "output_type": "display_data",
          "data": {
            "text/plain": [
              "  0%|          | 0/26421880 [00:00<?, ?it/s]"
            ],
            "application/vnd.jupyter.widget-view+json": {
              "version_major": 2,
              "version_minor": 0,
              "model_id": "9c52077a6e0a4f68b515a285cccb251b"
            }
          },
          "metadata": {}
        },
        {
          "output_type": "stream",
          "name": "stdout",
          "text": [
            "Extracting data/FashionMNIST/raw/train-images-idx3-ubyte.gz to data/FashionMNIST/raw\n",
            "\n",
            "Downloading http://fashion-mnist.s3-website.eu-central-1.amazonaws.com/train-labels-idx1-ubyte.gz\n",
            "Downloading http://fashion-mnist.s3-website.eu-central-1.amazonaws.com/train-labels-idx1-ubyte.gz to data/FashionMNIST/raw/train-labels-idx1-ubyte.gz\n"
          ]
        },
        {
          "output_type": "display_data",
          "data": {
            "text/plain": [
              "  0%|          | 0/29515 [00:00<?, ?it/s]"
            ],
            "application/vnd.jupyter.widget-view+json": {
              "version_major": 2,
              "version_minor": 0,
              "model_id": "8321b8f84eb44f00b331fa5ba7921293"
            }
          },
          "metadata": {}
        },
        {
          "output_type": "stream",
          "name": "stdout",
          "text": [
            "Extracting data/FashionMNIST/raw/train-labels-idx1-ubyte.gz to data/FashionMNIST/raw\n",
            "\n",
            "Downloading http://fashion-mnist.s3-website.eu-central-1.amazonaws.com/t10k-images-idx3-ubyte.gz\n",
            "Downloading http://fashion-mnist.s3-website.eu-central-1.amazonaws.com/t10k-images-idx3-ubyte.gz to data/FashionMNIST/raw/t10k-images-idx3-ubyte.gz\n"
          ]
        },
        {
          "output_type": "display_data",
          "data": {
            "text/plain": [
              "  0%|          | 0/4422102 [00:00<?, ?it/s]"
            ],
            "application/vnd.jupyter.widget-view+json": {
              "version_major": 2,
              "version_minor": 0,
              "model_id": "ad6709a8f2bb4511948de6f0a555b007"
            }
          },
          "metadata": {}
        },
        {
          "output_type": "stream",
          "name": "stdout",
          "text": [
            "Extracting data/FashionMNIST/raw/t10k-images-idx3-ubyte.gz to data/FashionMNIST/raw\n",
            "\n",
            "Downloading http://fashion-mnist.s3-website.eu-central-1.amazonaws.com/t10k-labels-idx1-ubyte.gz\n",
            "Downloading http://fashion-mnist.s3-website.eu-central-1.amazonaws.com/t10k-labels-idx1-ubyte.gz to data/FashionMNIST/raw/t10k-labels-idx1-ubyte.gz\n"
          ]
        },
        {
          "output_type": "display_data",
          "data": {
            "text/plain": [
              "  0%|          | 0/5148 [00:00<?, ?it/s]"
            ],
            "application/vnd.jupyter.widget-view+json": {
              "version_major": 2,
              "version_minor": 0,
              "model_id": "188c09aaaf274cf7ae7bbdafd18a6048"
            }
          },
          "metadata": {}
        },
        {
          "output_type": "stream",
          "name": "stdout",
          "text": [
            "Extracting data/FashionMNIST/raw/t10k-labels-idx1-ubyte.gz to data/FashionMNIST/raw\n",
            "\n"
          ]
        }
      ]
    },
    {
      "cell_type": "markdown",
      "source": [
        "### 데이터 시각화 하기"
      ],
      "metadata": {
        "id": "SosDp7cGkRjg"
      }
    },
    {
      "cell_type": "code",
      "source": [
        "print(training_data)\n",
        "print()\n",
        "print(f'label of image sample: {training_data[0][1]}')"
      ],
      "metadata": {
        "colab": {
          "base_uri": "https://localhost:8080/"
        },
        "id": "fF0rcIO1nndh",
        "outputId": "6063f764-78d8-4155-bdde-4725af46e6e9"
      },
      "execution_count": null,
      "outputs": [
        {
          "output_type": "stream",
          "name": "stdout",
          "text": [
            "Dataset FashionMNIST\n",
            "    Number of datapoints: 60000\n",
            "    Root location: data\n",
            "    Split: Train\n",
            "    StandardTransform\n",
            "Transform: ToTensor()\n",
            "\n",
            "label of image sample: 9\n"
          ]
        }
      ]
    },
    {
      "cell_type": "code",
      "source": [
        "labels_map = {\n",
        "    0:\t'T-shirt/top',\n",
        "    1:\t'Trouser',\n",
        "    2:\t'Pullover',\n",
        "    3:\t'Dress',\n",
        "    4:\t'Coat',\n",
        "    5:\t'Sandal',\n",
        "    6:\t'Shirt',\n",
        "    7:\t'Sneaker',\n",
        "    8:\t'Bag',\n",
        "    9:\t'Ankle boot'\n",
        "}\n",
        "\n",
        "figure = plt.figure(figsize=(8,8))\n",
        "cols, rows = 3, 3\n",
        "for i in range(1, cols * rows + 1):\n",
        "  sample_idx = torch.randint(len(training_data), size=(1,)).item()\n",
        "  img, label = training_data[sample_idx]\n",
        "  figure.add_subplot(rows, cols, i)\n",
        "  plt.title(labels_map[label])\n",
        "  plt.axis('off')\n",
        "  plt.imshow(img.squeeze(), cmap='gray')\n",
        "plt.show()"
      ],
      "metadata": {
        "colab": {
          "base_uri": "https://localhost:8080/",
          "height": 482
        },
        "id": "a8Q1UWAXkPSi",
        "outputId": "045b11b5-1c36-4fa3-b559-6db57f8d117f"
      },
      "execution_count": null,
      "outputs": [
        {
          "output_type": "display_data",
          "data": {
            "text/plain": [
              "<Figure size 576x576 with 9 Axes>"
            ],
            "image/png": "[encoded data removed]"
          },
          "metadata": {
            "needs_background": "light"
          }
        }
      ]
    },
    {
      "cell_type": "markdown",
      "source": [
        "### DataLoader 만들기"
      ],
      "metadata": {
        "id": "1kYtLKRboC23"
      }
    },
    {
      "cell_type": "code",
      "source": [
        "batch_size = 64\n",
        "train_dataloader = DataLoader(training_data, batch_size=batch_size, shuffle=True)\n",
        "test_dataloader = DataLoader(testing_data, batch_size=batch_size, shuffle=False) # test 데이터는 shuffle 불필요"
      ],
      "metadata": {
        "id": "SOfJIVIZnLTT"
      },
      "execution_count": null,
      "outputs": []
    },
    {
      "cell_type": "code",
      "source": [
        "# DataLoader 통해 반복하기(iterate)\n",
        "train_features, train_labels = next(iter(train_dataloader)) # iter: iterable to iteraator / next: iterator에서 한 칸씩 전진\n",
        "print(f'Features batch shape: {train_features.size()}') # tensor.size() == tensor.shape\n",
        "print(f'Labels batch shape: {train_labels.size()}')"
      ],
      "metadata": {
        "colab": {
          "base_uri": "https://localhost:8080/"
        },
        "id": "_CxYsX3QoXSj",
        "outputId": "aee38f59-25b3-48ae-9e11-8b7eb382f95f"
      },
      "execution_count": null,
      "outputs": [
        {
          "output_type": "stream",
          "name": "stdout",
          "text": [
            "Features batch shape: torch.Size([64, 1, 28, 28])\n",
            "Labels batch shape: torch.Size([64])\n"
          ]
        }
      ]
    },
    {
      "cell_type": "code",
      "source": [
        "img = train_features[0].squeeze() # 맨 앞 채널(1) 없애주어야 함\n",
        "label = train_labels[0]\n",
        "plt.imshow(img, cmap='gray')\n",
        "plt.show()\n",
        "print(f'Label: {label}')"
      ],
      "metadata": {
        "id": "sN_DZmsLpZ6J",
        "colab": {
          "base_uri": "https://localhost:8080/",
          "height": 282
        },
        "outputId": "4ee7fd4b-2313-41d6-b164-88b86e1e711e"
      },
      "execution_count": null,
      "outputs": [
        {
          "output_type": "display_data",
          "data": {
            "text/plain": [
              "<Figure size 432x288 with 1 Axes>"
            ],
            "image/png": "[encoded data removed]"
          },
          "metadata": {
            "needs_background": "light"
          }
        },
        {
          "output_type": "stream",
          "name": "stdout",
          "text": [
            "Label: 8\n"
          ]
        }
      ]
    },
    {
      "cell_type": "markdown",
      "source": [
        "## Model"
      ],
      "metadata": {
        "id": "1jjrRFONHQ7Y"
      }
    },
    {
      "cell_type": "code",
      "source": [
        "# device 설정\n",
        "device = 'cuda' if torch.cuda.is_available() else 'cpu'\n",
        "print(f'Current device: {device}')"
      ],
      "metadata": {
        "colab": {
          "base_uri": "https://localhost:8080/"
        },
        "id": "bh8SL2yQHQZQ",
        "outputId": "78e16c15-70e4-4569-836f-0558b7a598d6"
      },
      "execution_count": null,
      "outputs": [
        {
          "output_type": "stream",
          "name": "stdout",
          "text": [
            "Current device: cuda\n"
          ]
        }
      ]
    },
    {
      "cell_type": "markdown",
      "source": [
        "### Model Class 만들기"
      ],
      "metadata": {
        "id": "qSLVU4akHclM"
      }
    },
    {
      "cell_type": "code",
      "source": [
        "class MyModel(nn.Module): # torch.nn.Module 상속\n",
        "  def __init__(self):\n",
        "    super().__init__()\n",
        "    self.flatten = nn.Flatten()\n",
        "    self.linear_relu_stack = nn.Sequential(\n",
        "        nn.Linear(28*28, 128),\n",
        "        nn.ReLU(),\n",
        "        nn.Dropout(0.2),\n",
        "        nn.Linear(128, 10) # loss 계산 시 softmax 처리\n",
        "    )\n",
        "  \n",
        "  def forward(self, x):\n",
        "    x = self.flatten(x)\n",
        "    logits = self.linear_relu_stack(x)\n",
        "    return logits"
      ],
      "metadata": {
        "id": "BhIwHx3WHaSW"
      },
      "execution_count": null,
      "outputs": []
    },
    {
      "cell_type": "code",
      "source": [
        "# Model instance 생성, device 설정\n",
        "model = MyModel().to(device)\n",
        "print(model)"
      ],
      "metadata": {
        "colab": {
          "base_uri": "https://localhost:8080/"
        },
        "id": "YGeKyokzH_gx",
        "outputId": "f2316faa-401a-4d33-a7ad-7172c9685735"
      },
      "execution_count": null,
      "outputs": [
        {
          "output_type": "stream",
          "name": "stdout",
          "text": [
            "MyModel(\n",
            "  (flatten): Flatten(start_dim=1, end_dim=-1)\n",
            "  (linear_relu_stack): Sequential(\n",
            "    (0): Linear(in_features=784, out_features=128, bias=True)\n",
            "    (1): ReLU()\n",
            "    (2): Dropout(p=0.2, inplace=False)\n",
            "    (3): Linear(in_features=128, out_features=10, bias=True)\n",
            "  )\n",
            ")\n"
          ]
        }
      ]
    },
    {
      "cell_type": "code",
      "source": [
        "# 가상의 데이터 만들어서 초기 모델으로 예측해보기\n",
        "X = torch.randn(1, 28, 28, device=device)\n",
        "logits = model(X)\n",
        "pred_prob = nn.Softmax(dim=1)(logits) # class 별 확률\n",
        "y_pred = pred_prob.argmax(1) # 최대 확률 class\n",
        "print(f'pred_prob: {pred_prob}')\n",
        "print(f'y_pred: {y_pred}')"
      ],
      "metadata": {
        "colab": {
          "base_uri": "https://localhost:8080/"
        },
        "id": "8sdqG9cjIVMF",
        "outputId": "0d9fa560-ed14-4ad9-ba71-6e3b7dc5ea0b"
      },
      "execution_count": null,
      "outputs": [
        {
          "output_type": "stream",
          "name": "stdout",
          "text": [
            "pred_prob: tensor([[0.0853, 0.1029, 0.1435, 0.0992, 0.1082, 0.1395, 0.0840, 0.0906, 0.0807,\n",
            "         0.0660]], device='cuda:0', grad_fn=<SoftmaxBackward0>)\n",
            "y_pred: tensor([2], device='cuda:0')\n"
          ]
        }
      ]
    },
    {
      "cell_type": "markdown",
      "source": [
        "### Training / Validation"
      ],
      "metadata": {
        "id": "ZEZ5YxZ0Jm3B"
      }
    },
    {
      "cell_type": "code",
      "source": [
        "# loss function / optimizer\n",
        "loss_fn = nn.CrossEntropyLoss()\n",
        "\n",
        "learning_rate = 1e-3\n",
        "optimizer = torch.optim.Adam(model.parameters(), lr=learning_rate)"
      ],
      "metadata": {
        "id": "3ljWYDRPKjt2"
      },
      "execution_count": null,
      "outputs": []
    },
    {
      "cell_type": "code",
      "source": [
        "# Training을 위한 함수\n",
        "def train_loop(dataloader, model, loss_fn, optimizer):\n",
        "  size = len(dataloader.dataset)\n",
        "  for batch, (X,y) in enumerate(dataloader):\n",
        "    X, y = X.to(device), y.to(device)\n",
        "    # pred와 loss 계산\n",
        "    pred = model(X)\n",
        "    loss = loss_fn(pred, y)\n",
        "\n",
        "    # 역전파\n",
        "    optimizer.zero_grad()\n",
        "    loss.backward()\n",
        "    optimizer.step()\n",
        "\n",
        "    if batch % 100 == 0:\n",
        "      loss, current = loss.item(), batch * len(X)\n",
        "      print(f'loss: {loss:>7f}  [{current:>5d}/{size:>5d}]')\n",
        "\n",
        "# Testing을 위한 함수\n",
        "def test_loop(dataloader, model, loss_fn): # optimizer X\n",
        "  size = len(dataloader.dataset)\n",
        "  num_batches = len(dataloader)\n",
        "  test_loss, correct = 0, 0\n",
        "\n",
        "  with torch.no_grad():\n",
        "    for X, y in dataloader:\n",
        "      X, y = X.to(device), y.to(device)\n",
        "      pred = model(X)\n",
        "      test_loss += loss_fn(pred, y).item()\n",
        "      correct += (pred.argmax(1) == y).type(torch.float).sum().item()\n",
        "  \n",
        "  test_loss /= num_batches\n",
        "  correct /= size\n",
        "\n",
        "  print(f'Test Results: \\nAccuracy: {(100*correct):>0.1f}%, Avg loss: {test_loss:>8f}\\n')"
      ],
      "metadata": {
        "id": "Y-3zRGLjKmDB"
      },
      "execution_count": null,
      "outputs": []
    },
    {
      "cell_type": "code",
      "source": [
        "# 학습 진행하기\n",
        "epochs = 10\n",
        "for e in range(epochs):\n",
        "  print(f'Epoch {e+1}')\n",
        "  print('-'*20)\n",
        "  train_loop(train_dataloader, model, loss_fn, optimizer)\n",
        "  test_loop(test_dataloader, model, loss_fn)\n",
        "\n",
        "print('Done!')"
      ],
      "metadata": {
        "colab": {
          "base_uri": "https://localhost:8080/"
        },
        "id": "qyHyllkhKpWe",
        "outputId": "ddf9ddfc-e92a-4fdf-c48e-eef9b4dbcef8"
      },
      "execution_count": null,
      "outputs": [
        {
          "output_type": "stream",
          "name": "stdout",
          "text": [
            "Epoch 1\n",
            "--------------------\n",
            "loss: 2.313350  [    0/60000]\n",
            "loss: 0.669128  [ 6400/60000]\n",
            "loss: 0.634102  [12800/60000]\n",
            "loss: 0.683581  [19200/60000]\n",
            "loss: 0.593380  [25600/60000]\n",
            "loss: 0.588345  [32000/60000]\n",
            "loss: 0.611833  [38400/60000]\n",
            "loss: 0.720113  [44800/60000]\n",
            "loss: 0.461546  [51200/60000]\n",
            "loss: 0.540259  [57600/60000]\n",
            "Test Results: \n",
            "Accuracy: 82.9%, Avg loss: 0.477715\n",
            "\n",
            "Epoch 2\n",
            "--------------------\n",
            "loss: 0.635034  [    0/60000]\n",
            "loss: 0.509883  [ 6400/60000]\n",
            "loss: 0.368909  [12800/60000]\n",
            "loss: 0.460105  [19200/60000]\n",
            "loss: 0.415318  [25600/60000]\n",
            "loss: 0.291484  [32000/60000]\n",
            "loss: 0.431440  [38400/60000]\n",
            "loss: 0.454139  [44800/60000]\n",
            "loss: 0.374396  [51200/60000]\n",
            "loss: 0.616476  [57600/60000]\n",
            "Test Results: \n",
            "Accuracy: 85.0%, Avg loss: 0.425298\n",
            "\n",
            "Epoch 3\n",
            "--------------------\n",
            "loss: 0.320089  [    0/60000]\n",
            "loss: 0.288749  [ 6400/60000]\n",
            "loss: 0.447022  [12800/60000]\n",
            "loss: 0.581692  [19200/60000]\n",
            "loss: 0.442618  [25600/60000]\n",
            "loss: 0.447713  [32000/60000]\n",
            "loss: 0.358333  [38400/60000]\n",
            "loss: 0.247199  [44800/60000]\n",
            "loss: 0.352737  [51200/60000]\n",
            "loss: 0.437062  [57600/60000]\n",
            "Test Results: \n",
            "Accuracy: 85.7%, Avg loss: 0.404737\n",
            "\n",
            "Epoch 4\n",
            "--------------------\n",
            "loss: 0.536815  [    0/60000]\n",
            "loss: 0.390868  [ 6400/60000]\n",
            "loss: 0.233504  [12800/60000]\n",
            "loss: 0.451041  [19200/60000]\n",
            "loss: 0.242677  [25600/60000]\n",
            "loss: 0.424660  [32000/60000]\n",
            "loss: 0.233186  [38400/60000]\n",
            "loss: 0.440650  [44800/60000]\n",
            "loss: 0.251658  [51200/60000]\n",
            "loss: 0.281774  [57600/60000]\n",
            "Test Results: \n",
            "Accuracy: 84.8%, Avg loss: 0.405738\n",
            "\n",
            "Epoch 5\n",
            "--------------------\n",
            "loss: 0.312706  [    0/60000]\n",
            "loss: 0.237032  [ 6400/60000]\n",
            "loss: 0.222516  [12800/60000]\n",
            "loss: 0.300631  [19200/60000]\n",
            "loss: 0.243599  [25600/60000]\n",
            "loss: 0.362207  [32000/60000]\n",
            "loss: 0.348913  [38400/60000]\n",
            "loss: 0.292134  [44800/60000]\n",
            "loss: 0.387754  [51200/60000]\n",
            "loss: 0.349512  [57600/60000]\n",
            "Test Results: \n",
            "Accuracy: 86.2%, Avg loss: 0.387786\n",
            "\n",
            "Epoch 6\n",
            "--------------------\n",
            "loss: 0.332297  [    0/60000]\n",
            "loss: 0.192654  [ 6400/60000]\n",
            "loss: 0.284884  [12800/60000]\n",
            "loss: 0.234353  [19200/60000]\n",
            "loss: 0.312370  [25600/60000]\n",
            "loss: 0.374719  [32000/60000]\n",
            "loss: 0.415264  [38400/60000]\n",
            "loss: 0.439566  [44800/60000]\n",
            "loss: 0.312508  [51200/60000]\n",
            "loss: 0.397520  [57600/60000]\n",
            "Test Results: \n",
            "Accuracy: 86.9%, Avg loss: 0.370581\n",
            "\n",
            "Epoch 7\n",
            "--------------------\n",
            "loss: 0.165084  [    0/60000]\n",
            "loss: 0.263569  [ 6400/60000]\n",
            "loss: 0.330674  [12800/60000]\n",
            "loss: 0.268413  [19200/60000]\n",
            "loss: 0.195183  [25600/60000]\n",
            "loss: 0.361737  [32000/60000]\n",
            "loss: 0.321517  [38400/60000]\n",
            "loss: 0.264542  [44800/60000]\n",
            "loss: 0.183383  [51200/60000]\n",
            "loss: 0.219915  [57600/60000]\n",
            "Test Results: \n",
            "Accuracy: 86.6%, Avg loss: 0.370997\n",
            "\n",
            "Epoch 8\n",
            "--------------------\n",
            "loss: 0.280982  [    0/60000]\n",
            "loss: 0.417266  [ 6400/60000]\n",
            "loss: 0.272272  [12800/60000]\n",
            "loss: 0.370646  [19200/60000]\n",
            "loss: 0.248826  [25600/60000]\n",
            "loss: 0.253517  [32000/60000]\n",
            "loss: 0.198822  [38400/60000]\n",
            "loss: 0.491700  [44800/60000]\n",
            "loss: 0.298921  [51200/60000]\n",
            "loss: 0.181378  [57600/60000]\n",
            "Test Results: \n",
            "Accuracy: 86.8%, Avg loss: 0.372023\n",
            "\n",
            "Epoch 9\n",
            "--------------------\n",
            "loss: 0.271884  [    0/60000]\n",
            "loss: 0.339285  [ 6400/60000]\n",
            "loss: 0.449205  [12800/60000]\n",
            "loss: 0.165087  [19200/60000]\n",
            "loss: 0.278874  [25600/60000]\n",
            "loss: 0.209915  [32000/60000]\n",
            "loss: 0.365508  [38400/60000]\n",
            "loss: 0.107620  [44800/60000]\n",
            "loss: 0.239530  [51200/60000]\n",
            "loss: 0.310298  [57600/60000]\n",
            "Test Results: \n",
            "Accuracy: 87.4%, Avg loss: 0.361738\n",
            "\n",
            "Epoch 10\n",
            "--------------------\n",
            "loss: 0.159845  [    0/60000]\n",
            "loss: 0.227153  [ 6400/60000]\n",
            "loss: 0.215219  [12800/60000]\n",
            "loss: 0.302741  [19200/60000]\n",
            "loss: 0.391128  [25600/60000]\n",
            "loss: 0.332556  [32000/60000]\n",
            "loss: 0.306209  [38400/60000]\n",
            "loss: 0.215158  [44800/60000]\n",
            "loss: 0.282754  [51200/60000]\n",
            "loss: 0.410186  [57600/60000]\n",
            "Test Results: \n",
            "Accuracy: 87.3%, Avg loss: 0.357793\n",
            "\n",
            "Done!\n"
          ]
        }
      ]
    },
    {
      "cell_type": "markdown",
      "source": [
        "## Model 저장하고 불러오기"
      ],
      "metadata": {
        "id": "PQfpNP_PQMxR"
      }
    },
    {
      "cell_type": "markdown",
      "source": [
        "### parameter만 저장하고 불러오기"
      ],
      "metadata": {
        "id": "zMb0h3W9QPlv"
      }
    },
    {
      "cell_type": "code",
      "source": [
        "# 학습된 model parameter 저장\n",
        "torch.save(model.state_dict(), 'model_weights.pth')"
      ],
      "metadata": {
        "id": "XIZmeEEDKpUq"
      },
      "execution_count": null,
      "outputs": []
    },
    {
      "cell_type": "code",
      "source": [
        "# 새 Model instance 생성\n",
        "model2 = MyModel().to(device)"
      ],
      "metadata": {
        "id": "wjRY_nJIKpS2"
      },
      "execution_count": null,
      "outputs": []
    },
    {
      "cell_type": "code",
      "source": [
        "# parameter 불러오기 전 test\n",
        "model2.eval()\n",
        "test_loop(test_dataloader, model2, loss_fn)"
      ],
      "metadata": {
        "colab": {
          "base_uri": "https://localhost:8080/"
        },
        "id": "xLKS1eKfKpQy",
        "outputId": "3cf0a4fd-8527-4031-84d2-3b37b0b0ab20"
      },
      "execution_count": null,
      "outputs": [
        {
          "output_type": "stream",
          "name": "stdout",
          "text": [
            "Test Results: \n",
            "Accuracy: 13.9%, Avg loss: 2.298536\n",
            "\n"
          ]
        }
      ]
    },
    {
      "cell_type": "code",
      "source": [
        "# parameter 불러오기\n",
        "model2.load_state_dict(torch.load('model_weights.pth'))"
      ],
      "metadata": {
        "colab": {
          "base_uri": "https://localhost:8080/"
        },
        "id": "pREvW-AsKpOr",
        "outputId": "0b5df974-3f27-4a9d-ed74-28e3c00978ad"
      },
      "execution_count": null,
      "outputs": [
        {
          "output_type": "execute_result",
          "data": {
            "text/plain": [
              "<All keys matched successfully>"
            ]
          },
          "metadata": {},
          "execution_count": 61
        }
      ]
    },
    {
      "cell_type": "code",
      "source": [
        "# parameter 불러온 후 test\n",
        "model2.eval()\n",
        "test_loop(test_dataloader, model2, loss_fn)"
      ],
      "metadata": {
        "colab": {
          "base_uri": "https://localhost:8080/"
        },
        "id": "6vkYyYiBKpMl",
        "outputId": "cc5962ee-48db-49b1-d21e-4f8d76cdb7f0"
      },
      "execution_count": null,
      "outputs": [
        {
          "output_type": "stream",
          "name": "stdout",
          "text": [
            "Test Results: \n",
            "Accuracy: 88.0%, Avg loss: 0.334200\n",
            "\n"
          ]
        }
      ]
    },
    {
      "cell_type": "markdown",
      "source": [
        "### Model 전체 저장 후 불러오기"
      ],
      "metadata": {
        "id": "Xx31_PjQRake"
      }
    },
    {
      "cell_type": "code",
      "source": [
        "# 저장하기\n",
        "torch.save(model, 'model.pth')"
      ],
      "metadata": {
        "id": "j2Q9zocjKpKP"
      },
      "execution_count": null,
      "outputs": []
    },
    {
      "cell_type": "code",
      "source": [
        "# 불러오기\n",
        "model3 = torch.load('model.pth')"
      ],
      "metadata": {
        "id": "1I4gt7V0KpIK"
      },
      "execution_count": null,
      "outputs": []
    },
    {
      "cell_type": "code",
      "source": [
        "# test\n",
        "model3.eval()\n",
        "test_loop(test_dataloader, model3, loss_fn)"
      ],
      "metadata": {
        "colab": {
          "base_uri": "https://localhost:8080/"
        },
        "id": "d2AIXzYDKpGF",
        "outputId": "da57518e-fa94-4097-beb0-bdb5c78004fd"
      },
      "execution_count": null,
      "outputs": [
        {
          "output_type": "stream",
          "name": "stdout",
          "text": [
            "Test Results: \n",
            "Accuracy: 88.0%, Avg loss: 0.334200\n",
            "\n"
          ]
        }
      ]
    },
    {
      "cell_type": "markdown",
      "source": [
        "### Custom Dataset, DataLoader 만들기\n",
        "\n",
        "내가 가지고 있는 데이터를 사용하고자 할 때, Custom Dataset과 DataLoader가 필요할 수 있다."
      ],
      "metadata": {
        "id": "MSojaabZAzfk"
      }
    },
    {
      "cell_type": "code",
      "source": [
        "class CustomDataset(Dataset): # torch.utils.data.Dataset 상속\n",
        "  # __init__, __len__, __getitem__은 필수\n",
        "  def __init__(self, np_data, transform=None):\n",
        "    self.data = np_data\n",
        "    self.transform = transform\n",
        "    self.len = np_data.shape[0]\n",
        "  \n",
        "  def __len__(self):\n",
        "    return self.len\n",
        "  \n",
        "  def __getitem__(self, idx):\n",
        "    sample = self.data[idx]\n",
        "    # transform이 정의되어 있는 경우 적용\n",
        "    if self.transform:\n",
        "      sample = self.transform(sample)\n",
        "    return sample"
      ],
      "metadata": {
        "id": "B1NWRXtMAj6w"
      },
      "execution_count": null,
      "outputs": []
    },
    {
      "cell_type": "code",
      "source": [
        "# transform 연산 정의\n",
        "def square(sample):\n",
        "  return sample ** 2\n",
        "\n",
        "def add_five(sample):\n",
        "  return sample + 5"
      ],
      "metadata": {
        "id": "K4DkbNQSBqKo"
      },
      "execution_count": null,
      "outputs": []
    },
    {
      "cell_type": "code",
      "source": [
        "trans = tr.Compose([square, add_five]) # 여러 함수 넣어서 정의 가능"
      ],
      "metadata": {
        "id": "9ypxgZRPCrc9"
      },
      "execution_count": null,
      "outputs": []
    },
    {
      "cell_type": "code",
      "source": [
        "np_data = np.arange(10)\n",
        "custom_dataset = CustomDataset(np_data, transform=trans)\n",
        "\n",
        "print(f'Original dataset: {np_data}')\n",
        "print(f'Transformed data: {custom_dataset.__getitem__(3)}') # 3 ** 2 + 5 = 14"
      ],
      "metadata": {
        "colab": {
          "base_uri": "https://localhost:8080/"
        },
        "id": "00Z5JFXPDI0q",
        "outputId": "5b94a0c2-22a2-4df8-d558-8662514dc648"
      },
      "execution_count": null,
      "outputs": [
        {
          "output_type": "stream",
          "name": "stdout",
          "text": [
            "Original dataset: [0 1 2 3 4 5 6 7 8 9]\n",
            "Transformed data: 14\n"
          ]
        }
      ]
    },
    {
      "cell_type": "code",
      "source": [
        "custom_dataloader = DataLoader(custom_dataset, batch_size=2, shuffle=True)"
      ],
      "metadata": {
        "id": "4VknKroHDehx"
      },
      "execution_count": null,
      "outputs": []
    },
    {
      "cell_type": "code",
      "source": [
        "for _ in range(3): # epoch\n",
        "  for data in custom_dataloader: # batch\n",
        "    print(data)\n",
        "  print('='*20)"
      ],
      "metadata": {
        "colab": {
          "base_uri": "https://localhost:8080/"
        },
        "id": "wbSsbe56EAIY",
        "outputId": "6acc9ad2-f71d-4b19-ec89-ddf952172115"
      },
      "execution_count": null,
      "outputs": [
        {
          "output_type": "stream",
          "name": "stdout",
          "text": [
            "tensor([14, 21])\n",
            "tensor([30, 54])\n",
            "tensor([69,  6])\n",
            "tensor([86,  9])\n",
            "tensor([ 5, 41])\n",
            "====================\n",
            "tensor([21, 69])\n",
            "tensor([9, 5])\n",
            "tensor([54, 41])\n",
            "tensor([14, 86])\n",
            "tensor([30,  6])\n",
            "====================\n",
            "tensor([30, 21])\n",
            "tensor([ 5, 54])\n",
            "tensor([69,  6])\n",
            "tensor([ 9, 14])\n",
            "tensor([41, 86])\n",
            "====================\n"
          ]
        }
      ]
    }
  ]
}