{
  "nbformat": 4,
  "nbformat_minor": 0,
  "metadata": {
    "colab": {
      "name": "Numpy_and_Pandas_Tutorial_with_Pytorch.ipynb",
      "provenance": [],
      "collapsed_sections": [
        "Yrk9HIMkwaMj",
        "yOKyc-UD-FzJ"
      ],
      "authorship_tag": "ABX9TyPjvo65DA/TTFR4c9CfSpkI",
      "include_colab_link": true
    },
    "kernelspec": {
      "name": "python3",
      "display_name": "Python 3"
    },
    "language_info": {
      "name": "python"
    }
  },
  "cells": [
    {
      "cell_type": "markdown",
      "metadata": {
        "id": "view-in-github",
        "colab_type": "text"
      },
      "source": [
        "<a href=\"https://colab.research.google.com/github/KevinTheRainmaker/ML_DL_Basics/blob/master/Numpy_and_Pandas_Tutorial_with_Pytorch.ipynb\" target=\"_parent\"><img src=\"https://colab.research.google.com/assets/colab-badge.svg\" alt=\"Open In Colab\"/></a>"
      ]
    },
    {
      "cell_type": "markdown",
      "metadata": {
        "id": "_zLs-_5owMSP"
      },
      "source": [
        "# Numpy & Pandas Tutorial (feat. Pytorch)\n",
        "1. Numpy, Array, Matrix\n",
        "2. Pandas\n",
        "3. Vector and Matrix using Pytorch"
      ]
    },
    {
      "cell_type": "code",
      "metadata": {
        "id": "yQkC1xWrwgXa"
      },
      "source": [
        "import warnings\n",
        "warnings.filterwarnings('ignore')"
      ],
      "execution_count": 2,
      "outputs": []
    },
    {
      "cell_type": "markdown",
      "metadata": {
        "id": "Yrk9HIMkwaMj"
      },
      "source": [
        "## 1. Numpy, Array, Matrix"
      ]
    },
    {
      "cell_type": "code",
      "metadata": {
        "id": "oolbwyaVvuiK"
      },
      "source": [
        "import numpy as np"
      ],
      "execution_count": 1,
      "outputs": []
    },
    {
      "cell_type": "code",
      "metadata": {
        "id": "kkH0o4SjwfWB"
      },
      "source": [
        "a = np.array([1,2,3])\n",
        "b = np.array(['a', 'b', 'c'])\n",
        "c = np.array([['a'], ['a', 'b'], ['a', 'c'], ['a', 'b', 'c']])"
      ],
      "execution_count": 3,
      "outputs": []
    },
    {
      "cell_type": "code",
      "metadata": {
        "colab": {
          "base_uri": "https://localhost:8080/"
        },
        "id": "upUeRw5axOuH",
        "outputId": "c94b3965-8329-4e8e-e0f5-8aa37d0b2dc1"
      },
      "source": [
        "print(type(a), a)\n",
        "print(type(b), b)\n",
        "print(type(c), c)"
      ],
      "execution_count": 5,
      "outputs": [
        {
          "output_type": "stream",
          "name": "stdout",
          "text": [
            "<class 'numpy.ndarray'> [1 2 3]\n",
            "<class 'numpy.ndarray'> ['a' 'b' 'c']\n",
            "<class 'numpy.ndarray'> [list(['a']) list(['a', 'b']) list(['a', 'c']) list(['a', 'b', 'c'])]\n"
          ]
        }
      ]
    },
    {
      "cell_type": "code",
      "metadata": {
        "colab": {
          "base_uri": "https://localhost:8080/"
        },
        "id": "I0fjc4qpxScj",
        "outputId": "78bd62e4-47fb-48d6-b90b-1373ceb3d3d0"
      },
      "source": [
        "# fill with 0\n",
        "print(np.zeros((1,5))) # 1 x 5\n",
        "print(np.zeros((3,2))) # 3 x 2"
      ],
      "execution_count": 7,
      "outputs": [
        {
          "output_type": "stream",
          "name": "stdout",
          "text": [
            "[[0. 0. 0. 0. 0.]]\n",
            "[[0. 0.]\n",
            " [0. 0.]\n",
            " [0. 0.]]\n"
          ]
        }
      ]
    },
    {
      "cell_type": "code",
      "metadata": {
        "colab": {
          "base_uri": "https://localhost:8080/"
        },
        "id": "1GiSaICOxu0E",
        "outputId": "6712afbd-2278-4e9d-85ce-be646ac73890"
      },
      "source": [
        "# fill with 1\n",
        "print(np.ones((1,5)))\n",
        "print(np.ones((3,2)))"
      ],
      "execution_count": 8,
      "outputs": [
        {
          "output_type": "stream",
          "name": "stdout",
          "text": [
            "[[1. 1. 1. 1. 1.]]\n",
            "[[1. 1.]\n",
            " [1. 1.]\n",
            " [1. 1.]]\n"
          ]
        }
      ]
    },
    {
      "cell_type": "code",
      "metadata": {
        "colab": {
          "base_uri": "https://localhost:8080/"
        },
        "id": "Rgl9aT1Nx9Z4",
        "outputId": "36383fd0-b58f-44b6-9a8f-c7ccfa1ea681"
      },
      "source": [
        "# np.arange([start, ], stop, [step, ], dtype=None)\n",
        "print(np.arange(10)) # stop = 10 -> until 9\n",
        "print(np.arange(3, 7, dtype = np.float)) # start = 3, stop = 7\n",
        "print(np.arange(3,10,2)) # start = 3, stop = 10, step = 2"
      ],
      "execution_count": 11,
      "outputs": [
        {
          "output_type": "stream",
          "name": "stdout",
          "text": [
            "[0 1 2 3 4 5 6 7 8 9]\n",
            "[3. 4. 5. 6.]\n",
            "[3 5 7 9]\n"
          ]
        }
      ]
    },
    {
      "cell_type": "code",
      "metadata": {
        "colab": {
          "base_uri": "https://localhost:8080/"
        },
        "id": "I8Gejs2jyh7E",
        "outputId": "fd583d49-1af1-4339-afa9-b8ebcd6e112c"
      },
      "source": [
        "# matrix\n",
        "mat1 = np.array([[1,2,3],[4,5,6]])\n",
        "\n",
        "# random matrix\n",
        "mat2 = np.random.randint(low=1, high=10, size=(3,2))\n",
        "mat3 = np.random.rand(3,2) # Normal distribution (0~1)\n",
        "\n",
        "print(mat1)\n",
        "print(mat2)\n",
        "print(mat3)"
      ],
      "execution_count": 17,
      "outputs": [
        {
          "output_type": "stream",
          "name": "stdout",
          "text": [
            "[[1 2 3]\n",
            " [4 5 6]]\n",
            "[[8 5]\n",
            " [8 8]\n",
            " [6 1]]\n",
            "[[0.50657555 0.11903822]\n",
            " [0.13380229 0.69833999]\n",
            " [0.32196659 0.98364942]]\n"
          ]
        }
      ]
    },
    {
      "cell_type": "markdown",
      "metadata": {
        "id": "grcvFZ0Fzd2M"
      },
      "source": [
        "### Numpy's reshape"
      ]
    },
    {
      "cell_type": "code",
      "metadata": {
        "colab": {
          "base_uri": "https://localhost:8080/"
        },
        "id": "M_bDEpxZzCFt",
        "outputId": "6fcd68ec-29df-47e8-d1e1-15201b38998e"
      },
      "source": [
        "mat1 = np.random.rand(6,3)\n",
        "print(mat1.shape)\n",
        "print(mat1)"
      ],
      "execution_count": 23,
      "outputs": [
        {
          "output_type": "stream",
          "name": "stdout",
          "text": [
            "(6, 3)\n",
            "[[0.60818859 0.35049935 0.51253091]\n",
            " [0.83647361 0.92352334 0.74387904]\n",
            " [0.89715373 0.64664839 0.02334861]\n",
            " [0.20702125 0.23068815 0.47194443]\n",
            " [0.7758718  0.10129088 0.06130005]\n",
            " [0.04278045 0.93625105 0.28304074]]\n"
          ]
        }
      ]
    },
    {
      "cell_type": "code",
      "metadata": {
        "colab": {
          "base_uri": "https://localhost:8080/"
        },
        "id": "NEjrse8G4jf5",
        "outputId": "70b7435f-d980-44e2-b272-8ed79df22e5b"
      },
      "source": [
        "# reshape\n",
        "print(mat1.reshape(2,9).shape)\n",
        "print(mat1.reshape(2,9))"
      ],
      "execution_count": 26,
      "outputs": [
        {
          "output_type": "stream",
          "name": "stdout",
          "text": [
            "(2, 9)\n",
            "[[0.60818859 0.35049935 0.51253091 0.83647361 0.92352334 0.74387904\n",
            "  0.89715373 0.64664839 0.02334861]\n",
            " [0.20702125 0.23068815 0.47194443 0.7758718  0.10129088 0.06130005\n",
            "  0.04278045 0.93625105 0.28304074]]\n"
          ]
        }
      ]
    },
    {
      "cell_type": "code",
      "metadata": {
        "colab": {
          "base_uri": "https://localhost:8080/",
          "height": 181
        },
        "id": "uDG4Xvn94vkp",
        "outputId": "d67b55bc-beb5-4fb2-b307-5304e39f887e"
      },
      "source": [
        "# reshape error\n",
        "print(mat1.reshape(2,5))"
      ],
      "execution_count": 27,
      "outputs": [
        {
          "output_type": "error",
          "ename": "ValueError",
          "evalue": "ignored",
          "traceback": [
            "\u001b[0;31m---------------------------------------------------------------------------\u001b[0m",
            "\u001b[0;31mValueError\u001b[0m                                Traceback (most recent call last)",
            "\u001b[0;32m<ipython-input-27-3beda6428dc7>\u001b[0m in \u001b[0;36m<module>\u001b[0;34m()\u001b[0m\n\u001b[1;32m      1\u001b[0m \u001b[0;31m# reshape error\u001b[0m\u001b[0;34m\u001b[0m\u001b[0;34m\u001b[0m\u001b[0;34m\u001b[0m\u001b[0m\n\u001b[0;32m----> 2\u001b[0;31m \u001b[0mprint\u001b[0m\u001b[0;34m(\u001b[0m\u001b[0mmat1\u001b[0m\u001b[0;34m.\u001b[0m\u001b[0mreshape\u001b[0m\u001b[0;34m(\u001b[0m\u001b[0;36m2\u001b[0m\u001b[0;34m,\u001b[0m\u001b[0;36m5\u001b[0m\u001b[0;34m)\u001b[0m\u001b[0;34m)\u001b[0m\u001b[0;34m\u001b[0m\u001b[0;34m\u001b[0m\u001b[0m\n\u001b[0m",
            "\u001b[0;31mValueError\u001b[0m: cannot reshape array of size 18 into shape (2,5)"
          ]
        }
      ]
    },
    {
      "cell_type": "code",
      "metadata": {
        "colab": {
          "base_uri": "https://localhost:8080/"
        },
        "id": "QEwzbUEIz7-j",
        "outputId": "c2e492c2-c7ee-4846-a6e4-da22ffa826ba"
      },
      "source": [
        "# -1:all\n",
        "print(mat1.reshape(1,-1).shape)\n",
        "print(mat1.reshape(1,-1))\n",
        "\n",
        "print()\n",
        "\n",
        "print(mat1.reshape(-1,1).shape)\n",
        "print(mat1.reshape(-1,1))"
      ],
      "execution_count": 28,
      "outputs": [
        {
          "output_type": "stream",
          "name": "stdout",
          "text": [
            "(1, 18)\n",
            "[[0.60818859 0.35049935 0.51253091 0.83647361 0.92352334 0.74387904\n",
            "  0.89715373 0.64664839 0.02334861 0.20702125 0.23068815 0.47194443\n",
            "  0.7758718  0.10129088 0.06130005 0.04278045 0.93625105 0.28304074]]\n",
            "\n",
            "(18, 1)\n",
            "[[0.60818859]\n",
            " [0.35049935]\n",
            " [0.51253091]\n",
            " [0.83647361]\n",
            " [0.92352334]\n",
            " [0.74387904]\n",
            " [0.89715373]\n",
            " [0.64664839]\n",
            " [0.02334861]\n",
            " [0.20702125]\n",
            " [0.23068815]\n",
            " [0.47194443]\n",
            " [0.7758718 ]\n",
            " [0.10129088]\n",
            " [0.06130005]\n",
            " [0.04278045]\n",
            " [0.93625105]\n",
            " [0.28304074]]\n"
          ]
        }
      ]
    },
    {
      "cell_type": "code",
      "metadata": {
        "colab": {
          "base_uri": "https://localhost:8080/"
        },
        "id": "QQZKOKGu0Om8",
        "outputId": "30c5643a-65e4-428e-f256-611c1615d301"
      },
      "source": [
        "# to tensor\n",
        "print(mat1.reshape(3,2,3).shape) # depth, row, column\n",
        "print(mat1.reshape(3,2,3))"
      ],
      "execution_count": 35,
      "outputs": [
        {
          "output_type": "stream",
          "name": "stdout",
          "text": [
            "(3, 2, 3)\n",
            "[[[0.60818859 0.35049935 0.51253091]\n",
            "  [0.83647361 0.92352334 0.74387904]]\n",
            "\n",
            " [[0.89715373 0.64664839 0.02334861]\n",
            "  [0.20702125 0.23068815 0.47194443]]\n",
            "\n",
            " [[0.7758718  0.10129088 0.06130005]\n",
            "  [0.04278045 0.93625105 0.28304074]]]\n"
          ]
        }
      ]
    },
    {
      "cell_type": "markdown",
      "metadata": {
        "id": "SxvxXYdS6b7G"
      },
      "source": [
        "### Numpy Slicing"
      ]
    },
    {
      "cell_type": "code",
      "metadata": {
        "colab": {
          "base_uri": "https://localhost:8080/"
        },
        "id": "pqwn326246Jc",
        "outputId": "c2c5a82a-392c-43f5-e965-540bc325eae1"
      },
      "source": [
        "# slicing\n",
        "mat2 = np.arange(24).reshape(-1,4)\n",
        "print(mat2)\n",
        "\n",
        "print()\n",
        "print('-Slicing #1-')\n",
        "print(mat2[:2,:3]) # slice (row 0 ~ row 1, col0 ~ col 2)\n",
        "print()\n",
        "print('-Slicing #2-')\n",
        "print(mat2[3,1:3]) # slice (row 3, col 1 ~ col 2)"
      ],
      "execution_count": 40,
      "outputs": [
        {
          "output_type": "stream",
          "name": "stdout",
          "text": [
            "[[ 0  1  2  3]\n",
            " [ 4  5  6  7]\n",
            " [ 8  9 10 11]\n",
            " [12 13 14 15]\n",
            " [16 17 18 19]\n",
            " [20 21 22 23]]\n",
            "\n",
            "-Slicing #1-\n",
            "[[0 1 2]\n",
            " [4 5 6]]\n",
            "\n",
            "-Slicing #2-\n",
            "[13 14]\n"
          ]
        }
      ]
    },
    {
      "cell_type": "markdown",
      "metadata": {
        "id": "SVzJRbnz6Xds"
      },
      "source": [
        "### Math Arithmetic Operations"
      ]
    },
    {
      "cell_type": "code",
      "metadata": {
        "colab": {
          "base_uri": "https://localhost:8080/"
        },
        "id": "798f7mni5uik",
        "outputId": "d94ffdb7-81f0-4fd5-a46b-7ad5a89323bb"
      },
      "source": [
        "x = np.array([[1,2,3], [4,5,6], [7,8,9]])\n",
        "y = np.array([[9,8,7], [6,5,4], [3,2,1]])\n",
        "\n",
        "print(x)\n",
        "print(y)"
      ],
      "execution_count": 42,
      "outputs": [
        {
          "output_type": "stream",
          "name": "stdout",
          "text": [
            "[[1 2 3]\n",
            " [4 5 6]\n",
            " [7 8 9]]\n",
            "[[9 8 7]\n",
            " [6 5 4]\n",
            " [3 2 1]]\n"
          ]
        }
      ]
    },
    {
      "cell_type": "code",
      "metadata": {
        "colab": {
          "base_uri": "https://localhost:8080/"
        },
        "id": "VMzX-hid667F",
        "outputId": "f4a1db58-7245-47e9-bf47-84157456a28e"
      },
      "source": [
        "x+y"
      ],
      "execution_count": 43,
      "outputs": [
        {
          "output_type": "execute_result",
          "data": {
            "text/plain": [
              "array([[10, 10, 10],\n",
              "       [10, 10, 10],\n",
              "       [10, 10, 10]])"
            ]
          },
          "metadata": {},
          "execution_count": 43
        }
      ]
    },
    {
      "cell_type": "code",
      "metadata": {
        "colab": {
          "base_uri": "https://localhost:8080/"
        },
        "id": "KCtDSHV66_Tu",
        "outputId": "1e2ad8ad-aeb6-40b5-ba77-313b237c0695"
      },
      "source": [
        "x-y"
      ],
      "execution_count": 44,
      "outputs": [
        {
          "output_type": "execute_result",
          "data": {
            "text/plain": [
              "array([[-8, -6, -4],\n",
              "       [-2,  0,  2],\n",
              "       [ 4,  6,  8]])"
            ]
          },
          "metadata": {},
          "execution_count": 44
        }
      ]
    },
    {
      "cell_type": "code",
      "metadata": {
        "colab": {
          "base_uri": "https://localhost:8080/"
        },
        "id": "yBPJzw3L6_6F",
        "outputId": "a66ddbeb-1379-4d5c-f688-af08b52ca9d7"
      },
      "source": [
        "x * y # Not a Matrix factorization"
      ],
      "execution_count": 45,
      "outputs": [
        {
          "output_type": "execute_result",
          "data": {
            "text/plain": [
              "array([[ 9, 16, 21],\n",
              "       [24, 25, 24],\n",
              "       [21, 16,  9]])"
            ]
          },
          "metadata": {},
          "execution_count": 45
        }
      ]
    },
    {
      "cell_type": "code",
      "metadata": {
        "colab": {
          "base_uri": "https://localhost:8080/"
        },
        "id": "wL59fXjH7DdW",
        "outputId": "ea6234b6-4453-4440-f59d-9c4aea98e110"
      },
      "source": [
        "x / y"
      ],
      "execution_count": 46,
      "outputs": [
        {
          "output_type": "execute_result",
          "data": {
            "text/plain": [
              "array([[0.11111111, 0.25      , 0.42857143],\n",
              "       [0.66666667, 1.        , 1.5       ],\n",
              "       [2.33333333, 4.        , 9.        ]])"
            ]
          },
          "metadata": {},
          "execution_count": 46
        }
      ]
    },
    {
      "cell_type": "code",
      "metadata": {
        "colab": {
          "base_uri": "https://localhost:8080/"
        },
        "id": "rnQ7ocjN7FMi",
        "outputId": "86c05b11-4fce-4972-9620-e71ff89fb083"
      },
      "source": [
        "# power\n",
        "print(x ** 2)\n",
        "print(np.power(x, 2))"
      ],
      "execution_count": 48,
      "outputs": [
        {
          "output_type": "stream",
          "name": "stdout",
          "text": [
            "[[ 1  4  9]\n",
            " [16 25 36]\n",
            " [49 64 81]]\n",
            "[[ 1  4  9]\n",
            " [16 25 36]\n",
            " [49 64 81]]\n"
          ]
        }
      ]
    },
    {
      "cell_type": "code",
      "metadata": {
        "colab": {
          "base_uri": "https://localhost:8080/"
        },
        "id": "rQv1dbKP7Kig",
        "outputId": "17568dfc-8b38-42bc-d5d6-d79de999c488"
      },
      "source": [
        "# dot product\n",
        "np.dot(x,y)"
      ],
      "execution_count": 50,
      "outputs": [
        {
          "output_type": "execute_result",
          "data": {
            "text/plain": [
              "array([[ 30,  24,  18],\n",
              "       [ 84,  69,  54],\n",
              "       [138, 114,  90]])"
            ]
          },
          "metadata": {},
          "execution_count": 50
        }
      ]
    },
    {
      "cell_type": "code",
      "metadata": {
        "colab": {
          "base_uri": "https://localhost:8080/"
        },
        "id": "0V-bbGbl7O2H",
        "outputId": "a61c8d38-116f-414c-c058-eae2e95d14b8"
      },
      "source": [
        "np.sqrt(x)"
      ],
      "execution_count": 51,
      "outputs": [
        {
          "output_type": "execute_result",
          "data": {
            "text/plain": [
              "array([[1.        , 1.41421356, 1.73205081],\n",
              "       [2.        , 2.23606798, 2.44948974],\n",
              "       [2.64575131, 2.82842712, 3.        ]])"
            ]
          },
          "metadata": {},
          "execution_count": 51
        }
      ]
    },
    {
      "cell_type": "code",
      "metadata": {
        "colab": {
          "base_uri": "https://localhost:8080/"
        },
        "id": "ph0IRPdZ7Ygy",
        "outputId": "3df36ef8-fb2b-444b-b8ed-ba6811dd4700"
      },
      "source": [
        "z1 = np.array([[2,2,2]])\n",
        "z2 = np.array([[2,2]])\n",
        "\n",
        "x * z1 # Again, Not a Matrix factorization"
      ],
      "execution_count": 55,
      "outputs": [
        {
          "output_type": "execute_result",
          "data": {
            "text/plain": [
              "array([[ 2,  4,  6],\n",
              "       [ 8, 10, 12],\n",
              "       [14, 16, 18]])"
            ]
          },
          "metadata": {},
          "execution_count": 55
        }
      ]
    },
    {
      "cell_type": "code",
      "metadata": {
        "colab": {
          "base_uri": "https://localhost:8080/",
          "height": 181
        },
        "id": "6JWW1DiM7zQj",
        "outputId": "8537dd6e-8914-49a2-dc24-0d3c62997135"
      },
      "source": [
        "# shape error\n",
        "x * z2"
      ],
      "execution_count": 57,
      "outputs": [
        {
          "output_type": "error",
          "ename": "ValueError",
          "evalue": "ignored",
          "traceback": [
            "\u001b[0;31m---------------------------------------------------------------------------\u001b[0m",
            "\u001b[0;31mValueError\u001b[0m                                Traceback (most recent call last)",
            "\u001b[0;32m<ipython-input-57-1cecfce75d75>\u001b[0m in \u001b[0;36m<module>\u001b[0;34m()\u001b[0m\n\u001b[1;32m      1\u001b[0m \u001b[0;31m# shape error\u001b[0m\u001b[0;34m\u001b[0m\u001b[0;34m\u001b[0m\u001b[0;34m\u001b[0m\u001b[0m\n\u001b[0;32m----> 2\u001b[0;31m \u001b[0mx\u001b[0m \u001b[0;34m*\u001b[0m \u001b[0mz2\u001b[0m\u001b[0;34m\u001b[0m\u001b[0;34m\u001b[0m\u001b[0m\n\u001b[0m",
            "\u001b[0;31mValueError\u001b[0m: operands could not be broadcast together with shapes (3,3) (1,2) "
          ]
        }
      ]
    },
    {
      "cell_type": "code",
      "metadata": {
        "colab": {
          "base_uri": "https://localhost:8080/"
        },
        "id": "5E-5U5iP8Hr_",
        "outputId": "669567db-c189-4940-bbaf-07e8cfc98f55"
      },
      "source": [
        "# sum\n",
        "print(x)\n",
        "print(x.sum(axis = 0)) # row direct(perpendicular) sum\n",
        "print(x.sum(axis = 1)) # col direct(parallel) sum"
      ],
      "execution_count": 59,
      "outputs": [
        {
          "output_type": "stream",
          "name": "stdout",
          "text": [
            "[[1 2 3]\n",
            " [4 5 6]\n",
            " [7 8 9]]\n",
            "[12 15 18]\n",
            "[ 6 15 24]\n"
          ]
        }
      ]
    },
    {
      "cell_type": "code",
      "metadata": {
        "colab": {
          "base_uri": "https://localhost:8080/"
        },
        "id": "wHPGqBvV8c34",
        "outputId": "362c4fa7-9126-4096-fa97-fb6a862adb65"
      },
      "source": [
        "# mean\n",
        "print(x)\n",
        "print(x.mean(axis = 0))\n",
        "print(x.mean(axis = 1))"
      ],
      "execution_count": 60,
      "outputs": [
        {
          "output_type": "stream",
          "name": "stdout",
          "text": [
            "[[1 2 3]\n",
            " [4 5 6]\n",
            " [7 8 9]]\n",
            "[4. 5. 6.]\n",
            "[2. 5. 8.]\n"
          ]
        }
      ]
    },
    {
      "cell_type": "code",
      "metadata": {
        "colab": {
          "base_uri": "https://localhost:8080/"
        },
        "id": "EkLgGuIh86EQ",
        "outputId": "377d56f8-d5f8-47cd-b34d-b32013874816"
      },
      "source": [
        "# standard deviation\n",
        "print(x)\n",
        "print(x.std(axis = 0))\n",
        "print(x.std(axis = 1))"
      ],
      "execution_count": 61,
      "outputs": [
        {
          "output_type": "stream",
          "name": "stdout",
          "text": [
            "[[1 2 3]\n",
            " [4 5 6]\n",
            " [7 8 9]]\n",
            "[2.44948974 2.44948974 2.44948974]\n",
            "[0.81649658 0.81649658 0.81649658]\n"
          ]
        }
      ]
    },
    {
      "cell_type": "code",
      "metadata": {
        "colab": {
          "base_uri": "https://localhost:8080/"
        },
        "id": "NDDKg_F49Frf",
        "outputId": "a25205f9-2f84-4e7e-feb4-a4c5cb586198"
      },
      "source": [
        "# Transpose\n",
        "print(x)\n",
        "print(x.T)"
      ],
      "execution_count": 62,
      "outputs": [
        {
          "output_type": "stream",
          "name": "stdout",
          "text": [
            "[[1 2 3]\n",
            " [4 5 6]\n",
            " [7 8 9]]\n",
            "[[1 4 7]\n",
            " [2 5 8]\n",
            " [3 6 9]]\n"
          ]
        }
      ]
    },
    {
      "cell_type": "code",
      "metadata": {
        "colab": {
          "base_uri": "https://localhost:8080/"
        },
        "id": "UusNgVBU9MXJ",
        "outputId": "f32283e9-1d44-4dc1-b14a-2f622bbe1472"
      },
      "source": [
        "# dot production with  matrix\n",
        "print(np.dot(x, z1.T)) # (3 x 3) * (3 x 1)"
      ],
      "execution_count": 64,
      "outputs": [
        {
          "output_type": "stream",
          "name": "stdout",
          "text": [
            "[[12]\n",
            " [30]\n",
            " [48]]\n"
          ]
        }
      ]
    },
    {
      "cell_type": "code",
      "metadata": {
        "colab": {
          "base_uri": "https://localhost:8080/"
        },
        "id": "pBSiKWi99b-f",
        "outputId": "997f65a7-243a-4cac-bae6-120815c2ec71"
      },
      "source": [
        "# sort\n",
        "xx = np.random.rand(15)\n",
        "print(xx)\n",
        "print(xx.argsort()) # index\n",
        "xx.sort() # operation, not a matrix\n",
        "print(xx) "
      ],
      "execution_count": 65,
      "outputs": [
        {
          "output_type": "stream",
          "name": "stdout",
          "text": [
            "[0.32873852 0.72307857 0.94141842 0.46124621 0.20953482 0.14997091\n",
            " 0.08007432 0.02419033 0.60544897 0.51023431 0.3642639  0.35954217\n",
            " 0.77393627 0.98047631 0.99125569]\n",
            "[ 7  6  5  4  0 11 10  3  9  8  1 12  2 13 14]\n",
            "[0.02419033 0.08007432 0.14997091 0.20953482 0.32873852 0.35954217\n",
            " 0.3642639  0.46124621 0.51023431 0.60544897 0.72307857 0.77393627\n",
            " 0.94141842 0.98047631 0.99125569]\n"
          ]
        }
      ]
    },
    {
      "cell_type": "markdown",
      "metadata": {
        "id": "yOKyc-UD-FzJ"
      },
      "source": [
        "## 2. Pandas"
      ]
    },
    {
      "cell_type": "code",
      "metadata": {
        "id": "6NzAiU-39_3r"
      },
      "source": [
        "import pandas as pd"
      ],
      "execution_count": 66,
      "outputs": []
    },
    {
      "cell_type": "markdown",
      "metadata": {
        "id": "oh7Z8V_7-Pm1"
      },
      "source": [
        "### Pandas Series\n",
        "\n",
        "1-dimensional"
      ]
    },
    {
      "cell_type": "code",
      "metadata": {
        "colab": {
          "base_uri": "https://localhost:8080/"
        },
        "id": "SZeQFsak-ORe",
        "outputId": "4fa05606-d23a-463b-c601-15523d1e922a"
      },
      "source": [
        "pd_series = pd.Series(index = ['a','b','c','d','e'], data = [1,2,3,4,5])\n",
        "pd_series"
      ],
      "execution_count": 79,
      "outputs": [
        {
          "output_type": "execute_result",
          "data": {
            "text/plain": [
              "a    1\n",
              "b    2\n",
              "c    3\n",
              "d    4\n",
              "e    5\n",
              "dtype: int64"
            ]
          },
          "metadata": {},
          "execution_count": 79
        }
      ]
    },
    {
      "cell_type": "code",
      "metadata": {
        "colab": {
          "base_uri": "https://localhost:8080/"
        },
        "id": "FstCypwC-o0V",
        "outputId": "1a08d0e3-9872-4a5d-a46d-ad649146af6d"
      },
      "source": [
        "# Basic information od Pandas Series\n",
        "print('Dimension: ', pd_series.ndim)\n",
        "print('Shape: ', pd_series.shape)\n",
        "print('Num of values: ', pd_series.size)\n",
        "\n",
        "print('Value: ', pd_series.values)\n",
        "print('Index: ', pd_series.index)"
      ],
      "execution_count": 80,
      "outputs": [
        {
          "output_type": "stream",
          "name": "stdout",
          "text": [
            "Dimension:  1\n",
            "Shape:  (5,)\n",
            "Num of values:  5\n",
            "Value:  [1 2 3 4 5]\n",
            "Index:  Index(['a', 'b', 'c', 'd', 'e'], dtype='object')\n"
          ]
        }
      ]
    },
    {
      "cell_type": "markdown",
      "metadata": {
        "id": "15cPuls4_KZN"
      },
      "source": [
        "### Data Search using Index"
      ]
    },
    {
      "cell_type": "code",
      "metadata": {
        "colab": {
          "base_uri": "https://localhost:8080/"
        },
        "id": "mGY80WRD_H6u",
        "outputId": "f4b07836-4480-41e1-af1e-b82315f6c988"
      },
      "source": [
        "# loc: using index\n",
        "print(pd_series.loc['a']) # need to know exact index name\n",
        "print(pd_series.loc[['a','c']]) # also return index \n",
        "\n",
        "# iloc: integer location\n",
        "print(pd_series.iloc[0]) \n",
        "print(pd_series.iloc[[0,2]])"
      ],
      "execution_count": 81,
      "outputs": [
        {
          "output_type": "stream",
          "name": "stdout",
          "text": [
            "1\n",
            "a    1\n",
            "c    3\n",
            "dtype: int64\n",
            "1\n",
            "a    1\n",
            "c    3\n",
            "dtype: int64\n"
          ]
        }
      ]
    },
    {
      "cell_type": "markdown",
      "metadata": {
        "id": "VKFtEeKN__U7"
      },
      "source": [
        "### Data Deletion"
      ]
    },
    {
      "cell_type": "code",
      "metadata": {
        "colab": {
          "base_uri": "https://localhost:8080/"
        },
        "id": "52KrmJfw_qG8",
        "outputId": "58628d6c-1107-4629-ab26-4bd41e243711"
      },
      "source": [
        "print(pd_series.drop('b')) # this is temporal deletion\n",
        "print(pd_series)"
      ],
      "execution_count": 82,
      "outputs": [
        {
          "output_type": "stream",
          "name": "stdout",
          "text": [
            "a    1\n",
            "c    3\n",
            "d    4\n",
            "e    5\n",
            "dtype: int64\n",
            "a    1\n",
            "b    2\n",
            "c    3\n",
            "d    4\n",
            "e    5\n",
            "dtype: int64\n"
          ]
        }
      ]
    },
    {
      "cell_type": "code",
      "metadata": {
        "colab": {
          "base_uri": "https://localhost:8080/"
        },
        "id": "iBpEqCSFAH9K",
        "outputId": "8d313f8b-867b-4a5f-fc91-c3ee7bc63cf0"
      },
      "source": [
        "print(pd_series.drop('b', inplace = True)) # Permanetly delete / return None\n",
        "print(pd_series)"
      ],
      "execution_count": 83,
      "outputs": [
        {
          "output_type": "stream",
          "name": "stdout",
          "text": [
            "None\n",
            "a    1\n",
            "c    3\n",
            "d    4\n",
            "e    5\n",
            "dtype: int64\n"
          ]
        }
      ]
    },
    {
      "cell_type": "markdown",
      "metadata": {
        "id": "ZpP0uDeBAtV8"
      },
      "source": [
        "### Pandas Dataframe\n",
        "2-dimensional with row and column"
      ]
    },
    {
      "cell_type": "code",
      "metadata": {
        "id": "Vx_tHh6YAgdT"
      },
      "source": [
        "data = {\n",
        "    'A': np.arange(15),\n",
        "    'B': np.random.randint(low = 0, high=15, size=(15)),\n",
        "    'C': np.random.rand(15)\n",
        "}\n",
        "\n",
        "data_df = pd.DataFrame(data)"
      ],
      "execution_count": 84,
      "outputs": []
    },
    {
      "cell_type": "code",
      "metadata": {
        "colab": {
          "base_uri": "https://localhost:8080/"
        },
        "id": "B8sfqmDGBjml",
        "outputId": "eac73aa3-d960-48e5-8150-411cd7b28ec9"
      },
      "source": [
        "data"
      ],
      "execution_count": 86,
      "outputs": [
        {
          "output_type": "execute_result",
          "data": {
            "text/plain": [
              "{'A': array([ 0,  1,  2,  3,  4,  5,  6,  7,  8,  9, 10, 11, 12, 13, 14]),\n",
              " 'B': array([11,  5, 12,  7,  3,  8,  2,  8,  3, 10, 12,  2, 14,  0,  5]),\n",
              " 'C': array([0.88160205, 0.94700086, 0.35950562, 0.41730802, 0.40457515,\n",
              "        0.69134546, 0.52619972, 0.88022951, 0.4551784 , 0.76586572,\n",
              "        0.63300851, 0.56066883, 0.00693194, 0.77269799, 0.88190167])}"
            ]
          },
          "metadata": {},
          "execution_count": 86
        }
      ]
    },
    {
      "cell_type": "code",
      "metadata": {
        "colab": {
          "base_uri": "https://localhost:8080/",
          "height": 514
        },
        "id": "VNKlbHe0BgeD",
        "outputId": "9af5f150-07f8-4a17-d778-fb892324f32f"
      },
      "source": [
        "data_df"
      ],
      "execution_count": 85,
      "outputs": [
        {
          "output_type": "execute_result",
          "data": {
            "text/html": [
              "<div>\n",
              "<style scoped>\n",
              "    .dataframe tbody tr th:only-of-type {\n",
              "        vertical-align: middle;\n",
              "    }\n",
              "\n",
              "    .dataframe tbody tr th {\n",
              "        vertical-align: top;\n",
              "    }\n",
              "\n",
              "    .dataframe thead th {\n",
              "        text-align: right;\n",
              "    }\n",
              "</style>\n",
              "<table border=\"1\" class=\"dataframe\">\n",
              "  <thead>\n",
              "    <tr style=\"text-align: right;\">\n",
              "      <th></th>\n",
              "      <th>A</th>\n",
              "      <th>B</th>\n",
              "      <th>C</th>\n",
              "    </tr>\n",
              "  </thead>\n",
              "  <tbody>\n",
              "    <tr>\n",
              "      <th>0</th>\n",
              "      <td>0</td>\n",
              "      <td>11</td>\n",
              "      <td>0.881602</td>\n",
              "    </tr>\n",
              "    <tr>\n",
              "      <th>1</th>\n",
              "      <td>1</td>\n",
              "      <td>5</td>\n",
              "      <td>0.947001</td>\n",
              "    </tr>\n",
              "    <tr>\n",
              "      <th>2</th>\n",
              "      <td>2</td>\n",
              "      <td>12</td>\n",
              "      <td>0.359506</td>\n",
              "    </tr>\n",
              "    <tr>\n",
              "      <th>3</th>\n",
              "      <td>3</td>\n",
              "      <td>7</td>\n",
              "      <td>0.417308</td>\n",
              "    </tr>\n",
              "    <tr>\n",
              "      <th>4</th>\n",
              "      <td>4</td>\n",
              "      <td>3</td>\n",
              "      <td>0.404575</td>\n",
              "    </tr>\n",
              "    <tr>\n",
              "      <th>5</th>\n",
              "      <td>5</td>\n",
              "      <td>8</td>\n",
              "      <td>0.691345</td>\n",
              "    </tr>\n",
              "    <tr>\n",
              "      <th>6</th>\n",
              "      <td>6</td>\n",
              "      <td>2</td>\n",
              "      <td>0.526200</td>\n",
              "    </tr>\n",
              "    <tr>\n",
              "      <th>7</th>\n",
              "      <td>7</td>\n",
              "      <td>8</td>\n",
              "      <td>0.880230</td>\n",
              "    </tr>\n",
              "    <tr>\n",
              "      <th>8</th>\n",
              "      <td>8</td>\n",
              "      <td>3</td>\n",
              "      <td>0.455178</td>\n",
              "    </tr>\n",
              "    <tr>\n",
              "      <th>9</th>\n",
              "      <td>9</td>\n",
              "      <td>10</td>\n",
              "      <td>0.765866</td>\n",
              "    </tr>\n",
              "    <tr>\n",
              "      <th>10</th>\n",
              "      <td>10</td>\n",
              "      <td>12</td>\n",
              "      <td>0.633009</td>\n",
              "    </tr>\n",
              "    <tr>\n",
              "      <th>11</th>\n",
              "      <td>11</td>\n",
              "      <td>2</td>\n",
              "      <td>0.560669</td>\n",
              "    </tr>\n",
              "    <tr>\n",
              "      <th>12</th>\n",
              "      <td>12</td>\n",
              "      <td>14</td>\n",
              "      <td>0.006932</td>\n",
              "    </tr>\n",
              "    <tr>\n",
              "      <th>13</th>\n",
              "      <td>13</td>\n",
              "      <td>0</td>\n",
              "      <td>0.772698</td>\n",
              "    </tr>\n",
              "    <tr>\n",
              "      <th>14</th>\n",
              "      <td>14</td>\n",
              "      <td>5</td>\n",
              "      <td>0.881902</td>\n",
              "    </tr>\n",
              "  </tbody>\n",
              "</table>\n",
              "</div>"
            ],
            "text/plain": [
              "     A   B         C\n",
              "0    0  11  0.881602\n",
              "1    1   5  0.947001\n",
              "2    2  12  0.359506\n",
              "3    3   7  0.417308\n",
              "4    4   3  0.404575\n",
              "5    5   8  0.691345\n",
              "6    6   2  0.526200\n",
              "7    7   8  0.880230\n",
              "8    8   3  0.455178\n",
              "9    9  10  0.765866\n",
              "10  10  12  0.633009\n",
              "11  11   2  0.560669\n",
              "12  12  14  0.006932\n",
              "13  13   0  0.772698\n",
              "14  14   5  0.881902"
            ]
          },
          "metadata": {},
          "execution_count": 85
        }
      ]
    },
    {
      "cell_type": "markdown",
      "metadata": {
        "id": "GF3VTV0-BqqU"
      },
      "source": [
        "### Slicing\n"
      ]
    },
    {
      "cell_type": "code",
      "metadata": {
        "colab": {
          "base_uri": "https://localhost:8080/",
          "height": 111
        },
        "id": "pIt1QDHqBe-c",
        "outputId": "bd8c77b6-fa49-46a3-fb79-9b391efb43d6"
      },
      "source": [
        "data_df[1:3]"
      ],
      "execution_count": 87,
      "outputs": [
        {
          "output_type": "execute_result",
          "data": {
            "text/html": [
              "<div>\n",
              "<style scoped>\n",
              "    .dataframe tbody tr th:only-of-type {\n",
              "        vertical-align: middle;\n",
              "    }\n",
              "\n",
              "    .dataframe tbody tr th {\n",
              "        vertical-align: top;\n",
              "    }\n",
              "\n",
              "    .dataframe thead th {\n",
              "        text-align: right;\n",
              "    }\n",
              "</style>\n",
              "<table border=\"1\" class=\"dataframe\">\n",
              "  <thead>\n",
              "    <tr style=\"text-align: right;\">\n",
              "      <th></th>\n",
              "      <th>A</th>\n",
              "      <th>B</th>\n",
              "      <th>C</th>\n",
              "    </tr>\n",
              "  </thead>\n",
              "  <tbody>\n",
              "    <tr>\n",
              "      <th>1</th>\n",
              "      <td>1</td>\n",
              "      <td>5</td>\n",
              "      <td>0.947001</td>\n",
              "    </tr>\n",
              "    <tr>\n",
              "      <th>2</th>\n",
              "      <td>2</td>\n",
              "      <td>12</td>\n",
              "      <td>0.359506</td>\n",
              "    </tr>\n",
              "  </tbody>\n",
              "</table>\n",
              "</div>"
            ],
            "text/plain": [
              "   A   B         C\n",
              "1  1   5  0.947001\n",
              "2  2  12  0.359506"
            ]
          },
          "metadata": {},
          "execution_count": 87
        }
      ]
    },
    {
      "cell_type": "code",
      "metadata": {
        "colab": {
          "base_uri": "https://localhost:8080/"
        },
        "id": "0DWtKdLWBxYu",
        "outputId": "55b9244f-6f3f-473c-a131-1335226c93ac"
      },
      "source": [
        "data_df.loc[1]"
      ],
      "execution_count": 88,
      "outputs": [
        {
          "output_type": "execute_result",
          "data": {
            "text/plain": [
              "A    1.000000\n",
              "B    5.000000\n",
              "C    0.947001\n",
              "Name: 1, dtype: float64"
            ]
          },
          "metadata": {},
          "execution_count": 88
        }
      ]
    },
    {
      "cell_type": "code",
      "metadata": {
        "colab": {
          "base_uri": "https://localhost:8080/"
        },
        "id": "q1okh-M0BzSC",
        "outputId": "03519881-8d32-496b-fb96-efc1005ff12c"
      },
      "source": [
        "data_df.loc[1]['C']"
      ],
      "execution_count": 89,
      "outputs": [
        {
          "output_type": "execute_result",
          "data": {
            "text/plain": [
              "0.9470008637941099"
            ]
          },
          "metadata": {},
          "execution_count": 89
        }
      ]
    },
    {
      "cell_type": "code",
      "metadata": {
        "colab": {
          "base_uri": "https://localhost:8080/"
        },
        "id": "_sd5fMH5B1xG",
        "outputId": "3303ec64-5a6c-4e78-86dc-86de96bb25b9"
      },
      "source": [
        "data_df.loc[1][['B','C']]"
      ],
      "execution_count": 90,
      "outputs": [
        {
          "output_type": "execute_result",
          "data": {
            "text/plain": [
              "B    5.000000\n",
              "C    0.947001\n",
              "Name: 1, dtype: float64"
            ]
          },
          "metadata": {},
          "execution_count": 90
        }
      ]
    },
    {
      "cell_type": "markdown",
      "metadata": {
        "id": "lktsmQ6FB-Uq"
      },
      "source": [
        "### Add, Remove, Sort"
      ]
    },
    {
      "cell_type": "code",
      "metadata": {
        "colab": {
          "base_uri": "https://localhost:8080/",
          "height": 514
        },
        "id": "lyQmoKAHB9ns",
        "outputId": "339d1d8a-71e9-4ad6-e99e-39559af45d6f"
      },
      "source": [
        "data_df['D'] = data_df['A'] >= 5\n",
        "data_df"
      ],
      "execution_count": 91,
      "outputs": [
        {
          "output_type": "execute_result",
          "data": {
            "text/html": [
              "<div>\n",
              "<style scoped>\n",
              "    .dataframe tbody tr th:only-of-type {\n",
              "        vertical-align: middle;\n",
              "    }\n",
              "\n",
              "    .dataframe tbody tr th {\n",
              "        vertical-align: top;\n",
              "    }\n",
              "\n",
              "    .dataframe thead th {\n",
              "        text-align: right;\n",
              "    }\n",
              "</style>\n",
              "<table border=\"1\" class=\"dataframe\">\n",
              "  <thead>\n",
              "    <tr style=\"text-align: right;\">\n",
              "      <th></th>\n",
              "      <th>A</th>\n",
              "      <th>B</th>\n",
              "      <th>C</th>\n",
              "      <th>D</th>\n",
              "    </tr>\n",
              "  </thead>\n",
              "  <tbody>\n",
              "    <tr>\n",
              "      <th>0</th>\n",
              "      <td>0</td>\n",
              "      <td>11</td>\n",
              "      <td>0.881602</td>\n",
              "      <td>False</td>\n",
              "    </tr>\n",
              "    <tr>\n",
              "      <th>1</th>\n",
              "      <td>1</td>\n",
              "      <td>5</td>\n",
              "      <td>0.947001</td>\n",
              "      <td>False</td>\n",
              "    </tr>\n",
              "    <tr>\n",
              "      <th>2</th>\n",
              "      <td>2</td>\n",
              "      <td>12</td>\n",
              "      <td>0.359506</td>\n",
              "      <td>False</td>\n",
              "    </tr>\n",
              "    <tr>\n",
              "      <th>3</th>\n",
              "      <td>3</td>\n",
              "      <td>7</td>\n",
              "      <td>0.417308</td>\n",
              "      <td>False</td>\n",
              "    </tr>\n",
              "    <tr>\n",
              "      <th>4</th>\n",
              "      <td>4</td>\n",
              "      <td>3</td>\n",
              "      <td>0.404575</td>\n",
              "      <td>False</td>\n",
              "    </tr>\n",
              "    <tr>\n",
              "      <th>5</th>\n",
              "      <td>5</td>\n",
              "      <td>8</td>\n",
              "      <td>0.691345</td>\n",
              "      <td>True</td>\n",
              "    </tr>\n",
              "    <tr>\n",
              "      <th>6</th>\n",
              "      <td>6</td>\n",
              "      <td>2</td>\n",
              "      <td>0.526200</td>\n",
              "      <td>True</td>\n",
              "    </tr>\n",
              "    <tr>\n",
              "      <th>7</th>\n",
              "      <td>7</td>\n",
              "      <td>8</td>\n",
              "      <td>0.880230</td>\n",
              "      <td>True</td>\n",
              "    </tr>\n",
              "    <tr>\n",
              "      <th>8</th>\n",
              "      <td>8</td>\n",
              "      <td>3</td>\n",
              "      <td>0.455178</td>\n",
              "      <td>True</td>\n",
              "    </tr>\n",
              "    <tr>\n",
              "      <th>9</th>\n",
              "      <td>9</td>\n",
              "      <td>10</td>\n",
              "      <td>0.765866</td>\n",
              "      <td>True</td>\n",
              "    </tr>\n",
              "    <tr>\n",
              "      <th>10</th>\n",
              "      <td>10</td>\n",
              "      <td>12</td>\n",
              "      <td>0.633009</td>\n",
              "      <td>True</td>\n",
              "    </tr>\n",
              "    <tr>\n",
              "      <th>11</th>\n",
              "      <td>11</td>\n",
              "      <td>2</td>\n",
              "      <td>0.560669</td>\n",
              "      <td>True</td>\n",
              "    </tr>\n",
              "    <tr>\n",
              "      <th>12</th>\n",
              "      <td>12</td>\n",
              "      <td>14</td>\n",
              "      <td>0.006932</td>\n",
              "      <td>True</td>\n",
              "    </tr>\n",
              "    <tr>\n",
              "      <th>13</th>\n",
              "      <td>13</td>\n",
              "      <td>0</td>\n",
              "      <td>0.772698</td>\n",
              "      <td>True</td>\n",
              "    </tr>\n",
              "    <tr>\n",
              "      <th>14</th>\n",
              "      <td>14</td>\n",
              "      <td>5</td>\n",
              "      <td>0.881902</td>\n",
              "      <td>True</td>\n",
              "    </tr>\n",
              "  </tbody>\n",
              "</table>\n",
              "</div>"
            ],
            "text/plain": [
              "     A   B         C      D\n",
              "0    0  11  0.881602  False\n",
              "1    1   5  0.947001  False\n",
              "2    2  12  0.359506  False\n",
              "3    3   7  0.417308  False\n",
              "4    4   3  0.404575  False\n",
              "5    5   8  0.691345   True\n",
              "6    6   2  0.526200   True\n",
              "7    7   8  0.880230   True\n",
              "8    8   3  0.455178   True\n",
              "9    9  10  0.765866   True\n",
              "10  10  12  0.633009   True\n",
              "11  11   2  0.560669   True\n",
              "12  12  14  0.006932   True\n",
              "13  13   0  0.772698   True\n",
              "14  14   5  0.881902   True"
            ]
          },
          "metadata": {},
          "execution_count": 91
        }
      ]
    },
    {
      "cell_type": "code",
      "metadata": {
        "id": "cyCck-BXCIpH"
      },
      "source": [
        "data_df.drop('D', axis = 1, inplace = True)"
      ],
      "execution_count": 92,
      "outputs": []
    },
    {
      "cell_type": "code",
      "metadata": {
        "colab": {
          "base_uri": "https://localhost:8080/",
          "height": 514
        },
        "id": "q6YNoqNWCQjN",
        "outputId": "2a75ba80-2a21-4860-d79b-311426a14922"
      },
      "source": [
        "data_df.sort_index(axis=0, ascending=False)"
      ],
      "execution_count": 93,
      "outputs": [
        {
          "output_type": "execute_result",
          "data": {
            "text/html": [
              "<div>\n",
              "<style scoped>\n",
              "    .dataframe tbody tr th:only-of-type {\n",
              "        vertical-align: middle;\n",
              "    }\n",
              "\n",
              "    .dataframe tbody tr th {\n",
              "        vertical-align: top;\n",
              "    }\n",
              "\n",
              "    .dataframe thead th {\n",
              "        text-align: right;\n",
              "    }\n",
              "</style>\n",
              "<table border=\"1\" class=\"dataframe\">\n",
              "  <thead>\n",
              "    <tr style=\"text-align: right;\">\n",
              "      <th></th>\n",
              "      <th>A</th>\n",
              "      <th>B</th>\n",
              "      <th>C</th>\n",
              "    </tr>\n",
              "  </thead>\n",
              "  <tbody>\n",
              "    <tr>\n",
              "      <th>14</th>\n",
              "      <td>14</td>\n",
              "      <td>5</td>\n",
              "      <td>0.881902</td>\n",
              "    </tr>\n",
              "    <tr>\n",
              "      <th>13</th>\n",
              "      <td>13</td>\n",
              "      <td>0</td>\n",
              "      <td>0.772698</td>\n",
              "    </tr>\n",
              "    <tr>\n",
              "      <th>12</th>\n",
              "      <td>12</td>\n",
              "      <td>14</td>\n",
              "      <td>0.006932</td>\n",
              "    </tr>\n",
              "    <tr>\n",
              "      <th>11</th>\n",
              "      <td>11</td>\n",
              "      <td>2</td>\n",
              "      <td>0.560669</td>\n",
              "    </tr>\n",
              "    <tr>\n",
              "      <th>10</th>\n",
              "      <td>10</td>\n",
              "      <td>12</td>\n",
              "      <td>0.633009</td>\n",
              "    </tr>\n",
              "    <tr>\n",
              "      <th>9</th>\n",
              "      <td>9</td>\n",
              "      <td>10</td>\n",
              "      <td>0.765866</td>\n",
              "    </tr>\n",
              "    <tr>\n",
              "      <th>8</th>\n",
              "      <td>8</td>\n",
              "      <td>3</td>\n",
              "      <td>0.455178</td>\n",
              "    </tr>\n",
              "    <tr>\n",
              "      <th>7</th>\n",
              "      <td>7</td>\n",
              "      <td>8</td>\n",
              "      <td>0.880230</td>\n",
              "    </tr>\n",
              "    <tr>\n",
              "      <th>6</th>\n",
              "      <td>6</td>\n",
              "      <td>2</td>\n",
              "      <td>0.526200</td>\n",
              "    </tr>\n",
              "    <tr>\n",
              "      <th>5</th>\n",
              "      <td>5</td>\n",
              "      <td>8</td>\n",
              "      <td>0.691345</td>\n",
              "    </tr>\n",
              "    <tr>\n",
              "      <th>4</th>\n",
              "      <td>4</td>\n",
              "      <td>3</td>\n",
              "      <td>0.404575</td>\n",
              "    </tr>\n",
              "    <tr>\n",
              "      <th>3</th>\n",
              "      <td>3</td>\n",
              "      <td>7</td>\n",
              "      <td>0.417308</td>\n",
              "    </tr>\n",
              "    <tr>\n",
              "      <th>2</th>\n",
              "      <td>2</td>\n",
              "      <td>12</td>\n",
              "      <td>0.359506</td>\n",
              "    </tr>\n",
              "    <tr>\n",
              "      <th>1</th>\n",
              "      <td>1</td>\n",
              "      <td>5</td>\n",
              "      <td>0.947001</td>\n",
              "    </tr>\n",
              "    <tr>\n",
              "      <th>0</th>\n",
              "      <td>0</td>\n",
              "      <td>11</td>\n",
              "      <td>0.881602</td>\n",
              "    </tr>\n",
              "  </tbody>\n",
              "</table>\n",
              "</div>"
            ],
            "text/plain": [
              "     A   B         C\n",
              "14  14   5  0.881902\n",
              "13  13   0  0.772698\n",
              "12  12  14  0.006932\n",
              "11  11   2  0.560669\n",
              "10  10  12  0.633009\n",
              "9    9  10  0.765866\n",
              "8    8   3  0.455178\n",
              "7    7   8  0.880230\n",
              "6    6   2  0.526200\n",
              "5    5   8  0.691345\n",
              "4    4   3  0.404575\n",
              "3    3   7  0.417308\n",
              "2    2  12  0.359506\n",
              "1    1   5  0.947001\n",
              "0    0  11  0.881602"
            ]
          },
          "metadata": {},
          "execution_count": 93
        }
      ]
    },
    {
      "cell_type": "markdown",
      "metadata": {
        "id": "zKwFcj4kCa0V"
      },
      "source": [
        "## 3. Vector and Matrix using Pytorch"
      ]
    },
    {
      "cell_type": "code",
      "metadata": {
        "id": "ClOSwZ2LCnPw"
      },
      "source": [
        ""
      ],
      "execution_count": null,
      "outputs": []
    }
  ]
}